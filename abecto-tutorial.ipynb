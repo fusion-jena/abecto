{
 "cells": [
  {
   "cell_type": "markdown",
   "metadata": {},
   "source": [
    "# ABECTO Tutorial\n",
    "\n",
    "ABECTO is an **AB**ox **E**valuation and **C**omparison **T**ool for **O**ntologies.\n",
    "It allows to easily compare and evaluate two or more ontologies regarding the correctness and completeness of the contained facts.\n",
    "ABECTO implements a workflow that consists of five components:\n",
    "* A *source* component to load the ontologies,\n",
    "* a *transformation* component to add deduced axioms to the ontologies in preparation of further processing,\n",
    "* a *mapping* component to map the resources of the ontologies,\n",
    "* a *comparison* component to provide measurements of the ontologies, and\n",
    "* an *evaluation* component to identify potential mistakes in the ontologies.\n",
    "\n",
    "For each component, ABECTO provides a couple of *processors*, which provide specific functionality.\n",
    "These processors can be arranged into a processing pipeline to define the comparison process.\n",
    "This tutorial provides an introduction to the use of ABECTO inside a Jupyter Notebook."
   ]
  },
  {
   "cell_type": "markdown",
   "metadata": {},
   "source": [
    "## Preparation\n",
    "\n",
    "Before we can start, we need to do a few preparation steps. If ABECTO has not been compiled yet, we should do it now. (This step is not needed, if you run this notebook on [mybinder.org](https://mybinder.org).)\n",
    "\n",
    "```\n",
    "mvn package -Dmaven.test.skip=true\n",
    "```\n",
    "\n",
    "ABECTO is running as a HTTP REST service in the background. We will use some provided Python functions, which hide the raw HTTP requests."
   ]
  },
  {
   "cell_type": "code",
   "execution_count": null,
   "metadata": {},
   "outputs": [],
   "source": [
    "from abecto import *"
   ]
  },
  {
   "cell_type": "markdown",
   "metadata": {},
   "source": [
    "First, we create some sample files that we will use in this tutorial.\n",
    "These four files belong to three ontologies, which all describe some of people their relations.\n",
    "To load a file from the filesystem of the maschin that hosts the Jupyter notebook, we could use `open(\"path/to/ontology.file\")` instead."
   ]
  },
  {
   "cell_type": "code",
   "execution_count": null,
   "metadata": {},
   "outputs": [],
   "source": [
    "import tempfile\n",
    "\n",
    "source1file1 = tempfile.TemporaryFile(mode = \"w+\")\n",
    "source1file1.write(\"\"\"\n",
    "    BASE         <http://example.org/a/>\n",
    "    PREFIX :     <http://example.org/a/>\n",
    "    PREFIX rdf:  <http://www.w3.org/1999/02/22-rdf-syntax-ns#>\n",
    "    PREFIX rdfs: <http://www.w3.org/2000/01/rdf-schema#>\n",
    "    PREFIX xsd:  <http://www.w3.org/2001/XMLSchema#>\n",
    "\n",
    "    :alice rdf:type   :Person ;\n",
    "           rdfs:label \"Alice\" ;\n",
    "           :pnr       \"45678\"^^xsd:integer ;\n",
    "           :boss      :bob .\n",
    "\"\"\")\n",
    "source1file1.seek(0)\n",
    "\n",
    "source1file2 = tempfile.TemporaryFile(mode = \"w+\")\n",
    "source1file2.write(\"\"\"\n",
    "    BASE         <http://example.org/a/>\n",
    "    PREFIX :     <http://example.org/a/>\n",
    "    PREFIX rdf:  <http://www.w3.org/1999/02/22-rdf-syntax-ns#>\n",
    "    PREFIX rdfs: <http://www.w3.org/2000/01/rdf-schema#>\n",
    "    PREFIX xsd:  <http://www.w3.org/2001/XMLSchema#>\n",
    "\n",
    "    :bill rdf:type   :Person ;\n",
    "          rdfs:label \"Bill\" ;\n",
    "          :pnr       \"67890\"^^xsd:integer ;\n",
    "          :boss      :alice .\n",
    "\"\"\")\n",
    "source1file2.seek(0)\n",
    "\n",
    "source2file1 = tempfile.TemporaryFile(mode = \"w+\")\n",
    "source2file1.write(\"\"\"\n",
    "    BASE            <http://example.org/b/>\n",
    "    PREFIX :        <http://example.org/b/>\n",
    "    PREFIX rdf:     <http://www.w3.org/1999/02/22-rdf-syntax-ns#>\n",
    "    PREFIX rdfs:    <http://www.w3.org/2000/01/rdf-schema#>\n",
    "    PREFIX owl:     <http://www.w3.org/2002/07/owl#>\n",
    "    PREFIX dcterms: <http://purl.org/dc/terms/>\n",
    "    \n",
    "    <http://example.org/a/> rdf:type owl:Ontology ;\n",
    "                            dcterms:modified \"2020-07-21\" .\n",
    "\n",
    "    :alice rdf:type   :Person ;\n",
    "           rdfs:label \"Alice\" ;\n",
    "           :boss      :alice .\n",
    "\n",
    "    :william rdf:type   :Person ;\n",
    "             rdfs:label \"William\" ;\n",
    "             :boss      \"Alice\" .\n",
    "\n",
    "    :charlie rdf:type   :Person ;\n",
    "             rdfs:label \"Charlie\" .\n",
    "\"\"\")\n",
    "source2file1.seek(0);\n",
    "\n",
    "source3file1 = tempfile.TemporaryFile(mode = \"w+\")\n",
    "source3file1.write(\"\"\"\n",
    "    BASE         <http://example.org/c/>\n",
    "    PREFIX :     <http://example.org/c/>\n",
    "    PREFIX rdf:  <http://www.w3.org/1999/02/22-rdf-syntax-ns#>\n",
    "    PREFIX rdfs: <http://www.w3.org/2000/01/rdf-schema#>\n",
    "    PREFIX xsd:  <http://www.w3.org/2001/XMLSchema#>\n",
    "    PREFIX owl:  <http://www.w3.org/2002/07/owl#>\n",
    "    \n",
    "    <http://example.org/c/> rdf:type owl:Ontology ;\n",
    "                            owl:versionInfo \"2.1\" .\n",
    "\n",
    "    :P001 rdf:type   :Person ;\n",
    "          rdfs:label \"Alice\" ;\n",
    "          :pnr       \"12345\"^^xsd:integer .\n",
    "\n",
    "    :P002 rdf:type   :Person ;\n",
    "          rdfs:label \"Charlie\" ;\n",
    "          :pnr       \"45678\"^^xsd:integer .\n",
    "\n",
    "    :P003 rdf:type   :Person ;\n",
    "          rdfs:label \"Dave\" ;\n",
    "          :pnr       \"98765\"^^xsd:integer .\n",
    "\n",
    "    :P004 rdf:type   :Person ;\n",
    "          rdfs:label \"Williams\" ;\n",
    "          :pnr       \"10000\"^^xsd:integer .\n",
    "\"\"\")\n",
    "source3file1.seek(0);"
   ]
  },
  {
   "cell_type": "markdown",
   "metadata": {},
   "source": [
    "Now, we start the service. **This might take a few seconds.** (If ABECTO is already running, this will just initialize the Python object needed in this notebook.)"
   ]
  },
  {
   "cell_type": "code",
   "execution_count": null,
   "metadata": {},
   "outputs": [],
   "source": [
    "abecto = Abecto(\"target/abecto.jar\") if 'abecto' not in locals() else abecto\n",
    "abecto.start()"
   ]
  },
  {
   "cell_type": "markdown",
   "metadata": {},
   "source": [
    "After the service is started, we are ready to create our ontology evaluation and comparison project."
   ]
  },
  {
   "cell_type": "markdown",
   "metadata": {},
   "source": [
    "## Project Setup\n",
    "\n",
    "First, we create a new ABECTO project. If a project with that name already exists, the existing project will be loaded."
   ]
  },
  {
   "cell_type": "code",
   "execution_count": null,
   "metadata": {},
   "outputs": [],
   "source": [
    "project = abecto.project(\"My Comparison Project\")"
   ]
  },
  {
   "cell_type": "markdown",
   "metadata": {},
   "source": [
    "A project consists of the ontologies to analyze and a processing pipeline. Each node of the pipeline calls a processor with a specific set of parameters and input nodes. The results of these processings are RDF models that can be consumed by further nodes or fetched for analysis.\n",
    "\n",
    "Now, we create the ontology objectc for the ontologies we want to include into our project. If a ontology object with that name already exists, the existing ontology object will be loaded."
   ]
  },
  {
   "cell_type": "code",
   "execution_count": null,
   "metadata": {},
   "outputs": [],
   "source": [
    "onto1 = project.ontology(\"ABC\")\n",
    "onto2 = project.ontology(\"DEF\")\n",
    "onto3 = project.ontology(\"GHI\")"
   ]
  },
  {
   "cell_type": "markdown",
   "metadata": {},
   "source": [
    "A ontology might consist of several sources. For each source we create at least one source node. In this case, we use the `RdfFileSourceProcessor`, witch reads RDF files from the local file system."
   ]
  },
  {
   "cell_type": "code",
   "execution_count": null,
   "metadata": {},
   "outputs": [],
   "source": [
    "onto1source1 = onto1.source(\"RdfFileSourceProcessor\")\n",
    "onto1source2 = onto1.source(\"RdfFileSourceProcessor\")\n",
    "onto2source1 = onto2.source(\"RdfFileSourceProcessor\")\n",
    "onto3source1 = onto3.source(\"RdfFileSourceProcessor\")"
   ]
  },
  {
   "cell_type": "markdown",
   "metadata": {},
   "source": [
    "Now, we load the RDF files into the source nodes. This is done in a two-stage process to allow later updates of the sources."
   ]
  },
  {
   "cell_type": "code",
   "execution_count": null,
   "metadata": {},
   "outputs": [],
   "source": [
    "onto1source1.load(source1file1)\n",
    "onto1source2.load(source1file2)\n",
    "onto2source1.load(source2file1)\n",
    "onto3source1.load(source3file1);"
   ]
  },
  {
   "cell_type": "markdown",
   "metadata": {},
   "source": [
    "To compare the ontologies, ABECTO needs to know what we want to compare. This is declared with so called \"categories\". For each ontology we can define one pattern for each applicable category. The patterns use the Turtle/SPARQL syntax and one variable needs to have the same name as the category itself. In this case, we use the `ManualCategoryProcessor` to declare a single category called \"person\". We use `into()` to create the following node for each ontology with the source node as input. We use `+` to combine the two source nodes of ontology 1."
   ]
  },
  {
   "cell_type": "code",
   "execution_count": null,
   "metadata": {},
   "outputs": [],
   "source": [
    "categories1 = (onto1source1 + onto1source2).into(\"ManualCategoryProcessor\", {\"patterns\": {\n",
    "    \"person\": \"\"\"{?person <http://www.w3.org/2000/01/rdf-schema#label> ?label ;\n",
    "                         <http://example.org/a/pnr>                   ?pnr ;\n",
    "                         <http://example.org/a/boss>                  ?boss .}\"\"\"}})\n",
    "categories2 = onto2source1.into(\"ManualCategoryProcessor\", {\"patterns\": {\n",
    "    \"person\": \"\"\"{?person <http://www.w3.org/2000/01/rdf-schema#label> ?label . \n",
    "                 OPTIONAL {\n",
    "                     ?person <http://example.org/b/boss> ?boss .\n",
    "                 }}\"\"\"}})\n",
    "categories3 = onto3source1.into(\"ManualCategoryProcessor\", {\"patterns\": {\n",
    "    \"person\": \"\"\"{?person <http://www.w3.org/2000/01/rdf-schema#label> ?label ;\n",
    "                         <http://example.org/c/pnr>                   ?pnr .}\"\"\"}})"
   ]
  },
  {
   "cell_type": "markdown",
   "metadata": {},
   "source": [
    "Next, we map the resources of the different ontologies. It is possible to use multiple mappers in one project. A `MappingProcessor` can set mappings of resource pairs, but can also prohibit mappings of resource pairs. Thereby, they will consider the mappings of previous `MappingProcessor`s. To enable manual mapping corrections, we will first add a `ManualMappingProcessor`. The manual mappings will be defined in the node parameters. Here we prohibit a mapping of `http://example.org/b/william` and `http://example.org/c/P004`. The parameters can be manipulated later to add further manual mapping corrections. We use all three category nodes as input. By this, the results of the source nodes are also available for the mapping node, as the results of earlier nodes will be passed through. Next, we use the `JaroWinklerMappingProcessor`, a simple mapper that utilizes the Jaro-Winkler Similarity, to automatically map the entities of the different ontologies. The mapping will by used in the further nodes. As we do not need to interact with the single nodes, we will chain all the node definitions."
   ]
  },
  {
   "cell_type": "code",
   "execution_count": null,
   "metadata": {},
   "outputs": [],
   "source": [
    "mapping = (categories1 + categories2 + categories3).into(\"ManualMappingProcessor\", {\n",
    "    \"mappings\": [],\n",
    "    \"suppressed_mappings\": [\n",
    "        [\"http://example.org/b/william\", \"http://example.org/c/P004\"]\n",
    "    ]})\\\n",
    "    .into(\"JaroWinklerMappingProcessor\", {\"threshold\": 0.9, \"case_sensitive\": False, \"category\": \"person\", \"variables\": [\"label\"]})"
   ]
  },
  {
   "cell_type": "markdown",
   "metadata": {},
   "source": [
    "Now we define some nodes for comparison and evaluation. As the nodes do not depend among each other, we directly use the mapping as input for each of them. This enables parallel processing of the these nodes."
   ]
  },
  {
   "cell_type": "code",
   "execution_count": null,
   "metadata": {},
   "outputs": [],
   "source": [
    "mapping.into(\"CategoryCountProcessor\")\n",
    "mapping.into(\"LiteralDeviationProcessor\", {\"variables\": {\"person\": [\"label\", \"pnr\"] }})\n",
    "mapping.into(\"ResourceDeviationProcessor\", {\"variables\": {\"person\": [\"boss\"] }})\n",
    "mapping.into(\"CompletenessProcessor\");"
   ]
  },
  {
   "cell_type": "markdown",
   "metadata": {},
   "source": [
    "# Project Execution and Result Reporting\n",
    "\n",
    "After all nodes have been defined, we will now go to execute the pipeline."
   ]
  },
  {
   "cell_type": "code",
   "execution_count": null,
   "metadata": {},
   "outputs": [],
   "source": [
    "execution = project.runAndAwait()"
   ]
  },
  {
   "cell_type": "markdown",
   "metadata": {},
   "source": [
    "The returned `Execution` can be used to inspect the execution results. To ensure some extent of reproducibility, we display avaliable metadata of the used sources."
   ]
  },
  {
   "cell_type": "code",
   "execution_count": null,
   "metadata": {},
   "outputs": [],
   "source": [
    "execution.metadata()"
   ]
  },
  {
   "cell_type": "markdown",
   "metadata": {},
   "source": [
    "Next, we will take a look on the mapping results and apparently missing resources. We could notice a missing mapping of `http://example.org/a/bill` and `http://example.org/b/william` add them to the manual mappings for future executions."
   ]
  },
  {
   "cell_type": "code",
   "execution_count": null,
   "metadata": {},
   "outputs": [],
   "source": [
    "execution.mappings()\n",
    "execution.omissions()"
   ]
  },
  {
   "cell_type": "markdown",
   "metadata": {},
   "source": [
    "Now we will inspect the results of the `CategoryCountProcessor`. The following command would also show all measurements generated by any processors."
   ]
  },
  {
   "cell_type": "code",
   "execution_count": null,
   "metadata": {},
   "outputs": [],
   "source": [
    "execution.measurements()"
   ]
  },
  {
   "cell_type": "markdown",
   "metadata": {},
   "source": [
    "Next, we will inspect the deviations between mapped resources, as provided by the `LiteralDeviationProcessor` or the `ResourceDeviationProcessor`."
   ]
  },
  {
   "cell_type": "code",
   "execution_count": null,
   "metadata": {},
   "outputs": [],
   "source": [
    "execution.deviations()"
   ]
  },
  {
   "cell_type": "markdown",
   "metadata": {},
   "source": [
    "Some Processors might also have reported issues, which we want to inspect now."
   ]
  },
  {
   "cell_type": "code",
   "execution_count": null,
   "metadata": {},
   "outputs": [],
   "source": [
    "execution.issues()"
   ]
  },
  {
   "cell_type": "markdown",
   "metadata": {},
   "source": [
    "Finally, we will shutdown the ABECTO server."
   ]
  },
  {
   "cell_type": "code",
   "execution_count": null,
   "metadata": {},
   "outputs": [],
   "source": [
    "abecto.stop()"
   ]
  },
  {
   "cell_type": "markdown",
   "metadata": {},
   "source": [
    "# Advanced Features"
   ]
  },
  {
   "cell_type": "code",
   "execution_count": null,
   "metadata": {},
   "outputs": [],
   "source": [
    "# restart the ABECTO server\n",
    "abecto.start()"
   ]
  },
  {
   "cell_type": "code",
   "execution_count": null,
   "metadata": {},
   "outputs": [],
   "source": [
    "# list project\n",
    "abecto.projects()"
   ]
  },
  {
   "cell_type": "code",
   "execution_count": null,
   "metadata": {},
   "outputs": [],
   "source": [
    "# get project by id\n",
    "id = abecto.projects()[0].id\n",
    "abecto.getProject(id)"
   ]
  },
  {
   "cell_type": "code",
   "execution_count": null,
   "metadata": {},
   "outputs": [],
   "source": [
    "# get project information\n",
    "project.info()"
   ]
  },
  {
   "cell_type": "code",
   "execution_count": null,
   "metadata": {},
   "outputs": [],
   "source": [
    "# delete projects\n",
    "trashProject = abecto.project(\"Trash Project\")\n",
    "trashProject.delete()\n",
    "abecto.projects()"
   ]
  },
  {
   "cell_type": "code",
   "execution_count": null,
   "metadata": {},
   "outputs": [],
   "source": [
    "# get ontologies of a project\n",
    "project.ontologies()"
   ]
  },
  {
   "cell_type": "code",
   "execution_count": null,
   "metadata": {},
   "outputs": [],
   "source": [
    "# get ontologies by id\n",
    "id = project.ontologies()[0].id\n",
    "abecto.getOntology(id)"
   ]
  },
  {
   "cell_type": "code",
   "execution_count": null,
   "metadata": {},
   "outputs": [],
   "source": [
    "# get ontologies information\n",
    "onto1.info()"
   ]
  },
  {
   "cell_type": "code",
   "execution_count": null,
   "metadata": {},
   "outputs": [],
   "source": [
    "# delete ontologies\n",
    "trashKB = project.ontology(\"Trash Ontology\")\n",
    "trashKB.delete()\n",
    "project.ontologies()"
   ]
  },
  {
   "cell_type": "code",
   "execution_count": null,
   "metadata": {},
   "outputs": [],
   "source": [
    "# get nodes of a project\n",
    "project.nodes()"
   ]
  },
  {
   "cell_type": "code",
   "execution_count": null,
   "metadata": {},
   "outputs": [],
   "source": [
    "# get nodes by id\n",
    "id = project.nodes()[0].id\n",
    "abecto.getNode(id)"
   ]
  },
  {
   "cell_type": "code",
   "execution_count": null,
   "metadata": {},
   "outputs": [],
   "source": [
    "# get node information\n",
    "mapping.info()"
   ]
  },
  {
   "cell_type": "code",
   "execution_count": null,
   "metadata": {},
   "outputs": [],
   "source": [
    "# get processings of a node\n",
    "mapping.processings()"
   ]
  },
  {
   "cell_type": "code",
   "execution_count": null,
   "metadata": {},
   "outputs": [],
   "source": [
    "# get the last processing of a node\n",
    "mapping.lastProcessing()"
   ]
  },
  {
   "cell_type": "code",
   "execution_count": null,
   "metadata": {},
   "outputs": [],
   "source": [
    "# get the raw results of a processing; might be useful for debugging\n",
    "mapping.lastProcessing().raw()"
   ]
  },
  {
   "cell_type": "code",
   "execution_count": null,
   "metadata": {},
   "outputs": [],
   "source": [
    "# get the result graph of a processing as JSON-LD\n",
    "mapping.lastProcessing().graph()"
   ]
  },
  {
   "cell_type": "code",
   "execution_count": null,
   "metadata": {},
   "outputs": [],
   "source": [
    "# get the results of the processing as pandas.DataFrame\n",
    "mapping.lastProcessing().dataFrame()"
   ]
  },
  {
   "cell_type": "code",
   "execution_count": null,
   "metadata": {},
   "outputs": [],
   "source": [
    "# shutdown the ABECTO server\n",
    "abecto.stop()"
   ]
  }
 ],
 "metadata": {
  "@context": {
   "CreativeWork": "http://schema.org/CreativeWork",
   "Organization": "http://schema.org/Organization",
   "Person": "http://schema.org/Person",
   "author": "http://schema.org/author",
   "copyrightHolder": "http://schema.org/copyrightHolder",
   "copyrightYear": "http://schema.org/copyrightYear",
   "license": "http://schema.org/license",
   "name": "http://schema.org/name",
   "title": "http://schema.org/name",
   "url": "http://schema.org/url"
  },
  "@type": "CreativeWork",
  "author": [
   {
    "@id": "https://orcid.org/0000-0002-7733-0193",
    "@type": "Person",
    "name": "Jan Martin Keil"
   }
  ],
  "copyrightHolder": [
   {
    "@type": "Organization",
    "name": "Heinz Nixdorf Chair for Distributed Information Systems",
    "url": "http://fusion.cs.uni-jena.de/"
   }
  ],
  "copyrightYear": 2019,
  "kernelspec": {
   "display_name": "Python 3",
   "language": "python",
   "name": "python3"
  },
  "language_info": {
   "codemirror_mode": {
    "name": "ipython",
    "version": 3
   },
   "file_extension": ".py",
   "mimetype": "text/x-python",
   "name": "python",
   "nbconvert_exporter": "python",
   "pygments_lexer": "ipython3",
   "version": "3.7.3"
  },
  "license": "http://www.apache.org/licenses/LICENSE-2.0",
  "title": "ABECTO Tutorial"
 },
 "nbformat": 4,
 "nbformat_minor": 4
}
