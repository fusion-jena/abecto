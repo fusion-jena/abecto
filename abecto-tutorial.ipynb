{
 "cells": [
  {
   "cell_type": "markdown",
   "metadata": {},
   "source": [
    "# ABECTO Tutorial\n",
    "\n",
    "ABECTO is an **AB**ox **E**valuation and **C**omparison **T**ool for **O**ntologies. It allows to easily compare and evaluate two or more RDF knowledge bases regarding the contained information. This tutorial provides an introduction to the use of ABECTO.\n"
   ]
  },
  {
   "cell_type": "markdown",
   "metadata": {},
   "source": [
    "## Preparation\n",
    "\n",
    "Before we can start, we need to do a few preparation steps. If ABECTO has not been compiled yet, we should do it now. (This step is not needed, if you run this notebook on [mybinder.org](https://mybinder.org).)\n",
    "\n",
    "```\n",
    "mvn package -Dmaven.test.skip=true\n",
    "```\n",
    "\n",
    "ABECTO is running as a HTTP REST service in the background. We will use some provided Phyton functions, which hide the raw HTTP requests."
   ]
  },
  {
   "cell_type": "code",
   "execution_count": null,
   "metadata": {},
   "outputs": [],
   "source": [
    "from abecto import *"
   ]
  },
  {
   "cell_type": "markdown",
   "metadata": {},
   "source": [
    "First, we create some sample files that we will use in this tutorial."
   ]
  },
  {
   "cell_type": "code",
   "execution_count": null,
   "metadata": {},
   "outputs": [],
   "source": [
    "import tempfile\n",
    "\n",
    "source1file1 = tempfile.TemporaryFile(mode = \"w+\")\n",
    "source1file1.write(\"\"\"\n",
    "    BASE         <http://example.org/a/>\n",
    "    PREFIX :     <http://example.org/a/>\n",
    "    PREFIX rdf:  <http://www.w3.org/1999/02/22-rdf-syntax-ns#>\n",
    "    PREFIX rdfs: <http://www.w3.org/2000/01/rdf-schema#>\n",
    "    PREFIX xsd:  <http://www.w3.org/2001/XMLSchema#>\n",
    "\n",
    "    :alice rdf:type   :Person ;\n",
    "           rdfs:label \"Alice\" ;\n",
    "           :pnr       \"45678\"^^xsd:integer ;\n",
    "           :boss      :bob .\n",
    "\"\"\")\n",
    "source1file1.seek(0)\n",
    "\n",
    "source1file2 = tempfile.TemporaryFile(mode = \"w+\")\n",
    "source1file2.write(\"\"\"\n",
    "    BASE         <http://example.org/a/>\n",
    "    PREFIX :     <http://example.org/a/>\n",
    "    PREFIX rdf:  <http://www.w3.org/1999/02/22-rdf-syntax-ns#>\n",
    "    PREFIX rdfs: <http://www.w3.org/2000/01/rdf-schema#>\n",
    "    PREFIX xsd:  <http://www.w3.org/2001/XMLSchema#>\n",
    "\n",
    "    :bill rdf:type   :Person ;\n",
    "          rdfs:label \"Bill\" ;\n",
    "          :pnr       \"67890\"^^xsd:integer ;\n",
    "          :boss      :alice .\n",
    "\"\"\")\n",
    "source1file2.seek(0)\n",
    "\n",
    "source2file1 = tempfile.TemporaryFile(mode = \"w+\")\n",
    "source2file1.write(\"\"\"\n",
    "    BASE         <http://example.org/b/>\n",
    "    PREFIX :     <http://example.org/b/>\n",
    "    PREFIX rdf:  <http://www.w3.org/1999/02/22-rdf-syntax-ns#>\n",
    "    PREFIX rdfs: <http://www.w3.org/2000/01/rdf-schema#>\n",
    "\n",
    "    :alice rdf:type   :Person ;\n",
    "           rdfs:label \"Alice\" ;\n",
    "           :boss      :alice .\n",
    "\n",
    "    :william rdf:type   :Person ;\n",
    "             rdfs:label \"William\" ;\n",
    "             :boss      \"Alice\" .\n",
    "\n",
    "    :charlie rdf:type   :Person ;\n",
    "             rdfs:label \"Charlie\" .\n",
    "\"\"\")\n",
    "source2file1.seek(0);\n",
    "\n",
    "source3file1 = tempfile.TemporaryFile(mode = \"w+\")\n",
    "source3file1.write(\"\"\"\n",
    "    BASE         <http://example.org/c/>\n",
    "    PREFIX :     <http://example.org/c/>\n",
    "    PREFIX rdf:  <http://www.w3.org/1999/02/22-rdf-syntax-ns#>\n",
    "    PREFIX rdfs: <http://www.w3.org/2000/01/rdf-schema#>\n",
    "    PREFIX xsd:  <http://www.w3.org/2001/XMLSchema#>\n",
    "\n",
    "    :P001 rdf:type   :Person ;\n",
    "          rdfs:label \"Alice\" ;\n",
    "          :pnr       \"12345\"^^xsd:integer .\n",
    "\n",
    "    :P002 rdf:type   :Person ;\n",
    "          rdfs:label \"Charlie\" ;\n",
    "          :pnr       \"45678\"^^xsd:integer .\n",
    "\n",
    "    :P003 rdf:type   :Person ;\n",
    "          rdfs:label \"Dave\" ;\n",
    "          :pnr       \"98765\"^^xsd:integer .\n",
    "\"\"\")\n",
    "source3file1.seek(0);"
   ]
  },
  {
   "cell_type": "markdown",
   "metadata": {},
   "source": [
    "Now, we start the service. **This might take a few seconds.** (If ABECTO is already running, this will just initialize the Phyton object needed in this notebook.)"
   ]
  },
  {
   "cell_type": "code",
   "execution_count": null,
   "metadata": {},
   "outputs": [],
   "source": [
    "abecto = Abecto(\"http://localhost:8080/\", \"target/abecto.jar\")\n",
    "abecto.start()"
   ]
  },
  {
   "cell_type": "markdown",
   "metadata": {},
   "source": [
    "After the service was started, we are ready to create our ontology evaluation and comparison project."
   ]
  },
  {
   "cell_type": "markdown",
   "metadata": {},
   "source": [
    "## Project Setup\n",
    "\n",
    "First, we create a new ABECTO project. We can also give the project an arbitrary name."
   ]
  },
  {
   "cell_type": "code",
   "execution_count": null,
   "metadata": {},
   "outputs": [],
   "source": [
    "project = abecto.project(\"My Comparison Project\")"
   ]
  },
  {
   "cell_type": "markdown",
   "metadata": {},
   "source": [
    "A project consists of the knowledge bases to analyse and a processing pipeline. Each node of the pipeline (called \"step\") calls a processor with a specific set of parameters and input steps. The results of these processings are RDF models that can be consumed by further steps or fetched for analysis.\n",
    "\n",
    "Now, we create the knowledge base object for the knowledge base we want to include into our project."
   ]
  },
  {
   "cell_type": "code",
   "execution_count": null,
   "metadata": {},
   "outputs": [],
   "source": [
    "kb1 = project.knowledgeBase(\"ABC\")\n",
    "kb2 = project.knowledgeBase(\"DEF\")\n",
    "kb3 = project.knowledgeBase(\"GHI\")"
   ]
  },
  {
   "cell_type": "markdown",
   "metadata": {},
   "source": [
    "A knowledge base might consist of several sources. For each source we create at least one source step. In this case, we use the `RdfFileSourceProcessor`, witch reads RDF files from the local file system."
   ]
  },
  {
   "cell_type": "code",
   "execution_count": null,
   "metadata": {},
   "outputs": [],
   "source": [
    "kb1source1 = kb1.source(\"RdfFileSourceProcessor\")\n",
    "kb1source2 = kb1.source(\"RdfFileSourceProcessor\")\n",
    "kb2source1 = kb2.source(\"RdfFileSourceProcessor\")\n",
    "kb3source1 = kb3.source(\"RdfFileSourceProcessor\")"
   ]
  },
  {
   "cell_type": "markdown",
   "metadata": {},
   "source": [
    "Now, we load the RDF files into the source steps. This is done in a two-stage process to allow later updates of the sources."
   ]
  },
  {
   "cell_type": "code",
   "execution_count": null,
   "metadata": {},
   "outputs": [],
   "source": [
    "kb1source1.load(source1file1)\n",
    "kb1source2.load(source1file2)\n",
    "kb2source1.load(source2file1)\n",
    "kb3source1.load(source3file1);"
   ]
  },
  {
   "cell_type": "markdown",
   "metadata": {},
   "source": [
    "To compare the knowledge bases, ABECTO needs to know what we want to compare. This is declare with so called \"categories\". For each knowledge base we can define one pattern for each applicable category. The patterns use the Turtle/SPARQL syntax and one variable needs to have the same name as the category itself. In this case, we use the `ManualCategoryProcessor` to declare a single category called \"person\". We use `into()` to create the following step for each knowledge base with the source step as input. We use `+` to combine the two source steps of knowledge base 1."
   ]
  },
  {
   "cell_type": "code",
   "execution_count": null,
   "metadata": {},
   "outputs": [],
   "source": [
    "categories1 = (kb1source1 + kb1source2).into(\"ManualCategoryProcessor\", {\"patterns\": {\n",
    "    \"person\": \"\"\"?person <http://www.w3.org/2000/01/rdf-schema#label> ?label ;\n",
    "                         <http://example.org/a/pnr>                   ?pnr ;\n",
    "                         <http://example.org/a/boss>                  ?boss .\"\"\"}})\n",
    "categories2 = kb2source1.into(\"ManualCategoryProcessor\", {\"patterns\": {\n",
    "    \"person\": \"\"\"?person <http://www.w3.org/2000/01/rdf-schema#label> ?label . \n",
    "                 OPTIONAL {\n",
    "                     ?person <http://example.org/b/boss> ?boss .\n",
    "                 }\"\"\"}})\n",
    "categories3 = kb3source1.into(\"ManualCategoryProcessor\", {\"patterns\": {\n",
    "    \"person\": \"\"\"?person <http://www.w3.org/2000/01/rdf-schema#label> ?label ;\n",
    "                         <http://example.org/c/pnr>                   ?pnr .\"\"\"}})"
   ]
  },
  {
   "cell_type": "markdown",
   "metadata": {},
   "source": [
    "In the next step we use the `JaroWinklerMappingProcessor` to map the entities of the different knowledge bases. Therefor, we use all three category steps as input. By this, the results of the source steps are also avaliable for the mapping step, as the results of earlier steps will be passed through. The mapping will by used be the further steps."
   ]
  },
  {
   "cell_type": "code",
   "execution_count": null,
   "metadata": {},
   "outputs": [],
   "source": [
    "autoMapping = (categories1 + categories2 + categories3).into(\"JaroWinklerMappingProcessor\", {\"threshold\": 0.9, \"case_sensitive\": False, \"category\": \"person\", \"variables\": [\"label\"]})"
   ]
  },
  {
   "cell_type": "markdown",
   "metadata": {},
   "source": [
    "It is also possible to use multiple mappers in one project. We now improve the mapping using the `ManuallMappingProcessor`."
   ]
  },
  {
   "cell_type": "code",
   "execution_count": null,
   "metadata": {},
   "outputs": [],
   "source": [
    "manualMapping = autoMapping.into(\"ManualMappingProcessor\", {\"mappings\": [[\"http://example.org/a/bill\",\"http://example.org/b/william\"]]})"
   ]
  },
  {
   "cell_type": "markdown",
   "metadata": {},
   "source": [
    "Now we define some steps for comparison and evaluation. As we do not need to address the single steps, we will chain all the step definitions."
   ]
  },
  {
   "cell_type": "code",
   "execution_count": null,
   "metadata": {},
   "outputs": [],
   "source": [
    "manualMapping.into(\"CategoryCountProcessor\")\\\n",
    "             .into(\"LiteralDeviationProcessor\", {\"variables\": {\"person\": [\"label\", \"pnr\"] }})\\\n",
    "             .into(\"ResourceDeviationProcessor\", {\"variables\": {\"person\": [\"boss\"] }});"
   ]
  },
  {
   "cell_type": "markdown",
   "metadata": {},
   "source": [
    "# Project Execution and Reporting\n",
    "\n",
    "After all steps have been defined, we will now go to execute the pipeline and look into the results."
   ]
  },
  {
   "cell_type": "code",
   "execution_count": null,
   "metadata": {},
   "outputs": [],
   "source": [
    "execution = project.runAndAwait()"
   ]
  },
  {
   "cell_type": "code",
   "execution_count": null,
   "metadata": {},
   "outputs": [],
   "source": [
    "execution.measures()"
   ]
  },
  {
   "cell_type": "code",
   "execution_count": null,
   "metadata": {},
   "outputs": [],
   "source": [
    "execution.deviations()"
   ]
  },
  {
   "cell_type": "code",
   "execution_count": null,
   "metadata": {},
   "outputs": [],
   "source": [
    "execution.issues()"
   ]
  },
  {
   "cell_type": "code",
   "execution_count": null,
   "metadata": {},
   "outputs": [],
   "source": [
    "#execution.mappings(manualMapping)\n",
    "self=execution\n",
    "manualMappingStep=manualMapping\n",
    "\n",
    "# collect execution data\n",
    "categoryData = self.resultDataFrame(\"Category\")\n",
    "categories =  set(categoryData[\"name\"])\n",
    "knowledgeBases = self.sortedKnowledgeBases(set(categoryData[\"knowledgeBase\"]))\n",
    "mappings = {}\n",
    "for mapping in self.results(\"Mapping\"):\n",
    "    if mapping[\"resourcesMap\"]:\n",
    "        if mapping[\"resource1\"] in mappings:\n",
    "            mappings[mapping[\"resource1\"]].append(mapping[\"resource2\"])\n",
    "        else:\n",
    "            mappings[mapping[\"resource1\"]] = [mapping[\"resource2\"]]\n",
    "        if mapping[\"resource2\"] in mappings:\n",
    "            mappings[mapping[\"resource2\"]].append(mapping[\"resource1\"])\n",
    "        else:\n",
    "            mappings[mapping[\"resource2\"]] = [mapping[\"resource1\"]]\n",
    "mappingRawData = None\n",
    "\n",
    "unmapped = {}\n",
    "kbData = {}\n",
    "if any(mappings):\n",
    "    for categoryName in categories:\n",
    "        kbData[categoryName]= {}\n",
    "        unmapped[categoryName]= {}\n",
    "        for (kbId, kbLabel) in knowledgeBases:\n",
    "            kbData[categoryName][kbId] = self.data(categoryName, kbId)\n",
    "            unmapped[categoryName][kbId] = set(kbData[categoryName][kbId])-set(mappings)\n",
    "    \n",
    "# collect manual mapping data\n",
    "manualMappingParameters = manualMappingStep.parameters()[\"parameters\"]\n",
    "manualPositiveMappings = manualMappingParameters[\"mappings\"]\n",
    "manualNegativeMappings = manualMappingParameters[\"suppressed_mappings\"]\n",
    "\n",
    "accepted = \"✓\"\n",
    "retained = \"?\"\n",
    "rejected = \"✗\"\n",
    "\n",
    "mappingPairWidgets = {}\n",
    "categoryTabChildren = []\n",
    "categoryTabTitles = []\n",
    "for categoryName in categories:\n",
    "    kbTabChildrens = []\n",
    "    kbTabTitles = []\n",
    "    for (kb1Id, kb1Label) in knowledgeBases:\n",
    "        for (kb2Id, kb2Label) in knowledgeBases:\n",
    "            if (kb1Label < kb2Label):\n",
    "                pairs = []\n",
    "                for resource1 in kbData[categoryName][kb1Id]:\n",
    "                    resource1Data = kbData[categoryName][kb1Id][resource1]\n",
    "                    if resource1 in mappings:\n",
    "                        for resource2 in mappings[resource1]:\n",
    "                            if resource2 in kbData[categoryName][kb2Id]:\n",
    "                                resource2Data = kbData[categoryName][kb2Id][resource2]\n",
    "                                keys = set(list(resource1Data)).union(set(list(resource2Data)))\n",
    "                                table = \"<table><tr><th>\" + resource1 + \"</th><th></th><th>\"+ resource2 + \"</th></tr>\"\n",
    "                                if any(keys):\n",
    "                                    for key in sorted(keys):\n",
    "                                        table += \"<tr>\"\n",
    "                                        table += \"<td style=\\\"text-align:right;\\\">\" + (\", \".join(resource1Data[key]) if key in resource1Data else \"\") + \"</td>\"\n",
    "                                        table += \"<td style=\\\"text-align:center;\\\">\" + key + \"</td>\"\n",
    "                                        table += \"<td style=\\\"text-align:left;\\\">\" + (\", \".join(resource2Data[key]) if key in resource2Data else \"\") + \"</td>\"\n",
    "                                        table += \"</tr>\"\n",
    "                                table += \"</table>\"\n",
    "                                buttonWidget = widgets.ToggleButtons(options=[accepted,retained,rejected],value=\"?\",tooltips=[\"Accept\", \"Retain\", \"Reject\"], style={'button_width': 'auto'})\n",
    "                                mappingPairWidgets[buttonWidget] = [resource1, resource2]\n",
    "                                pairs.append(widgets.HBox([\n",
    "                                    buttonWidget,\n",
    "                                    widgets.HTML(value=table)\n",
    "                                ], layout={'border': 'solid 1px lightgrey'}))\n",
    "                # widgets management\n",
    "                pairTab = widgets.VBox(pairs)\n",
    "                kbTabChildrens.append(pairTab)\n",
    "                kbTabTitles.append(kb1Label + \" <-> \" + kb2Label)\n",
    "    # widgets management\n",
    "    kbTabs = widgets.Tab(children=kbTabChildrens,layout={'max_height':'50em'})\n",
    "    for i, title in enumerate(kbTabTitles):\n",
    "        kbTabs.set_title(i, title)    \n",
    "    categoryTabChildren.append(kbTabs)\n",
    "    categoryTabTitles.append(categoryName)\n",
    "# widgets management\n",
    "categoryTabs = widgets.Tab(children=categoryTabChildren)\n",
    "for i, title in enumerate(categoryTabTitles):\n",
    "    categoryTabs.set_title(i, title)\n",
    "    \n",
    "display(HTML(\"<h2>Mapping Review</h2>\"))\n",
    "display(categoryTabs)\n",
    "\n",
    "update = widgets.Button(description='Update Mappings')\n",
    "output = widgets.Output()\n",
    "display(update, output)\n",
    "def updateMappings(b):\n",
    "    with output:\n",
    "        display(HTML(\"Updateing ...\"))\n",
    "        # get remote manual mapping data\n",
    "        manualMappingParameters = manualMappingStep.parameters()[\"parameters\"]\n",
    "        manualPositiveMappings = manualMappingParameters[\"mappings\"] if manualMappingParameters[\"mappings\"] else []\n",
    "        manualNegativeMappings = manualMappingParameters[\"suppressed_mappings\"] if manualMappingParameters[\"suppressed_mappings\"] else []\n",
    "        # update local manual mapping data\n",
    "        for mappingPairWidget in mappingPairWidgets:\n",
    "            if mappingPairWidget.value == accepted:\n",
    "                manualPositiveMappings.append(mappingPairWidgets[mappingPairWidget])\n",
    "                while mappingPairWidgets[mappingPairWidget] in manualNegativeMappings: manualNegativeMappings.remove(mappingPairWidgets[mappingPairWidget])\n",
    "            elif mappingPairWidget.value == rejected:\n",
    "                manualNegativeMappings.append(mappingPairWidgets[mappingPairWidget])\n",
    "                while mappingPairWidgets[mappingPairWidget] in manualPositiveMappings: manualPositiveMappings.remove(mappingPairWidgets[mappingPairWidget])\n",
    "        display(HTML(\"Updateing ...\"))\n",
    "        # update remote manual mapping data\n",
    "        manualMappingStep.setParameter(\"mappings\", manualPositiveMappings)\n",
    "        manualMappingStep.setParameter(\"suppressed_mappings\", manualNegativeMappings)\n",
    "        display(HTML(\"Manual Mappings updated.\"))\n",
    "update.on_click(updateMappings)\n"
   ]
  },
  {
   "cell_type": "markdown",
   "metadata": {},
   "source": [
    "# Advanced Features"
   ]
  },
  {
   "cell_type": "markdown",
   "metadata": {},
   "source": [
    "Now, we see our new project in the list of projects."
   ]
  },
  {
   "cell_type": "code",
   "execution_count": null,
   "metadata": {},
   "outputs": [],
   "source": [
    "abecto.projects()"
   ]
  },
  {
   "cell_type": "markdown",
   "metadata": {},
   "source": [
    "We can also request information of a certain project."
   ]
  },
  {
   "cell_type": "code",
   "execution_count": null,
   "metadata": {},
   "outputs": [],
   "source": [
    "project.info()"
   ]
  },
  {
   "cell_type": "markdown",
   "metadata": {},
   "source": [
    "Furthermore, we can delete projects."
   ]
  },
  {
   "cell_type": "code",
   "execution_count": null,
   "metadata": {},
   "outputs": [],
   "source": [
    "trashProject = abecto.project(\"Trash Project\")\n",
    "trashProject.delete()\n",
    "abecto.projects()"
   ]
  },
  {
   "cell_type": "markdown",
   "metadata": {},
   "source": [
    "The knowledge bases appear now in the list of knowledge bases of the project."
   ]
  },
  {
   "cell_type": "code",
   "execution_count": null,
   "metadata": {},
   "outputs": [],
   "source": [
    "project.knowledgeBases()"
   ]
  },
  {
   "cell_type": "markdown",
   "metadata": {},
   "source": [
    "We can also request information of a certain knowledge base."
   ]
  },
  {
   "cell_type": "code",
   "execution_count": null,
   "metadata": {},
   "outputs": [],
   "source": [
    "kb1.info()"
   ]
  },
  {
   "cell_type": "markdown",
   "metadata": {},
   "source": [
    "And we can delete knowledge bases."
   ]
  },
  {
   "cell_type": "code",
   "execution_count": null,
   "metadata": {},
   "outputs": [],
   "source": [
    "trashKB = project.knowledgeBase(\"Trash Knowledge Base\")\n",
    "trashKB.delete()\n",
    "project.knowledgeBases()"
   ]
  },
  {
   "cell_type": "code",
   "execution_count": null,
   "metadata": {},
   "outputs": [],
   "source": [
    "project.steps()"
   ]
  },
  {
   "cell_type": "code",
   "execution_count": null,
   "metadata": {},
   "outputs": [],
   "source": [
    "kb1source1.info()"
   ]
  },
  {
   "cell_type": "code",
   "execution_count": null,
   "metadata": {},
   "outputs": [],
   "source": [
    "manualMapping.processings()"
   ]
  },
  {
   "cell_type": "code",
   "execution_count": null,
   "metadata": {},
   "outputs": [],
   "source": [
    "manualMapping.last()"
   ]
  },
  {
   "cell_type": "code",
   "execution_count": null,
   "metadata": {},
   "outputs": [],
   "source": [
    "manualMapping.last().raw()"
   ]
  },
  {
   "cell_type": "code",
   "execution_count": null,
   "metadata": {},
   "outputs": [],
   "source": [
    "manualMapping.last().graph()"
   ]
  },
  {
   "cell_type": "code",
   "execution_count": null,
   "metadata": {},
   "outputs": [],
   "source": [
    "manualMapping.last().graphAsDataFrame()"
   ]
  },
  {
   "cell_type": "code",
   "execution_count": null,
   "metadata": {},
   "outputs": [],
   "source": [
    "#abecto.stop()"
   ]
  }
 ],
 "metadata": {
  "kernelspec": {
   "display_name": "Python 3",
   "language": "python",
   "name": "python3"
  },
  "language_info": {
   "codemirror_mode": {
    "name": "ipython",
    "version": 3
   },
   "file_extension": ".py",
   "mimetype": "text/x-python",
   "name": "python",
   "nbconvert_exporter": "python",
   "pygments_lexer": "ipython3",
   "version": "3.7.3"
  },
  "widgets": {
   "application/vnd.jupyter.widget-state+json": {
    "state": {
     "000e4c7d60af4482ad6ee2321495a228": {
      "model_module": "@jupyter-widgets/base",
      "model_module_version": "1.2.0",
      "model_name": "LayoutModel",
      "state": {}
     },
     "0099dad007f94f79906608e1c118f0fc": {
      "model_module": "@jupyter-widgets/controls",
      "model_module_version": "1.5.0",
      "model_name": "HTMLModel",
      "state": {
       "layout": "IPY_MODEL_2da7b1aa55aa45a790b0b59c536a5d7d",
       "style": "IPY_MODEL_4f419c2c9be14a4e87762b3393ccd910",
       "value": "<table><tr><th>http://example.org/b/alice</th><th></th><th>http://example.org/c/P001</th></tr><tr><td style=\"text-align:right;\">http://example.org/b/alice</td><td style=\"text-align:center;\">boss</td><td style=\"text-align:left;\"></td></tr><tr><td style=\"text-align:right;\">Alice</td><td style=\"text-align:center;\">label</td><td style=\"text-align:left;\">Alice</td></tr><tr><td style=\"text-align:right;\"></td><td style=\"text-align:center;\">pnr</td><td style=\"text-align:left;\">12345^^http://www.w3.org/2001/XMLSchema#integer</td></tr></table>"
      }
     },
     "00c358d1cc6644d2a1bc36f4e903931b": {
      "model_module": "@jupyter-widgets/controls",
      "model_module_version": "1.5.0",
      "model_name": "ToggleButtonsModel",
      "state": {
       "_options_labels": [
        "✓",
        "?",
        "✗"
       ],
       "button_style": "",
       "icons": [],
       "index": 1,
       "layout": "IPY_MODEL_1780c9419f8b465eac54959205ac3f92",
       "style": "IPY_MODEL_908adddf653c4f7bb4ec5aacdc4e66cc",
       "tooltips": [
        "Accept",
        "Retain",
        "Reject"
       ]
      }
     },
     "01d3ba184c484b12bef3f400a8e39e87": {
      "model_module": "@jupyter-widgets/controls",
      "model_module_version": "1.5.0",
      "model_name": "ToggleButtonsModel",
      "state": {
       "_options_labels": [
        "✓",
        "?",
        "✗"
       ],
       "button_style": "",
       "icons": [],
       "index": 1,
       "layout": "IPY_MODEL_4923e884be8a4aa587a3fab6643f9f55",
       "style": "IPY_MODEL_86fe38238fa148e8a446dab41098e42e",
       "tooltips": [
        "Accept",
        "Retain",
        "Reject"
       ]
      }
     },
     "021d373da51e46e6af8c321de72834e9": {
      "model_module": "@jupyter-widgets/base",
      "model_module_version": "1.2.0",
      "model_name": "LayoutModel",
      "state": {}
     },
     "02fcb4ab9ead4a4a816882fc4dafea2c": {
      "model_module": "@jupyter-widgets/controls",
      "model_module_version": "1.5.0",
      "model_name": "HTMLModel",
      "state": {
       "layout": "IPY_MODEL_b12bec8e7ec3458d8530e956285fb84c",
       "style": "IPY_MODEL_736a9054690b472e9c1ed34eb98f0cfc",
       "value": "<table><tr><th>http://example.org/a/bill</th><th></th><th>http://example.org/b/william</th></tr><tr><td style=\"text-align:right;\">http://example.org/a/alice</td><td style=\"text-align:center;\">boss</td><td style=\"text-align:left;\">Alice</td></tr><tr><td style=\"text-align:right;\">Bill</td><td style=\"text-align:center;\">label</td><td style=\"text-align:left;\">William</td></tr><tr><td style=\"text-align:right;\">67890^^http://www.w3.org/2001/XMLSchema#integer</td><td style=\"text-align:center;\">pnr</td><td style=\"text-align:left;\"></td></tr><tr><td></td><td>http://example.org/a/bill</td><td>http://example.org/b/william</td></tr></table>"
      }
     },
     "030d2aa8eaea474eb8245f346b04a91f": {
      "model_module": "@jupyter-widgets/base",
      "model_module_version": "1.2.0",
      "model_name": "LayoutModel",
      "state": {}
     },
     "032b3895d1ba46fba45e0be999408553": {
      "model_module": "@jupyter-widgets/controls",
      "model_module_version": "1.5.0",
      "model_name": "ButtonModel",
      "state": {
       "description": "Update Mappings",
       "layout": "IPY_MODEL_3552730de76c4e56911ba338de90d657",
       "style": "IPY_MODEL_bc1de4100c7e4c66af921c24efc594d9"
      }
     },
     "03f053f0f4e34931a68889d7e00bd8de": {
      "model_module": "@jupyter-widgets/base",
      "model_module_version": "1.2.0",
      "model_name": "LayoutModel",
      "state": {
       "border": "solid 1px #333"
      }
     },
     "042ed107debd4820828bb2b10c99f7a3": {
      "model_module": "@jupyter-widgets/base",
      "model_module_version": "1.2.0",
      "model_name": "LayoutModel",
      "state": {}
     },
     "04779a6642bf41cc9a851b6bff19bbb0": {
      "model_module": "@jupyter-widgets/controls",
      "model_module_version": "1.5.0",
      "model_name": "ToggleButtonsModel",
      "state": {
       "_options_labels": [
        "✓",
        "?",
        "✗"
       ],
       "button_style": "",
       "icons": [],
       "index": 1,
       "layout": "IPY_MODEL_8755515da67c4a629bdc292ac235fb5d",
       "style": "IPY_MODEL_aefa0d2a7bc747d99fdae7e7b86ccbb9",
       "tooltips": [
        "Accept",
        "Retain",
        "Reject"
       ]
      }
     },
     "04acf017d77e4bffb6ac791209502618": {
      "model_module": "@jupyter-widgets/base",
      "model_module_version": "1.2.0",
      "model_name": "LayoutModel",
      "state": {}
     },
     "04c0ee0c79784cad9f2bc2350f682c34": {
      "model_module": "@jupyter-widgets/base",
      "model_module_version": "1.2.0",
      "model_name": "LayoutModel",
      "state": {}
     },
     "04ed57ef3c7e48a3b9c215115e72503c": {
      "model_module": "@jupyter-widgets/controls",
      "model_module_version": "1.5.0",
      "model_name": "HBoxModel",
      "state": {
       "children": [
        "IPY_MODEL_5f32e8080c3246d1bfe07c6a9ed1bdd8",
        "IPY_MODEL_40b73be6c401461bb5c8185201cd121b"
       ],
       "layout": "IPY_MODEL_5782fb4aea7345c3a92b6aef61f31fdb"
      }
     },
     "0503bcc9a8264270b41b6d72987c6d1d": {
      "model_module": "@jupyter-widgets/base",
      "model_module_version": "1.2.0",
      "model_name": "LayoutModel",
      "state": {}
     },
     "052cd446222d4a4d9e82eb27a291df92": {
      "model_module": "@jupyter-widgets/controls",
      "model_module_version": "1.5.0",
      "model_name": "VBoxModel",
      "state": {
       "children": [
        "IPY_MODEL_f87fb87b5a5e440da45c77e857bc364e",
        "IPY_MODEL_6487e3cc4b56438098ca7242fa73c12d"
       ],
       "layout": "IPY_MODEL_81089d53df6842658cc9ea3b499d8c4c"
      }
     },
     "056d6fbfc262413ebb314b429b48c0c0": {
      "model_module": "@jupyter-widgets/controls",
      "model_module_version": "1.5.0",
      "model_name": "TabModel",
      "state": {
       "_titles": {
        "0": "ABC <-> DEF",
        "1": "ABC <-> GHI",
        "2": "DEF <-> GHI"
       },
       "children": [
        "IPY_MODEL_cdcf525d197d4ec29cf52b963662566d",
        "IPY_MODEL_4378e7b831bc451aacb5729af74355f8",
        "IPY_MODEL_c9f1bd5244bf4ae99399bbdb799d63d0"
       ],
       "layout": "IPY_MODEL_cd884c0162664946a3bc57c5f098dd63"
      }
     },
     "0576aaaa132b4bff9729af3cdfdd063f": {
      "model_module": "@jupyter-widgets/controls",
      "model_module_version": "1.5.0",
      "model_name": "ToggleButtonsModel",
      "state": {
       "_options_labels": [
        "✓",
        "?",
        "✗"
       ],
       "button_style": "",
       "icons": [],
       "index": 1,
       "layout": "IPY_MODEL_0a746bcfbf8c4fd0a5de4694ce43fbd4",
       "style": "IPY_MODEL_bd08ac0e3f19413bb528dcd6d460429b",
       "tooltips": [
        "Accept",
        "Retain",
        "Reject"
       ]
      }
     },
     "0582016a36a14d5ba9ee58729c2ddac8": {
      "model_module": "@jupyter-widgets/controls",
      "model_module_version": "1.5.0",
      "model_name": "ButtonStyleModel",
      "state": {}
     },
     "0589eda85fd6490ea67d6ec9cd13a333": {
      "model_module": "@jupyter-widgets/base",
      "model_module_version": "1.2.0",
      "model_name": "LayoutModel",
      "state": {}
     },
     "059c127c9ac347b894e292a6195e8afb": {
      "model_module": "@jupyter-widgets/controls",
      "model_module_version": "1.5.0",
      "model_name": "TabModel",
      "state": {
       "_titles": {
        "0": "ABC <-> DEF",
        "1": "ABC <-> GHI",
        "2": "DEF <-> GHI"
       },
       "children": [
        "IPY_MODEL_f5c8e7e8860943a3a98e54b2c174fe49",
        "IPY_MODEL_ccb74787562940c582777d7864834680",
        "IPY_MODEL_cc90fffd9978461b838340ad8ae4965f"
       ],
       "layout": "IPY_MODEL_34c215cc682e49929ef4338337d604ec"
      }
     },
     "05a82fd79b9348858559c3c930685887": {
      "model_module": "@jupyter-widgets/output",
      "model_module_version": "1.0.0",
      "model_name": "OutputModel",
      "state": {
       "layout": "IPY_MODEL_7e8541244ff244d6bcdda8da4aaa0783",
       "outputs": [
        {
         "data": {
          "text/html": "Updateing ...",
          "text/plain": "<IPython.core.display.HTML object>"
         },
         "metadata": {},
         "output_type": "display_data"
        },
        {
         "data": {
          "text/html": "Updateing ...",
          "text/plain": "<IPython.core.display.HTML object>"
         },
         "metadata": {},
         "output_type": "display_data"
        },
        {
         "data": {
          "text/html": "Manual Mappings updated.",
          "text/plain": "<IPython.core.display.HTML object>"
         },
         "metadata": {},
         "output_type": "display_data"
        }
       ]
      }
     },
     "065b5d9e941e4c68a779f3caba85ba62": {
      "model_module": "@jupyter-widgets/base",
      "model_module_version": "1.2.0",
      "model_name": "LayoutModel",
      "state": {}
     },
     "06b4599813db46e69ccebf15db984c4f": {
      "model_module": "@jupyter-widgets/controls",
      "model_module_version": "1.5.0",
      "model_name": "VBoxModel",
      "state": {
       "children": [
        "IPY_MODEL_f3ec2c8b33fd438ba631db3e64e7bd4b"
       ],
       "layout": "IPY_MODEL_a2fab00280a745e98dd808b851bd0d31"
      }
     },
     "06dbcc4800a94ff3b0e0b2fcbaa0627c": {
      "model_module": "@jupyter-widgets/controls",
      "model_module_version": "1.5.0",
      "model_name": "HTMLModel",
      "state": {
       "layout": "IPY_MODEL_324e0088ba2c4c84806d0b2bec80f219",
       "style": "IPY_MODEL_f5f530ea0ac340c9bd7bf17abf5b4cfb",
       "value": "<table><tr><th>http://example.org/a/bill</th><th></th><th>http://example.org/b/william</th></tr><tr><td style=\"text-align:right;\">http://example.org/a/alice</td><td style=\"text-align:center;\">boss</td><td style=\"text-align:left;\">Alice</td></tr><tr><td style=\"text-align:right;\">Bill</td><td style=\"text-align:center;\">label</td><td style=\"text-align:left;\">William</td></tr><tr><td style=\"text-align:right;\">67890^^http://www.w3.org/2001/XMLSchema#integer</td><td style=\"text-align:center;\">pnr</td><td style=\"text-align:left;\"></td></tr></table>"
      }
     },
     "075a54ecb3794b04afe2fdf05ef13ad1": {
      "model_module": "@jupyter-widgets/controls",
      "model_module_version": "1.5.0",
      "model_name": "ToggleButtonsModel",
      "state": {
       "_options_labels": [
        "✓",
        "?",
        "✗"
       ],
       "button_style": "",
       "icons": [],
       "index": 1,
       "layout": "IPY_MODEL_5ecae91a7e4a4bbf8544b9a9cc65dbf3",
       "style": "IPY_MODEL_5b66cc7e96964c338fe08e2298cf1333",
       "tooltips": [
        "Accept",
        "Retain",
        "Reject"
       ]
      }
     },
     "077192a0c5294900b74d29a4a5da0301": {
      "model_module": "@jupyter-widgets/controls",
      "model_module_version": "1.5.0",
      "model_name": "ToggleButtonsModel",
      "state": {
       "_options_labels": [
        "✓",
        "?",
        "✗"
       ],
       "button_style": "",
       "icons": [],
       "index": 1,
       "layout": "IPY_MODEL_249037a19e3843cbb2bb7f7cb76c8f08",
       "style": "IPY_MODEL_6b61d1485bfb421abd83bb0eb8e45b58",
       "tooltips": [
        "Accept",
        "Retain",
        "Reject"
       ]
      }
     },
     "078aeaf4f2eb44118a54ce311e63b5ef": {
      "model_module": "@jupyter-widgets/controls",
      "model_module_version": "1.5.0",
      "model_name": "DescriptionStyleModel",
      "state": {
       "description_width": ""
      }
     },
     "0800f6e610544f8483f5320d9d31e3c8": {
      "model_module": "@jupyter-widgets/base",
      "model_module_version": "1.2.0",
      "model_name": "LayoutModel",
      "state": {}
     },
     "081e19ecacf44baa89c28dacb7b411d6": {
      "model_module": "@jupyter-widgets/controls",
      "model_module_version": "1.5.0",
      "model_name": "ToggleButtonsModel",
      "state": {
       "_options_labels": [
        "✓",
        "?",
        "✗"
       ],
       "button_style": "",
       "icons": [],
       "index": 1,
       "layout": "IPY_MODEL_4c549d2c6b604bdaa44a10e5d34fb308",
       "style": "IPY_MODEL_23ee22b7e1f543acb3b8357d687bc420",
       "tooltips": [
        "Accept",
        "Retain",
        "Reject"
       ]
      }
     },
     "0823459e998448da8288c3edb92d227b": {
      "model_module": "@jupyter-widgets/controls",
      "model_module_version": "1.5.0",
      "model_name": "DescriptionStyleModel",
      "state": {
       "description_width": ""
      }
     },
     "082b7ed0d493472a86440463f39aec3c": {
      "model_module": "@jupyter-widgets/base",
      "model_module_version": "1.2.0",
      "model_name": "LayoutModel",
      "state": {
       "max_height": "50em"
      }
     },
     "085b44ae18a142d2b53b2e734ad87a75": {
      "model_module": "@jupyter-widgets/controls",
      "model_module_version": "1.5.0",
      "model_name": "VBoxModel",
      "state": {
       "children": [
        "IPY_MODEL_11a34acf6dfa4a75921183b098f42286",
        "IPY_MODEL_750373c9abf74732bcccd9edfd16b771"
       ],
       "layout": "IPY_MODEL_8535bea53ca44c13beb9f96f91049edf"
      }
     },
     "0961056bc1cf4e569a9c989072e05145": {
      "model_module": "@jupyter-widgets/controls",
      "model_module_version": "1.5.0",
      "model_name": "ButtonStyleModel",
      "state": {}
     },
     "09dbee6904134fdab70d5a307e8845fb": {
      "model_module": "@jupyter-widgets/controls",
      "model_module_version": "1.5.0",
      "model_name": "ToggleButtonsStyleModel",
      "state": {
       "button_width": "auto",
       "description_width": ""
      }
     },
     "09ea8915a9454a1ba41cb59f55354ee7": {
      "model_module": "@jupyter-widgets/controls",
      "model_module_version": "1.5.0",
      "model_name": "ToggleButtonsStyleModel",
      "state": {
       "button_width": "auto",
       "description_width": ""
      }
     },
     "0a746bcfbf8c4fd0a5de4694ce43fbd4": {
      "model_module": "@jupyter-widgets/base",
      "model_module_version": "1.2.0",
      "model_name": "LayoutModel",
      "state": {}
     },
     "0ad08c2283bc42ebb568e0105e0785eb": {
      "model_module": "@jupyter-widgets/controls",
      "model_module_version": "1.5.0",
      "model_name": "VBoxModel",
      "state": {
       "children": [
        "IPY_MODEL_47c60f9a881443e585f34888aa94350f"
       ],
       "layout": "IPY_MODEL_1c9736ca76824321bd1897f220da8920"
      }
     },
     "0ade7ab5e5134fc2b16336df92452c7c": {
      "model_module": "@jupyter-widgets/controls",
      "model_module_version": "1.5.0",
      "model_name": "HTMLModel",
      "state": {
       "layout": "IPY_MODEL_10d582d301e44bb59481f6b02e9cbf5d",
       "style": "IPY_MODEL_c490cd37017a4730b6fb1c0943be32f7",
       "value": "<table><tr><th>http://example.org/a/alice</th><th></th><th>http://example.org/c/P001</th></tr><tr><td style=\"text-align:right;\">http://example.org/a/bob</td><td style=\"text-align:center;\">boss</td><td style=\"text-align:left;\"></td></tr><tr><td style=\"text-align:right;\">Alice</td><td style=\"text-align:center;\">label</td><td style=\"text-align:left;\">Alice</td></tr><tr><td style=\"text-align:right;\">45678^^http://www.w3.org/2001/XMLSchema#integer</td><td style=\"text-align:center;\">pnr</td><td style=\"text-align:left;\">12345^^http://www.w3.org/2001/XMLSchema#integer</td></tr></table>"
      }
     },
     "0aeebacf879a4d90b2b36bbc0623e1ef": {
      "model_module": "@jupyter-widgets/controls",
      "model_module_version": "1.5.0",
      "model_name": "HBoxModel",
      "state": {
       "children": [
        "IPY_MODEL_e3ec6cbb964442c8acfeb213b81aa5ce",
        "IPY_MODEL_fde6bf1b7a634e8b98731054bd33bb03"
       ],
       "layout": "IPY_MODEL_12caa00f99e145cca0b5766a3d66e7b5"
      }
     },
     "0b0e2ba42fe848179e86ffc883a27b49": {
      "model_module": "@jupyter-widgets/base",
      "model_module_version": "1.2.0",
      "model_name": "LayoutModel",
      "state": {}
     },
     "0b1dbb1faeee4a09b83a1fa88b55e70f": {
      "model_module": "@jupyter-widgets/controls",
      "model_module_version": "1.5.0",
      "model_name": "ToggleButtonsModel",
      "state": {
       "_options_labels": [
        "✓",
        "?",
        "✗"
       ],
       "button_style": "",
       "icons": [],
       "index": 1,
       "layout": "IPY_MODEL_eef7006cb6e44b58be71d775391563d2",
       "style": "IPY_MODEL_c2611be8ed1942298d093fda7a3307f0",
       "tooltips": [
        "Accept",
        "Retain",
        "Reject"
       ]
      }
     },
     "0b3506d4ab574fb4b4f77c2bd15fccde": {
      "model_module": "@jupyter-widgets/controls",
      "model_module_version": "1.5.0",
      "model_name": "ToggleButtonsModel",
      "state": {
       "_options_labels": [
        "✓",
        "?",
        "✗"
       ],
       "button_style": "",
       "icons": [],
       "index": 1,
       "layout": "IPY_MODEL_f9a5acc8c2db4144a4a79f787b739017",
       "style": "IPY_MODEL_b009c44068444eacb6aad9e55504e2cf",
       "tooltips": [
        "Accept",
        "Retain",
        "Reject"
       ]
      }
     },
     "0b51b92d218d434185e1ecd134485d7d": {
      "model_module": "@jupyter-widgets/base",
      "model_module_version": "1.2.0",
      "model_name": "LayoutModel",
      "state": {
       "border": "solid 1px grey"
      }
     },
     "0b6afd36ee974616beca9effef25e114": {
      "model_module": "@jupyter-widgets/controls",
      "model_module_version": "1.5.0",
      "model_name": "VBoxModel",
      "state": {
       "children": [
        "IPY_MODEL_d39eff8f032242b6aa870efaeead354d",
        "IPY_MODEL_7035a71e94c44dc68a7fc2695673e7de"
       ],
       "layout": "IPY_MODEL_be02e958b97d479ea69dace207d738ab"
      }
     },
     "0bb7c19582e441a9846d7a7f1e2b3cbc": {
      "model_module": "@jupyter-widgets/base",
      "model_module_version": "1.2.0",
      "model_name": "LayoutModel",
      "state": {}
     },
     "0be8d8896bb74f3f9e485ffbf0fcd5c8": {
      "model_module": "@jupyter-widgets/base",
      "model_module_version": "1.2.0",
      "model_name": "LayoutModel",
      "state": {}
     },
     "0d0694b7f04e4099af0cfb3f8ffca30f": {
      "model_module": "@jupyter-widgets/controls",
      "model_module_version": "1.5.0",
      "model_name": "VBoxModel",
      "state": {
       "children": [
        "IPY_MODEL_74861796bbb24ef9bd7a35d36fd98f66"
       ],
       "layout": "IPY_MODEL_b26ae0a5b49f457bbc976d5dcce66941"
      }
     },
     "0db241f834334153be6cbe14becd338b": {
      "model_module": "@jupyter-widgets/base",
      "model_module_version": "1.2.0",
      "model_name": "LayoutModel",
      "state": {}
     },
     "0df62f52611b4314b5dac566c11cec98": {
      "model_module": "@jupyter-widgets/controls",
      "model_module_version": "1.5.0",
      "model_name": "DescriptionStyleModel",
      "state": {
       "description_width": ""
      }
     },
     "0df743935d3e451f8305ced353122b0c": {
      "model_module": "@jupyter-widgets/base",
      "model_module_version": "1.2.0",
      "model_name": "LayoutModel",
      "state": {
       "border": "solid 1px #333"
      }
     },
     "0e0294d153e04459b0beb92f6c50010b": {
      "model_module": "@jupyter-widgets/base",
      "model_module_version": "1.2.0",
      "model_name": "LayoutModel",
      "state": {}
     },
     "0e4c6707ab9047dc81708e8b33560b0d": {
      "model_module": "@jupyter-widgets/base",
      "model_module_version": "1.2.0",
      "model_name": "LayoutModel",
      "state": {}
     },
     "0e72526b55d2493d94e252bc93f30488": {
      "model_module": "@jupyter-widgets/controls",
      "model_module_version": "1.5.0",
      "model_name": "ToggleButtonsModel",
      "state": {
       "_options_labels": [
        "✓",
        "?",
        "✗"
       ],
       "button_style": "",
       "icons": [],
       "index": 1,
       "layout": "IPY_MODEL_ca36b23bc1814ce18b8b23f190264668",
       "style": "IPY_MODEL_daa8cd6e1e1143a5a743cc9052a30d6f",
       "tooltips": [
        "Accept",
        "Retain",
        "Reject"
       ]
      }
     },
     "0e903d079d794de4a607021981e2c6d4": {
      "model_module": "@jupyter-widgets/base",
      "model_module_version": "1.2.0",
      "model_name": "LayoutModel",
      "state": {}
     },
     "0ee84f820f2e47ce8799b7de9b8d2da7": {
      "model_module": "@jupyter-widgets/controls",
      "model_module_version": "1.5.0",
      "model_name": "ToggleButtonsStyleModel",
      "state": {
       "button_width": "auto",
       "description_width": ""
      }
     },
     "0f28b1e5d1474f48bb2353c8d3715907": {
      "model_module": "@jupyter-widgets/output",
      "model_module_version": "1.0.0",
      "model_name": "OutputModel",
      "state": {
       "layout": "IPY_MODEL_721e11b81ecd4b528611d6399c26e433",
       "outputs": [
        {
         "data": {
          "text/html": "Updateing ...",
          "text/plain": "<IPython.core.display.HTML object>"
         },
         "metadata": {},
         "output_type": "display_data"
        },
        {
         "data": {
          "text/html": "Updateing ...",
          "text/plain": "<IPython.core.display.HTML object>"
         },
         "metadata": {},
         "output_type": "display_data"
        },
        {
         "data": {
          "text/html": "Manual Mappings updated.",
          "text/plain": "<IPython.core.display.HTML object>"
         },
         "metadata": {},
         "output_type": "display_data"
        },
        {
         "data": {
          "text/html": "Updateing ...",
          "text/plain": "<IPython.core.display.HTML object>"
         },
         "metadata": {},
         "output_type": "display_data"
        },
        {
         "ename": "AttributeError",
         "evalue": "'NoneType' object has no attribute 'append'",
         "output_type": "error",
         "traceback": [
          "\u001b[0;31m---------------------------------------------------------------------------\u001b[0m",
          "\u001b[0;31mAttributeError\u001b[0m                            Traceback (most recent call last)",
          "\u001b[0;32m<ipython-input-16-ab32f56a5eee>\u001b[0m in \u001b[0;36mupdateMappings\u001b[0;34m(b)\u001b[0m\n\u001b[1;32m    116\u001b[0m                 \u001b[0mmanualNegativeMappings\u001b[0m\u001b[0;34m.\u001b[0m\u001b[0mremove\u001b[0m\u001b[0;34m(\u001b[0m\u001b[0mmappingPairWidgets\u001b[0m\u001b[0;34m[\u001b[0m\u001b[0mmappingPairWidget\u001b[0m\u001b[0;34m]\u001b[0m\u001b[0;34m)\u001b[0m\u001b[0;34m\u001b[0m\u001b[0;34m\u001b[0m\u001b[0m\n\u001b[1;32m    117\u001b[0m             \u001b[0;32melif\u001b[0m \u001b[0mmappingPairWidget\u001b[0m\u001b[0;34m.\u001b[0m\u001b[0mvalue\u001b[0m \u001b[0;34m==\u001b[0m \u001b[0mrejected\u001b[0m\u001b[0;34m:\u001b[0m\u001b[0;34m\u001b[0m\u001b[0;34m\u001b[0m\u001b[0m\n\u001b[0;32m--> 118\u001b[0;31m                 \u001b[0mmanualNegativeMappings\u001b[0m\u001b[0;34m.\u001b[0m\u001b[0mappend\u001b[0m\u001b[0;34m(\u001b[0m\u001b[0mmappingPairWidgets\u001b[0m\u001b[0;34m[\u001b[0m\u001b[0mmappingPairWidget\u001b[0m\u001b[0;34m]\u001b[0m\u001b[0;34m)\u001b[0m\u001b[0;34m\u001b[0m\u001b[0;34m\u001b[0m\u001b[0m\n\u001b[0m\u001b[1;32m    119\u001b[0m                 \u001b[0mmanualPositiveMappings\u001b[0m\u001b[0;34m.\u001b[0m\u001b[0mremove\u001b[0m\u001b[0;34m(\u001b[0m\u001b[0mmappingPairWidgets\u001b[0m\u001b[0;34m[\u001b[0m\u001b[0mmappingPairWidget\u001b[0m\u001b[0;34m]\u001b[0m\u001b[0;34m)\u001b[0m\u001b[0;34m\u001b[0m\u001b[0;34m\u001b[0m\u001b[0m\n\u001b[1;32m    120\u001b[0m         \u001b[0mdisplay\u001b[0m\u001b[0;34m(\u001b[0m\u001b[0mHTML\u001b[0m\u001b[0;34m(\u001b[0m\u001b[0;34m\"Updateing ...\"\u001b[0m\u001b[0;34m)\u001b[0m\u001b[0;34m)\u001b[0m\u001b[0;34m\u001b[0m\u001b[0;34m\u001b[0m\u001b[0m\n",
          "\u001b[0;31mAttributeError\u001b[0m: 'NoneType' object has no attribute 'append'"
         ]
        },
        {
         "data": {
          "text/html": "Updateing ...",
          "text/plain": "<IPython.core.display.HTML object>"
         },
         "metadata": {},
         "output_type": "display_data"
        },
        {
         "ename": "AttributeError",
         "evalue": "'NoneType' object has no attribute 'remove'",
         "output_type": "error",
         "traceback": [
          "\u001b[0;31m---------------------------------------------------------------------------\u001b[0m",
          "\u001b[0;31mAttributeError\u001b[0m                            Traceback (most recent call last)",
          "\u001b[0;32m<ipython-input-16-ab32f56a5eee>\u001b[0m in \u001b[0;36mupdateMappings\u001b[0;34m(b)\u001b[0m\n\u001b[1;32m    114\u001b[0m             \u001b[0;32mif\u001b[0m \u001b[0mmappingPairWidget\u001b[0m\u001b[0;34m.\u001b[0m\u001b[0mvalue\u001b[0m \u001b[0;34m==\u001b[0m \u001b[0maccepted\u001b[0m\u001b[0;34m:\u001b[0m\u001b[0;34m\u001b[0m\u001b[0;34m\u001b[0m\u001b[0m\n\u001b[1;32m    115\u001b[0m                 \u001b[0mmanualPositiveMappings\u001b[0m\u001b[0;34m.\u001b[0m\u001b[0mappend\u001b[0m\u001b[0;34m(\u001b[0m\u001b[0mmappingPairWidgets\u001b[0m\u001b[0;34m[\u001b[0m\u001b[0mmappingPairWidget\u001b[0m\u001b[0;34m]\u001b[0m\u001b[0;34m)\u001b[0m\u001b[0;34m\u001b[0m\u001b[0;34m\u001b[0m\u001b[0m\n\u001b[0;32m--> 116\u001b[0;31m                 \u001b[0mmanualNegativeMappings\u001b[0m\u001b[0;34m.\u001b[0m\u001b[0mremove\u001b[0m\u001b[0;34m(\u001b[0m\u001b[0mmappingPairWidgets\u001b[0m\u001b[0;34m[\u001b[0m\u001b[0mmappingPairWidget\u001b[0m\u001b[0;34m]\u001b[0m\u001b[0;34m)\u001b[0m\u001b[0;34m\u001b[0m\u001b[0;34m\u001b[0m\u001b[0m\n\u001b[0m\u001b[1;32m    117\u001b[0m             \u001b[0;32melif\u001b[0m \u001b[0mmappingPairWidget\u001b[0m\u001b[0;34m.\u001b[0m\u001b[0mvalue\u001b[0m \u001b[0;34m==\u001b[0m \u001b[0mrejected\u001b[0m\u001b[0;34m:\u001b[0m\u001b[0;34m\u001b[0m\u001b[0;34m\u001b[0m\u001b[0m\n\u001b[1;32m    118\u001b[0m                 \u001b[0mmanualNegativeMappings\u001b[0m\u001b[0;34m.\u001b[0m\u001b[0mappend\u001b[0m\u001b[0;34m(\u001b[0m\u001b[0mmappingPairWidgets\u001b[0m\u001b[0;34m[\u001b[0m\u001b[0mmappingPairWidget\u001b[0m\u001b[0;34m]\u001b[0m\u001b[0;34m)\u001b[0m\u001b[0;34m\u001b[0m\u001b[0;34m\u001b[0m\u001b[0m\n",
          "\u001b[0;31mAttributeError\u001b[0m: 'NoneType' object has no attribute 'remove'"
         ]
        }
       ]
      }
     },
     "0f55ee6ec65644589e9eed7f8fa4abf0": {
      "model_module": "@jupyter-widgets/controls",
      "model_module_version": "1.5.0",
      "model_name": "HTMLModel",
      "state": {
       "layout": "IPY_MODEL_5d56dc5fadce4e97a189d3763ba31b0e",
       "style": "IPY_MODEL_ccd80312eb0240f59a801ea73b6cda48",
       "value": "<table><tr><th>http://example.org/a/alice</th><th></th><th>http://example.org/c/P001</th></tr><tr><td style=\"text-align:right;\">http://example.org/a/bob</td><td style=\"text-align:center;\">boss</td><td style=\"text-align:left;\"></td></tr><tr><td style=\"text-align:right;\">Alice</td><td style=\"text-align:center;\">label</td><td style=\"text-align:left;\">Alice</td></tr><tr><td style=\"text-align:right;\">45678^^http://www.w3.org/2001/XMLSchema#integer</td><td style=\"text-align:center;\">pnr</td><td style=\"text-align:left;\">12345^^http://www.w3.org/2001/XMLSchema#integer</td></tr><tr><td></td><td>http://example.org/a/alice</td><td>http://example.org/c/P001</td></tr></table>"
      }
     },
     "0f9f19e45978484a9edb32fd8d6caeec": {
      "model_module": "@jupyter-widgets/base",
      "model_module_version": "1.2.0",
      "model_name": "LayoutModel",
      "state": {}
     },
     "0fc4566d6d4641de9d9b04aa553e65e6": {
      "model_module": "@jupyter-widgets/controls",
      "model_module_version": "1.5.0",
      "model_name": "DescriptionStyleModel",
      "state": {
       "description_width": ""
      }
     },
     "102a51908cb84effa2c3b95c63577432": {
      "model_module": "@jupyter-widgets/controls",
      "model_module_version": "1.5.0",
      "model_name": "HBoxModel",
      "state": {
       "children": [
        "IPY_MODEL_fa0f818ffac74467b64eb53000a6310f",
        "IPY_MODEL_c89f7e9f1fcf44a2988e3edea4bf3e10"
       ],
       "layout": "IPY_MODEL_75eeac0469e54bde80647accd1b388a5"
      }
     },
     "1050eccc284a4e33ad259a36757aadcb": {
      "model_module": "@jupyter-widgets/base",
      "model_module_version": "1.2.0",
      "model_name": "LayoutModel",
      "state": {}
     },
     "1089a48ea47c4c19823a976e3e7b6f49": {
      "model_module": "@jupyter-widgets/base",
      "model_module_version": "1.2.0",
      "model_name": "LayoutModel",
      "state": {}
     },
     "10a3547c2b1c43ed8fdc168357b8e783": {
      "model_module": "@jupyter-widgets/base",
      "model_module_version": "1.2.0",
      "model_name": "LayoutModel",
      "state": {}
     },
     "10d582d301e44bb59481f6b02e9cbf5d": {
      "model_module": "@jupyter-widgets/base",
      "model_module_version": "1.2.0",
      "model_name": "LayoutModel",
      "state": {}
     },
     "1185a263eaf74f7a980e188c55d7a419": {
      "model_module": "@jupyter-widgets/base",
      "model_module_version": "1.2.0",
      "model_name": "LayoutModel",
      "state": {}
     },
     "11a34acf6dfa4a75921183b098f42286": {
      "model_module": "@jupyter-widgets/controls",
      "model_module_version": "1.5.0",
      "model_name": "HBoxModel",
      "state": {
       "children": [
        "IPY_MODEL_156dd915cdb64387b502699bc6ee7879",
        "IPY_MODEL_27358548e38c48778c1704d50587a09e"
       ],
       "layout": "IPY_MODEL_26adceddc826405685748744654cf138"
      }
     },
     "11b931bd6ab74a38bbf66a8649d86cd3": {
      "model_module": "@jupyter-widgets/base",
      "model_module_version": "1.2.0",
      "model_name": "LayoutModel",
      "state": {}
     },
     "11dccd2a20964e23b0cc9b57b36e4a6d": {
      "model_module": "@jupyter-widgets/output",
      "model_module_version": "1.0.0",
      "model_name": "OutputModel",
      "state": {
       "layout": "IPY_MODEL_611a845731f5403085c92de11aeffda5"
      }
     },
     "11ff49a905994301b5028fcf2fabe57d": {
      "model_module": "@jupyter-widgets/controls",
      "model_module_version": "1.5.0",
      "model_name": "DescriptionStyleModel",
      "state": {
       "description_width": ""
      }
     },
     "121618d53f85438e8d74d1a411baea8b": {
      "model_module": "@jupyter-widgets/controls",
      "model_module_version": "1.5.0",
      "model_name": "HTMLModel",
      "state": {
       "layout": "IPY_MODEL_bfd9cb835a534fbbb5262a77ac9a8c14",
       "style": "IPY_MODEL_8c935da2005e4c199529d8c93bb69d9b",
       "value": "<table><tr><th>http://example.org/a/bill</th><th></th><th>http://example.org/b/william</th></tr><tr><td style=\"text-align:right;\">http://example.org/a/alice</td><td style=\"text-align:center;\">boss</td><td style=\"text-align:left;\">Alice</td></tr><tr><td style=\"text-align:right;\">Bill</td><td style=\"text-align:center;\">label</td><td style=\"text-align:left;\">William</td></tr><tr><td style=\"text-align:right;\">67890^^http://www.w3.org/2001/XMLSchema#integer</td><td style=\"text-align:center;\">pnr</td><td style=\"text-align:left;\"></td></tr><tr><td></td><td>http://example.org/a/bill</td><td>http://example.org/b/william</td></tr></table>"
      }
     },
     "122f8b36adce45fcb3b0418a09e7fe05": {
      "model_module": "@jupyter-widgets/controls",
      "model_module_version": "1.5.0",
      "model_name": "VBoxModel",
      "state": {
       "children": [
        "IPY_MODEL_e2d593e4eb8742e78e45811af9c2aaee",
        "IPY_MODEL_8714a4452bd64712b5e5ccc5676a5255"
       ],
       "layout": "IPY_MODEL_4a562c02cfd449ccbad307e861be2b4b"
      }
     },
     "12642f62c97841e39f7adf55b73c2b6c": {
      "model_module": "@jupyter-widgets/controls",
      "model_module_version": "1.5.0",
      "model_name": "ToggleButtonsModel",
      "state": {
       "_options_labels": [
        "✓",
        "?",
        "✗"
       ],
       "button_style": "",
       "icons": [],
       "index": 2,
       "layout": "IPY_MODEL_df962951f84543079d121a869078ce3b",
       "style": "IPY_MODEL_86e5d3dd1c04473e96c6ce23c32f3055",
       "tooltips": [
        "Accept",
        "Retain",
        "Reject"
       ]
      }
     },
     "1280fd1bd9a442eebba6d17f30e794e2": {
      "model_module": "@jupyter-widgets/base",
      "model_module_version": "1.2.0",
      "model_name": "LayoutModel",
      "state": {}
     },
     "128d13166b8c4a01b27949d901c728e6": {
      "model_module": "@jupyter-widgets/base",
      "model_module_version": "1.2.0",
      "model_name": "LayoutModel",
      "state": {}
     },
     "12caa00f99e145cca0b5766a3d66e7b5": {
      "model_module": "@jupyter-widgets/base",
      "model_module_version": "1.2.0",
      "model_name": "LayoutModel",
      "state": {}
     },
     "12d38a175991428ab360283c6ecdc255": {
      "model_module": "@jupyter-widgets/controls",
      "model_module_version": "1.5.0",
      "model_name": "ButtonModel",
      "state": {
       "description": "Update Mappings",
       "layout": "IPY_MODEL_0bb7c19582e441a9846d7a7f1e2b3cbc",
       "style": "IPY_MODEL_fd3655189a4d47f088d0e725c10bdbd6"
      }
     },
     "12f394848fcd4bde9a23442b3f6db873": {
      "model_module": "@jupyter-widgets/base",
      "model_module_version": "1.2.0",
      "model_name": "LayoutModel",
      "state": {}
     },
     "130457b805b0418c972ea85af7bf9e68": {
      "model_module": "@jupyter-widgets/controls",
      "model_module_version": "1.5.0",
      "model_name": "ButtonModel",
      "state": {
       "description": "Update Mappings",
       "layout": "IPY_MODEL_52b7130f51e448c5a545754680b8fcbd",
       "style": "IPY_MODEL_0582016a36a14d5ba9ee58729c2ddac8"
      }
     },
     "139d9f0b31be410db1e817b12d2b65cc": {
      "model_module": "@jupyter-widgets/controls",
      "model_module_version": "1.5.0",
      "model_name": "HBoxModel",
      "state": {
       "children": [
        "IPY_MODEL_93ceb61e6c2544e1a29ac99c63bf6749",
        "IPY_MODEL_321b0a7fe6dc48adb49c5a7349666209"
       ],
       "layout": "IPY_MODEL_8b89e2d630a04e87b9f0043cd7a1847e"
      }
     },
     "13c8f376dfc7477190c29959e47d296b": {
      "model_module": "@jupyter-widgets/base",
      "model_module_version": "1.2.0",
      "model_name": "LayoutModel",
      "state": {}
     },
     "141ce5a94ae9463fa2b892458f36568e": {
      "model_module": "@jupyter-widgets/base",
      "model_module_version": "1.2.0",
      "model_name": "LayoutModel",
      "state": {}
     },
     "14ce3728591c4e11b965152f5c5abe60": {
      "model_module": "@jupyter-widgets/base",
      "model_module_version": "1.2.0",
      "model_name": "LayoutModel",
      "state": {}
     },
     "156dd915cdb64387b502699bc6ee7879": {
      "model_module": "@jupyter-widgets/controls",
      "model_module_version": "1.5.0",
      "model_name": "ToggleButtonsModel",
      "state": {
       "_options_labels": [
        "✓",
        "?",
        "✗"
       ],
       "button_style": "",
       "icons": [],
       "index": 1,
       "layout": "IPY_MODEL_715f5c8d93a049258a54839052669f1f",
       "style": "IPY_MODEL_e162e84f155742d68fbb0df271b8e07d",
       "tooltips": [
        "Accept",
        "Retain",
        "Reject"
       ]
      }
     },
     "156fe7ad2ea3488cbc2d116328e21f41": {
      "model_module": "@jupyter-widgets/controls",
      "model_module_version": "1.5.0",
      "model_name": "ToggleButtonsStyleModel",
      "state": {
       "button_width": "auto",
       "description_width": ""
      }
     },
     "15b194a4b1c342bd89dae091769c09de": {
      "model_module": "@jupyter-widgets/base",
      "model_module_version": "1.2.0",
      "model_name": "LayoutModel",
      "state": {}
     },
     "15f87635fd324fdb9d8bccc759368f0f": {
      "model_module": "@jupyter-widgets/base",
      "model_module_version": "1.2.0",
      "model_name": "LayoutModel",
      "state": {
       "max_height": "50em"
      }
     },
     "1650eac95ce64a959a1c7f00f274e3e8": {
      "model_module": "@jupyter-widgets/controls",
      "model_module_version": "1.5.0",
      "model_name": "DescriptionStyleModel",
      "state": {
       "description_width": ""
      }
     },
     "16cd233cacab41eeb2d8d9dc2fc4bd6e": {
      "model_module": "@jupyter-widgets/controls",
      "model_module_version": "1.5.0",
      "model_name": "DescriptionStyleModel",
      "state": {
       "description_width": ""
      }
     },
     "175ba67ceff74ae1b794e2bad4a98549": {
      "model_module": "@jupyter-widgets/base",
      "model_module_version": "1.2.0",
      "model_name": "LayoutModel",
      "state": {}
     },
     "176ae62dc78b4e5f904ec255648965d3": {
      "model_module": "@jupyter-widgets/controls",
      "model_module_version": "1.5.0",
      "model_name": "TabModel",
      "state": {
       "_titles": {
        "0": "ABC <-> DEF",
        "1": "ABC <-> GHI",
        "2": "DEF <-> GHI"
       },
       "children": [
        "IPY_MODEL_2383ee8bba564d25837d0610806a2a13",
        "IPY_MODEL_9760529cd9594247a3ac3d6f088746b9",
        "IPY_MODEL_5553410ce487475280b55c6584be81b0"
       ],
       "layout": "IPY_MODEL_418967c9f0364ac4af7a7ed0213c55a4"
      }
     },
     "1780c9419f8b465eac54959205ac3f92": {
      "model_module": "@jupyter-widgets/base",
      "model_module_version": "1.2.0",
      "model_name": "LayoutModel",
      "state": {}
     },
     "17a59c5529264e94a0f6aa356146630b": {
      "model_module": "@jupyter-widgets/controls",
      "model_module_version": "1.5.0",
      "model_name": "ToggleButtonsStyleModel",
      "state": {
       "button_width": "auto",
       "description_width": ""
      }
     },
     "189169b93a524a6cbe09bb13b0ba8c6b": {
      "model_module": "@jupyter-widgets/controls",
      "model_module_version": "1.5.0",
      "model_name": "VBoxModel",
      "state": {
       "children": [
        "IPY_MODEL_102a51908cb84effa2c3b95c63577432",
        "IPY_MODEL_04ed57ef3c7e48a3b9c215115e72503c"
       ],
       "layout": "IPY_MODEL_f3ff53af2fdb42a78ebf55f65cfee416"
      }
     },
     "18c69ef0645049a78a6ccb76473cb8c9": {
      "model_module": "@jupyter-widgets/output",
      "model_module_version": "1.0.0",
      "model_name": "OutputModel",
      "state": {
       "layout": "IPY_MODEL_adafd9e7067e4ebe818e184169168677"
      }
     },
     "190d84c9eeca4c5eb2bfd9ef23dda9ae": {
      "model_module": "@jupyter-widgets/controls",
      "model_module_version": "1.5.0",
      "model_name": "HBoxModel",
      "state": {
       "children": [
        "IPY_MODEL_0576aaaa132b4bff9729af3cdfdd063f",
        "IPY_MODEL_dfe18d75b4084f28b9d62a4dedd63f9f"
       ],
       "layout": "IPY_MODEL_ec19009ae62d4813a0e86730aaab7e98"
      }
     },
     "19a5a107945244e6aebcc202173bca5e": {
      "model_module": "@jupyter-widgets/controls",
      "model_module_version": "1.5.0",
      "model_name": "TabModel",
      "state": {
       "_titles": {
        "0": "person"
       },
       "children": [
        "IPY_MODEL_49d59201b40d48678aefc46e949654cc"
       ],
       "layout": "IPY_MODEL_030d2aa8eaea474eb8245f346b04a91f"
      }
     },
     "19e911a968ff48c3bf17e825c2e7e602": {
      "model_module": "@jupyter-widgets/base",
      "model_module_version": "1.2.0",
      "model_name": "LayoutModel",
      "state": {}
     },
     "1b3885eb9f03466d8a477c4dfd426781": {
      "model_module": "@jupyter-widgets/controls",
      "model_module_version": "1.5.0",
      "model_name": "ButtonStyleModel",
      "state": {}
     },
     "1b8ee3d91d1a4a6c92a3b493f2a6e84a": {
      "model_module": "@jupyter-widgets/base",
      "model_module_version": "1.2.0",
      "model_name": "LayoutModel",
      "state": {}
     },
     "1bf02b53fd64400ebafeb49289c35084": {
      "model_module": "@jupyter-widgets/base",
      "model_module_version": "1.2.0",
      "model_name": "LayoutModel",
      "state": {}
     },
     "1c9736ca76824321bd1897f220da8920": {
      "model_module": "@jupyter-widgets/base",
      "model_module_version": "1.2.0",
      "model_name": "LayoutModel",
      "state": {}
     },
     "1ca35261715241d1b5070b7002b4ea1e": {
      "model_module": "@jupyter-widgets/controls",
      "model_module_version": "1.5.0",
      "model_name": "DescriptionStyleModel",
      "state": {
       "description_width": ""
      }
     },
     "1ca655d0e7724d73bb04b8c444115a1f": {
      "model_module": "@jupyter-widgets/controls",
      "model_module_version": "1.5.0",
      "model_name": "HTMLModel",
      "state": {
       "layout": "IPY_MODEL_a3a4db0b1edd43b8b9f0e526b9b7d802",
       "style": "IPY_MODEL_7c992d4d0a0348ae8cc8f987c07f6518",
       "value": "<table><tr><th>http://example.org/a/alice</th><th></th><th>http://example.org/c/P001</th></tr><tr><td style=\"text-align:right;\">http://example.org/a/bob</td><td style=\"text-align:center;\">boss</td><td style=\"text-align:left;\"></td></tr><tr><td style=\"text-align:right;\">Alice</td><td style=\"text-align:center;\">label</td><td style=\"text-align:left;\">Alice</td></tr><tr><td style=\"text-align:right;\">45678^^http://www.w3.org/2001/XMLSchema#integer</td><td style=\"text-align:center;\">pnr</td><td style=\"text-align:left;\">12345^^http://www.w3.org/2001/XMLSchema#integer</td></tr></table>"
      }
     },
     "1ca9ae902f244354960bdadaae463503": {
      "model_module": "@jupyter-widgets/base",
      "model_module_version": "1.2.0",
      "model_name": "LayoutModel",
      "state": {}
     },
     "1cc161c2146249c589b30cdd9b1290a8": {
      "model_module": "@jupyter-widgets/controls",
      "model_module_version": "1.5.0",
      "model_name": "DescriptionStyleModel",
      "state": {
       "description_width": ""
      }
     },
     "1d5e8410a0b74ed1aa765f492c7d076e": {
      "model_module": "@jupyter-widgets/base",
      "model_module_version": "1.2.0",
      "model_name": "LayoutModel",
      "state": {
       "border": "solid 1px lightgrea"
      }
     },
     "1e2ae47079ac4ad5bae22b89a146c20f": {
      "model_module": "@jupyter-widgets/controls",
      "model_module_version": "1.5.0",
      "model_name": "HBoxModel",
      "state": {
       "children": [
        "IPY_MODEL_992f25e4fab74b60ad26d6fe2f3a2b0c",
        "IPY_MODEL_76049fb4aa1c4edca9fa4ba9bf603965"
       ],
       "layout": "IPY_MODEL_fad5524d32a34047a6d408a4fe77e2db"
      }
     },
     "1e5963807fe845a494b0a328d4451d26": {
      "model_module": "@jupyter-widgets/base",
      "model_module_version": "1.2.0",
      "model_name": "LayoutModel",
      "state": {}
     },
     "1e7297c872994d7cb1bea9a81116cad7": {
      "model_module": "@jupyter-widgets/controls",
      "model_module_version": "1.5.0",
      "model_name": "HBoxModel",
      "state": {
       "children": [
        "IPY_MODEL_9af8a725b29240fabffe49becf9321f8",
        "IPY_MODEL_4a5922356a374ae8bdb50d846d99f525"
       ],
       "layout": "IPY_MODEL_95f45de72b19463692fc71abb5138d99"
      }
     },
     "1eb9a8c8d2604abe8406aeedf69b0a68": {
      "model_module": "@jupyter-widgets/controls",
      "model_module_version": "1.5.0",
      "model_name": "HBoxModel",
      "state": {
       "children": [
        "IPY_MODEL_4d5ac794e35543ae937a38ec9a7b23f8",
        "IPY_MODEL_ae7b1ac4f9d44700bdc5f4d295ced953"
       ],
       "layout": "IPY_MODEL_03f053f0f4e34931a68889d7e00bd8de"
      }
     },
     "1f0b2722a2c244a497712c10fff89d2d": {
      "model_module": "@jupyter-widgets/base",
      "model_module_version": "1.2.0",
      "model_name": "LayoutModel",
      "state": {}
     },
     "1f44ad0f260645958a8d66d6710ab5ab": {
      "model_module": "@jupyter-widgets/base",
      "model_module_version": "1.2.0",
      "model_name": "LayoutModel",
      "state": {}
     },
     "1f7b66df35754b438f8c57b25e7ed957": {
      "model_module": "@jupyter-widgets/controls",
      "model_module_version": "1.5.0",
      "model_name": "HTMLModel",
      "state": {
       "layout": "IPY_MODEL_8d4b83f0f3a944c199e06509a84268a3",
       "style": "IPY_MODEL_98b475564ad242e78a5a822633ac8b76",
       "value": "<table><tr><th>http://example.org/b/charlie</th><th></th><th>http://example.org/c/P002</th></tr><tr><td style=\"text-align:right;\">Charlie</td><td style=\"text-align:center;\">label</td><td style=\"text-align:left;\">Charlie</td></tr><tr><td style=\"text-align:right;\"></td><td style=\"text-align:center;\">pnr</td><td style=\"text-align:left;\">45678^^http://www.w3.org/2001/XMLSchema#integer</td></tr></table>"
      }
     },
     "1fdd6f2fdcfc4ec385ea5e3f4f6f5785": {
      "model_module": "@jupyter-widgets/base",
      "model_module_version": "1.2.0",
      "model_name": "LayoutModel",
      "state": {}
     },
     "1fee47e3b1e7484ead3f2d2c2709a468": {
      "model_module": "@jupyter-widgets/controls",
      "model_module_version": "1.5.0",
      "model_name": "HTMLModel",
      "state": {
       "layout": "IPY_MODEL_b552e9a8e86b4a6e82b4818065a7f42f",
       "style": "IPY_MODEL_e090042dbdbe470e82f14c2f7e5630ba",
       "value": "<table><tr><th>http://example.org/b/charlie</th><th></th><th>http://example.org/c/P002</th></tr><tr><td style=\"text-align:right;\">Charlie</td><td style=\"text-align:center;\">label</td><td style=\"text-align:left;\">Charlie</td></tr><tr><td style=\"text-align:right;\"></td><td style=\"text-align:center;\">pnr</td><td style=\"text-align:left;\">45678^^http://www.w3.org/2001/XMLSchema#integer</td></tr><tr><td></td><td>http://example.org/b/charlie</td><td>http://example.org/c/P002</td></tr></table>"
      }
     },
     "203d33e380654ed89539f695a60219f1": {
      "model_module": "@jupyter-widgets/base",
      "model_module_version": "1.2.0",
      "model_name": "LayoutModel",
      "state": {}
     },
     "2050d3a258cf4c779add1d0ee1cd4a14": {
      "model_module": "@jupyter-widgets/base",
      "model_module_version": "1.2.0",
      "model_name": "LayoutModel",
      "state": {}
     },
     "20639310440b4c7bbbf13cb20b6ed4bc": {
      "model_module": "@jupyter-widgets/base",
      "model_module_version": "1.2.0",
      "model_name": "LayoutModel",
      "state": {}
     },
     "207e06184fb045489ec3232e7688c100": {
      "model_module": "@jupyter-widgets/controls",
      "model_module_version": "1.5.0",
      "model_name": "TabModel",
      "state": {
       "_titles": {
        "0": "person"
       },
       "children": [
        "IPY_MODEL_96ce4c3cc0924b2e90f72a79df45562a"
       ],
       "layout": "IPY_MODEL_19e911a968ff48c3bf17e825c2e7e602"
      }
     },
     "20b156dcc9ac41279e3d9123c7e1617e": {
      "model_module": "@jupyter-widgets/base",
      "model_module_version": "1.2.0",
      "model_name": "LayoutModel",
      "state": {}
     },
     "211595a0950a44d090ae641318398cef": {
      "model_module": "@jupyter-widgets/controls",
      "model_module_version": "1.5.0",
      "model_name": "ToggleButtonsModel",
      "state": {
       "_options_labels": [
        "✓",
        "?",
        "✗"
       ],
       "button_style": "",
       "icons": [],
       "index": 1,
       "layout": "IPY_MODEL_31a3b549286c4089bbc15a3811e33bf1",
       "style": "IPY_MODEL_8e1b9480aa004cdd900debc67e698a63",
       "tooltips": [
        "Accept",
        "Retain",
        "Reject"
       ]
      }
     },
     "216f929b81334cd69b71a03dadbc86cd": {
      "model_module": "@jupyter-widgets/controls",
      "model_module_version": "1.5.0",
      "model_name": "HBoxModel",
      "state": {
       "children": [
        "IPY_MODEL_8b574e136af4400da5c46fee319f1d1d",
        "IPY_MODEL_7af463b5217f43f4af194cb6ae73b80d"
       ],
       "layout": "IPY_MODEL_79630f3a7ada44eabe0bde8dab0fa6bd"
      }
     },
     "21773d35daa5423f840b8db208ba6fbe": {
      "model_module": "@jupyter-widgets/controls",
      "model_module_version": "1.5.0",
      "model_name": "ToggleButtonsModel",
      "state": {
       "_options_labels": [
        "✓",
        "?",
        "✗"
       ],
       "button_style": "",
       "icons": [],
       "index": 1,
       "layout": "IPY_MODEL_fd42b9eb828f4a8a96d1f595e94ab262",
       "style": "IPY_MODEL_ad3b821b020249848f4965ebc560de6c",
       "tooltips": [
        "Accept",
        "Retain",
        "Reject"
       ]
      }
     },
     "2198e0183ef94ef8aa0548796090494b": {
      "model_module": "@jupyter-widgets/base",
      "model_module_version": "1.2.0",
      "model_name": "LayoutModel",
      "state": {}
     },
     "21cdfb65040d4b3ea8dcd5bb64c3a310": {
      "model_module": "@jupyter-widgets/base",
      "model_module_version": "1.2.0",
      "model_name": "LayoutModel",
      "state": {}
     },
     "223181ba840d4af7bd78170afc967011": {
      "model_module": "@jupyter-widgets/controls",
      "model_module_version": "1.5.0",
      "model_name": "ToggleButtonsModel",
      "state": {
       "_options_labels": [
        "✓",
        "?",
        "✗"
       ],
       "button_style": "",
       "icons": [],
       "index": 1,
       "layout": "IPY_MODEL_9f671d3f0cae4d079e364d92140f812c",
       "style": "IPY_MODEL_62d8f3988dc2462f974feed3d6dcbde4",
       "tooltips": [
        "Accept",
        "Retain",
        "Reject"
       ]
      }
     },
     "224be273a60e4142a6efa018f95beb45": {
      "model_module": "@jupyter-widgets/base",
      "model_module_version": "1.2.0",
      "model_name": "LayoutModel",
      "state": {}
     },
     "226d0c2b66154ee2aaca10aa23677ee1": {
      "model_module": "@jupyter-widgets/base",
      "model_module_version": "1.2.0",
      "model_name": "LayoutModel",
      "state": {}
     },
     "2327ae9114494d5e9c97d03959c9371d": {
      "model_module": "@jupyter-widgets/controls",
      "model_module_version": "1.5.0",
      "model_name": "HTMLModel",
      "state": {
       "layout": "IPY_MODEL_2615163189d94e708ff8a103265ac8cb",
       "style": "IPY_MODEL_5ebad8b6065d4a89b620c95aad4bd6ff",
       "value": "<table><tr><th>http://example.org/a/alice</th><th></th><th>http://example.org/c/P001</th></tr><tr><td style=\"text-align:right;\">http://example.org/a/bob</td><td style=\"text-align:center;\">boss</td><td style=\"text-align:left;\"></td></tr><tr><td style=\"text-align:right;\">Alice</td><td style=\"text-align:center;\">label</td><td style=\"text-align:left;\">Alice</td></tr><tr><td style=\"text-align:right;\">45678^^http://www.w3.org/2001/XMLSchema#integer</td><td style=\"text-align:center;\">pnr</td><td style=\"text-align:left;\">12345^^http://www.w3.org/2001/XMLSchema#integer</td></tr><tr><td></td><td>http://example.org/a/alice</td><td>http://example.org/c/P001</td></tr></table>"
      }
     },
     "235b82a698f54969a81e202218e50be4": {
      "model_module": "@jupyter-widgets/controls",
      "model_module_version": "1.5.0",
      "model_name": "ToggleButtonsModel",
      "state": {
       "_options_labels": [
        "✓",
        "?",
        "✗"
       ],
       "button_style": "",
       "icons": [],
       "index": 1,
       "layout": "IPY_MODEL_c5d8db9e3082471186d63aa7011cf77e",
       "style": "IPY_MODEL_d8882fe0f4c7443ea66b19e45392ad30",
       "tooltips": [
        "Accept",
        "Retain",
        "Reject"
       ]
      }
     },
     "2383ee8bba564d25837d0610806a2a13": {
      "model_module": "@jupyter-widgets/controls",
      "model_module_version": "1.5.0",
      "model_name": "VBoxModel",
      "state": {
       "children": [
        "IPY_MODEL_8dd3a10909784b6daecb22b7cf4515fd",
        "IPY_MODEL_d9b35ba1193046afb2ab38781f2973b9"
       ],
       "layout": "IPY_MODEL_394a94a94b8d4538a2fee200e4d79915"
      }
     },
     "239dddc662ab423481bf7baf00987256": {
      "model_module": "@jupyter-widgets/controls",
      "model_module_version": "1.5.0",
      "model_name": "ToggleButtonsModel",
      "state": {
       "_options_labels": [
        "✓",
        "?",
        "✗"
       ],
       "button_style": "",
       "icons": [],
       "index": 0,
       "layout": "IPY_MODEL_ad6f91325a6d460a88cbc084ffbb2563",
       "style": "IPY_MODEL_5a3095a6dc294fb6864793cd638bc0df",
       "tooltips": [
        "Accept",
        "Retain",
        "Reject"
       ]
      }
     },
     "23df539073154068834bafc60306d489": {
      "model_module": "@jupyter-widgets/controls",
      "model_module_version": "1.5.0",
      "model_name": "HTMLModel",
      "state": {
       "layout": "IPY_MODEL_9ac8dfd25666472ea5c452d4d8e9d2af",
       "style": "IPY_MODEL_4e725c88f4464362b75c1621639ae295",
       "value": "<table><tr><th>http://example.org/a/bill</th><th></th><th>http://example.org/b/william</th></tr><tr><td style=\"text-align:right;\">http://example.org/a/alice</td><td style=\"text-align:center;\">boss</td><td style=\"text-align:left;\">Alice</td></tr><tr><td style=\"text-align:right;\">Bill</td><td style=\"text-align:center;\">label</td><td style=\"text-align:left;\">William</td></tr><tr><td style=\"text-align:right;\">67890^^http://www.w3.org/2001/XMLSchema#integer</td><td style=\"text-align:center;\">pnr</td><td style=\"text-align:left;\"></td></tr></table>"
      }
     },
     "23ee22b7e1f543acb3b8357d687bc420": {
      "model_module": "@jupyter-widgets/controls",
      "model_module_version": "1.5.0",
      "model_name": "ToggleButtonsStyleModel",
      "state": {
       "button_width": "auto",
       "description_width": ""
      }
     },
     "249037a19e3843cbb2bb7f7cb76c8f08": {
      "model_module": "@jupyter-widgets/base",
      "model_module_version": "1.2.0",
      "model_name": "LayoutModel",
      "state": {}
     },
     "24f685052a0d4511a423ae687597c0e8": {
      "model_module": "@jupyter-widgets/base",
      "model_module_version": "1.2.0",
      "model_name": "LayoutModel",
      "state": {
       "max_height": "50em"
      }
     },
     "25c13d1b776b44a7a15d48c227470319": {
      "model_module": "@jupyter-widgets/base",
      "model_module_version": "1.2.0",
      "model_name": "LayoutModel",
      "state": {
       "border": "solid 1px lightgrey"
      }
     },
     "2615163189d94e708ff8a103265ac8cb": {
      "model_module": "@jupyter-widgets/base",
      "model_module_version": "1.2.0",
      "model_name": "LayoutModel",
      "state": {}
     },
     "2626739e01cc4a8c841484e7fa3aefcd": {
      "model_module": "@jupyter-widgets/base",
      "model_module_version": "1.2.0",
      "model_name": "LayoutModel",
      "state": {}
     },
     "26adceddc826405685748744654cf138": {
      "model_module": "@jupyter-widgets/base",
      "model_module_version": "1.2.0",
      "model_name": "LayoutModel",
      "state": {}
     },
     "26c0af34ff9d4913a6fafdee2bcc4807": {
      "model_module": "@jupyter-widgets/controls",
      "model_module_version": "1.5.0",
      "model_name": "DescriptionStyleModel",
      "state": {
       "description_width": ""
      }
     },
     "26e432d1308c451b9602e8ba0df1bf67": {
      "model_module": "@jupyter-widgets/output",
      "model_module_version": "1.0.0",
      "model_name": "OutputModel",
      "state": {
       "layout": "IPY_MODEL_128d13166b8c4a01b27949d901c728e6",
       "outputs": [
        {
         "data": {
          "text/html": "Updateing ...",
          "text/plain": "<IPython.core.display.HTML object>"
         },
         "metadata": {},
         "output_type": "display_data"
        },
        {
         "ename": "TypeError",
         "evalue": "'NoneType' object is not iterable",
         "output_type": "error",
         "traceback": [
          "\u001b[0;31m---------------------------------------------------------------------------\u001b[0m",
          "\u001b[0;31mTypeError\u001b[0m                                 Traceback (most recent call last)",
          "\u001b[0;32m<ipython-input-32-a07dd592ccf4>\u001b[0m in \u001b[0;36mupdateMappings\u001b[0;34m(b)\u001b[0m\n\u001b[1;32m    109\u001b[0m         \u001b[0mmanualMappingParameters\u001b[0m \u001b[0;34m=\u001b[0m \u001b[0mmanualMappingStep\u001b[0m\u001b[0;34m.\u001b[0m\u001b[0mparameters\u001b[0m\u001b[0;34m(\u001b[0m\u001b[0;34m)\u001b[0m\u001b[0;34m[\u001b[0m\u001b[0;34m\"parameters\"\u001b[0m\u001b[0;34m]\u001b[0m\u001b[0;34m\u001b[0m\u001b[0;34m\u001b[0m\u001b[0m\n\u001b[1;32m    110\u001b[0m         \u001b[0mmanualPositiveMappings\u001b[0m \u001b[0;34m=\u001b[0m \u001b[0mlist\u001b[0m\u001b[0;34m(\u001b[0m\u001b[0mmanualMappingParameters\u001b[0m\u001b[0;34m[\u001b[0m\u001b[0;34m\"mappings\"\u001b[0m\u001b[0;34m]\u001b[0m\u001b[0;34m)\u001b[0m\u001b[0;34m\u001b[0m\u001b[0;34m\u001b[0m\u001b[0m\n\u001b[0;32m--> 111\u001b[0;31m         \u001b[0mmanualNegativeMappings\u001b[0m \u001b[0;34m=\u001b[0m \u001b[0mlist\u001b[0m\u001b[0;34m(\u001b[0m\u001b[0mmanualMappingParameters\u001b[0m\u001b[0;34m[\u001b[0m\u001b[0;34m\"suppressed_mappings\"\u001b[0m\u001b[0;34m]\u001b[0m\u001b[0;34m)\u001b[0m\u001b[0;34m\u001b[0m\u001b[0;34m\u001b[0m\u001b[0m\n\u001b[0m\u001b[1;32m    112\u001b[0m         \u001b[0mdisplay\u001b[0m\u001b[0;34m(\u001b[0m\u001b[0mmanualPositiveMappings\u001b[0m\u001b[0;34m,\u001b[0m\u001b[0mmanualNegativeMappings\u001b[0m\u001b[0;34m)\u001b[0m\u001b[0;34m\u001b[0m\u001b[0;34m\u001b[0m\u001b[0m\n\u001b[1;32m    113\u001b[0m         \u001b[0;31m# update local manual mapping data\u001b[0m\u001b[0;34m\u001b[0m\u001b[0;34m\u001b[0m\u001b[0;34m\u001b[0m\u001b[0m\n",
          "\u001b[0;31mTypeError\u001b[0m: 'NoneType' object is not iterable"
         ]
        }
       ]
      }
     },
     "2709fe5f2632467a96d289cfe6f5aede": {
      "model_module": "@jupyter-widgets/controls",
      "model_module_version": "1.5.0",
      "model_name": "ToggleButtonsModel",
      "state": {
       "_options_labels": [
        "✓",
        "?",
        "✗"
       ],
       "button_style": "",
       "icons": [],
       "index": 1,
       "layout": "IPY_MODEL_f04b50c319ef4937bf3f57bf2d36af60",
       "style": "IPY_MODEL_c22f1521746849a08f99c524ae8d9930",
       "tooltips": [
        "Accept",
        "Retain",
        "Reject"
       ]
      }
     },
     "27358548e38c48778c1704d50587a09e": {
      "model_module": "@jupyter-widgets/controls",
      "model_module_version": "1.5.0",
      "model_name": "HTMLModel",
      "state": {
       "layout": "IPY_MODEL_a3bd743e96fc45ceaea24108011223fd",
       "style": "IPY_MODEL_e38b34318bfe4053b91ed81aab9b8622",
       "value": "<table><tr><th>http://example.org/b/charlie</th><th></th><th>http://example.org/c/P002</th></tr><tr><td style=\"text-align:right;\">Charlie</td><td style=\"text-align:center;\">label</td><td style=\"text-align:left;\">Charlie</td></tr><tr><td style=\"text-align:right;\"></td><td style=\"text-align:center;\">pnr</td><td style=\"text-align:left;\">45678^^http://www.w3.org/2001/XMLSchema#integer</td></tr></table>"
      }
     },
     "278ded491eee4e1ca1b01c13a89b87fb": {
      "model_module": "@jupyter-widgets/controls",
      "model_module_version": "1.5.0",
      "model_name": "TabModel",
      "state": {
       "_titles": {
        "0": "person"
       },
       "children": [
        "IPY_MODEL_059c127c9ac347b894e292a6195e8afb"
       ],
       "layout": "IPY_MODEL_4830b99c7ed044d4a9fd645459fe6f3a"
      }
     },
     "27ab1b24e977464384f88a30b7a650ee": {
      "model_module": "@jupyter-widgets/base",
      "model_module_version": "1.2.0",
      "model_name": "LayoutModel",
      "state": {}
     },
     "287242c5f93443f6a0211b4f5a5ac440": {
      "model_module": "@jupyter-widgets/base",
      "model_module_version": "1.2.0",
      "model_name": "LayoutModel",
      "state": {}
     },
     "28a278c8714f41a090d8ef8817aa8e52": {
      "model_module": "@jupyter-widgets/controls",
      "model_module_version": "1.5.0",
      "model_name": "DescriptionStyleModel",
      "state": {
       "description_width": ""
      }
     },
     "28e7db73cbc047be9b8d276ccbad465d": {
      "model_module": "@jupyter-widgets/controls",
      "model_module_version": "1.5.0",
      "model_name": "TabModel",
      "state": {
       "_titles": {
        "0": "ABC <-> DEF",
        "1": "ABC <-> GHI",
        "2": "DEF <-> GHI"
       },
       "children": [
        "IPY_MODEL_cd04a523e14344ffa49f9fb7c56ed0a0",
        "IPY_MODEL_3389e0fca7a24a658fd9b4dca51fcae9",
        "IPY_MODEL_af6c16c03bc44965a89c711e143d58d3"
       ],
       "layout": "IPY_MODEL_a795259f3f8a4297830dc160b193c83b"
      }
     },
     "29348eb8fbca475d9531177d532e9dbd": {
      "model_module": "@jupyter-widgets/controls",
      "model_module_version": "1.5.0",
      "model_name": "TabModel",
      "state": {
       "_titles": {
        "0": "person"
       },
       "children": [
        "IPY_MODEL_a34f54676969485188ba9a39dbe3623d"
       ],
       "layout": "IPY_MODEL_20639310440b4c7bbbf13cb20b6ed4bc"
      }
     },
     "2962899e768a4b0eb04da9f261f9feea": {
      "model_module": "@jupyter-widgets/base",
      "model_module_version": "1.2.0",
      "model_name": "LayoutModel",
      "state": {}
     },
     "29d64e9e6ee74a289a2adcea82a86bb7": {
      "model_module": "@jupyter-widgets/controls",
      "model_module_version": "1.5.0",
      "model_name": "ToggleButtonsModel",
      "state": {
       "_options_labels": [
        "✓",
        "?",
        "✗"
       ],
       "button_style": "",
       "icons": [],
       "index": 1,
       "layout": "IPY_MODEL_6ba83a64021c45188b946be042cb7c10",
       "style": "IPY_MODEL_8240ddedbd99444e84c227d90771a76a",
       "tooltips": [
        "Accept",
        "Retain",
        "Reject"
       ]
      }
     },
     "2a5893648b0a47f9a1f9c0bddac566f4": {
      "model_module": "@jupyter-widgets/base",
      "model_module_version": "1.2.0",
      "model_name": "LayoutModel",
      "state": {}
     },
     "2b6c0d2a86214cc18204ed3c3dba1d1b": {
      "model_module": "@jupyter-widgets/base",
      "model_module_version": "1.2.0",
      "model_name": "LayoutModel",
      "state": {}
     },
     "2bb950f1c6664127b25bc6ed46dd0e59": {
      "model_module": "@jupyter-widgets/controls",
      "model_module_version": "1.5.0",
      "model_name": "ToggleButtonsStyleModel",
      "state": {
       "button_width": "auto",
       "description_width": ""
      }
     },
     "2bc9102e95a542128fc837c7de41cb67": {
      "model_module": "@jupyter-widgets/base",
      "model_module_version": "1.2.0",
      "model_name": "LayoutModel",
      "state": {}
     },
     "2c07f2437a3d4e05b774eeb973f0cbc6": {
      "model_module": "@jupyter-widgets/base",
      "model_module_version": "1.2.0",
      "model_name": "LayoutModel",
      "state": {}
     },
     "2c93a6d2bd374319a2ac6f383fd250b5": {
      "model_module": "@jupyter-widgets/controls",
      "model_module_version": "1.5.0",
      "model_name": "HTMLModel",
      "state": {
       "layout": "IPY_MODEL_2edbe2d3f2614768a9132fbb6995ee32",
       "style": "IPY_MODEL_11ff49a905994301b5028fcf2fabe57d",
       "value": "<table><tr><th>http://example.org/b/alice</th><th></th><th>http://example.org/c/P001</th></tr><tr><td style=\"text-align:right;\">http://example.org/b/alice</td><td style=\"text-align:center;\">boss</td><td style=\"text-align:left;\"></td></tr><tr><td style=\"text-align:right;\">Alice</td><td style=\"text-align:center;\">label</td><td style=\"text-align:left;\">Alice</td></tr><tr><td style=\"text-align:right;\"></td><td style=\"text-align:center;\">pnr</td><td style=\"text-align:left;\">12345^^http://www.w3.org/2001/XMLSchema#integer</td></tr></table>"
      }
     },
     "2cdfcfd472514e8bbb5619a5c6c5a97a": {
      "model_module": "@jupyter-widgets/controls",
      "model_module_version": "1.5.0",
      "model_name": "DescriptionStyleModel",
      "state": {
       "description_width": ""
      }
     },
     "2cfe8e4b6b244c6b877a66ba2abd9908": {
      "model_module": "@jupyter-widgets/controls",
      "model_module_version": "1.5.0",
      "model_name": "ToggleButtonsModel",
      "state": {
       "_options_labels": [
        "✓",
        "?",
        "✗"
       ],
       "button_style": "",
       "icons": [],
       "index": 1,
       "layout": "IPY_MODEL_b29292fbe7ed401fb5db192731275d8c",
       "style": "IPY_MODEL_f80df633166e4aecbf0648a7b27b3bcb",
       "tooltips": [
        "Accept",
        "Retain",
        "Reject"
       ]
      }
     },
     "2d98d6f215d74c72a40a807e476b2cbb": {
      "model_module": "@jupyter-widgets/base",
      "model_module_version": "1.2.0",
      "model_name": "LayoutModel",
      "state": {}
     },
     "2d9e8adb328b46b3adbbf30c502c55a7": {
      "model_module": "@jupyter-widgets/base",
      "model_module_version": "1.2.0",
      "model_name": "LayoutModel",
      "state": {}
     },
     "2da7b1aa55aa45a790b0b59c536a5d7d": {
      "model_module": "@jupyter-widgets/base",
      "model_module_version": "1.2.0",
      "model_name": "LayoutModel",
      "state": {}
     },
     "2e09453cbecc420d82c7c63e04254617": {
      "model_module": "@jupyter-widgets/controls",
      "model_module_version": "1.5.0",
      "model_name": "HBoxModel",
      "state": {
       "children": [
        "IPY_MODEL_ec5f80b3dd904a82b179038ebd434236",
        "IPY_MODEL_b5bb39b5ab8e4741acdc0218c7ea60ab"
       ],
       "layout": "IPY_MODEL_175ba67ceff74ae1b794e2bad4a98549"
      }
     },
     "2e1c63d3464c4444bfa898738702f63b": {
      "model_module": "@jupyter-widgets/base",
      "model_module_version": "1.2.0",
      "model_name": "LayoutModel",
      "state": {}
     },
     "2e33b359794548ba8b747f384650d25c": {
      "model_module": "@jupyter-widgets/controls",
      "model_module_version": "1.5.0",
      "model_name": "ButtonStyleModel",
      "state": {}
     },
     "2e77aa056dc14c03bf165dea24e66f6a": {
      "model_module": "@jupyter-widgets/base",
      "model_module_version": "1.2.0",
      "model_name": "LayoutModel",
      "state": {}
     },
     "2edbe2d3f2614768a9132fbb6995ee32": {
      "model_module": "@jupyter-widgets/base",
      "model_module_version": "1.2.0",
      "model_name": "LayoutModel",
      "state": {}
     },
     "2ef87cc9b98e44e9bf1b71f93c1da739": {
      "model_module": "@jupyter-widgets/base",
      "model_module_version": "1.2.0",
      "model_name": "LayoutModel",
      "state": {}
     },
     "2f0ff092e45d474590ef55cfc8316cd9": {
      "model_module": "@jupyter-widgets/controls",
      "model_module_version": "1.5.0",
      "model_name": "ToggleButtonsStyleModel",
      "state": {
       "button_width": "auto",
       "description_width": ""
      }
     },
     "301d884a5e1943eaacf1b9124e1ba072": {
      "model_module": "@jupyter-widgets/output",
      "model_module_version": "1.0.0",
      "model_name": "OutputModel",
      "state": {
       "layout": "IPY_MODEL_2c07f2437a3d4e05b774eeb973f0cbc6"
      }
     },
     "3093992def1449ecb03b654de02b8be1": {
      "model_module": "@jupyter-widgets/base",
      "model_module_version": "1.2.0",
      "model_name": "LayoutModel",
      "state": {}
     },
     "314498265fa147359a3a7457da1cfbee": {
      "model_module": "@jupyter-widgets/controls",
      "model_module_version": "1.5.0",
      "model_name": "ToggleButtonsStyleModel",
      "state": {
       "button_width": "auto",
       "description_width": ""
      }
     },
     "31825b7f94eb470bb2373b30f7805853": {
      "model_module": "@jupyter-widgets/controls",
      "model_module_version": "1.5.0",
      "model_name": "ButtonModel",
      "state": {
       "description": "Update Mappings",
       "layout": "IPY_MODEL_5ef482b2153b43b1b44825ac7c77735c",
       "style": "IPY_MODEL_f98d2febfca34a59a437b03d1ee527db"
      }
     },
     "31a3b549286c4089bbc15a3811e33bf1": {
      "model_module": "@jupyter-widgets/base",
      "model_module_version": "1.2.0",
      "model_name": "LayoutModel",
      "state": {}
     },
     "31d1a186ee6d42889b476476a8f7d763": {
      "model_module": "@jupyter-widgets/controls",
      "model_module_version": "1.5.0",
      "model_name": "HBoxModel",
      "state": {
       "children": [
        "IPY_MODEL_bfa897e0d2de46f1a33e9d21fca4de60",
        "IPY_MODEL_0ade7ab5e5134fc2b16336df92452c7c"
       ],
       "layout": "IPY_MODEL_c4df99b8d1dd4c8aab4d975a17b7ab2d"
      }
     },
     "31d86366fcfc4769af0d9a306c5ac50b": {
      "model_module": "@jupyter-widgets/controls",
      "model_module_version": "1.5.0",
      "model_name": "HBoxModel",
      "state": {
       "children": [
        "IPY_MODEL_65ca1bcd69604e099524b7ae34bb01f7",
        "IPY_MODEL_23df539073154068834bafc60306d489"
       ],
       "layout": "IPY_MODEL_fc721fdc46a94c61ade0d35ec08a0151"
      }
     },
     "321b0a7fe6dc48adb49c5a7349666209": {
      "model_module": "@jupyter-widgets/controls",
      "model_module_version": "1.5.0",
      "model_name": "HTMLModel",
      "state": {
       "layout": "IPY_MODEL_351f324e839647f5ba6909007f092866",
       "style": "IPY_MODEL_39803c379df64521b75ffb3091583eef",
       "value": "<table><tr><th>http://example.org/a/alice</th><th></th><th>http://example.org/c/P001</th></tr><tr><td style=\"text-align:right;\">http://example.org/a/bob</td><td style=\"text-align:center;\">boss</td><td style=\"text-align:left;\"></td></tr><tr><td style=\"text-align:right;\">Alice</td><td style=\"text-align:center;\">label</td><td style=\"text-align:left;\">Alice</td></tr><tr><td style=\"text-align:right;\">45678^^http://www.w3.org/2001/XMLSchema#integer</td><td style=\"text-align:center;\">pnr</td><td style=\"text-align:left;\">12345^^http://www.w3.org/2001/XMLSchema#integer</td></tr></table>"
      }
     },
     "323c35f3f77d4c018983f8dc64f51ff6": {
      "model_module": "@jupyter-widgets/controls",
      "model_module_version": "1.5.0",
      "model_name": "ToggleButtonsModel",
      "state": {
       "_options_labels": [
        "✓",
        "?",
        "✗"
       ],
       "button_style": "",
       "icons": [],
       "index": 1,
       "layout": "IPY_MODEL_6b11a41ad525482ebe542fe5090ffafb",
       "style": "IPY_MODEL_c8c007bd030d42daac6634d9c0d6cef5",
       "tooltips": [
        "Accept",
        "Retain",
        "Reject"
       ]
      }
     },
     "324e0088ba2c4c84806d0b2bec80f219": {
      "model_module": "@jupyter-widgets/base",
      "model_module_version": "1.2.0",
      "model_name": "LayoutModel",
      "state": {}
     },
     "327d87d465124c409488324167166cee": {
      "model_module": "@jupyter-widgets/controls",
      "model_module_version": "1.5.0",
      "model_name": "DescriptionStyleModel",
      "state": {
       "description_width": ""
      }
     },
     "32d0cd8a6929475f9b43920528764ec5": {
      "model_module": "@jupyter-widgets/controls",
      "model_module_version": "1.5.0",
      "model_name": "HBoxModel",
      "state": {
       "children": [
        "IPY_MODEL_0e72526b55d2493d94e252bc93f30488",
        "IPY_MODEL_825e3fa886cb400f88b1c620dbcc75d9"
       ],
       "layout": "IPY_MODEL_cd657b6cd43e4b99b1ae877f31584609"
      }
     },
     "32dc6ea8bd8d48f194ae871937f685d1": {
      "model_module": "@jupyter-widgets/controls",
      "model_module_version": "1.5.0",
      "model_name": "ToggleButtonsModel",
      "state": {
       "_options_labels": [
        "✓",
        "?",
        "✗"
       ],
       "button_style": "",
       "icons": [],
       "index": 1,
       "layout": "IPY_MODEL_7aa98c4da60348b2934e14da971f800c",
       "style": "IPY_MODEL_2f0ff092e45d474590ef55cfc8316cd9",
       "tooltips": [
        "Accept",
        "Retain",
        "Reject"
       ]
      }
     },
     "3389e0fca7a24a658fd9b4dca51fcae9": {
      "model_module": "@jupyter-widgets/controls",
      "model_module_version": "1.5.0",
      "model_name": "VBoxModel",
      "state": {
       "children": [
        "IPY_MODEL_e37d0a3058ee4f04ae95d925c8e3ec8d"
       ],
       "layout": "IPY_MODEL_5c0b47ba5a7045f9a8c296869172e328"
      }
     },
     "341b44fa2cda499a9e105d602ab62352": {
      "model_module": "@jupyter-widgets/base",
      "model_module_version": "1.2.0",
      "model_name": "LayoutModel",
      "state": {}
     },
     "343bf5e931dd464f97dae52861904fd6": {
      "model_module": "@jupyter-widgets/controls",
      "model_module_version": "1.5.0",
      "model_name": "DescriptionStyleModel",
      "state": {
       "description_width": ""
      }
     },
     "34c215cc682e49929ef4338337d604ec": {
      "model_module": "@jupyter-widgets/base",
      "model_module_version": "1.2.0",
      "model_name": "LayoutModel",
      "state": {
       "max_height": "50em"
      }
     },
     "351f324e839647f5ba6909007f092866": {
      "model_module": "@jupyter-widgets/base",
      "model_module_version": "1.2.0",
      "model_name": "LayoutModel",
      "state": {}
     },
     "3552730de76c4e56911ba338de90d657": {
      "model_module": "@jupyter-widgets/base",
      "model_module_version": "1.2.0",
      "model_name": "LayoutModel",
      "state": {}
     },
     "3572c33601b044748feac4a1b789613f": {
      "model_module": "@jupyter-widgets/controls",
      "model_module_version": "1.5.0",
      "model_name": "HTMLModel",
      "state": {
       "layout": "IPY_MODEL_8e039f5663f74bdfb189dc0e54b86b0f",
       "style": "IPY_MODEL_7072b6f034bc4599830b17db68d851fc",
       "value": "<table><tr><th>http://example.org/b/charlie</th><th></th><th>http://example.org/c/P002</th></tr><tr><td style=\"text-align:right;\">Charlie</td><td style=\"text-align:center;\">label</td><td style=\"text-align:left;\">Charlie</td></tr><tr><td style=\"text-align:right;\"></td><td style=\"text-align:center;\">pnr</td><td style=\"text-align:left;\">45678^^http://www.w3.org/2001/XMLSchema#integer</td></tr></table>"
      }
     },
     "35ce804013444fa8a79895a0e9665ead": {
      "model_module": "@jupyter-widgets/controls",
      "model_module_version": "1.5.0",
      "model_name": "DescriptionStyleModel",
      "state": {
       "description_width": ""
      }
     },
     "35d176457f2345a0946a18168fedbcbe": {
      "model_module": "@jupyter-widgets/controls",
      "model_module_version": "1.5.0",
      "model_name": "HTMLModel",
      "state": {
       "layout": "IPY_MODEL_c1896a30138f4c9da0c0e5f806d5b9de",
       "style": "IPY_MODEL_a0449bf9433541e285a372acc376f2a9",
       "value": "<table><tr><th>http://example.org/b/charlie</th><th></th><th>http://example.org/c/P002</th></tr><tr><td style=\"text-align:right;\">Charlie</td><td style=\"text-align:center;\">label</td><td style=\"text-align:left;\">Charlie</td></tr><tr><td style=\"text-align:right;\"></td><td style=\"text-align:center;\">pnr</td><td style=\"text-align:left;\">45678^^http://www.w3.org/2001/XMLSchema#integer</td></tr><tr><td></td><td>http://example.org/b/charlie</td><td>http://example.org/c/P002</td></tr></table>"
      }
     },
     "36acff988c4e4bc4ab18524bfedc0e43": {
      "model_module": "@jupyter-widgets/base",
      "model_module_version": "1.2.0",
      "model_name": "LayoutModel",
      "state": {}
     },
     "36d7912276b348429633e1276c393d96": {
      "model_module": "@jupyter-widgets/controls",
      "model_module_version": "1.5.0",
      "model_name": "ToggleButtonsModel",
      "state": {
       "_options_labels": [
        "✓",
        "?",
        "✗"
       ],
       "button_style": "",
       "icons": [],
       "index": 1,
       "layout": "IPY_MODEL_13c8f376dfc7477190c29959e47d296b",
       "style": "IPY_MODEL_9100858cd64049fb83dfc1c8fa51e443",
       "tooltips": [
        "Accept",
        "Retain",
        "Reject"
       ]
      }
     },
     "36e91cf614d84967b0866f339eb10577": {
      "model_module": "@jupyter-widgets/controls",
      "model_module_version": "1.5.0",
      "model_name": "TabModel",
      "state": {
       "_titles": {
        "0": "ABC <-> DEF",
        "1": "ABC <-> GHI",
        "2": "DEF <-> GHI"
       },
       "children": [
        "IPY_MODEL_7fee503905004a7eaa12020b3f72e480",
        "IPY_MODEL_41052162aafd42069bccd9eeb030f0ae",
        "IPY_MODEL_98e27222e7d14bdebd1b465fbc43c59a"
       ],
       "layout": "IPY_MODEL_f1c61ccb3e0f4382810369dd8e57ff23"
      }
     },
     "37022e64d3ca469f8054acf6522705f9": {
      "model_module": "@jupyter-widgets/base",
      "model_module_version": "1.2.0",
      "model_name": "LayoutModel",
      "state": {}
     },
     "370dadf5fd7a4f4bb43392774047b1e6": {
      "model_module": "@jupyter-widgets/base",
      "model_module_version": "1.2.0",
      "model_name": "LayoutModel",
      "state": {}
     },
     "371468c3ab0c4cc18830ed654c3a5b07": {
      "model_module": "@jupyter-widgets/controls",
      "model_module_version": "1.5.0",
      "model_name": "TabModel",
      "state": {
       "_titles": {
        "0": "person"
       },
       "children": [
        "IPY_MODEL_28e7db73cbc047be9b8d276ccbad465d"
       ],
       "layout": "IPY_MODEL_000e4c7d60af4482ad6ee2321495a228"
      }
     },
     "38368301519d43a38f0fc8af6ea4263e": {
      "model_module": "@jupyter-widgets/controls",
      "model_module_version": "1.5.0",
      "model_name": "DescriptionStyleModel",
      "state": {
       "description_width": ""
      }
     },
     "3861fddbc2b54d059d3fe9e56c726d44": {
      "model_module": "@jupyter-widgets/controls",
      "model_module_version": "1.5.0",
      "model_name": "HTMLModel",
      "state": {
       "layout": "IPY_MODEL_1bf02b53fd64400ebafeb49289c35084",
       "style": "IPY_MODEL_28a278c8714f41a090d8ef8817aa8e52",
       "value": "<table><tr><th>http://example.org/a/alice</th><th></th><th>http://example.org/b/alice</th></tr><tr><td style=\"text-align:right;\">http://example.org/a/bob</td><td style=\"text-align:center;\">boss</td><td style=\"text-align:left;\">http://example.org/b/alice</td></tr><tr><td style=\"text-align:right;\">Alice</td><td style=\"text-align:center;\">label</td><td style=\"text-align:left;\">Alice</td></tr><tr><td style=\"text-align:right;\">45678^^http://www.w3.org/2001/XMLSchema#integer</td><td style=\"text-align:center;\">pnr</td><td style=\"text-align:left;\"></td></tr><tr><td></td><td>http://example.org/a/alice</td><td>http://example.org/b/alice</td></tr></table>"
      }
     },
     "38661671691e4946a74cfdf4405c7d35": {
      "model_module": "@jupyter-widgets/controls",
      "model_module_version": "1.5.0",
      "model_name": "ToggleButtonsModel",
      "state": {
       "_options_labels": [
        "✓",
        "?",
        "✗"
       ],
       "button_style": "",
       "icons": [],
       "index": 1,
       "layout": "IPY_MODEL_724d72470d9c4b2d90938ff1df227d69",
       "style": "IPY_MODEL_7667d98f9f6d44189a8e877d338a116f",
       "tooltips": [
        "Accept",
        "Retain",
        "Reject"
       ]
      }
     },
     "388d2cdb76414d49aa7f21089d287651": {
      "model_module": "@jupyter-widgets/base",
      "model_module_version": "1.2.0",
      "model_name": "LayoutModel",
      "state": {}
     },
     "3914564daa3a4249a0554d3f96df011d": {
      "model_module": "@jupyter-widgets/controls",
      "model_module_version": "1.5.0",
      "model_name": "HTMLModel",
      "state": {
       "layout": "IPY_MODEL_c52ac8c7d6554635b734b14b6c14182e",
       "style": "IPY_MODEL_e86d82dc4a584caabcbc1c3e46843dd9",
       "value": "<table><tr><th>http://example.org/a/alice</th><th></th><th>http://example.org/b/alice</th></tr><tr><td style=\"text-align:right;\">http://example.org/a/bob</td><td style=\"text-align:center;\">boss</td><td style=\"text-align:left;\">http://example.org/b/alice</td></tr><tr><td style=\"text-align:right;\">Alice</td><td style=\"text-align:center;\">label</td><td style=\"text-align:left;\">Alice</td></tr><tr><td style=\"text-align:right;\">45678^^http://www.w3.org/2001/XMLSchema#integer</td><td style=\"text-align:center;\">pnr</td><td style=\"text-align:left;\"></td></tr></table>"
      }
     },
     "394a94a94b8d4538a2fee200e4d79915": {
      "model_module": "@jupyter-widgets/base",
      "model_module_version": "1.2.0",
      "model_name": "LayoutModel",
      "state": {}
     },
     "397f17db6525482aa98fbafde558c747": {
      "model_module": "@jupyter-widgets/base",
      "model_module_version": "1.2.0",
      "model_name": "LayoutModel",
      "state": {}
     },
     "39803c379df64521b75ffb3091583eef": {
      "model_module": "@jupyter-widgets/controls",
      "model_module_version": "1.5.0",
      "model_name": "DescriptionStyleModel",
      "state": {
       "description_width": ""
      }
     },
     "3a2778f53c7741e8b36f7d6c6b26314a": {
      "model_module": "@jupyter-widgets/controls",
      "model_module_version": "1.5.0",
      "model_name": "ToggleButtonsStyleModel",
      "state": {
       "button_width": "auto",
       "description_width": ""
      }
     },
     "3aa037af4e454d53a055ff03a3807a32": {
      "model_module": "@jupyter-widgets/controls",
      "model_module_version": "1.5.0",
      "model_name": "DescriptionStyleModel",
      "state": {
       "description_width": ""
      }
     },
     "3abc606856f64afbb46cc4f8185d3abe": {
      "model_module": "@jupyter-widgets/base",
      "model_module_version": "1.2.0",
      "model_name": "LayoutModel",
      "state": {}
     },
     "3b086854868e4973896007cd326a0308": {
      "model_module": "@jupyter-widgets/controls",
      "model_module_version": "1.5.0",
      "model_name": "HTMLModel",
      "state": {
       "layout": "IPY_MODEL_86af22993fbd430a820273ceb56349aa",
       "style": "IPY_MODEL_1650eac95ce64a959a1c7f00f274e3e8",
       "value": "<table><tr><th>http://example.org/a/alice</th><th></th><th>http://example.org/b/alice</th></tr><tr><td style=\"text-align:right;\">http://example.org/a/bob</td><td style=\"text-align:center;\">boss</td><td style=\"text-align:left;\">http://example.org/b/alice</td></tr><tr><td style=\"text-align:right;\">Alice</td><td style=\"text-align:center;\">label</td><td style=\"text-align:left;\">Alice</td></tr><tr><td style=\"text-align:right;\">45678^^http://www.w3.org/2001/XMLSchema#integer</td><td style=\"text-align:center;\">pnr</td><td style=\"text-align:left;\"></td></tr><tr><td></td><td>http://example.org/a/alice</td><td>http://example.org/b/alice</td></tr></table>"
      }
     },
     "3b09b0d78648421aa668ba19515a759e": {
      "model_module": "@jupyter-widgets/controls",
      "model_module_version": "1.5.0",
      "model_name": "DescriptionStyleModel",
      "state": {
       "description_width": ""
      }
     },
     "3c54ead8e2d2433a825242b76b389185": {
      "model_module": "@jupyter-widgets/base",
      "model_module_version": "1.2.0",
      "model_name": "LayoutModel",
      "state": {}
     },
     "3c99e2859ed542b095999e795f69d85d": {
      "model_module": "@jupyter-widgets/controls",
      "model_module_version": "1.5.0",
      "model_name": "TabModel",
      "state": {
       "_titles": {
        "0": "person"
       },
       "children": [
        "IPY_MODEL_a18f00f0daa2486fb59b9af9236958df"
       ],
       "layout": "IPY_MODEL_0589eda85fd6490ea67d6ec9cd13a333"
      }
     },
     "3d1f0792ff3749beb70607a4bb5ca788": {
      "model_module": "@jupyter-widgets/controls",
      "model_module_version": "1.5.0",
      "model_name": "ToggleButtonsModel",
      "state": {
       "_options_labels": [
        "✓",
        "?",
        "✗"
       ],
       "button_style": "",
       "icons": [],
       "index": 1,
       "layout": "IPY_MODEL_c3d03a92c4164dc29ae2a29331c6fb83",
       "style": "IPY_MODEL_2bb950f1c6664127b25bc6ed46dd0e59",
       "tooltips": [
        "Accept",
        "Retain",
        "Reject"
       ]
      }
     },
     "3d4c3a430e9d4233b4235ea2a201144d": {
      "model_module": "@jupyter-widgets/base",
      "model_module_version": "1.2.0",
      "model_name": "LayoutModel",
      "state": {}
     },
     "3d640451b1bf441b8d3448c678762f6b": {
      "model_module": "@jupyter-widgets/controls",
      "model_module_version": "1.5.0",
      "model_name": "ToggleButtonsModel",
      "state": {
       "_options_labels": [
        "✓",
        "?",
        "✗"
       ],
       "button_style": "",
       "icons": [],
       "index": 1,
       "layout": "IPY_MODEL_5d236c3f28704bb38e6e2aa819fc92d8",
       "style": "IPY_MODEL_3ee0aca4e5b544028ec55917cf44a12a",
       "tooltips": [
        "Accept",
        "Retain",
        "Reject"
       ]
      }
     },
     "3e60a359d29a42a382cfecdb7661fbc2": {
      "model_module": "@jupyter-widgets/base",
      "model_module_version": "1.2.0",
      "model_name": "LayoutModel",
      "state": {}
     },
     "3ee0aca4e5b544028ec55917cf44a12a": {
      "model_module": "@jupyter-widgets/controls",
      "model_module_version": "1.5.0",
      "model_name": "ToggleButtonsStyleModel",
      "state": {
       "button_width": "auto",
       "description_width": ""
      }
     },
     "3f431a663c3a4d10b842506ba2ef25fc": {
      "model_module": "@jupyter-widgets/base",
      "model_module_version": "1.2.0",
      "model_name": "LayoutModel",
      "state": {}
     },
     "3f913a0ac799416aacd4099e2ba6d5ab": {
      "model_module": "@jupyter-widgets/base",
      "model_module_version": "1.2.0",
      "model_name": "LayoutModel",
      "state": {}
     },
     "3f93483573454a418b3545d5eaa82c9e": {
      "model_module": "@jupyter-widgets/base",
      "model_module_version": "1.2.0",
      "model_name": "LayoutModel",
      "state": {}
     },
     "405602c55a8647c3a15d020d041bd3f8": {
      "model_module": "@jupyter-widgets/controls",
      "model_module_version": "1.5.0",
      "model_name": "ToggleButtonsStyleModel",
      "state": {
       "button_width": "auto",
       "description_width": ""
      }
     },
     "40b73be6c401461bb5c8185201cd121b": {
      "model_module": "@jupyter-widgets/controls",
      "model_module_version": "1.5.0",
      "model_name": "HTMLModel",
      "state": {
       "layout": "IPY_MODEL_2ef87cc9b98e44e9bf1b71f93c1da739",
       "style": "IPY_MODEL_7277a61ce552427f98421938a397f926",
       "value": "<table><tr><th>http://example.org/b/alice</th><th></th><th>http://example.org/c/P001</th></tr><tr><td style=\"text-align:right;\">http://example.org/b/alice</td><td style=\"text-align:center;\">boss</td><td style=\"text-align:left;\"></td></tr><tr><td style=\"text-align:right;\">Alice</td><td style=\"text-align:center;\">label</td><td style=\"text-align:left;\">Alice</td></tr><tr><td style=\"text-align:right;\"></td><td style=\"text-align:center;\">pnr</td><td style=\"text-align:left;\">12345^^http://www.w3.org/2001/XMLSchema#integer</td></tr></table>"
      }
     },
     "41052162aafd42069bccd9eeb030f0ae": {
      "model_module": "@jupyter-widgets/controls",
      "model_module_version": "1.5.0",
      "model_name": "VBoxModel",
      "state": {
       "children": [
        "IPY_MODEL_52a69ced10034f78b79feb208b63d7e4"
       ],
       "layout": "IPY_MODEL_f5a975e3e06345a8ba4e872b5980b87e"
      }
     },
     "418967c9f0364ac4af7a7ed0213c55a4": {
      "model_module": "@jupyter-widgets/base",
      "model_module_version": "1.2.0",
      "model_name": "LayoutModel",
      "state": {
       "max_height": "50em"
      }
     },
     "4192648a16e54263b8a43a82caa5f4b9": {
      "model_module": "@jupyter-widgets/base",
      "model_module_version": "1.2.0",
      "model_name": "LayoutModel",
      "state": {
       "border": "solid"
      }
     },
     "41ce8d7ecad6440ebe265287b7ea6654": {
      "model_module": "@jupyter-widgets/controls",
      "model_module_version": "1.5.0",
      "model_name": "TabModel",
      "state": {
       "_titles": {
        "0": "person"
       },
       "children": [
        "IPY_MODEL_cae0e9d8faba44fb958765d9ecfbcbf4"
       ],
       "layout": "IPY_MODEL_2626739e01cc4a8c841484e7fa3aefcd"
      }
     },
     "426419277c774e33822a4677c74477b3": {
      "model_module": "@jupyter-widgets/base",
      "model_module_version": "1.2.0",
      "model_name": "LayoutModel",
      "state": {}
     },
     "43353f7ceb1249f3a381ff1c6096cba7": {
      "model_module": "@jupyter-widgets/controls",
      "model_module_version": "1.5.0",
      "model_name": "ToggleButtonsModel",
      "state": {
       "_options_labels": [
        "✓",
        "?",
        "✗"
       ],
       "button_style": "",
       "icons": [],
       "index": 1,
       "layout": "IPY_MODEL_370dadf5fd7a4f4bb43392774047b1e6",
       "style": "IPY_MODEL_dc3bf29c141b42daafcf613955698c90",
       "tooltips": [
        "Accept",
        "Retain",
        "Reject"
       ]
      }
     },
     "4350c10fd5b947d4bc95218b0d71afd7": {
      "model_module": "@jupyter-widgets/controls",
      "model_module_version": "1.5.0",
      "model_name": "TabModel",
      "state": {
       "_titles": {
        "0": "person"
       },
       "children": [
        "IPY_MODEL_056d6fbfc262413ebb314b429b48c0c0"
       ],
       "layout": "IPY_MODEL_0e903d079d794de4a607021981e2c6d4"
      }
     },
     "4378e7b831bc451aacb5729af74355f8": {
      "model_module": "@jupyter-widgets/controls",
      "model_module_version": "1.5.0",
      "model_name": "VBoxModel",
      "state": {
       "children": [
        "IPY_MODEL_31d1a186ee6d42889b476476a8f7d763"
       ],
       "layout": "IPY_MODEL_8916140f43e342f08fd0e99018c25684"
      }
     },
     "437d4a879ed248c7a3e289494a74c7bd": {
      "model_module": "@jupyter-widgets/base",
      "model_module_version": "1.2.0",
      "model_name": "LayoutModel",
      "state": {}
     },
     "438aa9b048674fa2a7a2c2c31ff469bf": {
      "model_module": "@jupyter-widgets/base",
      "model_module_version": "1.2.0",
      "model_name": "LayoutModel",
      "state": {}
     },
     "444d6674929347849e52604d443eb62f": {
      "model_module": "@jupyter-widgets/controls",
      "model_module_version": "1.5.0",
      "model_name": "DescriptionStyleModel",
      "state": {
       "description_width": ""
      }
     },
     "446f55b38e154e1fadeaa7cae7b83ec0": {
      "model_module": "@jupyter-widgets/controls",
      "model_module_version": "1.5.0",
      "model_name": "ToggleButtonsModel",
      "state": {
       "_options_labels": [
        "✓",
        "?",
        "✗"
       ],
       "button_style": "",
       "icons": [],
       "index": 1,
       "layout": "IPY_MODEL_477e27e60f474f9f99fd41b0ee72d4ad",
       "style": "IPY_MODEL_09ea8915a9454a1ba41cb59f55354ee7",
       "tooltips": [
        "Accept",
        "Retain",
        "Reject"
       ]
      }
     },
     "454e11596d4343fd962911516105484f": {
      "model_module": "@jupyter-widgets/controls",
      "model_module_version": "1.5.0",
      "model_name": "ToggleButtonsModel",
      "state": {
       "_options_labels": [
        "✓",
        "?",
        "✗"
       ],
       "button_style": "",
       "icons": [],
       "index": 1,
       "layout": "IPY_MODEL_56c76f08db7847bcb7d091b8abcd350c",
       "style": "IPY_MODEL_51e67666bf6946c4ac5aee0d4d047c2a",
       "tooltips": [
        "Accept",
        "Retain",
        "Reject"
       ]
      }
     },
     "457f1266d1d54e27b03f5e8b7fd7569c": {
      "model_module": "@jupyter-widgets/controls",
      "model_module_version": "1.5.0",
      "model_name": "HBoxModel",
      "state": {
       "children": [
        "IPY_MODEL_2709fe5f2632467a96d289cfe6f5aede",
        "IPY_MODEL_50ca3cf7b1b64b5e8bdc6bc51f8f35c4"
       ],
       "layout": "IPY_MODEL_ad9977ad611e4618abb3eb2ca8c5703d"
      }
     },
     "459a920dc2d748139b59a8f81bdc3ec5": {
      "model_module": "@jupyter-widgets/controls",
      "model_module_version": "1.5.0",
      "model_name": "HBoxModel",
      "state": {
       "children": [
        "IPY_MODEL_b56162f8b7f04fb691bae9ae01bce930",
        "IPY_MODEL_8b204a53619746c6a15283dc8db15b2d"
       ],
       "layout": "IPY_MODEL_4192648a16e54263b8a43a82caa5f4b9"
      }
     },
     "4600ac0536d7400d8678c4e545a03b06": {
      "model_module": "@jupyter-widgets/controls",
      "model_module_version": "1.5.0",
      "model_name": "DescriptionStyleModel",
      "state": {
       "description_width": ""
      }
     },
     "46475b62e8224c18b84965c8c61199e8": {
      "model_module": "@jupyter-widgets/base",
      "model_module_version": "1.2.0",
      "model_name": "LayoutModel",
      "state": {}
     },
     "467ea82616f04aaaa5567ee59e4ef89e": {
      "model_module": "@jupyter-widgets/controls",
      "model_module_version": "1.5.0",
      "model_name": "ToggleButtonsStyleModel",
      "state": {
       "button_width": "auto",
       "description_width": ""
      }
     },
     "477e27e60f474f9f99fd41b0ee72d4ad": {
      "model_module": "@jupyter-widgets/base",
      "model_module_version": "1.2.0",
      "model_name": "LayoutModel",
      "state": {}
     },
     "47c60f9a881443e585f34888aa94350f": {
      "model_module": "@jupyter-widgets/controls",
      "model_module_version": "1.5.0",
      "model_name": "HBoxModel",
      "state": {
       "children": [
        "IPY_MODEL_446f55b38e154e1fadeaa7cae7b83ec0",
        "IPY_MODEL_d369ffac500d4668be5625c8cffeb048"
       ],
       "layout": "IPY_MODEL_c367085adea0494ebd8a79c5e48da091"
      }
     },
     "4830b99c7ed044d4a9fd645459fe6f3a": {
      "model_module": "@jupyter-widgets/base",
      "model_module_version": "1.2.0",
      "model_name": "LayoutModel",
      "state": {}
     },
     "48330e9ccfc741a3a4c49a2aef3be4a7": {
      "model_module": "@jupyter-widgets/base",
      "model_module_version": "1.2.0",
      "model_name": "LayoutModel",
      "state": {
       "border": "solid 1px lightgrea"
      }
     },
     "483dc161ebfa4b1abb678f55e11735e9": {
      "model_module": "@jupyter-widgets/controls",
      "model_module_version": "1.5.0",
      "model_name": "ToggleButtonsModel",
      "state": {
       "_options_labels": [
        "✓",
        "?",
        "✗"
       ],
       "button_style": "",
       "icons": [],
       "index": 1,
       "layout": "IPY_MODEL_a2bc00e7f2314c3e9eeb5e6949fd32a7",
       "style": "IPY_MODEL_a6c90f8f504e4da9a5ae0bef549c5d4f",
       "tooltips": [
        "Accept",
        "Retain",
        "Reject"
       ]
      }
     },
     "4881c6e2c9964b4fa72d44b31fb0f826": {
      "model_module": "@jupyter-widgets/controls",
      "model_module_version": "1.5.0",
      "model_name": "HTMLModel",
      "state": {
       "layout": "IPY_MODEL_6fa63bd273134f1da6c40c72ea3fa461",
       "style": "IPY_MODEL_828be2fc19ed4031ab717d9ee5127d7f",
       "value": "<table><tr><th>http://example.org/b/charlie</th><th></th><th>http://example.org/c/P002</th></tr><tr><td style=\"text-align:right;\">Charlie</td><td style=\"text-align:center;\">label</td><td style=\"text-align:left;\">Charlie</td></tr><tr><td style=\"text-align:right;\"></td><td style=\"text-align:center;\">pnr</td><td style=\"text-align:left;\">45678^^http://www.w3.org/2001/XMLSchema#integer</td></tr><tr><td></td><td>http://example.org/b/charlie</td><td>http://example.org/c/P002</td></tr></table>"
      }
     },
     "48dfacdcc9c542deb4eb160e4307d462": {
      "model_module": "@jupyter-widgets/controls",
      "model_module_version": "1.5.0",
      "model_name": "TabModel",
      "state": {
       "_titles": {
        "0": "ABC <-> DEF",
        "1": "ABC <-> GHI",
        "2": "DEF <-> GHI"
       },
       "children": [
        "IPY_MODEL_c644f3ea2f454b52b34eb133bf3d0fe1",
        "IPY_MODEL_0ad08c2283bc42ebb568e0105e0785eb",
        "IPY_MODEL_189169b93a524a6cbe09bb13b0ba8c6b"
       ],
       "layout": "IPY_MODEL_ac78b64759d145cf8bfa02078713e4ac"
      }
     },
     "4904658df1d94315b9c0cb593924fe37": {
      "model_module": "@jupyter-widgets/base",
      "model_module_version": "1.2.0",
      "model_name": "LayoutModel",
      "state": {}
     },
     "4923e884be8a4aa587a3fab6643f9f55": {
      "model_module": "@jupyter-widgets/base",
      "model_module_version": "1.2.0",
      "model_name": "LayoutModel",
      "state": {}
     },
     "49d59201b40d48678aefc46e949654cc": {
      "model_module": "@jupyter-widgets/controls",
      "model_module_version": "1.5.0",
      "model_name": "TabModel",
      "state": {
       "_titles": {
        "0": "ABC <-> DEF",
        "1": "ABC <-> GHI",
        "2": "DEF <-> GHI"
       },
       "children": [
        "IPY_MODEL_0b6afd36ee974616beca9effef25e114",
        "IPY_MODEL_4dcd4f4417394174b130c6a00d8a587f",
        "IPY_MODEL_cbc678f4f9e14864a83280ab66d2bdde"
       ],
       "layout": "IPY_MODEL_cd9f455835ee4af5b516144175c67416"
      }
     },
     "49fadf3ce6f14880b1adb0783b44d18a": {
      "model_module": "@jupyter-widgets/controls",
      "model_module_version": "1.5.0",
      "model_name": "ToggleButtonsStyleModel",
      "state": {
       "button_width": "auto",
       "description_width": ""
      }
     },
     "4a562c02cfd449ccbad307e861be2b4b": {
      "model_module": "@jupyter-widgets/base",
      "model_module_version": "1.2.0",
      "model_name": "LayoutModel",
      "state": {}
     },
     "4a5922356a374ae8bdb50d846d99f525": {
      "model_module": "@jupyter-widgets/controls",
      "model_module_version": "1.5.0",
      "model_name": "HTMLModel",
      "state": {
       "layout": "IPY_MODEL_aed80faf51fa4917adf04e0d4cdd7c75",
       "style": "IPY_MODEL_845c53777249408f94cccabae609e32b",
       "value": "<table><tr><th>http://example.org/b/alice</th><th></th><th>http://example.org/c/P001</th></tr><tr><td style=\"text-align:right;\">http://example.org/b/alice</td><td style=\"text-align:center;\">boss</td><td style=\"text-align:left;\"></td></tr><tr><td style=\"text-align:right;\">Alice</td><td style=\"text-align:center;\">label</td><td style=\"text-align:left;\">Alice</td></tr><tr><td style=\"text-align:right;\"></td><td style=\"text-align:center;\">pnr</td><td style=\"text-align:left;\">12345^^http://www.w3.org/2001/XMLSchema#integer</td></tr><tr><td></td><td>http://example.org/b/alice</td><td>http://example.org/c/P001</td></tr></table>"
      }
     },
     "4a8d440fbfbd441196fe38edf19c42bb": {
      "model_module": "@jupyter-widgets/output",
      "model_module_version": "1.0.0",
      "model_name": "OutputModel",
      "state": {
       "layout": "IPY_MODEL_b167d35ce73e492da66f9171d310e0a7",
       "outputs": [
        {
         "data": {
          "text/html": "Updateing ...",
          "text/plain": "<IPython.core.display.HTML object>"
         },
         "metadata": {},
         "output_type": "display_data"
        },
        {
         "data": {
          "text/plain": "[['http://example.org/a/bill', 'http://example.org/b/william']]"
         },
         "metadata": {},
         "output_type": "display_data"
        },
        {
         "data": {
          "text/plain": "None"
         },
         "metadata": {},
         "output_type": "display_data"
        },
        {
         "data": {
          "text/html": "Updateing ...",
          "text/plain": "<IPython.core.display.HTML object>"
         },
         "metadata": {},
         "output_type": "display_data"
        },
        {
         "data": {
          "text/html": "Manual Mappings updated.",
          "text/plain": "<IPython.core.display.HTML object>"
         },
         "metadata": {},
         "output_type": "display_data"
        }
       ]
      }
     },
     "4abb938669c74ce39514b47693839d4f": {
      "model_module": "@jupyter-widgets/controls",
      "model_module_version": "1.5.0",
      "model_name": "HTMLModel",
      "state": {
       "layout": "IPY_MODEL_0e4c6707ab9047dc81708e8b33560b0d",
       "style": "IPY_MODEL_f2f1ceadee794e568afcc4c477d31d49",
       "value": "<table><tr><th>http://example.org/a/bill</th><th></th><th>http://example.org/b/william</th></tr><tr><td style=\"text-align:right;\">http://example.org/a/alice</td><td style=\"text-align:center;\">boss</td><td style=\"text-align:left;\">Alice</td></tr><tr><td style=\"text-align:right;\">Bill</td><td style=\"text-align:center;\">label</td><td style=\"text-align:left;\">William</td></tr><tr><td style=\"text-align:right;\">67890^^http://www.w3.org/2001/XMLSchema#integer</td><td style=\"text-align:center;\">pnr</td><td style=\"text-align:left;\"></td></tr></table>"
      }
     },
     "4bc924b6dcb9422ab1088dff625ced7b": {
      "model_module": "@jupyter-widgets/base",
      "model_module_version": "1.2.0",
      "model_name": "LayoutModel",
      "state": {}
     },
     "4be37245f6c24d05810d065ffeb9b3de": {
      "model_module": "@jupyter-widgets/controls",
      "model_module_version": "1.5.0",
      "model_name": "HTMLModel",
      "state": {
       "layout": "IPY_MODEL_388d2cdb76414d49aa7f21089d287651",
       "style": "IPY_MODEL_16cd233cacab41eeb2d8d9dc2fc4bd6e",
       "value": "<table><tr><th>http://example.org/a/alice</th><th></th><th>http://example.org/b/alice</th></tr><tr><td style=\"text-align:right;\">http://example.org/a/bob</td><td style=\"text-align:center;\">boss</td><td style=\"text-align:left;\">http://example.org/b/alice</td></tr><tr><td style=\"text-align:right;\">Alice</td><td style=\"text-align:center;\">label</td><td style=\"text-align:left;\">Alice</td></tr><tr><td style=\"text-align:right;\">45678^^http://www.w3.org/2001/XMLSchema#integer</td><td style=\"text-align:center;\">pnr</td><td style=\"text-align:left;\"></td></tr></table>"
      }
     },
     "4c4b006da07744ea91128c4340d24934": {
      "model_module": "@jupyter-widgets/controls",
      "model_module_version": "1.5.0",
      "model_name": "HTMLModel",
      "state": {
       "layout": "IPY_MODEL_b58c78d04ef14895928eb809cc3a3fd6",
       "style": "IPY_MODEL_bb0d40b1ecff451c8cca5d2f897dce7e",
       "value": "<table><tr><th>http://example.org/a/bill</th><th></th><th>http://example.org/b/william</th></tr><tr><td style=\"text-align:right;\">http://example.org/a/alice</td><td style=\"text-align:center;\">boss</td><td style=\"text-align:left;\">Alice</td></tr><tr><td style=\"text-align:right;\">Bill</td><td style=\"text-align:center;\">label</td><td style=\"text-align:left;\">William</td></tr><tr><td style=\"text-align:right;\">67890^^http://www.w3.org/2001/XMLSchema#integer</td><td style=\"text-align:center;\">pnr</td><td style=\"text-align:left;\"></td></tr><tr><td></td><td>http://example.org/a/bill</td><td>http://example.org/b/william</td></tr></table>"
      }
     },
     "4c549d2c6b604bdaa44a10e5d34fb308": {
      "model_module": "@jupyter-widgets/base",
      "model_module_version": "1.2.0",
      "model_name": "LayoutModel",
      "state": {}
     },
     "4c88a99c99b2478c9115f941b980eb7d": {
      "model_module": "@jupyter-widgets/base",
      "model_module_version": "1.2.0",
      "model_name": "LayoutModel",
      "state": {}
     },
     "4cb7b3825a0b4b3595cea55b52000d07": {
      "model_module": "@jupyter-widgets/controls",
      "model_module_version": "1.5.0",
      "model_name": "HBoxModel",
      "state": {
       "children": [
        "IPY_MODEL_78a19b6969bd4ee09ca818e499c82cc4",
        "IPY_MODEL_966686e5e55041109181863fd670330f"
       ],
       "layout": "IPY_MODEL_287242c5f93443f6a0211b4f5a5ac440"
      }
     },
     "4d5ac794e35543ae937a38ec9a7b23f8": {
      "model_module": "@jupyter-widgets/controls",
      "model_module_version": "1.5.0",
      "model_name": "ToggleButtonsModel",
      "state": {
       "_options_labels": [
        "✓",
        "?",
        "✗"
       ],
       "button_style": "",
       "icons": [],
       "index": 1,
       "layout": "IPY_MODEL_4faa58fbbe964105af2ec49e9a21d4d9",
       "style": "IPY_MODEL_c6de8483d43d43119eb759fbf30b3624",
       "tooltips": [
        "Accept",
        "Retain",
        "Reject"
       ]
      }
     },
     "4dcd4f4417394174b130c6a00d8a587f": {
      "model_module": "@jupyter-widgets/controls",
      "model_module_version": "1.5.0",
      "model_name": "VBoxModel",
      "state": {
       "children": [
        "IPY_MODEL_bd02c7355fa140f2985fc2398aab138e"
       ],
       "layout": "IPY_MODEL_e09483669e5a47ccad7c6136861b2e8a"
      }
     },
     "4e082c83d2734624aeb9f709754ec1d5": {
      "model_module": "@jupyter-widgets/controls",
      "model_module_version": "1.5.0",
      "model_name": "ButtonModel",
      "state": {
       "description": "Update Mappings",
       "layout": "IPY_MODEL_aa48a8ced10f4833b56c72eba065c859",
       "style": "IPY_MODEL_f82dee7ec60d4041b2199efd9d7dddc4"
      }
     },
     "4e41c099b008481ea7127a63caf1f758": {
      "model_module": "@jupyter-widgets/controls",
      "model_module_version": "1.5.0",
      "model_name": "HTMLModel",
      "state": {
       "layout": "IPY_MODEL_6fcf0f311f2c4cb4b66fe88a4c23ecb7",
       "style": "IPY_MODEL_c30c5c1e8af64a80956f64b55633cc2d",
       "value": "<table><tr><th>http://example.org/b/alice</th><th></th><th>http://example.org/c/P001</th></tr><tr><td style=\"text-align:right;\">http://example.org/b/alice</td><td style=\"text-align:center;\">boss</td><td style=\"text-align:left;\"></td></tr><tr><td style=\"text-align:right;\">Alice</td><td style=\"text-align:center;\">label</td><td style=\"text-align:left;\">Alice</td></tr><tr><td style=\"text-align:right;\"></td><td style=\"text-align:center;\">pnr</td><td style=\"text-align:left;\">12345^^http://www.w3.org/2001/XMLSchema#integer</td></tr></table>"
      }
     },
     "4e426fb799594dc288835aa8810dd224": {
      "model_module": "@jupyter-widgets/base",
      "model_module_version": "1.2.0",
      "model_name": "LayoutModel",
      "state": {}
     },
     "4e44897a62364bf98b4e5ff4934342bc": {
      "model_module": "@jupyter-widgets/base",
      "model_module_version": "1.2.0",
      "model_name": "LayoutModel",
      "state": {}
     },
     "4e725c88f4464362b75c1621639ae295": {
      "model_module": "@jupyter-widgets/controls",
      "model_module_version": "1.5.0",
      "model_name": "DescriptionStyleModel",
      "state": {
       "description_width": ""
      }
     },
     "4ef4259107d14e9a87f2add00ff9d326": {
      "model_module": "@jupyter-widgets/controls",
      "model_module_version": "1.5.0",
      "model_name": "ToggleButtonsStyleModel",
      "state": {
       "button_width": "auto",
       "description_width": ""
      }
     },
     "4f2842ddd7dc4ea2aa75f96fb2fcf0d9": {
      "model_module": "@jupyter-widgets/controls",
      "model_module_version": "1.5.0",
      "model_name": "TabModel",
      "state": {
       "_titles": {
        "0": "ABC <-> DEF",
        "1": "ABC <-> GHI",
        "2": "DEF <-> GHI"
       },
       "children": [
        "IPY_MODEL_9a67b95b88ae411b83a666436a2d6497",
        "IPY_MODEL_f76fb140d41946ff84c4d5b246e7ab57",
        "IPY_MODEL_052cd446222d4a4d9e82eb27a291df92"
       ],
       "layout": "IPY_MODEL_8c0d4840818e4b4fbefc99d1e80abf63"
      }
     },
     "4f419c2c9be14a4e87762b3393ccd910": {
      "model_module": "@jupyter-widgets/controls",
      "model_module_version": "1.5.0",
      "model_name": "DescriptionStyleModel",
      "state": {
       "description_width": ""
      }
     },
     "4f75ed32e32e40f1a773aaa5636d39b7": {
      "model_module": "@jupyter-widgets/controls",
      "model_module_version": "1.5.0",
      "model_name": "HTMLModel",
      "state": {
       "layout": "IPY_MODEL_c6dc4fcae4504ecdb58085729120ed19",
       "style": "IPY_MODEL_be965231d50f46bc852718d609dcabe7",
       "value": "<table><tr><th>http://example.org/a/bill</th><th></th><th>http://example.org/b/william</th></tr><tr><td style=\"text-align:right;\">http://example.org/a/alice</td><td style=\"text-align:center;\">boss</td><td style=\"text-align:left;\">Alice</td></tr><tr><td style=\"text-align:right;\">Bill</td><td style=\"text-align:center;\">label</td><td style=\"text-align:left;\">William</td></tr><tr><td style=\"text-align:right;\">67890^^http://www.w3.org/2001/XMLSchema#integer</td><td style=\"text-align:center;\">pnr</td><td style=\"text-align:left;\"></td></tr></table>"
      }
     },
     "4faa58fbbe964105af2ec49e9a21d4d9": {
      "model_module": "@jupyter-widgets/base",
      "model_module_version": "1.2.0",
      "model_name": "LayoutModel",
      "state": {}
     },
     "4fc6b0320991444297a37a79867f9c61": {
      "model_module": "@jupyter-widgets/controls",
      "model_module_version": "1.5.0",
      "model_name": "HTMLModel",
      "state": {
       "layout": "IPY_MODEL_e268b054460e4f77abbe03b92550bdd1",
       "style": "IPY_MODEL_7478c188a6de4fb3a5293efb807f9e46",
       "value": "<table><tr><th>http://example.org/a/bill</th><th></th><th>http://example.org/b/william</th></tr><tr><td style=\"text-align:right;\">http://example.org/a/alice</td><td style=\"text-align:center;\">boss</td><td style=\"text-align:left;\">Alice</td></tr><tr><td style=\"text-align:right;\">Bill</td><td style=\"text-align:center;\">label</td><td style=\"text-align:left;\">William</td></tr><tr><td style=\"text-align:right;\">67890^^http://www.w3.org/2001/XMLSchema#integer</td><td style=\"text-align:center;\">pnr</td><td style=\"text-align:left;\"></td></tr><tr><td></td><td>http://example.org/a/bill</td><td>http://example.org/b/william</td></tr></table>"
      }
     },
     "5028fa2169f9474cbc9bf7332d4792ba": {
      "model_module": "@jupyter-widgets/output",
      "model_module_version": "1.0.0",
      "model_name": "OutputModel",
      "state": {
       "layout": "IPY_MODEL_d8db319758644d12874291a88f505083"
      }
     },
     "503d130ba4924afd9c194efaea593fd6": {
      "model_module": "@jupyter-widgets/base",
      "model_module_version": "1.2.0",
      "model_name": "LayoutModel",
      "state": {
       "border": "solid 1px lightgrey"
      }
     },
     "509cf98084ec4b6f8bb1adc3e3ab4450": {
      "model_module": "@jupyter-widgets/controls",
      "model_module_version": "1.5.0",
      "model_name": "TabModel",
      "state": {
       "_titles": {
        "0": "person"
       },
       "children": [
        "IPY_MODEL_5c8a41234ef9423f81533d909e849fde"
       ],
       "layout": "IPY_MODEL_7de26860ce3a42a59b1dddd0f7c90179"
      }
     },
     "50ca3cf7b1b64b5e8bdc6bc51f8f35c4": {
      "model_module": "@jupyter-widgets/controls",
      "model_module_version": "1.5.0",
      "model_name": "HTMLModel",
      "state": {
       "layout": "IPY_MODEL_706e3d59218c4feabc462af3d98852d6",
       "style": "IPY_MODEL_3aa037af4e454d53a055ff03a3807a32",
       "value": "<table><tr><th>http://example.org/b/charlie</th><th></th><th>http://example.org/c/P002</th></tr><tr><td style=\"text-align:right;\">Charlie</td><td style=\"text-align:center;\">label</td><td style=\"text-align:left;\">Charlie</td></tr><tr><td style=\"text-align:right;\"></td><td style=\"text-align:center;\">pnr</td><td style=\"text-align:left;\">45678^^http://www.w3.org/2001/XMLSchema#integer</td></tr><tr><td></td><td>http://example.org/b/charlie</td><td>http://example.org/c/P002</td></tr></table>"
      }
     },
     "50d0d60c468a4e7a89a44b99996033d1": {
      "model_module": "@jupyter-widgets/controls",
      "model_module_version": "1.5.0",
      "model_name": "ToggleButtonsModel",
      "state": {
       "_options_labels": [
        "✓",
        "?",
        "✗"
       ],
       "button_style": "",
       "icons": [],
       "index": 2,
       "layout": "IPY_MODEL_55fe06393bf04dd4962272dff60431a7",
       "style": "IPY_MODEL_62ee94d6c2804154935c5af44f40f2d3",
       "tooltips": [
        "Accept",
        "Retain",
        "Reject"
       ]
      }
     },
     "51e67666bf6946c4ac5aee0d4d047c2a": {
      "model_module": "@jupyter-widgets/controls",
      "model_module_version": "1.5.0",
      "model_name": "ToggleButtonsStyleModel",
      "state": {
       "button_width": "auto",
       "description_width": ""
      }
     },
     "520bcca8b6c647e98d2d46b2a12cf4a3": {
      "model_module": "@jupyter-widgets/controls",
      "model_module_version": "1.5.0",
      "model_name": "ToggleButtonsModel",
      "state": {
       "_options_labels": [
        "✓",
        "?",
        "✗"
       ],
       "button_style": "",
       "icons": [],
       "index": 1,
       "layout": "IPY_MODEL_dda62065681a4ecba8a1629685679919",
       "style": "IPY_MODEL_a248e744f71a47b39430757be0f71fa5",
       "tooltips": [
        "Accept",
        "Retain",
        "Reject"
       ]
      }
     },
     "522878b584c24eb591f0e295da8c9070": {
      "model_module": "@jupyter-widgets/base",
      "model_module_version": "1.2.0",
      "model_name": "LayoutModel",
      "state": {}
     },
     "522e4789f9ab4e84ae88ca416e809d7d": {
      "model_module": "@jupyter-widgets/controls",
      "model_module_version": "1.5.0",
      "model_name": "DescriptionStyleModel",
      "state": {
       "description_width": ""
      }
     },
     "528968bd7e164c71839fded39daa4940": {
      "model_module": "@jupyter-widgets/base",
      "model_module_version": "1.2.0",
      "model_name": "LayoutModel",
      "state": {}
     },
     "52a69ced10034f78b79feb208b63d7e4": {
      "model_module": "@jupyter-widgets/controls",
      "model_module_version": "1.5.0",
      "model_name": "HBoxModel",
      "state": {
       "children": [
        "IPY_MODEL_d22363b887ed408a8fedefdbe870a851",
        "IPY_MODEL_83df9d760f704e318e2feedef4c47ecd"
       ],
       "layout": "IPY_MODEL_d63146b80a9c482fb734cd40fdda0ed2"
      }
     },
     "52b7130f51e448c5a545754680b8fcbd": {
      "model_module": "@jupyter-widgets/base",
      "model_module_version": "1.2.0",
      "model_name": "LayoutModel",
      "state": {}
     },
     "52e52abcab7247d5a661566b8ff80ce8": {
      "model_module": "@jupyter-widgets/controls",
      "model_module_version": "1.5.0",
      "model_name": "HBoxModel",
      "state": {
       "children": [
        "IPY_MODEL_a2e93c21fe6541ed888c3ede3d23f653",
        "IPY_MODEL_fc026ca5543e44f499f6c33c84e762da"
       ],
       "layout": "IPY_MODEL_7e62fdd73d8b44479dc178f864bbf0e4"
      }
     },
     "533b8f95e069456e8ebcd18c31a9cdf1": {
      "model_module": "@jupyter-widgets/controls",
      "model_module_version": "1.5.0",
      "model_name": "DescriptionStyleModel",
      "state": {
       "description_width": ""
      }
     },
     "537cf14bbd8245618b88a6715b5abe8f": {
      "model_module": "@jupyter-widgets/base",
      "model_module_version": "1.2.0",
      "model_name": "LayoutModel",
      "state": {}
     },
     "53ddec0db61f47a7bd5e586324c652a5": {
      "model_module": "@jupyter-widgets/controls",
      "model_module_version": "1.5.0",
      "model_name": "VBoxModel",
      "state": {
       "children": [
        "IPY_MODEL_97a2f76b2aa64ce394277d9bb511c0ee",
        "IPY_MODEL_4cb7b3825a0b4b3595cea55b52000d07"
       ],
       "layout": "IPY_MODEL_67db439fbf4841c998a81f6ccb9f03da"
      }
     },
     "53eedaf6c4d548c9911f1f9d70e8bcd7": {
      "model_module": "@jupyter-widgets/controls",
      "model_module_version": "1.5.0",
      "model_name": "HTMLModel",
      "state": {
       "layout": "IPY_MODEL_af25ac4c35d84e6ca05cb0ddab02088b",
       "style": "IPY_MODEL_444d6674929347849e52604d443eb62f",
       "value": "<table><tr><th>http://example.org/a/alice</th><th></th><th>http://example.org/c/P001</th></tr><tr><td style=\"text-align:right;\">http://example.org/a/bob</td><td style=\"text-align:center;\">boss</td><td style=\"text-align:left;\"></td></tr><tr><td style=\"text-align:right;\">Alice</td><td style=\"text-align:center;\">label</td><td style=\"text-align:left;\">Alice</td></tr><tr><td style=\"text-align:right;\">45678^^http://www.w3.org/2001/XMLSchema#integer</td><td style=\"text-align:center;\">pnr</td><td style=\"text-align:left;\">12345^^http://www.w3.org/2001/XMLSchema#integer</td></tr></table>"
      }
     },
     "5553410ce487475280b55c6584be81b0": {
      "model_module": "@jupyter-widgets/controls",
      "model_module_version": "1.5.0",
      "model_name": "VBoxModel",
      "state": {
       "children": [
        "IPY_MODEL_7d33d708cccf4994a85293c52dffaa58",
        "IPY_MODEL_895179b513f54fc1825e0a46879e94a9"
       ],
       "layout": "IPY_MODEL_84810df0894d450b9a4c8bae177f4dc4"
      }
     },
     "555b20aaafef4eafa7bac953a4d97ddf": {
      "model_module": "@jupyter-widgets/base",
      "model_module_version": "1.2.0",
      "model_name": "LayoutModel",
      "state": {}
     },
     "55d3d4961b104018b712093981de08d0": {
      "model_module": "@jupyter-widgets/base",
      "model_module_version": "1.2.0",
      "model_name": "LayoutModel",
      "state": {}
     },
     "55dab515fb1d49dbb79c232fc0a4e3bf": {
      "model_module": "@jupyter-widgets/controls",
      "model_module_version": "1.5.0",
      "model_name": "HBoxModel",
      "state": {
       "children": [
        "IPY_MODEL_223181ba840d4af7bd78170afc967011",
        "IPY_MODEL_df77e674467d443a851cc96fdc501996"
       ],
       "layout": "IPY_MODEL_762d20c7cffb43ef8703d5865b738419"
      }
     },
     "55fe06393bf04dd4962272dff60431a7": {
      "model_module": "@jupyter-widgets/base",
      "model_module_version": "1.2.0",
      "model_name": "LayoutModel",
      "state": {}
     },
     "56899b29eeb04a11bee48699e6f06c4b": {
      "model_module": "@jupyter-widgets/base",
      "model_module_version": "1.2.0",
      "model_name": "LayoutModel",
      "state": {}
     },
     "56c76f08db7847bcb7d091b8abcd350c": {
      "model_module": "@jupyter-widgets/base",
      "model_module_version": "1.2.0",
      "model_name": "LayoutModel",
      "state": {}
     },
     "57126d9ded264ad295d7df192b33176b": {
      "model_module": "@jupyter-widgets/base",
      "model_module_version": "1.2.0",
      "model_name": "LayoutModel",
      "state": {}
     },
     "5782fb4aea7345c3a92b6aef61f31fdb": {
      "model_module": "@jupyter-widgets/base",
      "model_module_version": "1.2.0",
      "model_name": "LayoutModel",
      "state": {
       "border": "solid 1px lightgrey"
      }
     },
     "583b82dcc2e94716b82675feaa4ac1ee": {
      "model_module": "@jupyter-widgets/base",
      "model_module_version": "1.2.0",
      "model_name": "LayoutModel",
      "state": {}
     },
     "5919938da16d47cbbbe53d9f952a7ada": {
      "model_module": "@jupyter-widgets/controls",
      "model_module_version": "1.5.0",
      "model_name": "TabModel",
      "state": {
       "_titles": {
        "0": "ABC <-> DEF",
        "1": "ABC <-> GHI",
        "2": "DEF <-> GHI"
       },
       "children": [
        "IPY_MODEL_9507f19a5fec4de7903fe7e2fdd733f6",
        "IPY_MODEL_6a8089107d17412fbb106ee00d9b77bd",
        "IPY_MODEL_f63bab2621db44d2937e00f6289c4b85"
       ],
       "layout": "IPY_MODEL_99d8d0a8ea07494f9080fc241647b1a4"
      }
     },
     "5a0409e24afd4e55a5f5f2a85c0e0bca": {
      "model_module": "@jupyter-widgets/controls",
      "model_module_version": "1.5.0",
      "model_name": "DescriptionStyleModel",
      "state": {
       "description_width": ""
      }
     },
     "5a0f6d5543864c408bd114ab439036e2": {
      "model_module": "@jupyter-widgets/controls",
      "model_module_version": "1.5.0",
      "model_name": "HBoxModel",
      "state": {
       "children": [
        "IPY_MODEL_c7c1b8ac9859488bbcbe3e794a817522",
        "IPY_MODEL_8aa2e972b9e24625b7a3388fd0e83999"
       ],
       "layout": "IPY_MODEL_8c9b3380408d4124ab7b268c621423cd"
      }
     },
     "5a3095a6dc294fb6864793cd638bc0df": {
      "model_module": "@jupyter-widgets/controls",
      "model_module_version": "1.5.0",
      "model_name": "ToggleButtonsStyleModel",
      "state": {
       "button_width": "auto",
       "description_width": ""
      }
     },
     "5a5195f317304ac6bd78d1a1bf429b02": {
      "model_module": "@jupyter-widgets/controls",
      "model_module_version": "1.5.0",
      "model_name": "DescriptionStyleModel",
      "state": {
       "description_width": ""
      }
     },
     "5ac25e3d668c43aabc6a5bc3fddaeca1": {
      "model_module": "@jupyter-widgets/controls",
      "model_module_version": "1.5.0",
      "model_name": "HBoxModel",
      "state": {
       "children": [
        "IPY_MODEL_235b82a698f54969a81e202218e50be4",
        "IPY_MODEL_e0ecbc13282f4e02963fc11a1d5470e8"
       ],
       "layout": "IPY_MODEL_0df743935d3e451f8305ced353122b0c"
      }
     },
     "5aca1029ac394ea6b57ce38c3f05fc5a": {
      "model_module": "@jupyter-widgets/controls",
      "model_module_version": "1.5.0",
      "model_name": "ToggleButtonsModel",
      "state": {
       "_options_labels": [
        "✓",
        "?",
        "✗"
       ],
       "button_style": "",
       "icons": [],
       "index": 1,
       "layout": "IPY_MODEL_aa03c4be31ed49fba795ffaca36e80ea",
       "style": "IPY_MODEL_ca18aeb84f634805aab6681af3f67630",
       "tooltips": [
        "Accept",
        "Retain",
        "Reject"
       ]
      }
     },
     "5b2362f9e86c4e62b8fdf06a86275628": {
      "model_module": "@jupyter-widgets/base",
      "model_module_version": "1.2.0",
      "model_name": "LayoutModel",
      "state": {}
     },
     "5b550884b910440ba4a6f868dbaa23b2": {
      "model_module": "@jupyter-widgets/base",
      "model_module_version": "1.2.0",
      "model_name": "LayoutModel",
      "state": {}
     },
     "5b66cc7e96964c338fe08e2298cf1333": {
      "model_module": "@jupyter-widgets/controls",
      "model_module_version": "1.5.0",
      "model_name": "ToggleButtonsStyleModel",
      "state": {
       "button_width": "auto",
       "description_width": ""
      }
     },
     "5bb9b855b174486aad9d090d79bac85e": {
      "model_module": "@jupyter-widgets/base",
      "model_module_version": "1.2.0",
      "model_name": "LayoutModel",
      "state": {}
     },
     "5bc8a78ede924ace9b22a7cf27988c42": {
      "model_module": "@jupyter-widgets/controls",
      "model_module_version": "1.5.0",
      "model_name": "ToggleButtonsModel",
      "state": {
       "_options_labels": [
        "✓",
        "?",
        "✗"
       ],
       "button_style": "",
       "icons": [],
       "index": 1,
       "layout": "IPY_MODEL_cc98324e0fb94bea97fc99ea08f1404f",
       "style": "IPY_MODEL_b5894ea317744eca90d4cb4545b12fde",
       "tooltips": [
        "Accept",
        "Retain",
        "Reject"
       ]
      }
     },
     "5c0b47ba5a7045f9a8c296869172e328": {
      "model_module": "@jupyter-widgets/base",
      "model_module_version": "1.2.0",
      "model_name": "LayoutModel",
      "state": {}
     },
     "5c8a41234ef9423f81533d909e849fde": {
      "model_module": "@jupyter-widgets/controls",
      "model_module_version": "1.5.0",
      "model_name": "TabModel",
      "state": {
       "_titles": {
        "0": "ABC <-> DEF",
        "1": "ABC <-> GHI",
        "2": "DEF <-> GHI"
       },
       "children": [
        "IPY_MODEL_a86d495469ad42ab83904342bcfa1e80",
        "IPY_MODEL_06b4599813db46e69ccebf15db984c4f",
        "IPY_MODEL_7b99e12956a1457ba6bd473148a2a5ab"
       ],
       "layout": "IPY_MODEL_082b7ed0d493472a86440463f39aec3c"
      }
     },
     "5d236c3f28704bb38e6e2aa819fc92d8": {
      "model_module": "@jupyter-widgets/base",
      "model_module_version": "1.2.0",
      "model_name": "LayoutModel",
      "state": {}
     },
     "5d56dc5fadce4e97a189d3763ba31b0e": {
      "model_module": "@jupyter-widgets/base",
      "model_module_version": "1.2.0",
      "model_name": "LayoutModel",
      "state": {}
     },
     "5da975740d8d412885f2104b3f2cac75": {
      "model_module": "@jupyter-widgets/controls",
      "model_module_version": "1.5.0",
      "model_name": "TabModel",
      "state": {
       "_titles": {
        "0": "person"
       },
       "children": [
        "IPY_MODEL_c9258a8887ab4c6f91dcff6d9d093037"
       ],
       "layout": "IPY_MODEL_f2490efa98a44d49b7397601a8eef1f2"
      }
     },
     "5e2ed3032a6e437d895dc654c4adc133": {
      "model_module": "@jupyter-widgets/base",
      "model_module_version": "1.2.0",
      "model_name": "LayoutModel",
      "state": {}
     },
     "5ebad8b6065d4a89b620c95aad4bd6ff": {
      "model_module": "@jupyter-widgets/controls",
      "model_module_version": "1.5.0",
      "model_name": "DescriptionStyleModel",
      "state": {
       "description_width": ""
      }
     },
     "5ecae91a7e4a4bbf8544b9a9cc65dbf3": {
      "model_module": "@jupyter-widgets/base",
      "model_module_version": "1.2.0",
      "model_name": "LayoutModel",
      "state": {}
     },
     "5ef482b2153b43b1b44825ac7c77735c": {
      "model_module": "@jupyter-widgets/base",
      "model_module_version": "1.2.0",
      "model_name": "LayoutModel",
      "state": {}
     },
     "5f0f71da600b43299b5b42a941ee0c8d": {
      "model_module": "@jupyter-widgets/controls",
      "model_module_version": "1.5.0",
      "model_name": "DescriptionStyleModel",
      "state": {
       "description_width": ""
      }
     },
     "5f20a71a17c048a5a0a31437b3d0ad72": {
      "model_module": "@jupyter-widgets/controls",
      "model_module_version": "1.5.0",
      "model_name": "HBoxModel",
      "state": {
       "children": [
        "IPY_MODEL_f98fda3ac67d4a22ad88f7195bb8fcdd",
        "IPY_MODEL_8fbf720f27db415ab5ccc2c2b9379778"
       ],
       "layout": "IPY_MODEL_96bb04a0f06240b1b1fed1dcd9fabc31"
      }
     },
     "5f32e8080c3246d1bfe07c6a9ed1bdd8": {
      "model_module": "@jupyter-widgets/controls",
      "model_module_version": "1.5.0",
      "model_name": "ToggleButtonsModel",
      "state": {
       "_options_labels": [
        "✓",
        "?",
        "✗"
       ],
       "button_style": "",
       "icons": [],
       "index": 1,
       "layout": "IPY_MODEL_e087cd7df32b46c296c9ec0d477ed8c6",
       "style": "IPY_MODEL_c96de86ae2764567b43510a4e39c1601",
       "tooltips": [
        "Accept",
        "Retain",
        "Reject"
       ]
      }
     },
     "5f86e652f9a747ae90ea000bd4a9a8d0": {
      "model_module": "@jupyter-widgets/base",
      "model_module_version": "1.2.0",
      "model_name": "LayoutModel",
      "state": {}
     },
     "60ade915c4a64a5897b282b7cfaca303": {
      "model_module": "@jupyter-widgets/base",
      "model_module_version": "1.2.0",
      "model_name": "LayoutModel",
      "state": {
       "border": "solid 1px #333"
      }
     },
     "60ec4ff374214dd98dc92b3d9beb97a9": {
      "model_module": "@jupyter-widgets/base",
      "model_module_version": "1.2.0",
      "model_name": "LayoutModel",
      "state": {}
     },
     "611a845731f5403085c92de11aeffda5": {
      "model_module": "@jupyter-widgets/base",
      "model_module_version": "1.2.0",
      "model_name": "LayoutModel",
      "state": {}
     },
     "6122dc1782854de89ab37751ca1a6121": {
      "model_module": "@jupyter-widgets/controls",
      "model_module_version": "1.5.0",
      "model_name": "TabModel",
      "state": {
       "_titles": {
        "0": "person"
       },
       "children": [
        "IPY_MODEL_176ae62dc78b4e5f904ec255648965d3"
       ],
       "layout": "IPY_MODEL_3f93483573454a418b3545d5eaa82c9e"
      }
     },
     "6164bb8f8c1447a3a00935236d4142fc": {
      "model_module": "@jupyter-widgets/controls",
      "model_module_version": "1.5.0",
      "model_name": "HBoxModel",
      "state": {
       "children": [
        "IPY_MODEL_7a7d82fde811449ca90f4de30690545c",
        "IPY_MODEL_a511563dad5b4f7d9c9da80e24ded086"
       ],
       "layout": "IPY_MODEL_5bb9b855b174486aad9d090d79bac85e"
      }
     },
     "619d4746dd8c47d793dfda4eb55d8af4": {
      "model_module": "@jupyter-widgets/base",
      "model_module_version": "1.2.0",
      "model_name": "LayoutModel",
      "state": {}
     },
     "61b12eb425a5470d916c79735f039163": {
      "model_module": "@jupyter-widgets/base",
      "model_module_version": "1.2.0",
      "model_name": "LayoutModel",
      "state": {}
     },
     "624bb259a17f42c4a891dce6b58479b6": {
      "model_module": "@jupyter-widgets/controls",
      "model_module_version": "1.5.0",
      "model_name": "ButtonStyleModel",
      "state": {}
     },
     "624e39b082074a3782bbe4d14b912b8b": {
      "model_module": "@jupyter-widgets/base",
      "model_module_version": "1.2.0",
      "model_name": "LayoutModel",
      "state": {}
     },
     "62d8f3988dc2462f974feed3d6dcbde4": {
      "model_module": "@jupyter-widgets/controls",
      "model_module_version": "1.5.0",
      "model_name": "ToggleButtonsStyleModel",
      "state": {
       "button_width": "auto",
       "description_width": ""
      }
     },
     "62ee94d6c2804154935c5af44f40f2d3": {
      "model_module": "@jupyter-widgets/controls",
      "model_module_version": "1.5.0",
      "model_name": "ToggleButtonsStyleModel",
      "state": {
       "button_width": "auto",
       "description_width": ""
      }
     },
     "644e9cceb60a4b71a6ea8f68387d8797": {
      "model_module": "@jupyter-widgets/base",
      "model_module_version": "1.2.0",
      "model_name": "LayoutModel",
      "state": {}
     },
     "645df196385c4c19b0da243109bf71bc": {
      "model_module": "@jupyter-widgets/base",
      "model_module_version": "1.2.0",
      "model_name": "LayoutModel",
      "state": {
       "max_height": "50em"
      }
     },
     "6487e3cc4b56438098ca7242fa73c12d": {
      "model_module": "@jupyter-widgets/controls",
      "model_module_version": "1.5.0",
      "model_name": "HBoxModel",
      "state": {
       "children": [
        "IPY_MODEL_0b1dbb1faeee4a09b83a1fa88b55e70f",
        "IPY_MODEL_db3ffa7b817b409184117215a34683d4"
       ],
       "layout": "IPY_MODEL_0b51b92d218d434185e1ecd134485d7d"
      }
     },
     "64b414df17a84c4a8e9e5a2ec84d1c46": {
      "model_module": "@jupyter-widgets/base",
      "model_module_version": "1.2.0",
      "model_name": "LayoutModel",
      "state": {}
     },
     "64d166d539134082864934b2212c5e18": {
      "model_module": "@jupyter-widgets/controls",
      "model_module_version": "1.5.0",
      "model_name": "ToggleButtonsModel",
      "state": {
       "_options_labels": [
        "✓",
        "?",
        "✗"
       ],
       "button_style": "",
       "icons": [],
       "index": 1,
       "layout": "IPY_MODEL_9ba30aa5791f4c7a96dc4c5ffc84a93c",
       "style": "IPY_MODEL_d8e0f1045cbe47d9968a0b6fb16c723b",
       "tooltips": [
        "Accept",
        "Retain",
        "Reject"
       ]
      }
     },
     "65623626f7664163b2ce9af4b45e9c9c": {
      "model_module": "@jupyter-widgets/controls",
      "model_module_version": "1.5.0",
      "model_name": "DescriptionStyleModel",
      "state": {
       "description_width": ""
      }
     },
     "656fdfc729f641ebb3ccb71fa9824b27": {
      "model_module": "@jupyter-widgets/controls",
      "model_module_version": "1.5.0",
      "model_name": "ButtonModel",
      "state": {
       "description": "Update Mappings",
       "layout": "IPY_MODEL_b590ea4155c74e208251f42fff061c71",
       "style": "IPY_MODEL_a27b7c00f866478aa217bd0d75c3dcd8"
      }
     },
     "657c615d434149a19247e1cef0f7ff55": {
      "model_module": "@jupyter-widgets/controls",
      "model_module_version": "1.5.0",
      "model_name": "HBoxModel",
      "state": {
       "children": [
        "IPY_MODEL_8e5fd08b2fd740be89befb452a76727d",
        "IPY_MODEL_0099dad007f94f79906608e1c118f0fc"
       ],
       "layout": "IPY_MODEL_a5e2c65464eb4695a674ac51b29e6602"
      }
     },
     "65ca1bcd69604e099524b7ae34bb01f7": {
      "model_module": "@jupyter-widgets/controls",
      "model_module_version": "1.5.0",
      "model_name": "ToggleButtonsModel",
      "state": {
       "_options_labels": [
        "✓",
        "?",
        "✗"
       ],
       "button_style": "",
       "icons": [],
       "index": 1,
       "layout": "IPY_MODEL_7c539970a0d948cb9b038d046cbb82cb",
       "style": "IPY_MODEL_6e28d77391f04a7c858b71aa34c3c945",
       "tooltips": [
        "Accept",
        "Retain",
        "Reject"
       ]
      }
     },
     "66f8b09a4bd341f3ba519c2a9591b250": {
      "model_module": "@jupyter-widgets/output",
      "model_module_version": "1.0.0",
      "model_name": "OutputModel",
      "state": {
       "layout": "IPY_MODEL_2050d3a258cf4c779add1d0ee1cd4a14",
       "outputs": [
        {
         "data": {
          "text/html": "Updateing ...",
          "text/plain": "<IPython.core.display.HTML object>"
         },
         "metadata": {},
         "output_type": "display_data"
        },
        {
         "ename": "TypeError",
         "evalue": "unhashable type: 'list'",
         "output_type": "error",
         "traceback": [
          "\u001b[0;31m---------------------------------------------------------------------------\u001b[0m",
          "\u001b[0;31mTypeError\u001b[0m                                 Traceback (most recent call last)",
          "\u001b[0;32m<ipython-input-31-00640d13d35c>\u001b[0m in \u001b[0;36mupdateMappings\u001b[0;34m(b)\u001b[0m\n\u001b[1;32m    108\u001b[0m         \u001b[0;31m# get remote manual mapping data\u001b[0m\u001b[0;34m\u001b[0m\u001b[0;34m\u001b[0m\u001b[0;34m\u001b[0m\u001b[0m\n\u001b[1;32m    109\u001b[0m         \u001b[0mmanualMappingParameters\u001b[0m \u001b[0;34m=\u001b[0m \u001b[0mmanualMappingStep\u001b[0m\u001b[0;34m.\u001b[0m\u001b[0mparameters\u001b[0m\u001b[0;34m(\u001b[0m\u001b[0;34m)\u001b[0m\u001b[0;34m[\u001b[0m\u001b[0;34m\"parameters\"\u001b[0m\u001b[0;34m]\u001b[0m\u001b[0;34m\u001b[0m\u001b[0;34m\u001b[0m\u001b[0m\n\u001b[0;32m--> 110\u001b[0;31m         \u001b[0mmanualPositiveMappings\u001b[0m \u001b[0;34m=\u001b[0m \u001b[0mset\u001b[0m\u001b[0;34m(\u001b[0m\u001b[0mmanualMappingParameters\u001b[0m\u001b[0;34m[\u001b[0m\u001b[0;34m\"mappings\"\u001b[0m\u001b[0;34m]\u001b[0m\u001b[0;34m)\u001b[0m\u001b[0;34m\u001b[0m\u001b[0;34m\u001b[0m\u001b[0m\n\u001b[0m\u001b[1;32m    111\u001b[0m         \u001b[0mmanualNegativeMappings\u001b[0m \u001b[0;34m=\u001b[0m \u001b[0mset\u001b[0m\u001b[0;34m(\u001b[0m\u001b[0mmanualMappingParameters\u001b[0m\u001b[0;34m[\u001b[0m\u001b[0;34m\"suppressed_mappings\"\u001b[0m\u001b[0;34m]\u001b[0m\u001b[0;34m)\u001b[0m\u001b[0;34m\u001b[0m\u001b[0;34m\u001b[0m\u001b[0m\n\u001b[1;32m    112\u001b[0m         \u001b[0;31m# update local manual mapping data\u001b[0m\u001b[0;34m\u001b[0m\u001b[0;34m\u001b[0m\u001b[0;34m\u001b[0m\u001b[0m\n",
          "\u001b[0;31mTypeError\u001b[0m: unhashable type: 'list'"
         ]
        }
       ]
      }
     },
     "67db439fbf4841c998a81f6ccb9f03da": {
      "model_module": "@jupyter-widgets/base",
      "model_module_version": "1.2.0",
      "model_name": "LayoutModel",
      "state": {}
     },
     "67f0ed79c97249eb956aeed2775ce83b": {
      "model_module": "@jupyter-widgets/controls",
      "model_module_version": "1.5.0",
      "model_name": "DescriptionStyleModel",
      "state": {
       "description_width": ""
      }
     },
     "68085327d7bb4330924d194abca6bfdf": {
      "model_module": "@jupyter-widgets/controls",
      "model_module_version": "1.5.0",
      "model_name": "ToggleButtonsModel",
      "state": {
       "_options_labels": [
        "✓",
        "?",
        "✗"
       ],
       "button_style": "",
       "icons": [],
       "index": 1,
       "layout": "IPY_MODEL_12f394848fcd4bde9a23442b3f6db873",
       "style": "IPY_MODEL_cea06d2e141f4701b978a7d7278fa96e",
       "tooltips": [
        "Accept",
        "Retain",
        "Reject"
       ]
      }
     },
     "683f0fa44bac468e9c89722e8b59819b": {
      "model_module": "@jupyter-widgets/base",
      "model_module_version": "1.2.0",
      "model_name": "LayoutModel",
      "state": {}
     },
     "68c9b9e3573b483cb9eb9e7d47b33c45": {
      "model_module": "@jupyter-widgets/controls",
      "model_module_version": "1.5.0",
      "model_name": "HBoxModel",
      "state": {
       "children": [
        "IPY_MODEL_12642f62c97841e39f7adf55b73c2b6c",
        "IPY_MODEL_4c4b006da07744ea91128c4340d24934"
       ],
       "layout": "IPY_MODEL_2e77aa056dc14c03bf165dea24e66f6a"
      }
     },
     "6a8089107d17412fbb106ee00d9b77bd": {
      "model_module": "@jupyter-widgets/controls",
      "model_module_version": "1.5.0",
      "model_name": "VBoxModel",
      "state": {
       "children": [
        "IPY_MODEL_a1cff127c60b451f8f4b975b65a8a8c7"
       ],
       "layout": "IPY_MODEL_224be273a60e4142a6efa018f95beb45"
      }
     },
     "6a86630a0086498ba5b0b660233ebbf7": {
      "model_module": "@jupyter-widgets/base",
      "model_module_version": "1.2.0",
      "model_name": "LayoutModel",
      "state": {}
     },
     "6b11a41ad525482ebe542fe5090ffafb": {
      "model_module": "@jupyter-widgets/base",
      "model_module_version": "1.2.0",
      "model_name": "LayoutModel",
      "state": {}
     },
     "6b38be8ce6f74d5eab947ae1e6a724e9": {
      "model_module": "@jupyter-widgets/controls",
      "model_module_version": "1.5.0",
      "model_name": "TabModel",
      "state": {
       "_titles": {
        "0": "person"
       },
       "children": [
        "IPY_MODEL_48dfacdcc9c542deb4eb160e4307d462"
       ],
       "layout": "IPY_MODEL_7d72ee7224c4471280053ec0c8bb58cd"
      }
     },
     "6b61d1485bfb421abd83bb0eb8e45b58": {
      "model_module": "@jupyter-widgets/controls",
      "model_module_version": "1.5.0",
      "model_name": "ToggleButtonsStyleModel",
      "state": {
       "button_width": "auto",
       "description_width": ""
      }
     },
     "6b8927b7ae164b55b8cd52b0a41f0694": {
      "model_module": "@jupyter-widgets/controls",
      "model_module_version": "1.5.0",
      "model_name": "HBoxModel",
      "state": {
       "children": [
        "IPY_MODEL_7d6548e73ed74447be890585e236b507",
        "IPY_MODEL_760d46f1f28843c49d85af7cd1bd48e1"
       ],
       "layout": "IPY_MODEL_0be8d8896bb74f3f9e485ffbf0fcd5c8"
      }
     },
     "6ba83a64021c45188b946be042cb7c10": {
      "model_module": "@jupyter-widgets/base",
      "model_module_version": "1.2.0",
      "model_name": "LayoutModel",
      "state": {}
     },
     "6bf7a1127b6147989b4937358dc065a6": {
      "model_module": "@jupyter-widgets/controls",
      "model_module_version": "1.5.0",
      "model_name": "ToggleButtonsStyleModel",
      "state": {
       "button_width": "auto",
       "description_width": ""
      }
     },
     "6c74ad796e634881b6e22b585ff2c5e0": {
      "model_module": "@jupyter-widgets/controls",
      "model_module_version": "1.5.0",
      "model_name": "ToggleButtonsModel",
      "state": {
       "_options_labels": [
        "✓",
        "?",
        "✗"
       ],
       "button_style": "",
       "icons": [],
       "index": 1,
       "layout": "IPY_MODEL_2962899e768a4b0eb04da9f261f9feea",
       "style": "IPY_MODEL_3a2778f53c7741e8b36f7d6c6b26314a",
       "tooltips": [
        "Accept",
        "Retain",
        "Reject"
       ]
      }
     },
     "6ca70285e49845329fe171afcb2ae51f": {
      "model_module": "@jupyter-widgets/base",
      "model_module_version": "1.2.0",
      "model_name": "LayoutModel",
      "state": {}
     },
     "6cc121b130a34659a6593589a5259e19": {
      "model_module": "@jupyter-widgets/controls",
      "model_module_version": "1.5.0",
      "model_name": "VBoxModel",
      "state": {
       "children": [
        "IPY_MODEL_adc39ad1b66749fd8d17adf41187e4af"
       ],
       "layout": "IPY_MODEL_f331cce961444697b31a0ef636c8e873"
      }
     },
     "6cd376f635044990aec97b94658f0589": {
      "model_module": "@jupyter-widgets/base",
      "model_module_version": "1.2.0",
      "model_name": "LayoutModel",
      "state": {}
     },
     "6d38f9a3404440bbb7585b30a22359ac": {
      "model_module": "@jupyter-widgets/base",
      "model_module_version": "1.2.0",
      "model_name": "LayoutModel",
      "state": {}
     },
     "6d4a745c061040979cf9b3e6ba580e61": {
      "model_module": "@jupyter-widgets/controls",
      "model_module_version": "1.5.0",
      "model_name": "ToggleButtonsStyleModel",
      "state": {
       "button_width": "auto",
       "description_width": ""
      }
     },
     "6d5bd60f672c495bbb2d8abb5c6c5450": {
      "model_module": "@jupyter-widgets/controls",
      "model_module_version": "1.5.0",
      "model_name": "DescriptionStyleModel",
      "state": {
       "description_width": ""
      }
     },
     "6d663aeace9d4eb4af63c244dd5f2357": {
      "model_module": "@jupyter-widgets/controls",
      "model_module_version": "1.5.0",
      "model_name": "HTMLModel",
      "state": {
       "layout": "IPY_MODEL_a9809f37faef40ad9e802f33d59bad90",
       "style": "IPY_MODEL_65623626f7664163b2ce9af4b45e9c9c",
       "value": "<table><tr><th>http://example.org/b/alice</th><th></th><th>http://example.org/c/P001</th></tr><tr><td style=\"text-align:right;\">http://example.org/b/alice</td><td style=\"text-align:center;\">boss</td><td style=\"text-align:left;\"></td></tr><tr><td style=\"text-align:right;\">Alice</td><td style=\"text-align:center;\">label</td><td style=\"text-align:left;\">Alice</td></tr><tr><td style=\"text-align:right;\"></td><td style=\"text-align:center;\">pnr</td><td style=\"text-align:left;\">12345^^http://www.w3.org/2001/XMLSchema#integer</td></tr><tr><td></td><td>http://example.org/b/alice</td><td>http://example.org/c/P001</td></tr></table>"
      }
     },
     "6d90716617e541a5b2e9eea1a8a145d4": {
      "model_module": "@jupyter-widgets/base",
      "model_module_version": "1.2.0",
      "model_name": "LayoutModel",
      "state": {}
     },
     "6da948f9967943cabd3fc7cd3f147888": {
      "model_module": "@jupyter-widgets/controls",
      "model_module_version": "1.5.0",
      "model_name": "HBoxModel",
      "state": {
       "children": [
        "IPY_MODEL_d04fd2abcb7446e6b7f9def34a920cb4",
        "IPY_MODEL_0f55ee6ec65644589e9eed7f8fa4abf0"
       ],
       "layout": "IPY_MODEL_7c398314fbd04a7eab31c2fa2b4b318f"
      }
     },
     "6dd34315d2de42a0b6fe73ca2aa6da66": {
      "model_module": "@jupyter-widgets/controls",
      "model_module_version": "1.5.0",
      "model_name": "HTMLModel",
      "state": {
       "layout": "IPY_MODEL_2d9e8adb328b46b3adbbf30c502c55a7",
       "style": "IPY_MODEL_5f0f71da600b43299b5b42a941ee0c8d",
       "value": "<table><tr><th>http://example.org/a/alice</th><th></th><th>http://example.org/c/P001</th></tr><tr><td style=\"text-align:right;\">http://example.org/a/bob</td><td style=\"text-align:center;\">boss</td><td style=\"text-align:left;\"></td></tr><tr><td style=\"text-align:right;\">Alice</td><td style=\"text-align:center;\">label</td><td style=\"text-align:left;\">Alice</td></tr><tr><td style=\"text-align:right;\">45678^^http://www.w3.org/2001/XMLSchema#integer</td><td style=\"text-align:center;\">pnr</td><td style=\"text-align:left;\">12345^^http://www.w3.org/2001/XMLSchema#integer</td></tr><tr><td></td><td>http://example.org/a/alice</td><td>http://example.org/c/P001</td></tr></table>"
      }
     },
     "6e1414b1811549098d2c98009ce04a4b": {
      "model_module": "@jupyter-widgets/controls",
      "model_module_version": "1.5.0",
      "model_name": "ToggleButtonsModel",
      "state": {
       "_options_labels": [
        "✓",
        "?",
        "✗"
       ],
       "button_style": "",
       "icons": [],
       "index": 1,
       "layout": "IPY_MODEL_bf7ee4b7d91148b0a91aee1d6b1f0898",
       "style": "IPY_MODEL_f240c81a9e5540dcb731267adf4cb474",
       "tooltips": [
        "Accept",
        "Retain",
        "Reject"
       ]
      }
     },
     "6e28d77391f04a7c858b71aa34c3c945": {
      "model_module": "@jupyter-widgets/controls",
      "model_module_version": "1.5.0",
      "model_name": "ToggleButtonsStyleModel",
      "state": {
       "button_width": "auto",
       "description_width": ""
      }
     },
     "6e2d156ae31f475a8a6cdd8c5af715d8": {
      "model_module": "@jupyter-widgets/controls",
      "model_module_version": "1.5.0",
      "model_name": "HBoxModel",
      "state": {
       "children": [
        "IPY_MODEL_04779a6642bf41cc9a851b6bff19bbb0",
        "IPY_MODEL_121618d53f85438e8d74d1a411baea8b"
       ],
       "layout": "IPY_MODEL_f3e7a8a3d03749b7acaed678b576cc02"
      }
     },
     "6eb8a49090394c098d0fe832e1357603": {
      "model_module": "@jupyter-widgets/base",
      "model_module_version": "1.2.0",
      "model_name": "LayoutModel",
      "state": {}
     },
     "6ef7ad46dac440639a485491a31565c8": {
      "model_module": "@jupyter-widgets/controls",
      "model_module_version": "1.5.0",
      "model_name": "ToggleButtonsStyleModel",
      "state": {
       "button_width": "auto",
       "description_width": ""
      }
     },
     "6f0c443fba2049b1b80ebbb3daa31d6e": {
      "model_module": "@jupyter-widgets/controls",
      "model_module_version": "1.5.0",
      "model_name": "VBoxModel",
      "state": {
       "children": [
        "IPY_MODEL_d3d0a4a572384fb5ac6cff3c31b06574",
        "IPY_MODEL_aae849530e954a289f631e259b57906b"
       ],
       "layout": "IPY_MODEL_2e1c63d3464c4444bfa898738702f63b"
      }
     },
     "6f38be22cf394ac49187957b8ae51b00": {
      "model_module": "@jupyter-widgets/base",
      "model_module_version": "1.2.0",
      "model_name": "LayoutModel",
      "state": {
       "border": "solid"
      }
     },
     "6fa63bd273134f1da6c40c72ea3fa461": {
      "model_module": "@jupyter-widgets/base",
      "model_module_version": "1.2.0",
      "model_name": "LayoutModel",
      "state": {}
     },
     "6fb6885648e1431e889690f92bd95578": {
      "model_module": "@jupyter-widgets/controls",
      "model_module_version": "1.5.0",
      "model_name": "TabModel",
      "state": {
       "_titles": {
        "0": "ABC <-> DEF",
        "1": "ABC <-> GHI",
        "2": "DEF <-> GHI"
       },
       "children": [
        "IPY_MODEL_53ddec0db61f47a7bd5e586324c652a5",
        "IPY_MODEL_c0161f72d33b4a75b35c3d617da55d02",
        "IPY_MODEL_a1a4b717fcee483e8bdbc5add0f02818"
       ],
       "layout": "IPY_MODEL_b3552576d37444e08f5475acc320e485"
      }
     },
     "6fcf0f311f2c4cb4b66fe88a4c23ecb7": {
      "model_module": "@jupyter-widgets/base",
      "model_module_version": "1.2.0",
      "model_name": "LayoutModel",
      "state": {}
     },
     "702a0ccad4124a4ca91cc9ed67d34293": {
      "model_module": "@jupyter-widgets/controls",
      "model_module_version": "1.5.0",
      "model_name": "ToggleButtonsModel",
      "state": {
       "_options_labels": [
        "✓",
        "?",
        "✗"
       ],
       "button_style": "",
       "icons": [],
       "index": 1,
       "layout": "IPY_MODEL_ed1495011ef9430c9be4c6582b9d64ab",
       "style": "IPY_MODEL_405602c55a8647c3a15d020d041bd3f8",
       "tooltips": [
        "Accept",
        "Retain",
        "Reject"
       ]
      }
     },
     "7035a71e94c44dc68a7fc2695673e7de": {
      "model_module": "@jupyter-widgets/controls",
      "model_module_version": "1.5.0",
      "model_name": "HBoxModel",
      "state": {
       "children": [
        "IPY_MODEL_aa2e089f4b2f4a18930f7b6c812e57dc",
        "IPY_MODEL_4f75ed32e32e40f1a773aaa5636d39b7"
       ],
       "layout": "IPY_MODEL_eeb8954d48d14f2cb0933cafa0b49506"
      }
     },
     "706e3d59218c4feabc462af3d98852d6": {
      "model_module": "@jupyter-widgets/base",
      "model_module_version": "1.2.0",
      "model_name": "LayoutModel",
      "state": {}
     },
     "7072b6f034bc4599830b17db68d851fc": {
      "model_module": "@jupyter-widgets/controls",
      "model_module_version": "1.5.0",
      "model_name": "DescriptionStyleModel",
      "state": {
       "description_width": ""
      }
     },
     "70773de7c0e248a1859df09be2af1c9c": {
      "model_module": "@jupyter-widgets/base",
      "model_module_version": "1.2.0",
      "model_name": "LayoutModel",
      "state": {}
     },
     "71524c87557a4e958d00575b07121bda": {
      "model_module": "@jupyter-widgets/base",
      "model_module_version": "1.2.0",
      "model_name": "LayoutModel",
      "state": {}
     },
     "715f5c8d93a049258a54839052669f1f": {
      "model_module": "@jupyter-widgets/base",
      "model_module_version": "1.2.0",
      "model_name": "LayoutModel",
      "state": {}
     },
     "721e11b81ecd4b528611d6399c26e433": {
      "model_module": "@jupyter-widgets/base",
      "model_module_version": "1.2.0",
      "model_name": "LayoutModel",
      "state": {}
     },
     "724d72470d9c4b2d90938ff1df227d69": {
      "model_module": "@jupyter-widgets/base",
      "model_module_version": "1.2.0",
      "model_name": "LayoutModel",
      "state": {}
     },
     "7277a61ce552427f98421938a397f926": {
      "model_module": "@jupyter-widgets/controls",
      "model_module_version": "1.5.0",
      "model_name": "DescriptionStyleModel",
      "state": {
       "description_width": ""
      }
     },
     "72b288681284410cb07dfd3709c488d2": {
      "model_module": "@jupyter-widgets/controls",
      "model_module_version": "1.5.0",
      "model_name": "HTMLModel",
      "state": {
       "layout": "IPY_MODEL_f41c123cf8c3449fb668d27c54d3317e",
       "style": "IPY_MODEL_c215a75fec214262804e02c6eebc06fb",
       "value": "<table><tr><th>http://example.org/a/bill</th><th></th><th>http://example.org/b/william</th></tr><tr><td style=\"text-align:right;\">http://example.org/a/alice</td><td style=\"text-align:center;\">boss</td><td style=\"text-align:left;\">Alice</td></tr><tr><td style=\"text-align:right;\">Bill</td><td style=\"text-align:center;\">label</td><td style=\"text-align:left;\">William</td></tr><tr><td style=\"text-align:right;\">67890^^http://www.w3.org/2001/XMLSchema#integer</td><td style=\"text-align:center;\">pnr</td><td style=\"text-align:left;\"></td></tr></table>"
      }
     },
     "72ffb022769540eab369dce420dabb1c": {
      "model_module": "@jupyter-widgets/controls",
      "model_module_version": "1.5.0",
      "model_name": "HTMLModel",
      "state": {
       "layout": "IPY_MODEL_10a3547c2b1c43ed8fdc168357b8e783",
       "style": "IPY_MODEL_b8994250805642779e41426f6a4ae63d",
       "value": "<table><tr><th>http://example.org/a/alice</th><th></th><th>http://example.org/b/alice</th></tr><tr><td style=\"text-align:right;\">http://example.org/a/bob</td><td style=\"text-align:center;\">boss</td><td style=\"text-align:left;\">http://example.org/b/alice</td></tr><tr><td style=\"text-align:right;\">Alice</td><td style=\"text-align:center;\">label</td><td style=\"text-align:left;\">Alice</td></tr><tr><td style=\"text-align:right;\">45678^^http://www.w3.org/2001/XMLSchema#integer</td><td style=\"text-align:center;\">pnr</td><td style=\"text-align:left;\"></td></tr></table>"
      }
     },
     "736506944eab454dbc1caf27923372c7": {
      "model_module": "@jupyter-widgets/controls",
      "model_module_version": "1.5.0",
      "model_name": "ToggleButtonsStyleModel",
      "state": {
       "button_width": "auto",
       "description_width": ""
      }
     },
     "736a9054690b472e9c1ed34eb98f0cfc": {
      "model_module": "@jupyter-widgets/controls",
      "model_module_version": "1.5.0",
      "model_name": "DescriptionStyleModel",
      "state": {
       "description_width": ""
      }
     },
     "73eeebb57ffe45018d4250b994a77365": {
      "model_module": "@jupyter-widgets/controls",
      "model_module_version": "1.5.0",
      "model_name": "ButtonModel",
      "state": {
       "description": "Update Mappings",
       "layout": "IPY_MODEL_37022e64d3ca469f8054acf6522705f9",
       "style": "IPY_MODEL_d8a4b2cca43b4840826b945e29b56c21"
      }
     },
     "7440fa6388c846d48c708c4e938dc988": {
      "model_module": "@jupyter-widgets/controls",
      "model_module_version": "1.5.0",
      "model_name": "DescriptionStyleModel",
      "state": {
       "description_width": ""
      }
     },
     "74585d50d6e4459c801856973dd4a48a": {
      "model_module": "@jupyter-widgets/controls",
      "model_module_version": "1.5.0",
      "model_name": "HTMLModel",
      "state": {
       "layout": "IPY_MODEL_a5d8e264642643e596ba880e08ba4468",
       "style": "IPY_MODEL_fede44daf58d4b23815611ea6f4a0cca",
       "value": "<table><tr><th>http://example.org/a/bill</th><th></th><th>http://example.org/b/william</th></tr><tr><td style=\"text-align:right;\">http://example.org/a/alice</td><td style=\"text-align:center;\">boss</td><td style=\"text-align:left;\">Alice</td></tr><tr><td style=\"text-align:right;\">Bill</td><td style=\"text-align:center;\">label</td><td style=\"text-align:left;\">William</td></tr><tr><td style=\"text-align:right;\">67890^^http://www.w3.org/2001/XMLSchema#integer</td><td style=\"text-align:center;\">pnr</td><td style=\"text-align:left;\"></td></tr></table>"
      }
     },
     "7478c188a6de4fb3a5293efb807f9e46": {
      "model_module": "@jupyter-widgets/controls",
      "model_module_version": "1.5.0",
      "model_name": "DescriptionStyleModel",
      "state": {
       "description_width": ""
      }
     },
     "74861796bbb24ef9bd7a35d36fd98f66": {
      "model_module": "@jupyter-widgets/controls",
      "model_module_version": "1.5.0",
      "model_name": "HBoxModel",
      "state": {
       "children": [
        "IPY_MODEL_0b3506d4ab574fb4b4f77c2bd15fccde",
        "IPY_MODEL_53eedaf6c4d548c9911f1f9d70e8bcd7"
       ],
       "layout": "IPY_MODEL_042ed107debd4820828bb2b10c99f7a3"
      }
     },
     "750373c9abf74732bcccd9edfd16b771": {
      "model_module": "@jupyter-widgets/controls",
      "model_module_version": "1.5.0",
      "model_name": "HBoxModel",
      "state": {
       "children": [
        "IPY_MODEL_7ac697893faa4893b9ab521c41558f14",
        "IPY_MODEL_c3fe2cb2fc364d6f8be1c583fe76771b"
       ],
       "layout": "IPY_MODEL_021d373da51e46e6af8c321de72834e9"
      }
     },
     "75c23f33e006462f9ffbe726c5f72c50": {
      "model_module": "@jupyter-widgets/controls",
      "model_module_version": "1.5.0",
      "model_name": "ToggleButtonsStyleModel",
      "state": {
       "button_width": "auto",
       "description_width": ""
      }
     },
     "75eeac0469e54bde80647accd1b388a5": {
      "model_module": "@jupyter-widgets/base",
      "model_module_version": "1.2.0",
      "model_name": "LayoutModel",
      "state": {
       "border": "solid 1px lightgrey"
      }
     },
     "76049fb4aa1c4edca9fa4ba9bf603965": {
      "model_module": "@jupyter-widgets/controls",
      "model_module_version": "1.5.0",
      "model_name": "HTMLModel",
      "state": {
       "layout": "IPY_MODEL_528968bd7e164c71839fded39daa4940",
       "style": "IPY_MODEL_fb992507e21d4873b6dae0ffb6f7591b",
       "value": "<table><tr><th>http://example.org/b/alice</th><th></th><th>http://example.org/c/P001</th></tr><tr><td style=\"text-align:right;\">http://example.org/b/alice</td><td style=\"text-align:center;\">boss</td><td style=\"text-align:left;\"></td></tr><tr><td style=\"text-align:right;\">Alice</td><td style=\"text-align:center;\">label</td><td style=\"text-align:left;\">Alice</td></tr><tr><td style=\"text-align:right;\"></td><td style=\"text-align:center;\">pnr</td><td style=\"text-align:left;\">12345^^http://www.w3.org/2001/XMLSchema#integer</td></tr><tr><td></td><td>http://example.org/b/alice</td><td>http://example.org/c/P001</td></tr></table>"
      }
     },
     "760d46f1f28843c49d85af7cd1bd48e1": {
      "model_module": "@jupyter-widgets/controls",
      "model_module_version": "1.5.0",
      "model_name": "HTMLModel",
      "state": {
       "layout": "IPY_MODEL_f31c54eb4dcb4f538b2387d1325e513c",
       "style": "IPY_MODEL_0df62f52611b4314b5dac566c11cec98",
       "value": "<table><tr><th>http://example.org/b/charlie</th><th></th><th>http://example.org/c/P002</th></tr><tr><td style=\"text-align:right;\">Charlie</td><td style=\"text-align:center;\">label</td><td style=\"text-align:left;\">Charlie</td></tr><tr><td style=\"text-align:right;\"></td><td style=\"text-align:center;\">pnr</td><td style=\"text-align:left;\">45678^^http://www.w3.org/2001/XMLSchema#integer</td></tr><tr><td></td><td>http://example.org/b/charlie</td><td>http://example.org/c/P002</td></tr></table>"
      }
     },
     "762d20c7cffb43ef8703d5865b738419": {
      "model_module": "@jupyter-widgets/base",
      "model_module_version": "1.2.0",
      "model_name": "LayoutModel",
      "state": {
       "border": "solid 1px grey"
      }
     },
     "766287029fa24273993ecdd0df14f976": {
      "model_module": "@jupyter-widgets/base",
      "model_module_version": "1.2.0",
      "model_name": "LayoutModel",
      "state": {}
     },
     "7667d98f9f6d44189a8e877d338a116f": {
      "model_module": "@jupyter-widgets/controls",
      "model_module_version": "1.5.0",
      "model_name": "ToggleButtonsStyleModel",
      "state": {
       "button_width": "auto",
       "description_width": ""
      }
     },
     "76d89f84ce314990875d500ce26ac58e": {
      "model_module": "@jupyter-widgets/base",
      "model_module_version": "1.2.0",
      "model_name": "LayoutModel",
      "state": {}
     },
     "787fb6355de24975a66921f421b9773c": {
      "model_module": "@jupyter-widgets/base",
      "model_module_version": "1.2.0",
      "model_name": "LayoutModel",
      "state": {}
     },
     "78a19b6969bd4ee09ca818e499c82cc4": {
      "model_module": "@jupyter-widgets/controls",
      "model_module_version": "1.5.0",
      "model_name": "ToggleButtonsModel",
      "state": {
       "_options_labels": [
        "✓",
        "?",
        "✗"
       ],
       "button_style": "",
       "icons": [],
       "index": 1,
       "layout": "IPY_MODEL_341b44fa2cda499a9e105d602ab62352",
       "style": "IPY_MODEL_933225721ea549b8824be2dd7e1102bb",
       "tooltips": [
        "Accept",
        "Retain",
        "Reject"
       ]
      }
     },
     "79630f3a7ada44eabe0bde8dab0fa6bd": {
      "model_module": "@jupyter-widgets/base",
      "model_module_version": "1.2.0",
      "model_name": "LayoutModel",
      "state": {}
     },
     "7a7d82fde811449ca90f4de30690545c": {
      "model_module": "@jupyter-widgets/controls",
      "model_module_version": "1.5.0",
      "model_name": "ToggleButtonsModel",
      "state": {
       "_options_labels": [
        "✓",
        "?",
        "✗"
       ],
       "button_style": "",
       "icons": [],
       "index": 1,
       "layout": "IPY_MODEL_0f9f19e45978484a9edb32fd8d6caeec",
       "style": "IPY_MODEL_8d8e61b337cd4c778666fac2a1ba4e02",
       "tooltips": [
        "Accept",
        "Retain",
        "Reject"
       ]
      }
     },
     "7aa98c4da60348b2934e14da971f800c": {
      "model_module": "@jupyter-widgets/base",
      "model_module_version": "1.2.0",
      "model_name": "LayoutModel",
      "state": {}
     },
     "7ac697893faa4893b9ab521c41558f14": {
      "model_module": "@jupyter-widgets/controls",
      "model_module_version": "1.5.0",
      "model_name": "ToggleButtonsModel",
      "state": {
       "_options_labels": [
        "✓",
        "?",
        "✗"
       ],
       "button_style": "",
       "icons": [],
       "index": 1,
       "layout": "IPY_MODEL_437d4a879ed248c7a3e289494a74c7bd",
       "style": "IPY_MODEL_467ea82616f04aaaa5567ee59e4ef89e",
       "tooltips": [
        "Accept",
        "Retain",
        "Reject"
       ]
      }
     },
     "7af463b5217f43f4af194cb6ae73b80d": {
      "model_module": "@jupyter-widgets/controls",
      "model_module_version": "1.5.0",
      "model_name": "HTMLModel",
      "state": {
       "layout": "IPY_MODEL_fc1cc263fea64457aa40899f7681e3af",
       "style": "IPY_MODEL_1ca35261715241d1b5070b7002b4ea1e",
       "value": "<table><tr><th>http://example.org/a/alice</th><th></th><th>http://example.org/b/alice</th></tr><tr><td style=\"text-align:right;\">http://example.org/a/bob</td><td style=\"text-align:center;\">boss</td><td style=\"text-align:left;\">http://example.org/b/alice</td></tr><tr><td style=\"text-align:right;\">Alice</td><td style=\"text-align:center;\">label</td><td style=\"text-align:left;\">Alice</td></tr><tr><td style=\"text-align:right;\">45678^^http://www.w3.org/2001/XMLSchema#integer</td><td style=\"text-align:center;\">pnr</td><td style=\"text-align:left;\"></td></tr><tr><td></td><td>http://example.org/a/alice</td><td>http://example.org/b/alice</td></tr></table>"
      }
     },
     "7b31e00b099f4de79b654e62e4eb770b": {
      "model_module": "@jupyter-widgets/controls",
      "model_module_version": "1.5.0",
      "model_name": "HBoxModel",
      "state": {
       "children": [
        "IPY_MODEL_702a0ccad4124a4ca91cc9ed67d34293",
        "IPY_MODEL_94b09a2a729e4d8ba8172160ff38d0d7"
       ],
       "layout": "IPY_MODEL_1d5e8410a0b74ed1aa765f492c7d076e"
      }
     },
     "7b99e12956a1457ba6bd473148a2a5ab": {
      "model_module": "@jupyter-widgets/controls",
      "model_module_version": "1.5.0",
      "model_name": "VBoxModel",
      "state": {
       "children": [
        "IPY_MODEL_457f1266d1d54e27b03f5e8b7fd7569c",
        "IPY_MODEL_1e2ae47079ac4ad5bae22b89a146c20f"
       ],
       "layout": "IPY_MODEL_925a5da5a0e148828433daec0294fbaa"
      }
     },
     "7bd35d27b3a441dba9f3527c930c3dbd": {
      "model_module": "@jupyter-widgets/controls",
      "model_module_version": "1.5.0",
      "model_name": "ToggleButtonsStyleModel",
      "state": {
       "button_width": "auto",
       "description_width": ""
      }
     },
     "7bdf0c57692a41ee88087a1874c9c338": {
      "model_module": "@jupyter-widgets/controls",
      "model_module_version": "1.5.0",
      "model_name": "HBoxModel",
      "state": {
       "children": [
        "IPY_MODEL_081e19ecacf44baa89c28dacb7b411d6",
        "IPY_MODEL_8d716ce0bf5a42fb8713e096151915b3"
       ],
       "layout": "IPY_MODEL_d9969b1b01f94035ad8a0f6f48d4edd6"
      }
     },
     "7c398314fbd04a7eab31c2fa2b4b318f": {
      "model_module": "@jupyter-widgets/base",
      "model_module_version": "1.2.0",
      "model_name": "LayoutModel",
      "state": {}
     },
     "7c539970a0d948cb9b038d046cbb82cb": {
      "model_module": "@jupyter-widgets/base",
      "model_module_version": "1.2.0",
      "model_name": "LayoutModel",
      "state": {}
     },
     "7c992d4d0a0348ae8cc8f987c07f6518": {
      "model_module": "@jupyter-widgets/controls",
      "model_module_version": "1.5.0",
      "model_name": "DescriptionStyleModel",
      "state": {
       "description_width": ""
      }
     },
     "7d33d708cccf4994a85293c52dffaa58": {
      "model_module": "@jupyter-widgets/controls",
      "model_module_version": "1.5.0",
      "model_name": "HBoxModel",
      "state": {
       "children": [
        "IPY_MODEL_5aca1029ac394ea6b57ce38c3f05fc5a",
        "IPY_MODEL_1fee47e3b1e7484ead3f2d2c2709a468"
       ],
       "layout": "IPY_MODEL_abdc3d9eadcf4280b0537cc1ca036b6a"
      }
     },
     "7d6548e73ed74447be890585e236b507": {
      "model_module": "@jupyter-widgets/controls",
      "model_module_version": "1.5.0",
      "model_name": "ToggleButtonsModel",
      "state": {
       "_options_labels": [
        "✓",
        "?",
        "✗"
       ],
       "button_style": "",
       "icons": [],
       "index": 1,
       "layout": "IPY_MODEL_2bc9102e95a542128fc837c7de41cb67",
       "style": "IPY_MODEL_f4af030422c1437a8bd77706e3dfcecf",
       "tooltips": [
        "Accept",
        "Retain",
        "Reject"
       ]
      }
     },
     "7d72ee7224c4471280053ec0c8bb58cd": {
      "model_module": "@jupyter-widgets/base",
      "model_module_version": "1.2.0",
      "model_name": "LayoutModel",
      "state": {}
     },
     "7dd8409fea5d4933bc6e3ede74511c89": {
      "model_module": "@jupyter-widgets/controls",
      "model_module_version": "1.5.0",
      "model_name": "HBoxModel",
      "state": {
       "children": [
        "IPY_MODEL_bad266604eea48d49473dcb5e618c541",
        "IPY_MODEL_3572c33601b044748feac4a1b789613f"
       ],
       "layout": "IPY_MODEL_9ab9e10961d443438eb396dab8487403"
      }
     },
     "7de26860ce3a42a59b1dddd0f7c90179": {
      "model_module": "@jupyter-widgets/base",
      "model_module_version": "1.2.0",
      "model_name": "LayoutModel",
      "state": {}
     },
     "7e29de67f06c4dae846639f85e53b5c5": {
      "model_module": "@jupyter-widgets/base",
      "model_module_version": "1.2.0",
      "model_name": "LayoutModel",
      "state": {}
     },
     "7e3973a81ce24cc29d7290f1a53f2dbe": {
      "model_module": "@jupyter-widgets/base",
      "model_module_version": "1.2.0",
      "model_name": "LayoutModel",
      "state": {}
     },
     "7e62fdd73d8b44479dc178f864bbf0e4": {
      "model_module": "@jupyter-widgets/base",
      "model_module_version": "1.2.0",
      "model_name": "LayoutModel",
      "state": {}
     },
     "7e8541244ff244d6bcdda8da4aaa0783": {
      "model_module": "@jupyter-widgets/base",
      "model_module_version": "1.2.0",
      "model_name": "LayoutModel",
      "state": {}
     },
     "7f4664a7ab6a4052b7a2fc5cafb66c88": {
      "model_module": "@jupyter-widgets/base",
      "model_module_version": "1.2.0",
      "model_name": "LayoutModel",
      "state": {}
     },
     "7fbbaf87be7042d7bfed28b9710ec413": {
      "model_module": "@jupyter-widgets/controls",
      "model_module_version": "1.5.0",
      "model_name": "VBoxModel",
      "state": {
       "children": [
        "IPY_MODEL_5ac25e3d668c43aabc6a5bc3fddaeca1"
       ],
       "layout": "IPY_MODEL_04acf017d77e4bffb6ac791209502618"
      }
     },
     "7fee503905004a7eaa12020b3f72e480": {
      "model_module": "@jupyter-widgets/controls",
      "model_module_version": "1.5.0",
      "model_name": "VBoxModel",
      "state": {
       "children": [
        "IPY_MODEL_216f929b81334cd69b71a03dadbc86cd",
        "IPY_MODEL_6e2d156ae31f475a8a6cdd8c5af715d8"
       ],
       "layout": "IPY_MODEL_522878b584c24eb591f0e295da8c9070"
      }
     },
     "808ab2e4ef254e2891c0384e270423b9": {
      "model_module": "@jupyter-widgets/controls",
      "model_module_version": "1.5.0",
      "model_name": "VBoxModel",
      "state": {
       "children": [
        "IPY_MODEL_6b8927b7ae164b55b8cd52b0a41f0694",
        "IPY_MODEL_7bdf0c57692a41ee88087a1874c9c338"
       ],
       "layout": "IPY_MODEL_96ae4c8b35e046f4ae5a9f72f197d28b"
      }
     },
     "809a06c0046a4c9e83b11342a5ceef04": {
      "model_module": "@jupyter-widgets/controls",
      "model_module_version": "1.5.0",
      "model_name": "ButtonStyleModel",
      "state": {}
     },
     "81089d53df6842658cc9ea3b499d8c4c": {
      "model_module": "@jupyter-widgets/base",
      "model_module_version": "1.2.0",
      "model_name": "LayoutModel",
      "state": {}
     },
     "81a5a022ff9642429c1d917c08eaa071": {
      "model_module": "@jupyter-widgets/base",
      "model_module_version": "1.2.0",
      "model_name": "LayoutModel",
      "state": {}
     },
     "81bbaee4f3074bc980d71792b5bf09a5": {
      "model_module": "@jupyter-widgets/base",
      "model_module_version": "1.2.0",
      "model_name": "LayoutModel",
      "state": {}
     },
     "8208379bc0e141b8a15a3d285f8a404c": {
      "model_module": "@jupyter-widgets/base",
      "model_module_version": "1.2.0",
      "model_name": "LayoutModel",
      "state": {
       "border": "solid 1px grey"
      }
     },
     "8240ddedbd99444e84c227d90771a76a": {
      "model_module": "@jupyter-widgets/controls",
      "model_module_version": "1.5.0",
      "model_name": "ToggleButtonsStyleModel",
      "state": {
       "button_width": "auto",
       "description_width": ""
      }
     },
     "825e3fa886cb400f88b1c620dbcc75d9": {
      "model_module": "@jupyter-widgets/controls",
      "model_module_version": "1.5.0",
      "model_name": "HTMLModel",
      "state": {
       "layout": "IPY_MODEL_ff70fe9b90e74a22a73cc9639c942c84",
       "style": "IPY_MODEL_5a0409e24afd4e55a5f5f2a85c0e0bca",
       "value": "<table><tr><th>http://example.org/b/charlie</th><th></th><th>http://example.org/c/P002</th></tr><tr><td style=\"text-align:right;\">Charlie</td><td style=\"text-align:center;\">label</td><td style=\"text-align:left;\">Charlie</td></tr><tr><td style=\"text-align:right;\"></td><td style=\"text-align:center;\">pnr</td><td style=\"text-align:left;\">45678^^http://www.w3.org/2001/XMLSchema#integer</td></tr></table>"
      }
     },
     "828be2fc19ed4031ab717d9ee5127d7f": {
      "model_module": "@jupyter-widgets/controls",
      "model_module_version": "1.5.0",
      "model_name": "DescriptionStyleModel",
      "state": {
       "description_width": ""
      }
     },
     "832b25c4bc734db7be91717c8c4785f4": {
      "model_module": "@jupyter-widgets/controls",
      "model_module_version": "1.5.0",
      "model_name": "ToggleButtonsStyleModel",
      "state": {
       "button_width": "auto",
       "description_width": ""
      }
     },
     "83df9d760f704e318e2feedef4c47ecd": {
      "model_module": "@jupyter-widgets/controls",
      "model_module_version": "1.5.0",
      "model_name": "HTMLModel",
      "state": {
       "layout": "IPY_MODEL_a604becb86c8468ea6631845e1cd0ce5",
       "style": "IPY_MODEL_a1ac7c4faa4d4446b8f06b6680288c45",
       "value": "<table><tr><th>http://example.org/a/alice</th><th></th><th>http://example.org/c/P001</th></tr><tr><td style=\"text-align:right;\">http://example.org/a/bob</td><td style=\"text-align:center;\">boss</td><td style=\"text-align:left;\"></td></tr><tr><td style=\"text-align:right;\">Alice</td><td style=\"text-align:center;\">label</td><td style=\"text-align:left;\">Alice</td></tr><tr><td style=\"text-align:right;\">45678^^http://www.w3.org/2001/XMLSchema#integer</td><td style=\"text-align:center;\">pnr</td><td style=\"text-align:left;\">12345^^http://www.w3.org/2001/XMLSchema#integer</td></tr><tr><td></td><td>http://example.org/a/alice</td><td>http://example.org/c/P001</td></tr></table>"
      }
     },
     "83facfa276fc46538dfd3a92f74de9d4": {
      "model_module": "@jupyter-widgets/controls",
      "model_module_version": "1.5.0",
      "model_name": "DescriptionStyleModel",
      "state": {
       "description_width": ""
      }
     },
     "845c53777249408f94cccabae609e32b": {
      "model_module": "@jupyter-widgets/controls",
      "model_module_version": "1.5.0",
      "model_name": "DescriptionStyleModel",
      "state": {
       "description_width": ""
      }
     },
     "84810df0894d450b9a4c8bae177f4dc4": {
      "model_module": "@jupyter-widgets/base",
      "model_module_version": "1.2.0",
      "model_name": "LayoutModel",
      "state": {}
     },
     "8535bea53ca44c13beb9f96f91049edf": {
      "model_module": "@jupyter-widgets/base",
      "model_module_version": "1.2.0",
      "model_name": "LayoutModel",
      "state": {}
     },
     "85a6cf21c8cc43098e83649dc1bbf1ad": {
      "model_module": "@jupyter-widgets/controls",
      "model_module_version": "1.5.0",
      "model_name": "ButtonModel",
      "state": {
       "description": "Update Mappings",
       "layout": "IPY_MODEL_7f4664a7ab6a4052b7a2fc5cafb66c88",
       "style": "IPY_MODEL_0961056bc1cf4e569a9c989072e05145"
      }
     },
     "86742b9168074d4d9cf1bf2313366608": {
      "model_module": "@jupyter-widgets/controls",
      "model_module_version": "1.5.0",
      "model_name": "HBoxModel",
      "state": {
       "children": [
        "IPY_MODEL_21773d35daa5423f840b8db208ba6fbe",
        "IPY_MODEL_949a2238e9074f998a8fb842e426c09e"
       ],
       "layout": "IPY_MODEL_226d0c2b66154ee2aaca10aa23677ee1"
      }
     },
     "86af22993fbd430a820273ceb56349aa": {
      "model_module": "@jupyter-widgets/base",
      "model_module_version": "1.2.0",
      "model_name": "LayoutModel",
      "state": {}
     },
     "86b809dbff204af39d534bc21466b3a9": {
      "model_module": "@jupyter-widgets/base",
      "model_module_version": "1.2.0",
      "model_name": "LayoutModel",
      "state": {
       "max_height": "50em"
      }
     },
     "86dd4dea89524fac8fd3ac60386d131c": {
      "model_module": "@jupyter-widgets/base",
      "model_module_version": "1.2.0",
      "model_name": "LayoutModel",
      "state": {}
     },
     "86e5d3dd1c04473e96c6ce23c32f3055": {
      "model_module": "@jupyter-widgets/controls",
      "model_module_version": "1.5.0",
      "model_name": "ToggleButtonsStyleModel",
      "state": {
       "button_width": "auto",
       "description_width": ""
      }
     },
     "86fe38238fa148e8a446dab41098e42e": {
      "model_module": "@jupyter-widgets/controls",
      "model_module_version": "1.5.0",
      "model_name": "ToggleButtonsStyleModel",
      "state": {
       "button_width": "auto",
       "description_width": ""
      }
     },
     "8714a4452bd64712b5e5ccc5676a5255": {
      "model_module": "@jupyter-widgets/controls",
      "model_module_version": "1.5.0",
      "model_name": "HBoxModel",
      "state": {
       "children": [
        "IPY_MODEL_32dc6ea8bd8d48f194ae871937f685d1",
        "IPY_MODEL_e7f570abbab849c2b038468cb0699a89"
       ],
       "layout": "IPY_MODEL_5f86e652f9a747ae90ea000bd4a9a8d0"
      }
     },
     "87406dd5acb245a98fd439539a55c876": {
      "model_module": "@jupyter-widgets/controls",
      "model_module_version": "1.5.0",
      "model_name": "HBoxModel",
      "state": {
       "children": [
        "IPY_MODEL_239dddc662ab423481bf7baf00987256",
        "IPY_MODEL_3b086854868e4973896007cd326a0308"
       ],
       "layout": "IPY_MODEL_e3c7b58b8ab54ac6ac671ecc76aa668c"
      }
     },
     "874a73e75b6940f39a5ea9ff359ff4c4": {
      "model_module": "@jupyter-widgets/controls",
      "model_module_version": "1.5.0",
      "model_name": "DescriptionStyleModel",
      "state": {
       "description_width": ""
      }
     },
     "8755515da67c4a629bdc292ac235fb5d": {
      "model_module": "@jupyter-widgets/base",
      "model_module_version": "1.2.0",
      "model_name": "LayoutModel",
      "state": {}
     },
     "8916140f43e342f08fd0e99018c25684": {
      "model_module": "@jupyter-widgets/base",
      "model_module_version": "1.2.0",
      "model_name": "LayoutModel",
      "state": {}
     },
     "89284fc15aa64cebab8fa7a646c60e51": {
      "model_module": "@jupyter-widgets/controls",
      "model_module_version": "1.5.0",
      "model_name": "HTMLModel",
      "state": {
       "layout": "IPY_MODEL_1fdd6f2fdcfc4ec385ea5e3f4f6f5785",
       "style": "IPY_MODEL_874a73e75b6940f39a5ea9ff359ff4c4",
       "value": "<table><tr><th>http://example.org/a/alice</th><th></th><th>http://example.org/c/P001</th></tr><tr><td style=\"text-align:right;\">http://example.org/a/bob</td><td style=\"text-align:center;\">boss</td><td style=\"text-align:left;\"></td></tr><tr><td style=\"text-align:right;\">Alice</td><td style=\"text-align:center;\">label</td><td style=\"text-align:left;\">Alice</td></tr><tr><td style=\"text-align:right;\">45678^^http://www.w3.org/2001/XMLSchema#integer</td><td style=\"text-align:center;\">pnr</td><td style=\"text-align:left;\">12345^^http://www.w3.org/2001/XMLSchema#integer</td></tr></table>"
      }
     },
     "895179b513f54fc1825e0a46879e94a9": {
      "model_module": "@jupyter-widgets/controls",
      "model_module_version": "1.5.0",
      "model_name": "HBoxModel",
      "state": {
       "children": [
        "IPY_MODEL_c797df24b8d84631b7c2c2828bb13acc",
        "IPY_MODEL_6d663aeace9d4eb4af63c244dd5f2357"
       ],
       "layout": "IPY_MODEL_a35c909103044db486ef5baf9088a05e"
      }
     },
     "8aa2e972b9e24625b7a3388fd0e83999": {
      "model_module": "@jupyter-widgets/controls",
      "model_module_version": "1.5.0",
      "model_name": "HTMLModel",
      "state": {
       "layout": "IPY_MODEL_ca7b1228f1b6435ba1f6824caaa8c6ae",
       "style": "IPY_MODEL_26c0af34ff9d4913a6fafdee2bcc4807",
       "value": "<table><tr><th>http://example.org/b/charlie</th><th></th><th>http://example.org/c/P002</th></tr><tr><td style=\"text-align:right;\">Charlie</td><td style=\"text-align:center;\">label</td><td style=\"text-align:left;\">Charlie</td></tr><tr><td style=\"text-align:right;\"></td><td style=\"text-align:center;\">pnr</td><td style=\"text-align:left;\">45678^^http://www.w3.org/2001/XMLSchema#integer</td></tr></table>"
      }
     },
     "8b204a53619746c6a15283dc8db15b2d": {
      "model_module": "@jupyter-widgets/controls",
      "model_module_version": "1.5.0",
      "model_name": "HTMLModel",
      "state": {
       "layout": "IPY_MODEL_b79e1b81149b47599d6c4e2dc5d123b1",
       "style": "IPY_MODEL_9b8cd105e61d491bb7dbcd616096c519",
       "value": "<table><tr><th>http://example.org/b/charlie</th><th></th><th>http://example.org/c/P002</th></tr><tr><td style=\"text-align:right;\">Charlie</td><td style=\"text-align:center;\">label</td><td style=\"text-align:left;\">Charlie</td></tr><tr><td style=\"text-align:right;\"></td><td style=\"text-align:center;\">pnr</td><td style=\"text-align:left;\">45678^^http://www.w3.org/2001/XMLSchema#integer</td></tr></table>"
      }
     },
     "8b574e136af4400da5c46fee319f1d1d": {
      "model_module": "@jupyter-widgets/controls",
      "model_module_version": "1.5.0",
      "model_name": "ToggleButtonsModel",
      "state": {
       "_options_labels": [
        "✓",
        "?",
        "✗"
       ],
       "button_style": "",
       "icons": [],
       "index": 1,
       "layout": "IPY_MODEL_1e5963807fe845a494b0a328d4451d26",
       "style": "IPY_MODEL_ef0c62b57fa44197a5fa4071433e9372",
       "tooltips": [
        "Accept",
        "Retain",
        "Reject"
       ]
      }
     },
     "8b6ca2f634a544c798ed9db14ae2fe8b": {
      "model_module": "@jupyter-widgets/controls",
      "model_module_version": "1.5.0",
      "model_name": "VBoxModel",
      "state": {
       "children": [
        "IPY_MODEL_a1ea83ec1e734f799da8b9b04050eedc",
        "IPY_MODEL_190d84c9eeca4c5eb2bfd9ef23dda9ae"
       ],
       "layout": "IPY_MODEL_93cef8ee48404f02a5eb34402b1aceb9"
      }
     },
     "8b89e2d630a04e87b9f0043cd7a1847e": {
      "model_module": "@jupyter-widgets/base",
      "model_module_version": "1.2.0",
      "model_name": "LayoutModel",
      "state": {
       "border": "solid 1px lightgrea"
      }
     },
     "8b9679e62c95405abd3058a1417db9b4": {
      "model_module": "@jupyter-widgets/controls",
      "model_module_version": "1.5.0",
      "model_name": "HBoxModel",
      "state": {
       "children": [
        "IPY_MODEL_6e1414b1811549098d2c98009ce04a4b",
        "IPY_MODEL_06dbcc4800a94ff3b0e0b2fcbaa0627c"
       ],
       "layout": "IPY_MODEL_9b029bc72b3c485ea329312761303fb9"
      }
     },
     "8bf68b3eb8984a2caf88ee7a45a25c15": {
      "model_module": "@jupyter-widgets/controls",
      "model_module_version": "1.5.0",
      "model_name": "DescriptionStyleModel",
      "state": {
       "description_width": ""
      }
     },
     "8c0d4840818e4b4fbefc99d1e80abf63": {
      "model_module": "@jupyter-widgets/base",
      "model_module_version": "1.2.0",
      "model_name": "LayoutModel",
      "state": {
       "max_height": "50em"
      }
     },
     "8c935da2005e4c199529d8c93bb69d9b": {
      "model_module": "@jupyter-widgets/controls",
      "model_module_version": "1.5.0",
      "model_name": "DescriptionStyleModel",
      "state": {
       "description_width": ""
      }
     },
     "8c9b3380408d4124ab7b268c621423cd": {
      "model_module": "@jupyter-widgets/base",
      "model_module_version": "1.2.0",
      "model_name": "LayoutModel",
      "state": {
       "border": "solid 1px lightgrea"
      }
     },
     "8ca4113c7dad4abab1388ced5cd28b70": {
      "model_module": "@jupyter-widgets/controls",
      "model_module_version": "1.5.0",
      "model_name": "ButtonModel",
      "state": {
       "description": "Update Mappings",
       "layout": "IPY_MODEL_99f8504459b044b2b43976b3bbb24ee8",
       "style": "IPY_MODEL_624bb259a17f42c4a891dce6b58479b6"
      }
     },
     "8d040b768938449c82ebbd4c010dc2f9": {
      "model_module": "@jupyter-widgets/controls",
      "model_module_version": "1.5.0",
      "model_name": "ToggleButtonsStyleModel",
      "state": {
       "button_width": "auto",
       "description_width": ""
      }
     },
     "8d4b83f0f3a944c199e06509a84268a3": {
      "model_module": "@jupyter-widgets/base",
      "model_module_version": "1.2.0",
      "model_name": "LayoutModel",
      "state": {}
     },
     "8d716ce0bf5a42fb8713e096151915b3": {
      "model_module": "@jupyter-widgets/controls",
      "model_module_version": "1.5.0",
      "model_name": "HTMLModel",
      "state": {
       "layout": "IPY_MODEL_0800f6e610544f8483f5320d9d31e3c8",
       "style": "IPY_MODEL_94800c974a5d4acb91ce476a9b7e8cc6",
       "value": "<table><tr><th>http://example.org/b/alice</th><th></th><th>http://example.org/c/P001</th></tr><tr><td style=\"text-align:right;\">http://example.org/b/alice</td><td style=\"text-align:center;\">boss</td><td style=\"text-align:left;\"></td></tr><tr><td style=\"text-align:right;\">Alice</td><td style=\"text-align:center;\">label</td><td style=\"text-align:left;\">Alice</td></tr><tr><td style=\"text-align:right;\"></td><td style=\"text-align:center;\">pnr</td><td style=\"text-align:left;\">12345^^http://www.w3.org/2001/XMLSchema#integer</td></tr><tr><td></td><td>http://example.org/b/alice</td><td>http://example.org/c/P001</td></tr></table>"
      }
     },
     "8d73b96df26e41be97ac3ac483f5c845": {
      "model_module": "@jupyter-widgets/controls",
      "model_module_version": "1.5.0",
      "model_name": "HTMLModel",
      "state": {
       "layout": "IPY_MODEL_ed618be60cd1443b84439e5be1e2307a",
       "style": "IPY_MODEL_e1898047f531405cb07209e5b2b36cde",
       "value": "<table><tr><th>http://example.org/b/alice</th><th></th><th>http://example.org/c/P001</th></tr><tr><td style=\"text-align:right;\">http://example.org/b/alice</td><td style=\"text-align:center;\">boss</td><td style=\"text-align:left;\"></td></tr><tr><td style=\"text-align:right;\">Alice</td><td style=\"text-align:center;\">label</td><td style=\"text-align:left;\">Alice</td></tr><tr><td style=\"text-align:right;\"></td><td style=\"text-align:center;\">pnr</td><td style=\"text-align:left;\">12345^^http://www.w3.org/2001/XMLSchema#integer</td></tr></table>"
      }
     },
     "8d8e61b337cd4c778666fac2a1ba4e02": {
      "model_module": "@jupyter-widgets/controls",
      "model_module_version": "1.5.0",
      "model_name": "ToggleButtonsStyleModel",
      "state": {
       "button_width": "auto",
       "description_width": ""
      }
     },
     "8dc0bc7c63d34bfeaa0f79ba495cf5d1": {
      "model_module": "@jupyter-widgets/controls",
      "model_module_version": "1.5.0",
      "model_name": "ToggleButtonsModel",
      "state": {
       "_options_labels": [
        "✓",
        "?",
        "✗"
       ],
       "button_style": "",
       "icons": [],
       "index": 1,
       "layout": "IPY_MODEL_81bbaee4f3074bc980d71792b5bf09a5",
       "style": "IPY_MODEL_f5a4ecef2b054d9cabf8dfb68525d51b",
       "tooltips": [
        "Accept",
        "Retain",
        "Reject"
       ]
      }
     },
     "8dc2ee68ae2741d6875748b814421ada": {
      "model_module": "@jupyter-widgets/controls",
      "model_module_version": "1.5.0",
      "model_name": "HTMLModel",
      "state": {
       "layout": "IPY_MODEL_0e0294d153e04459b0beb92f6c50010b",
       "style": "IPY_MODEL_327d87d465124c409488324167166cee",
       "value": "<table><tr><th>http://example.org/a/alice</th><th></th><th>http://example.org/b/alice</th></tr><tr><td style=\"text-align:right;\">http://example.org/a/bob</td><td style=\"text-align:center;\">boss</td><td style=\"text-align:left;\">http://example.org/b/alice</td></tr><tr><td style=\"text-align:right;\">Alice</td><td style=\"text-align:center;\">label</td><td style=\"text-align:left;\">Alice</td></tr><tr><td style=\"text-align:right;\">45678^^http://www.w3.org/2001/XMLSchema#integer</td><td style=\"text-align:center;\">pnr</td><td style=\"text-align:left;\"></td></tr></table>"
      }
     },
     "8dd3a10909784b6daecb22b7cf4515fd": {
      "model_module": "@jupyter-widgets/controls",
      "model_module_version": "1.5.0",
      "model_name": "HBoxModel",
      "state": {
       "children": [
        "IPY_MODEL_cc182a4eb6bd4e8ab18bee6cb2911675",
        "IPY_MODEL_3861fddbc2b54d059d3fe9e56c726d44"
       ],
       "layout": "IPY_MODEL_1ca9ae902f244354960bdadaae463503"
      }
     },
     "8e039f5663f74bdfb189dc0e54b86b0f": {
      "model_module": "@jupyter-widgets/base",
      "model_module_version": "1.2.0",
      "model_name": "LayoutModel",
      "state": {}
     },
     "8e1b9480aa004cdd900debc67e698a63": {
      "model_module": "@jupyter-widgets/controls",
      "model_module_version": "1.5.0",
      "model_name": "ToggleButtonsStyleModel",
      "state": {
       "button_width": "auto",
       "description_width": ""
      }
     },
     "8e5fd08b2fd740be89befb452a76727d": {
      "model_module": "@jupyter-widgets/controls",
      "model_module_version": "1.5.0",
      "model_name": "ToggleButtonsModel",
      "state": {
       "_options_labels": [
        "✓",
        "?",
        "✗"
       ],
       "button_style": "",
       "icons": [],
       "index": 1,
       "layout": "IPY_MODEL_bf9096ce3ff3416ba997ad062e940439",
       "style": "IPY_MODEL_a4f6386effe24e54a0c86e84ffc0719a",
       "tooltips": [
        "Accept",
        "Retain",
        "Reject"
       ]
      }
     },
     "8fa694c8e3e9482a978b5c91c4034038": {
      "model_module": "@jupyter-widgets/controls",
      "model_module_version": "1.5.0",
      "model_name": "DescriptionStyleModel",
      "state": {
       "description_width": ""
      }
     },
     "8fbf720f27db415ab5ccc2c2b9379778": {
      "model_module": "@jupyter-widgets/controls",
      "model_module_version": "1.5.0",
      "model_name": "HTMLModel",
      "state": {
       "layout": "IPY_MODEL_bea06badb40448f7a7d915509a47ab9a",
       "style": "IPY_MODEL_6d5bd60f672c495bbb2d8abb5c6c5450",
       "value": "<table><tr><th>http://example.org/a/alice</th><th></th><th>http://example.org/c/P001</th></tr><tr><td style=\"text-align:right;\">http://example.org/a/bob</td><td style=\"text-align:center;\">boss</td><td style=\"text-align:left;\"></td></tr><tr><td style=\"text-align:right;\">Alice</td><td style=\"text-align:center;\">label</td><td style=\"text-align:left;\">Alice</td></tr><tr><td style=\"text-align:right;\">45678^^http://www.w3.org/2001/XMLSchema#integer</td><td style=\"text-align:center;\">pnr</td><td style=\"text-align:left;\">12345^^http://www.w3.org/2001/XMLSchema#integer</td></tr><tr><td></td><td>http://example.org/a/alice</td><td>http://example.org/c/P001</td></tr></table>"
      }
     },
     "8ffb34a225d84f6fb2a7629e0767c17b": {
      "model_module": "@jupyter-widgets/controls",
      "model_module_version": "1.5.0",
      "model_name": "ToggleButtonsModel",
      "state": {
       "_options_labels": [
        "✓",
        "?",
        "✗"
       ],
       "button_style": "",
       "icons": [],
       "index": 1,
       "layout": "IPY_MODEL_203d33e380654ed89539f695a60219f1",
       "style": "IPY_MODEL_d2990e5da0e44c86aa9fc6ec39a2adba",
       "tooltips": [
        "Accept",
        "Retain",
        "Reject"
       ]
      }
     },
     "908adddf653c4f7bb4ec5aacdc4e66cc": {
      "model_module": "@jupyter-widgets/controls",
      "model_module_version": "1.5.0",
      "model_name": "ToggleButtonsStyleModel",
      "state": {
       "button_width": "auto",
       "description_width": ""
      }
     },
     "9100858cd64049fb83dfc1c8fa51e443": {
      "model_module": "@jupyter-widgets/controls",
      "model_module_version": "1.5.0",
      "model_name": "ToggleButtonsStyleModel",
      "state": {
       "button_width": "auto",
       "description_width": ""
      }
     },
     "916ae7f9cd8842e8a1faccaa73c8f21a": {
      "model_module": "@jupyter-widgets/controls",
      "model_module_version": "1.5.0",
      "model_name": "HBoxModel",
      "state": {
       "children": [
        "IPY_MODEL_075a54ecb3794b04afe2fdf05ef13ad1",
        "IPY_MODEL_c3cdb160d3ab49e28ef3bb6639e6a7a7"
       ],
       "layout": "IPY_MODEL_b8e3f94628d543f383b6bbdafe2691d4"
      }
     },
     "925a5da5a0e148828433daec0294fbaa": {
      "model_module": "@jupyter-widgets/base",
      "model_module_version": "1.2.0",
      "model_name": "LayoutModel",
      "state": {}
     },
     "9273f7a12fac45bab98edd66b48b6afd": {
      "model_module": "@jupyter-widgets/controls",
      "model_module_version": "1.5.0",
      "model_name": "DescriptionStyleModel",
      "state": {
       "description_width": ""
      }
     },
     "92787fd2ce824e4ab0b49fc3aab054d6": {
      "model_module": "@jupyter-widgets/controls",
      "model_module_version": "1.5.0",
      "model_name": "ToggleButtonsModel",
      "state": {
       "_options_labels": [
        "✓",
        "?",
        "✗"
       ],
       "button_style": "",
       "icons": [],
       "index": 0,
       "layout": "IPY_MODEL_0db241f834334153be6cbe14becd338b",
       "style": "IPY_MODEL_a7adcc0a0e3e47fbb7bb3660bf83908a",
       "tooltips": [
        "Accept",
        "Retain",
        "Reject"
       ]
      }
     },
     "92c15fab404d4d98a192ecd64f030472": {
      "model_module": "@jupyter-widgets/controls",
      "model_module_version": "1.5.0",
      "model_name": "DescriptionStyleModel",
      "state": {
       "description_width": ""
      }
     },
     "93256c6c8057421d92839686a1f3dfab": {
      "model_module": "@jupyter-widgets/base",
      "model_module_version": "1.2.0",
      "model_name": "LayoutModel",
      "state": {}
     },
     "933225721ea549b8824be2dd7e1102bb": {
      "model_module": "@jupyter-widgets/controls",
      "model_module_version": "1.5.0",
      "model_name": "ToggleButtonsStyleModel",
      "state": {
       "button_width": "auto",
       "description_width": ""
      }
     },
     "93ceb61e6c2544e1a29ac99c63bf6749": {
      "model_module": "@jupyter-widgets/controls",
      "model_module_version": "1.5.0",
      "model_name": "ToggleButtonsModel",
      "state": {
       "_options_labels": [
        "✓",
        "?",
        "✗"
       ],
       "button_style": "",
       "icons": [],
       "index": 1,
       "layout": "IPY_MODEL_55d3d4961b104018b712093981de08d0",
       "style": "IPY_MODEL_8d040b768938449c82ebbd4c010dc2f9",
       "tooltips": [
        "Accept",
        "Retain",
        "Reject"
       ]
      }
     },
     "93cef8ee48404f02a5eb34402b1aceb9": {
      "model_module": "@jupyter-widgets/base",
      "model_module_version": "1.2.0",
      "model_name": "LayoutModel",
      "state": {}
     },
     "94800c974a5d4acb91ce476a9b7e8cc6": {
      "model_module": "@jupyter-widgets/controls",
      "model_module_version": "1.5.0",
      "model_name": "DescriptionStyleModel",
      "state": {
       "description_width": ""
      }
     },
     "949a2238e9074f998a8fb842e426c09e": {
      "model_module": "@jupyter-widgets/controls",
      "model_module_version": "1.5.0",
      "model_name": "HTMLModel",
      "state": {
       "layout": "IPY_MODEL_2198e0183ef94ef8aa0548796090494b",
       "style": "IPY_MODEL_98140e85c0cd40a5bf2af294598e712d",
       "value": "<table><tr><th>http://example.org/a/alice</th><th></th><th>http://example.org/b/alice</th></tr><tr><td style=\"text-align:right;\">http://example.org/a/bob</td><td style=\"text-align:center;\">boss</td><td style=\"text-align:left;\">http://example.org/b/alice</td></tr><tr><td style=\"text-align:right;\">Alice</td><td style=\"text-align:center;\">label</td><td style=\"text-align:left;\">Alice</td></tr><tr><td style=\"text-align:right;\">45678^^http://www.w3.org/2001/XMLSchema#integer</td><td style=\"text-align:center;\">pnr</td><td style=\"text-align:left;\"></td></tr></table>"
      }
     },
     "94b09a2a729e4d8ba8172160ff38d0d7": {
      "model_module": "@jupyter-widgets/controls",
      "model_module_version": "1.5.0",
      "model_name": "HTMLModel",
      "state": {
       "layout": "IPY_MODEL_5b550884b910440ba4a6f868dbaa23b2",
       "style": "IPY_MODEL_92c15fab404d4d98a192ecd64f030472",
       "value": "<table><tr><th>http://example.org/b/alice</th><th></th><th>http://example.org/c/P001</th></tr><tr><td style=\"text-align:right;\">http://example.org/b/alice</td><td style=\"text-align:center;\">boss</td><td style=\"text-align:left;\"></td></tr><tr><td style=\"text-align:right;\">Alice</td><td style=\"text-align:center;\">label</td><td style=\"text-align:left;\">Alice</td></tr><tr><td style=\"text-align:right;\"></td><td style=\"text-align:center;\">pnr</td><td style=\"text-align:left;\">12345^^http://www.w3.org/2001/XMLSchema#integer</td></tr></table>"
      }
     },
     "94ec8f708a0144798a47349a4a2dfbc0": {
      "model_module": "@jupyter-widgets/controls",
      "model_module_version": "1.5.0",
      "model_name": "DescriptionStyleModel",
      "state": {
       "description_width": ""
      }
     },
     "9507f19a5fec4de7903fe7e2fdd733f6": {
      "model_module": "@jupyter-widgets/controls",
      "model_module_version": "1.5.0",
      "model_name": "VBoxModel",
      "state": {
       "children": [
        "IPY_MODEL_6164bb8f8c1447a3a00935236d4142fc",
        "IPY_MODEL_ec073ea999484d64875b0b6a3843235e"
       ],
       "layout": "IPY_MODEL_3c54ead8e2d2433a825242b76b389185"
      }
     },
     "953104193bed46958610a06fff066b81": {
      "model_module": "@jupyter-widgets/controls",
      "model_module_version": "1.5.0",
      "model_name": "HBoxModel",
      "state": {
       "children": [
        "IPY_MODEL_483dc161ebfa4b1abb678f55e11735e9",
        "IPY_MODEL_2327ae9114494d5e9c97d03959c9371d"
       ],
       "layout": "IPY_MODEL_a3b35c963bef40029edcabfb7a5fe51b"
      }
     },
     "95f45de72b19463692fc71abb5138d99": {
      "model_module": "@jupyter-widgets/base",
      "model_module_version": "1.2.0",
      "model_name": "LayoutModel",
      "state": {}
     },
     "96174b82d6be494481d59bb231a6546b": {
      "model_module": "@jupyter-widgets/base",
      "model_module_version": "1.2.0",
      "model_name": "LayoutModel",
      "state": {}
     },
     "966686e5e55041109181863fd670330f": {
      "model_module": "@jupyter-widgets/controls",
      "model_module_version": "1.5.0",
      "model_name": "HTMLModel",
      "state": {
       "layout": "IPY_MODEL_2a5893648b0a47f9a1f9c0bddac566f4",
       "style": "IPY_MODEL_343bf5e931dd464f97dae52861904fd6",
       "value": "<table><tr><th>http://example.org/a/bill</th><th></th><th>http://example.org/b/william</th></tr><tr><td style=\"text-align:right;\">http://example.org/a/alice</td><td style=\"text-align:center;\">boss</td><td style=\"text-align:left;\">Alice</td></tr><tr><td style=\"text-align:right;\">Bill</td><td style=\"text-align:center;\">label</td><td style=\"text-align:left;\">William</td></tr><tr><td style=\"text-align:right;\">67890^^http://www.w3.org/2001/XMLSchema#integer</td><td style=\"text-align:center;\">pnr</td><td style=\"text-align:left;\"></td></tr><tr><td></td><td>http://example.org/a/bill</td><td>http://example.org/b/william</td></tr></table>"
      }
     },
     "96ae4c8b35e046f4ae5a9f72f197d28b": {
      "model_module": "@jupyter-widgets/base",
      "model_module_version": "1.2.0",
      "model_name": "LayoutModel",
      "state": {}
     },
     "96bb04a0f06240b1b1fed1dcd9fabc31": {
      "model_module": "@jupyter-widgets/base",
      "model_module_version": "1.2.0",
      "model_name": "LayoutModel",
      "state": {}
     },
     "96ce4c3cc0924b2e90f72a79df45562a": {
      "model_module": "@jupyter-widgets/controls",
      "model_module_version": "1.5.0",
      "model_name": "TabModel",
      "state": {
       "_titles": {
        "0": "ABC <-> DEF",
        "1": "ABC <-> GHI",
        "2": "DEF <-> GHI"
       },
       "children": [
        "IPY_MODEL_ed0776305404473d94190db8a435cfc6",
        "IPY_MODEL_7fbbaf87be7042d7bfed28b9710ec413",
        "IPY_MODEL_a65477076220474e9bc5c0cb28f0109c"
       ],
       "layout": "IPY_MODEL_e1f66987eeb64035b9a75c08e00e102a"
      }
     },
     "9716998764c546c5a18ba039046a54a6": {
      "model_module": "@jupyter-widgets/controls",
      "model_module_version": "1.5.0",
      "model_name": "ToggleButtonsModel",
      "state": {
       "_options_labels": [
        "✓",
        "?",
        "✗"
       ],
       "button_style": "",
       "icons": [],
       "index": 1,
       "layout": "IPY_MODEL_cc5e7d2daf854f3fb5d5c6c6a40e8ce1",
       "style": "IPY_MODEL_4ef4259107d14e9a87f2add00ff9d326",
       "tooltips": [
        "Accept",
        "Retain",
        "Reject"
       ]
      }
     },
     "9760529cd9594247a3ac3d6f088746b9": {
      "model_module": "@jupyter-widgets/controls",
      "model_module_version": "1.5.0",
      "model_name": "VBoxModel",
      "state": {
       "children": [
        "IPY_MODEL_6da948f9967943cabd3fc7cd3f147888"
       ],
       "layout": "IPY_MODEL_11b931bd6ab74a38bbf66a8649d86cd3"
      }
     },
     "97911718bf8e490081258c314b913ec2": {
      "model_module": "@jupyter-widgets/base",
      "model_module_version": "1.2.0",
      "model_name": "LayoutModel",
      "state": {}
     },
     "97a2f76b2aa64ce394277d9bb511c0ee": {
      "model_module": "@jupyter-widgets/controls",
      "model_module_version": "1.5.0",
      "model_name": "HBoxModel",
      "state": {
       "children": [
        "IPY_MODEL_8ffb34a225d84f6fb2a7629e0767c17b",
        "IPY_MODEL_cb0c21e347fe4b88a7b3aaf670209a2f"
       ],
       "layout": "IPY_MODEL_93256c6c8057421d92839686a1f3dfab"
      }
     },
     "97c309f8909e4e15a3a52b5093dc1d81": {
      "model_module": "@jupyter-widgets/controls",
      "model_module_version": "1.5.0",
      "model_name": "HBoxModel",
      "state": {
       "children": [
        "IPY_MODEL_3d640451b1bf441b8d3448c678762f6b",
        "IPY_MODEL_98258f8048014509acda9f9943dc317b"
       ],
       "layout": "IPY_MODEL_c4bd2ab739c442b9af310621bef5d92d"
      }
     },
     "98140e85c0cd40a5bf2af294598e712d": {
      "model_module": "@jupyter-widgets/controls",
      "model_module_version": "1.5.0",
      "model_name": "DescriptionStyleModel",
      "state": {
       "description_width": ""
      }
     },
     "98258f8048014509acda9f9943dc317b": {
      "model_module": "@jupyter-widgets/controls",
      "model_module_version": "1.5.0",
      "model_name": "HTMLModel",
      "state": {
       "layout": "IPY_MODEL_76d89f84ce314990875d500ce26ac58e",
       "style": "IPY_MODEL_aebbdb9ba2c2421f8c17ec1ed3ce3d19",
       "value": "<table><tr><th>http://example.org/b/alice</th><th></th><th>http://example.org/c/P001</th></tr><tr><td style=\"text-align:right;\">http://example.org/b/alice</td><td style=\"text-align:center;\">boss</td><td style=\"text-align:left;\"></td></tr><tr><td style=\"text-align:right;\">Alice</td><td style=\"text-align:center;\">label</td><td style=\"text-align:left;\">Alice</td></tr><tr><td style=\"text-align:right;\"></td><td style=\"text-align:center;\">pnr</td><td style=\"text-align:left;\">12345^^http://www.w3.org/2001/XMLSchema#integer</td></tr><tr><td></td><td>http://example.org/b/alice</td><td>http://example.org/c/P001</td></tr></table>"
      }
     },
     "98b475564ad242e78a5a822633ac8b76": {
      "model_module": "@jupyter-widgets/controls",
      "model_module_version": "1.5.0",
      "model_name": "DescriptionStyleModel",
      "state": {
       "description_width": ""
      }
     },
     "98e27222e7d14bdebd1b465fbc43c59a": {
      "model_module": "@jupyter-widgets/controls",
      "model_module_version": "1.5.0",
      "model_name": "VBoxModel",
      "state": {
       "children": [
        "IPY_MODEL_de5a7ec236aa468fa67ac20e788db92c",
        "IPY_MODEL_e8ba3e3c99ac4bdebc8982a786eb193a"
       ],
       "layout": "IPY_MODEL_dfcb373cb3834e25b22baaa62f32020b"
      }
     },
     "98fed2b6031648659836f99e0df67ae5": {
      "model_module": "@jupyter-widgets/base",
      "model_module_version": "1.2.0",
      "model_name": "LayoutModel",
      "state": {}
     },
     "992f25e4fab74b60ad26d6fe2f3a2b0c": {
      "model_module": "@jupyter-widgets/controls",
      "model_module_version": "1.5.0",
      "model_name": "ToggleButtonsModel",
      "state": {
       "_options_labels": [
        "✓",
        "?",
        "✗"
       ],
       "button_style": "",
       "icons": [],
       "index": 1,
       "layout": "IPY_MODEL_426419277c774e33822a4677c74477b3",
       "style": "IPY_MODEL_f64aed9687234f7ba143733d8dafecac",
       "tooltips": [
        "Accept",
        "Retain",
        "Reject"
       ]
      }
     },
     "998e77f972eb49abb4c88c1bf2f6cc7e": {
      "model_module": "@jupyter-widgets/base",
      "model_module_version": "1.2.0",
      "model_name": "LayoutModel",
      "state": {}
     },
     "99d8d0a8ea07494f9080fc241647b1a4": {
      "model_module": "@jupyter-widgets/base",
      "model_module_version": "1.2.0",
      "model_name": "LayoutModel",
      "state": {
       "max_height": "50em"
      }
     },
     "99f8504459b044b2b43976b3bbb24ee8": {
      "model_module": "@jupyter-widgets/base",
      "model_module_version": "1.2.0",
      "model_name": "LayoutModel",
      "state": {}
     },
     "9a4ee2cc20b445108d98ba954402d2db": {
      "model_module": "@jupyter-widgets/base",
      "model_module_version": "1.2.0",
      "model_name": "LayoutModel",
      "state": {}
     },
     "9a67b95b88ae411b83a666436a2d6497": {
      "model_module": "@jupyter-widgets/controls",
      "model_module_version": "1.5.0",
      "model_name": "VBoxModel",
      "state": {
       "children": [
        "IPY_MODEL_b459efabdf4f4408a8eebb3bdadb3a7b",
        "IPY_MODEL_8b9679e62c95405abd3058a1417db9b4"
       ],
       "layout": "IPY_MODEL_1b8ee3d91d1a4a6c92a3b493f2a6e84a"
      }
     },
     "9a72b7f39d7d42629823cd6027a96e5a": {
      "model_module": "@jupyter-widgets/controls",
      "model_module_version": "1.5.0",
      "model_name": "HTMLModel",
      "state": {
       "layout": "IPY_MODEL_0b0e2ba42fe848179e86ffc883a27b49",
       "style": "IPY_MODEL_f6c6a56f71174b20ba209db63ea612d8",
       "value": "<table><tr><th>http://example.org/b/charlie</th><th></th><th>http://example.org/c/P002</th></tr><tr><td style=\"text-align:right;\">Charlie</td><td style=\"text-align:center;\">label</td><td style=\"text-align:left;\">Charlie</td></tr><tr><td style=\"text-align:right;\"></td><td style=\"text-align:center;\">pnr</td><td style=\"text-align:left;\">45678^^http://www.w3.org/2001/XMLSchema#integer</td></tr></table>"
      }
     },
     "9ab86e8df8354a6d88109fe1972d003c": {
      "model_module": "@jupyter-widgets/base",
      "model_module_version": "1.2.0",
      "model_name": "LayoutModel",
      "state": {}
     },
     "9ab9e10961d443438eb396dab8487403": {
      "model_module": "@jupyter-widgets/base",
      "model_module_version": "1.2.0",
      "model_name": "LayoutModel",
      "state": {}
     },
     "9ac8dfd25666472ea5c452d4d8e9d2af": {
      "model_module": "@jupyter-widgets/base",
      "model_module_version": "1.2.0",
      "model_name": "LayoutModel",
      "state": {}
     },
     "9af8a725b29240fabffe49becf9321f8": {
      "model_module": "@jupyter-widgets/controls",
      "model_module_version": "1.5.0",
      "model_name": "ToggleButtonsModel",
      "state": {
       "_options_labels": [
        "✓",
        "?",
        "✗"
       ],
       "button_style": "",
       "icons": [],
       "index": 1,
       "layout": "IPY_MODEL_4c88a99c99b2478c9115f941b980eb7d",
       "style": "IPY_MODEL_ca9c2c1161d244f48ad052933875b88b",
       "tooltips": [
        "Accept",
        "Retain",
        "Reject"
       ]
      }
     },
     "9b029bc72b3c485ea329312761303fb9": {
      "model_module": "@jupyter-widgets/base",
      "model_module_version": "1.2.0",
      "model_name": "LayoutModel",
      "state": {
       "border": "solid 1px grey"
      }
     },
     "9b760f9fb3c24c58822cec68cd0ab7da": {
      "model_module": "@jupyter-widgets/controls",
      "model_module_version": "1.5.0",
      "model_name": "ButtonModel",
      "state": {
       "description": "Update Mappings",
       "layout": "IPY_MODEL_787fb6355de24975a66921f421b9773c",
       "style": "IPY_MODEL_ffd797d995514766a50b81795725fb6c"
      }
     },
     "9b8cd105e61d491bb7dbcd616096c519": {
      "model_module": "@jupyter-widgets/controls",
      "model_module_version": "1.5.0",
      "model_name": "DescriptionStyleModel",
      "state": {
       "description_width": ""
      }
     },
     "9ba30aa5791f4c7a96dc4c5ffc84a93c": {
      "model_module": "@jupyter-widgets/base",
      "model_module_version": "1.2.0",
      "model_name": "LayoutModel",
      "state": {}
     },
     "9c9c0a7b97e54dbbbdd19dbab37991c4": {
      "model_module": "@jupyter-widgets/controls",
      "model_module_version": "1.5.0",
      "model_name": "HBoxModel",
      "state": {
       "children": [
        "IPY_MODEL_323c35f3f77d4c018983f8dc64f51ff6",
        "IPY_MODEL_4e41c099b008481ea7127a63caf1f758"
       ],
       "layout": "IPY_MODEL_ab2b56f442764525951e6c72b47763a2"
      }
     },
     "9e5a70d115794d01a653bf9cb5bc0cd5": {
      "model_module": "@jupyter-widgets/base",
      "model_module_version": "1.2.0",
      "model_name": "LayoutModel",
      "state": {}
     },
     "9e5b9b3034734158b31cf32f592fdfc3": {
      "model_module": "@jupyter-widgets/base",
      "model_module_version": "1.2.0",
      "model_name": "LayoutModel",
      "state": {}
     },
     "9f09e04134c342b2aba53557b8bcff0e": {
      "model_module": "@jupyter-widgets/controls",
      "model_module_version": "1.5.0",
      "model_name": "HTMLModel",
      "state": {
       "layout": "IPY_MODEL_1280fd1bd9a442eebba6d17f30e794e2",
       "style": "IPY_MODEL_7440fa6388c846d48c708c4e938dc988",
       "value": "<table><tr><th>http://example.org/a/alice</th><th></th><th>http://example.org/b/alice</th></tr><tr><td style=\"text-align:right;\">http://example.org/a/bob</td><td style=\"text-align:center;\">boss</td><td style=\"text-align:left;\">http://example.org/b/alice</td></tr><tr><td style=\"text-align:right;\">Alice</td><td style=\"text-align:center;\">label</td><td style=\"text-align:left;\">Alice</td></tr><tr><td style=\"text-align:right;\">45678^^http://www.w3.org/2001/XMLSchema#integer</td><td style=\"text-align:center;\">pnr</td><td style=\"text-align:left;\"></td></tr></table>"
      }
     },
     "9f671d3f0cae4d079e364d92140f812c": {
      "model_module": "@jupyter-widgets/base",
      "model_module_version": "1.2.0",
      "model_name": "LayoutModel",
      "state": {}
     },
     "a0449bf9433541e285a372acc376f2a9": {
      "model_module": "@jupyter-widgets/controls",
      "model_module_version": "1.5.0",
      "model_name": "DescriptionStyleModel",
      "state": {
       "description_width": ""
      }
     },
     "a18f00f0daa2486fb59b9af9236958df": {
      "model_module": "@jupyter-widgets/controls",
      "model_module_version": "1.5.0",
      "model_name": "TabModel",
      "state": {
       "_titles": {
        "0": "ABC <-> DEF",
        "1": "ABC <-> GHI",
        "2": "DEF <-> GHI"
       },
       "children": [
        "IPY_MODEL_a9ba7387c3de46038429817cf8137c71",
        "IPY_MODEL_e5d1d6348c544b98b72c4c70ad95e48a",
        "IPY_MODEL_085b44ae18a142d2b53b2e734ad87a75"
       ],
       "layout": "IPY_MODEL_645df196385c4c19b0da243109bf71bc"
      }
     },
     "a19190334cf74fb59aa20e0a8af01684": {
      "model_module": "@jupyter-widgets/controls",
      "model_module_version": "1.5.0",
      "model_name": "ToggleButtonsStyleModel",
      "state": {
       "button_width": "auto",
       "description_width": ""
      }
     },
     "a198ca94bf7a4e518802173e9229d566": {
      "model_module": "@jupyter-widgets/base",
      "model_module_version": "1.2.0",
      "model_name": "LayoutModel",
      "state": {}
     },
     "a1a4b717fcee483e8bdbc5add0f02818": {
      "model_module": "@jupyter-widgets/controls",
      "model_module_version": "1.5.0",
      "model_name": "VBoxModel",
      "state": {
       "children": [
        "IPY_MODEL_e010d1a808f242229f21cbbe9e049d5d",
        "IPY_MODEL_1e7297c872994d7cb1bea9a81116cad7"
       ],
       "layout": "IPY_MODEL_4e44897a62364bf98b4e5ff4934342bc"
      }
     },
     "a1ac7c4faa4d4446b8f06b6680288c45": {
      "model_module": "@jupyter-widgets/controls",
      "model_module_version": "1.5.0",
      "model_name": "DescriptionStyleModel",
      "state": {
       "description_width": ""
      }
     },
     "a1cff127c60b451f8f4b975b65a8a8c7": {
      "model_module": "@jupyter-widgets/controls",
      "model_module_version": "1.5.0",
      "model_name": "HBoxModel",
      "state": {
       "children": [
        "IPY_MODEL_00c358d1cc6644d2a1bc36f4e903931b",
        "IPY_MODEL_fac3626be9544a42bc7eed5f3d6c90c9"
       ],
       "layout": "IPY_MODEL_dd3eedf433e74a4880a1832ebb88bf1e"
      }
     },
     "a1ea83ec1e734f799da8b9b04050eedc": {
      "model_module": "@jupyter-widgets/controls",
      "model_module_version": "1.5.0",
      "model_name": "HBoxModel",
      "state": {
       "children": [
        "IPY_MODEL_d16e8f0fe154477ba9b1b81c67fabbc5",
        "IPY_MODEL_edd84a874dfa41c4aab8d8056e439953"
       ],
       "layout": "IPY_MODEL_4e426fb799594dc288835aa8810dd224"
      }
     },
     "a248e744f71a47b39430757be0f71fa5": {
      "model_module": "@jupyter-widgets/controls",
      "model_module_version": "1.5.0",
      "model_name": "ToggleButtonsStyleModel",
      "state": {
       "button_width": "auto",
       "description_width": ""
      }
     },
     "a251bde3ff6240ad8815a1ccf8468c77": {
      "model_module": "@jupyter-widgets/controls",
      "model_module_version": "1.5.0",
      "model_name": "HTMLModel",
      "state": {
       "layout": "IPY_MODEL_97911718bf8e490081258c314b913ec2",
       "style": "IPY_MODEL_0fc4566d6d4641de9d9b04aa553e65e6",
       "value": "<table><tr><th>http://example.org/b/charlie</th><th></th><th>http://example.org/c/P002</th></tr><tr><td style=\"text-align:right;\">Charlie</td><td style=\"text-align:center;\">label</td><td style=\"text-align:left;\">Charlie</td></tr><tr><td style=\"text-align:right;\"></td><td style=\"text-align:center;\">pnr</td><td style=\"text-align:left;\">45678^^http://www.w3.org/2001/XMLSchema#integer</td></tr><tr><td></td><td>http://example.org/b/charlie</td><td>http://example.org/c/P002</td></tr></table>"
      }
     },
     "a27b7c00f866478aa217bd0d75c3dcd8": {
      "model_module": "@jupyter-widgets/controls",
      "model_module_version": "1.5.0",
      "model_name": "ButtonStyleModel",
      "state": {}
     },
     "a2bc00e7f2314c3e9eeb5e6949fd32a7": {
      "model_module": "@jupyter-widgets/base",
      "model_module_version": "1.2.0",
      "model_name": "LayoutModel",
      "state": {}
     },
     "a2e93c21fe6541ed888c3ede3d23f653": {
      "model_module": "@jupyter-widgets/controls",
      "model_module_version": "1.5.0",
      "model_name": "ToggleButtonsModel",
      "state": {
       "_options_labels": [
        "✓",
        "?",
        "✗"
       ],
       "button_style": "",
       "icons": [],
       "index": 1,
       "layout": "IPY_MODEL_ad1358571f1549e6b6e34c95ea1875b2",
       "style": "IPY_MODEL_f9057b2986784a50a392228e9dfaef13",
       "tooltips": [
        "Accept",
        "Retain",
        "Reject"
       ]
      }
     },
     "a2fab00280a745e98dd808b851bd0d31": {
      "model_module": "@jupyter-widgets/base",
      "model_module_version": "1.2.0",
      "model_name": "LayoutModel",
      "state": {}
     },
     "a34f54676969485188ba9a39dbe3623d": {
      "model_module": "@jupyter-widgets/controls",
      "model_module_version": "1.5.0",
      "model_name": "TabModel",
      "state": {
       "_titles": {
        "0": "ABC <-> DEF",
        "1": "ABC <-> GHI",
        "2": "DEF <-> GHI"
       },
       "children": [
        "IPY_MODEL_122f8b36adce45fcb3b0418a09e7fe05",
        "IPY_MODEL_0d0694b7f04e4099af0cfb3f8ffca30f",
        "IPY_MODEL_ad0d4c3767e7439fa334ec6e12856a2f"
       ],
       "layout": "IPY_MODEL_24f685052a0d4511a423ae687597c0e8"
      }
     },
     "a35c909103044db486ef5baf9088a05e": {
      "model_module": "@jupyter-widgets/base",
      "model_module_version": "1.2.0",
      "model_name": "LayoutModel",
      "state": {}
     },
     "a3a4db0b1edd43b8b9f0e526b9b7d802": {
      "model_module": "@jupyter-widgets/base",
      "model_module_version": "1.2.0",
      "model_name": "LayoutModel",
      "state": {}
     },
     "a3b35c963bef40029edcabfb7a5fe51b": {
      "model_module": "@jupyter-widgets/base",
      "model_module_version": "1.2.0",
      "model_name": "LayoutModel",
      "state": {}
     },
     "a3bd743e96fc45ceaea24108011223fd": {
      "model_module": "@jupyter-widgets/base",
      "model_module_version": "1.2.0",
      "model_name": "LayoutModel",
      "state": {}
     },
     "a40f0d45617d405381706f68c0af14b1": {
      "model_module": "@jupyter-widgets/controls",
      "model_module_version": "1.5.0",
      "model_name": "ToggleButtonsStyleModel",
      "state": {
       "button_width": "auto",
       "description_width": ""
      }
     },
     "a4f6386effe24e54a0c86e84ffc0719a": {
      "model_module": "@jupyter-widgets/controls",
      "model_module_version": "1.5.0",
      "model_name": "ToggleButtonsStyleModel",
      "state": {
       "button_width": "auto",
       "description_width": ""
      }
     },
     "a511563dad5b4f7d9c9da80e24ded086": {
      "model_module": "@jupyter-widgets/controls",
      "model_module_version": "1.5.0",
      "model_name": "HTMLModel",
      "state": {
       "layout": "IPY_MODEL_d03c831179ec4bbcb8ab0d52bf78ea24",
       "style": "IPY_MODEL_5a5195f317304ac6bd78d1a1bf429b02",
       "value": "<table><tr><th>http://example.org/a/alice</th><th></th><th>http://example.org/b/alice</th></tr><tr><td style=\"text-align:right;\">http://example.org/a/bob</td><td style=\"text-align:center;\">boss</td><td style=\"text-align:left;\">http://example.org/b/alice</td></tr><tr><td style=\"text-align:right;\">Alice</td><td style=\"text-align:center;\">label</td><td style=\"text-align:left;\">Alice</td></tr><tr><td style=\"text-align:right;\">45678^^http://www.w3.org/2001/XMLSchema#integer</td><td style=\"text-align:center;\">pnr</td><td style=\"text-align:left;\"></td></tr><tr><td></td><td>http://example.org/a/alice</td><td>http://example.org/b/alice</td></tr></table>"
      }
     },
     "a56954d290874b16b1983117bb5d5af4": {
      "model_module": "@jupyter-widgets/controls",
      "model_module_version": "1.5.0",
      "model_name": "DescriptionStyleModel",
      "state": {
       "description_width": ""
      }
     },
     "a56d4c0d824a48f5aaa2187e5b7001c4": {
      "model_module": "@jupyter-widgets/base",
      "model_module_version": "1.2.0",
      "model_name": "LayoutModel",
      "state": {}
     },
     "a5b98e18d559443387726bfb167334bb": {
      "model_module": "@jupyter-widgets/controls",
      "model_module_version": "1.5.0",
      "model_name": "HBoxModel",
      "state": {
       "children": [
        "IPY_MODEL_29d64e9e6ee74a289a2adcea82a86bb7",
        "IPY_MODEL_4be37245f6c24d05810d065ffeb9b3de"
       ],
       "layout": "IPY_MODEL_1f44ad0f260645958a8d66d6710ab5ab"
      }
     },
     "a5cbe452ae9343c192c8afd004eb5def": {
      "model_module": "@jupyter-widgets/controls",
      "model_module_version": "1.5.0",
      "model_name": "DescriptionStyleModel",
      "state": {
       "description_width": ""
      }
     },
     "a5d8e264642643e596ba880e08ba4468": {
      "model_module": "@jupyter-widgets/base",
      "model_module_version": "1.2.0",
      "model_name": "LayoutModel",
      "state": {}
     },
     "a5e2c65464eb4695a674ac51b29e6602": {
      "model_module": "@jupyter-widgets/base",
      "model_module_version": "1.2.0",
      "model_name": "LayoutModel",
      "state": {
       "border": "solid 1px #333"
      }
     },
     "a604becb86c8468ea6631845e1cd0ce5": {
      "model_module": "@jupyter-widgets/base",
      "model_module_version": "1.2.0",
      "model_name": "LayoutModel",
      "state": {}
     },
     "a6402823dfc04a1698515609f669b03a": {
      "model_module": "@jupyter-widgets/base",
      "model_module_version": "1.2.0",
      "model_name": "LayoutModel",
      "state": {}
     },
     "a65477076220474e9bc5c0cb28f0109c": {
      "model_module": "@jupyter-widgets/controls",
      "model_module_version": "1.5.0",
      "model_name": "VBoxModel",
      "state": {
       "children": [
        "IPY_MODEL_da34ba8c225944a782dace4a36a5a411",
        "IPY_MODEL_657c615d434149a19247e1cef0f7ff55"
       ],
       "layout": "IPY_MODEL_edae34d287954993830db1711aeaf6b3"
      }
     },
     "a6c87cbd0440493aa99b2c366352ef88": {
      "model_module": "@jupyter-widgets/controls",
      "model_module_version": "1.5.0",
      "model_name": "ToggleButtonsStyleModel",
      "state": {
       "button_width": "auto",
       "description_width": ""
      }
     },
     "a6c90f8f504e4da9a5ae0bef549c5d4f": {
      "model_module": "@jupyter-widgets/controls",
      "model_module_version": "1.5.0",
      "model_name": "ToggleButtonsStyleModel",
      "state": {
       "button_width": "auto",
       "description_width": ""
      }
     },
     "a795259f3f8a4297830dc160b193c83b": {
      "model_module": "@jupyter-widgets/base",
      "model_module_version": "1.2.0",
      "model_name": "LayoutModel",
      "state": {
       "max_height": "50em"
      }
     },
     "a7adcc0a0e3e47fbb7bb3660bf83908a": {
      "model_module": "@jupyter-widgets/controls",
      "model_module_version": "1.5.0",
      "model_name": "ToggleButtonsStyleModel",
      "state": {
       "button_width": "auto",
       "description_width": ""
      }
     },
     "a8403b48829947329b85e5dbbca64d8c": {
      "model_module": "@jupyter-widgets/base",
      "model_module_version": "1.2.0",
      "model_name": "LayoutModel",
      "state": {}
     },
     "a86d495469ad42ab83904342bcfa1e80": {
      "model_module": "@jupyter-widgets/controls",
      "model_module_version": "1.5.0",
      "model_name": "VBoxModel",
      "state": {
       "children": [
        "IPY_MODEL_0aeebacf879a4d90b2b36bbc0623e1ef",
        "IPY_MODEL_e9e32773db08467684ccd56efc31d260"
       ],
       "layout": "IPY_MODEL_60ec4ff374214dd98dc92b3d9beb97a9"
      }
     },
     "a88e63fa2a534f76a4cf4f8deda7ea5f": {
      "model_module": "@jupyter-widgets/controls",
      "model_module_version": "1.5.0",
      "model_name": "HTMLModel",
      "state": {
       "layout": "IPY_MODEL_3abc606856f64afbb46cc4f8185d3abe",
       "style": "IPY_MODEL_35ce804013444fa8a79895a0e9665ead",
       "value": "<table><tr><th>http://example.org/a/bill</th><th></th><th>http://example.org/b/william</th></tr><tr><td style=\"text-align:right;\">http://example.org/a/alice</td><td style=\"text-align:center;\">boss</td><td style=\"text-align:left;\">Alice</td></tr><tr><td style=\"text-align:right;\">Bill</td><td style=\"text-align:center;\">label</td><td style=\"text-align:left;\">William</td></tr><tr><td style=\"text-align:right;\">67890^^http://www.w3.org/2001/XMLSchema#integer</td><td style=\"text-align:center;\">pnr</td><td style=\"text-align:left;\"></td></tr></table>"
      }
     },
     "a8ad516ed766451fb22d34feab790a1c": {
      "model_module": "@jupyter-widgets/base",
      "model_module_version": "1.2.0",
      "model_name": "LayoutModel",
      "state": {}
     },
     "a9809f37faef40ad9e802f33d59bad90": {
      "model_module": "@jupyter-widgets/base",
      "model_module_version": "1.2.0",
      "model_name": "LayoutModel",
      "state": {}
     },
     "a9ba7387c3de46038429817cf8137c71": {
      "model_module": "@jupyter-widgets/controls",
      "model_module_version": "1.5.0",
      "model_name": "VBoxModel",
      "state": {
       "children": [
        "IPY_MODEL_86742b9168074d4d9cf1bf2313366608",
        "IPY_MODEL_ebf3c5c50b0d4514b7e73265ec41ecfb"
       ],
       "layout": "IPY_MODEL_adab4a950d674c17b43b7b4a97cd2529"
      }
     },
     "aa03c4be31ed49fba795ffaca36e80ea": {
      "model_module": "@jupyter-widgets/base",
      "model_module_version": "1.2.0",
      "model_name": "LayoutModel",
      "state": {}
     },
     "aa2582d9149244b6bc76418093a007ce": {
      "model_module": "@jupyter-widgets/base",
      "model_module_version": "1.2.0",
      "model_name": "LayoutModel",
      "state": {
       "border": "solid 1px lightgrea"
      }
     },
     "aa2e089f4b2f4a18930f7b6c812e57dc": {
      "model_module": "@jupyter-widgets/controls",
      "model_module_version": "1.5.0",
      "model_name": "ToggleButtonsModel",
      "state": {
       "_options_labels": [
        "✓",
        "?",
        "✗"
       ],
       "button_style": "",
       "icons": [],
       "index": 1,
       "layout": "IPY_MODEL_4904658df1d94315b9c0cb593924fe37",
       "style": "IPY_MODEL_156fe7ad2ea3488cbc2d116328e21f41",
       "tooltips": [
        "Accept",
        "Retain",
        "Reject"
       ]
      }
     },
     "aa48a8ced10f4833b56c72eba065c859": {
      "model_module": "@jupyter-widgets/base",
      "model_module_version": "1.2.0",
      "model_name": "LayoutModel",
      "state": {}
     },
     "aae849530e954a289f631e259b57906b": {
      "model_module": "@jupyter-widgets/controls",
      "model_module_version": "1.5.0",
      "model_name": "HBoxModel",
      "state": {
       "children": [
        "IPY_MODEL_e719584a8e62486c9d00df5b116fb26e",
        "IPY_MODEL_c7b245522dd740b6af76589a59743698"
       ],
       "layout": "IPY_MODEL_affc82909b694d35a88c16ca158f46eb"
      }
     },
     "ab2b56f442764525951e6c72b47763a2": {
      "model_module": "@jupyter-widgets/base",
      "model_module_version": "1.2.0",
      "model_name": "LayoutModel",
      "state": {}
     },
     "ab4e0506df8d43fc81b88d841551ce19": {
      "model_module": "@jupyter-widgets/base",
      "model_module_version": "1.2.0",
      "model_name": "LayoutModel",
      "state": {}
     },
     "ab5c640fb0c0476a9ab4e17f2994ee58": {
      "model_module": "@jupyter-widgets/base",
      "model_module_version": "1.2.0",
      "model_name": "LayoutModel",
      "state": {}
     },
     "ab7a548a20354c77befc49d45e08ad08": {
      "model_module": "@jupyter-widgets/base",
      "model_module_version": "1.2.0",
      "model_name": "LayoutModel",
      "state": {}
     },
     "abdc3d9eadcf4280b0537cc1ca036b6a": {
      "model_module": "@jupyter-widgets/base",
      "model_module_version": "1.2.0",
      "model_name": "LayoutModel",
      "state": {}
     },
     "ac78b64759d145cf8bfa02078713e4ac": {
      "model_module": "@jupyter-widgets/base",
      "model_module_version": "1.2.0",
      "model_name": "LayoutModel",
      "state": {
       "max_height": "50em"
      }
     },
     "ad0d4c3767e7439fa334ec6e12856a2f": {
      "model_module": "@jupyter-widgets/controls",
      "model_module_version": "1.5.0",
      "model_name": "VBoxModel",
      "state": {
       "children": [
        "IPY_MODEL_32d0cd8a6929475f9b43920528764ec5",
        "IPY_MODEL_b787d350fd9a4ad19861980232fb71d7"
       ],
       "layout": "IPY_MODEL_6d90716617e541a5b2e9eea1a8a145d4"
      }
     },
     "ad1358571f1549e6b6e34c95ea1875b2": {
      "model_module": "@jupyter-widgets/base",
      "model_module_version": "1.2.0",
      "model_name": "LayoutModel",
      "state": {}
     },
     "ad3b821b020249848f4965ebc560de6c": {
      "model_module": "@jupyter-widgets/controls",
      "model_module_version": "1.5.0",
      "model_name": "ToggleButtonsStyleModel",
      "state": {
       "button_width": "auto",
       "description_width": ""
      }
     },
     "ad6f91325a6d460a88cbc084ffbb2563": {
      "model_module": "@jupyter-widgets/base",
      "model_module_version": "1.2.0",
      "model_name": "LayoutModel",
      "state": {}
     },
     "ad9977ad611e4618abb3eb2ca8c5703d": {
      "model_module": "@jupyter-widgets/base",
      "model_module_version": "1.2.0",
      "model_name": "LayoutModel",
      "state": {}
     },
     "adab4a950d674c17b43b7b4a97cd2529": {
      "model_module": "@jupyter-widgets/base",
      "model_module_version": "1.2.0",
      "model_name": "LayoutModel",
      "state": {}
     },
     "adafd9e7067e4ebe818e184169168677": {
      "model_module": "@jupyter-widgets/base",
      "model_module_version": "1.2.0",
      "model_name": "LayoutModel",
      "state": {}
     },
     "adc39ad1b66749fd8d17adf41187e4af": {
      "model_module": "@jupyter-widgets/controls",
      "model_module_version": "1.5.0",
      "model_name": "HBoxModel",
      "state": {
       "children": [
        "IPY_MODEL_6c74ad796e634881b6e22b585ff2c5e0",
        "IPY_MODEL_fcef62b9ae114101bbeb1b9a558511f8"
       ],
       "layout": "IPY_MODEL_998e77f972eb49abb4c88c1bf2f6cc7e"
      }
     },
     "add36254552443479f3719b6bc67d91d": {
      "model_module": "@jupyter-widgets/base",
      "model_module_version": "1.2.0",
      "model_name": "LayoutModel",
      "state": {}
     },
     "ae2e496bc54a47f795c19f2ba54b976b": {
      "model_module": "@jupyter-widgets/base",
      "model_module_version": "1.2.0",
      "model_name": "LayoutModel",
      "state": {}
     },
     "ae55d933ed544746a6c91e135d600da1": {
      "model_module": "@jupyter-widgets/output",
      "model_module_version": "1.0.0",
      "model_name": "OutputModel",
      "state": {
       "layout": "IPY_MODEL_a6402823dfc04a1698515609f669b03a"
      }
     },
     "ae7b1ac4f9d44700bdc5f4d295ced953": {
      "model_module": "@jupyter-widgets/controls",
      "model_module_version": "1.5.0",
      "model_name": "HTMLModel",
      "state": {
       "layout": "IPY_MODEL_d16e1e8076da4d8d99c462fe5c49f190",
       "style": "IPY_MODEL_67f0ed79c97249eb956aeed2775ce83b",
       "value": "<table><tr><th>http://example.org/a/alice</th><th></th><th>http://example.org/b/alice</th></tr><tr><td style=\"text-align:right;\">http://example.org/a/bob</td><td style=\"text-align:center;\">boss</td><td style=\"text-align:left;\">http://example.org/b/alice</td></tr><tr><td style=\"text-align:right;\">Alice</td><td style=\"text-align:center;\">label</td><td style=\"text-align:left;\">Alice</td></tr><tr><td style=\"text-align:right;\">45678^^http://www.w3.org/2001/XMLSchema#integer</td><td style=\"text-align:center;\">pnr</td><td style=\"text-align:left;\"></td></tr></table>"
      }
     },
     "ae8c9c0ff27543668d2e56ce53cf4883": {
      "model_module": "@jupyter-widgets/base",
      "model_module_version": "1.2.0",
      "model_name": "LayoutModel",
      "state": {}
     },
     "aebbdb9ba2c2421f8c17ec1ed3ce3d19": {
      "model_module": "@jupyter-widgets/controls",
      "model_module_version": "1.5.0",
      "model_name": "DescriptionStyleModel",
      "state": {
       "description_width": ""
      }
     },
     "aed80faf51fa4917adf04e0d4cdd7c75": {
      "model_module": "@jupyter-widgets/base",
      "model_module_version": "1.2.0",
      "model_name": "LayoutModel",
      "state": {}
     },
     "aeedb4b5b02746289cea93fed76ea268": {
      "model_module": "@jupyter-widgets/base",
      "model_module_version": "1.2.0",
      "model_name": "LayoutModel",
      "state": {}
     },
     "aefa0d2a7bc747d99fdae7e7b86ccbb9": {
      "model_module": "@jupyter-widgets/controls",
      "model_module_version": "1.5.0",
      "model_name": "ToggleButtonsStyleModel",
      "state": {
       "button_width": "auto",
       "description_width": ""
      }
     },
     "af25ac4c35d84e6ca05cb0ddab02088b": {
      "model_module": "@jupyter-widgets/base",
      "model_module_version": "1.2.0",
      "model_name": "LayoutModel",
      "state": {}
     },
     "af6c16c03bc44965a89c711e143d58d3": {
      "model_module": "@jupyter-widgets/controls",
      "model_module_version": "1.5.0",
      "model_name": "VBoxModel",
      "state": {
       "children": [
        "IPY_MODEL_2e09453cbecc420d82c7c63e04254617",
        "IPY_MODEL_916ae7f9cd8842e8a1faccaa73c8f21a"
       ],
       "layout": "IPY_MODEL_fd8f293dedf64f8fbb6a2d1db0a023ec"
      }
     },
     "af8b00992c8d4c9786e6160913a2c2f9": {
      "model_module": "@jupyter-widgets/controls",
      "model_module_version": "1.5.0",
      "model_name": "TabModel",
      "state": {
       "_titles": {
        "0": "person"
       },
       "children": [
        "IPY_MODEL_36e91cf614d84967b0866f339eb10577"
       ],
       "layout": "IPY_MODEL_86dd4dea89524fac8fd3ac60386d131c"
      }
     },
     "affc82909b694d35a88c16ca158f46eb": {
      "model_module": "@jupyter-widgets/base",
      "model_module_version": "1.2.0",
      "model_name": "LayoutModel",
      "state": {}
     },
     "b009c44068444eacb6aad9e55504e2cf": {
      "model_module": "@jupyter-widgets/controls",
      "model_module_version": "1.5.0",
      "model_name": "ToggleButtonsStyleModel",
      "state": {
       "button_width": "auto",
       "description_width": ""
      }
     },
     "b12bec8e7ec3458d8530e956285fb84c": {
      "model_module": "@jupyter-widgets/base",
      "model_module_version": "1.2.0",
      "model_name": "LayoutModel",
      "state": {}
     },
     "b167d35ce73e492da66f9171d310e0a7": {
      "model_module": "@jupyter-widgets/base",
      "model_module_version": "1.2.0",
      "model_name": "LayoutModel",
      "state": {}
     },
     "b1822ac7e8be40e8b56eac1579999933": {
      "model_module": "@jupyter-widgets/controls",
      "model_module_version": "1.5.0",
      "model_name": "HTMLModel",
      "state": {
       "layout": "IPY_MODEL_f5ec870d919a4f5d96fbc145c3d775c7",
       "style": "IPY_MODEL_a5cbe452ae9343c192c8afd004eb5def",
       "value": "<table><tr><th>http://example.org/a/alice</th><th></th><th>http://example.org/c/P001</th></tr><tr><td style=\"text-align:right;\">http://example.org/a/bob</td><td style=\"text-align:center;\">boss</td><td style=\"text-align:left;\"></td></tr><tr><td style=\"text-align:right;\">Alice</td><td style=\"text-align:center;\">label</td><td style=\"text-align:left;\">Alice</td></tr><tr><td style=\"text-align:right;\">45678^^http://www.w3.org/2001/XMLSchema#integer</td><td style=\"text-align:center;\">pnr</td><td style=\"text-align:left;\">12345^^http://www.w3.org/2001/XMLSchema#integer</td></tr><tr><td></td><td>http://example.org/a/alice</td><td>http://example.org/c/P001</td></tr></table>"
      }
     },
     "b26ae0a5b49f457bbc976d5dcce66941": {
      "model_module": "@jupyter-widgets/base",
      "model_module_version": "1.2.0",
      "model_name": "LayoutModel",
      "state": {}
     },
     "b270d078e76a423c9018a075e47ccf13": {
      "model_module": "@jupyter-widgets/controls",
      "model_module_version": "1.5.0",
      "model_name": "TabModel",
      "state": {
       "_titles": {
        "0": "person"
       },
       "children": [
        "IPY_MODEL_5919938da16d47cbbbe53d9f952a7ada"
       ],
       "layout": "IPY_MODEL_aeedb4b5b02746289cea93fed76ea268"
      }
     },
     "b29292fbe7ed401fb5db192731275d8c": {
      "model_module": "@jupyter-widgets/base",
      "model_module_version": "1.2.0",
      "model_name": "LayoutModel",
      "state": {}
     },
     "b2c4305e24034eecaf5701877e4a5299": {
      "model_module": "@jupyter-widgets/output",
      "model_module_version": "1.0.0",
      "model_name": "OutputModel",
      "state": {
       "layout": "IPY_MODEL_b5d5b3f9f4b04994907041c2641eb21c",
       "outputs": [
        {
         "data": {
          "text/html": "Updateing ...",
          "text/plain": "<IPython.core.display.HTML object>"
         },
         "metadata": {},
         "output_type": "display_data"
        },
        {
         "ename": "NameError",
         "evalue": "name 'bmanualMappingParameters' is not defined",
         "output_type": "error",
         "traceback": [
          "\u001b[0;31m---------------------------------------------------------------------------\u001b[0m",
          "\u001b[0;31mNameError\u001b[0m                                 Traceback (most recent call last)",
          "\u001b[0;32m<ipython-input-33-df4319f46a5e>\u001b[0m in \u001b[0;36mupdateMappings\u001b[0;34m(b)\u001b[0m\n\u001b[1;32m    108\u001b[0m         \u001b[0;31m# get remote manual mapping data\u001b[0m\u001b[0;34m\u001b[0m\u001b[0;34m\u001b[0m\u001b[0;34m\u001b[0m\u001b[0m\n\u001b[1;32m    109\u001b[0m         \u001b[0mmanualMappingParameters\u001b[0m \u001b[0;34m=\u001b[0m \u001b[0mmanualMappingStep\u001b[0m\u001b[0;34m.\u001b[0m\u001b[0mparameters\u001b[0m\u001b[0;34m(\u001b[0m\u001b[0;34m)\u001b[0m\u001b[0;34m[\u001b[0m\u001b[0;34m\"parameters\"\u001b[0m\u001b[0;34m]\u001b[0m\u001b[0;34m\u001b[0m\u001b[0;34m\u001b[0m\u001b[0m\n\u001b[0;32m--> 110\u001b[0;31m         \u001b[0mmanualPositiveMappings\u001b[0m \u001b[0;34m=\u001b[0m\u001b[0mbmanualMappingParameters\u001b[0m\u001b[0;34m[\u001b[0m\u001b[0;34m\"mappings\"\u001b[0m\u001b[0;34m]\u001b[0m\u001b[0;34m\u001b[0m\u001b[0;34m\u001b[0m\u001b[0m\n\u001b[0m\u001b[1;32m    111\u001b[0m         \u001b[0mmanualNegativeMappings\u001b[0m \u001b[0;34m=\u001b[0m \u001b[0mmanualMappingParameters\u001b[0m\u001b[0;34m[\u001b[0m\u001b[0;34m\"suppressed_mappings\"\u001b[0m\u001b[0;34m]\u001b[0m\u001b[0;34m\u001b[0m\u001b[0;34m\u001b[0m\u001b[0m\n\u001b[1;32m    112\u001b[0m         \u001b[0mdisplay\u001b[0m\u001b[0;34m(\u001b[0m\u001b[0mmanualPositiveMappings\u001b[0m\u001b[0;34m,\u001b[0m\u001b[0mmanualNegativeMappings\u001b[0m\u001b[0;34m)\u001b[0m\u001b[0;34m\u001b[0m\u001b[0;34m\u001b[0m\u001b[0m\n",
          "\u001b[0;31mNameError\u001b[0m: name 'bmanualMappingParameters' is not defined"
         ]
        }
       ]
      }
     },
     "b3552576d37444e08f5475acc320e485": {
      "model_module": "@jupyter-widgets/base",
      "model_module_version": "1.2.0",
      "model_name": "LayoutModel",
      "state": {
       "max_height": "50em"
      }
     },
     "b3aab3b720f746d6b21a0adb1ccdaad2": {
      "model_module": "@jupyter-widgets/base",
      "model_module_version": "1.2.0",
      "model_name": "LayoutModel",
      "state": {}
     },
     "b459efabdf4f4408a8eebb3bdadb3a7b": {
      "model_module": "@jupyter-widgets/controls",
      "model_module_version": "1.5.0",
      "model_name": "HBoxModel",
      "state": {
       "children": [
        "IPY_MODEL_64d166d539134082864934b2212c5e18",
        "IPY_MODEL_3914564daa3a4249a0554d3f96df011d"
       ],
       "layout": "IPY_MODEL_f1bad05628c449ad9deacb5fbe73c906"
      }
     },
     "b518ef17cbfc499e9a776bdc76031dcd": {
      "model_module": "@jupyter-widgets/base",
      "model_module_version": "1.2.0",
      "model_name": "LayoutModel",
      "state": {
       "border": "solid"
      }
     },
     "b537e08c6b5545b5b340c8bd44835218": {
      "model_module": "@jupyter-widgets/base",
      "model_module_version": "1.2.0",
      "model_name": "LayoutModel",
      "state": {}
     },
     "b552e9a8e86b4a6e82b4818065a7f42f": {
      "model_module": "@jupyter-widgets/base",
      "model_module_version": "1.2.0",
      "model_name": "LayoutModel",
      "state": {}
     },
     "b56162f8b7f04fb691bae9ae01bce930": {
      "model_module": "@jupyter-widgets/controls",
      "model_module_version": "1.5.0",
      "model_name": "ToggleButtonsModel",
      "state": {
       "_options_labels": [
        "✓",
        "?",
        "✗"
       ],
       "button_style": "",
       "icons": [],
       "index": 1,
       "layout": "IPY_MODEL_bfebcb52a58541b5a39f2f3f8337ff5e",
       "style": "IPY_MODEL_a6c87cbd0440493aa99b2c366352ef88",
       "tooltips": [
        "Accept",
        "Retain",
        "Reject"
       ]
      }
     },
     "b5894ea317744eca90d4cb4545b12fde": {
      "model_module": "@jupyter-widgets/controls",
      "model_module_version": "1.5.0",
      "model_name": "ToggleButtonsStyleModel",
      "state": {
       "button_width": "auto",
       "description_width": ""
      }
     },
     "b58c78d04ef14895928eb809cc3a3fd6": {
      "model_module": "@jupyter-widgets/base",
      "model_module_version": "1.2.0",
      "model_name": "LayoutModel",
      "state": {}
     },
     "b590ea4155c74e208251f42fff061c71": {
      "model_module": "@jupyter-widgets/base",
      "model_module_version": "1.2.0",
      "model_name": "LayoutModel",
      "state": {}
     },
     "b59df4d90b934dbcbc345deaf464c8e5": {
      "model_module": "@jupyter-widgets/controls",
      "model_module_version": "1.5.0",
      "model_name": "ToggleButtonsStyleModel",
      "state": {
       "button_width": "auto",
       "description_width": ""
      }
     },
     "b5bb39b5ab8e4741acdc0218c7ea60ab": {
      "model_module": "@jupyter-widgets/controls",
      "model_module_version": "1.5.0",
      "model_name": "HTMLModel",
      "state": {
       "layout": "IPY_MODEL_b9da2c0c6a7945bfa91c31d097317937",
       "style": "IPY_MODEL_533b8f95e069456e8ebcd18c31a9cdf1",
       "value": "<table><tr><th>http://example.org/b/charlie</th><th></th><th>http://example.org/c/P002</th></tr><tr><td style=\"text-align:right;\">Charlie</td><td style=\"text-align:center;\">label</td><td style=\"text-align:left;\">Charlie</td></tr><tr><td style=\"text-align:right;\"></td><td style=\"text-align:center;\">pnr</td><td style=\"text-align:left;\">45678^^http://www.w3.org/2001/XMLSchema#integer</td></tr><tr><td></td><td>http://example.org/b/charlie</td><td>http://example.org/c/P002</td></tr></table>"
      }
     },
     "b5d5b3f9f4b04994907041c2641eb21c": {
      "model_module": "@jupyter-widgets/base",
      "model_module_version": "1.2.0",
      "model_name": "LayoutModel",
      "state": {}
     },
     "b6520f2b5d2e45caa983a2cbff86eb1f": {
      "model_module": "@jupyter-widgets/controls",
      "model_module_version": "1.5.0",
      "model_name": "VBoxModel",
      "state": {
       "children": [
        "IPY_MODEL_5f20a71a17c048a5a0a31437b3d0ad72"
       ],
       "layout": "IPY_MODEL_b9ee073cae7749948dcb648cc78bbe31"
      }
     },
     "b787d350fd9a4ad19861980232fb71d7": {
      "model_module": "@jupyter-widgets/controls",
      "model_module_version": "1.5.0",
      "model_name": "HBoxModel",
      "state": {
       "children": [
        "IPY_MODEL_8dc0bc7c63d34bfeaa0f79ba495cf5d1",
        "IPY_MODEL_2c93a6d2bd374319a2ac6f383fd250b5"
       ],
       "layout": "IPY_MODEL_81a5a022ff9642429c1d917c08eaa071"
      }
     },
     "b79e1b81149b47599d6c4e2dc5d123b1": {
      "model_module": "@jupyter-widgets/base",
      "model_module_version": "1.2.0",
      "model_name": "LayoutModel",
      "state": {}
     },
     "b873ed55cdfd41e1876fb8899c8b6000": {
      "model_module": "@jupyter-widgets/controls",
      "model_module_version": "1.5.0",
      "model_name": "DescriptionStyleModel",
      "state": {
       "description_width": ""
      }
     },
     "b8994250805642779e41426f6a4ae63d": {
      "model_module": "@jupyter-widgets/controls",
      "model_module_version": "1.5.0",
      "model_name": "DescriptionStyleModel",
      "state": {
       "description_width": ""
      }
     },
     "b8e3f94628d543f383b6bbdafe2691d4": {
      "model_module": "@jupyter-widgets/base",
      "model_module_version": "1.2.0",
      "model_name": "LayoutModel",
      "state": {}
     },
     "b9da2c0c6a7945bfa91c31d097317937": {
      "model_module": "@jupyter-widgets/base",
      "model_module_version": "1.2.0",
      "model_name": "LayoutModel",
      "state": {}
     },
     "b9ee073cae7749948dcb648cc78bbe31": {
      "model_module": "@jupyter-widgets/base",
      "model_module_version": "1.2.0",
      "model_name": "LayoutModel",
      "state": {}
     },
     "ba278499a5304152982266e77fa91440": {
      "model_module": "@jupyter-widgets/output",
      "model_module_version": "1.0.0",
      "model_name": "OutputModel",
      "state": {
       "layout": "IPY_MODEL_ec7b1604200c4a788c0da80506cb408c"
      }
     },
     "ba92235ea84b4aee9af8275689bec18a": {
      "model_module": "@jupyter-widgets/base",
      "model_module_version": "1.2.0",
      "model_name": "LayoutModel",
      "state": {}
     },
     "bad266604eea48d49473dcb5e618c541": {
      "model_module": "@jupyter-widgets/controls",
      "model_module_version": "1.5.0",
      "model_name": "ToggleButtonsModel",
      "state": {
       "_options_labels": [
        "✓",
        "?",
        "✗"
       ],
       "button_style": "",
       "icons": [],
       "index": 1,
       "layout": "IPY_MODEL_d21c2795e09643dcae66a5f2797e7fee",
       "style": "IPY_MODEL_a19190334cf74fb59aa20e0a8af01684",
       "tooltips": [
        "Accept",
        "Retain",
        "Reject"
       ]
      }
     },
     "bb0d40b1ecff451c8cca5d2f897dce7e": {
      "model_module": "@jupyter-widgets/controls",
      "model_module_version": "1.5.0",
      "model_name": "DescriptionStyleModel",
      "state": {
       "description_width": ""
      }
     },
     "bb3da66849e44db5b7b783afc3a1e078": {
      "model_module": "@jupyter-widgets/base",
      "model_module_version": "1.2.0",
      "model_name": "LayoutModel",
      "state": {}
     },
     "bbe131cd5976495f9b369562e75a0102": {
      "model_module": "@jupyter-widgets/controls",
      "model_module_version": "1.5.0",
      "model_name": "HBoxModel",
      "state": {
       "children": [
        "IPY_MODEL_68085327d7bb4330924d194abca6bfdf",
        "IPY_MODEL_1ca655d0e7724d73bb04b8c444115a1f"
       ],
       "layout": "IPY_MODEL_20b156dcc9ac41279e3d9123c7e1617e"
      }
     },
     "bc1de4100c7e4c66af921c24efc594d9": {
      "model_module": "@jupyter-widgets/controls",
      "model_module_version": "1.5.0",
      "model_name": "ButtonStyleModel",
      "state": {}
     },
     "bc5b459f3229428e9c93ca451dd39e1e": {
      "model_module": "@jupyter-widgets/controls",
      "model_module_version": "1.5.0",
      "model_name": "ButtonStyleModel",
      "state": {}
     },
     "bc737d5158e948ce841301bb91507e1d": {
      "model_module": "@jupyter-widgets/controls",
      "model_module_version": "1.5.0",
      "model_name": "ToggleButtonsStyleModel",
      "state": {
       "button_width": "auto",
       "description_width": ""
      }
     },
     "bd02c7355fa140f2985fc2398aab138e": {
      "model_module": "@jupyter-widgets/controls",
      "model_module_version": "1.5.0",
      "model_name": "HBoxModel",
      "state": {
       "children": [
        "IPY_MODEL_01d3ba184c484b12bef3f400a8e39e87",
        "IPY_MODEL_89284fc15aa64cebab8fa7a646c60e51"
       ],
       "layout": "IPY_MODEL_ec7863db0eb0409780223f64ea393c7b"
      }
     },
     "bd08ac0e3f19413bb528dcd6d460429b": {
      "model_module": "@jupyter-widgets/controls",
      "model_module_version": "1.5.0",
      "model_name": "ToggleButtonsStyleModel",
      "state": {
       "button_width": "auto",
       "description_width": ""
      }
     },
     "be02e958b97d479ea69dace207d738ab": {
      "model_module": "@jupyter-widgets/base",
      "model_module_version": "1.2.0",
      "model_name": "LayoutModel",
      "state": {}
     },
     "be0e75ac407a4053b592995adcd6b7e3": {
      "model_module": "@jupyter-widgets/base",
      "model_module_version": "1.2.0",
      "model_name": "LayoutModel",
      "state": {}
     },
     "be965231d50f46bc852718d609dcabe7": {
      "model_module": "@jupyter-widgets/controls",
      "model_module_version": "1.5.0",
      "model_name": "DescriptionStyleModel",
      "state": {
       "description_width": ""
      }
     },
     "bea06badb40448f7a7d915509a47ab9a": {
      "model_module": "@jupyter-widgets/base",
      "model_module_version": "1.2.0",
      "model_name": "LayoutModel",
      "state": {}
     },
     "bf3c0278a7524678856b3f7839903419": {
      "model_module": "@jupyter-widgets/base",
      "model_module_version": "1.2.0",
      "model_name": "LayoutModel",
      "state": {}
     },
     "bf7ee4b7d91148b0a91aee1d6b1f0898": {
      "model_module": "@jupyter-widgets/base",
      "model_module_version": "1.2.0",
      "model_name": "LayoutModel",
      "state": {}
     },
     "bf9096ce3ff3416ba997ad062e940439": {
      "model_module": "@jupyter-widgets/base",
      "model_module_version": "1.2.0",
      "model_name": "LayoutModel",
      "state": {}
     },
     "bfa897e0d2de46f1a33e9d21fca4de60": {
      "model_module": "@jupyter-widgets/controls",
      "model_module_version": "1.5.0",
      "model_name": "ToggleButtonsModel",
      "state": {
       "_options_labels": [
        "✓",
        "?",
        "✗"
       ],
       "button_style": "",
       "icons": [],
       "index": 1,
       "layout": "IPY_MODEL_cdf488060e2f4ccbb0b9744a2d5366d6",
       "style": "IPY_MODEL_75c23f33e006462f9ffbe726c5f72c50",
       "tooltips": [
        "Accept",
        "Retain",
        "Reject"
       ]
      }
     },
     "bfb38d4461364b26b1923d2a46796536": {
      "model_module": "@jupyter-widgets/base",
      "model_module_version": "1.2.0",
      "model_name": "LayoutModel",
      "state": {}
     },
     "bfd9cb835a534fbbb5262a77ac9a8c14": {
      "model_module": "@jupyter-widgets/base",
      "model_module_version": "1.2.0",
      "model_name": "LayoutModel",
      "state": {}
     },
     "bfebcb52a58541b5a39f2f3f8337ff5e": {
      "model_module": "@jupyter-widgets/base",
      "model_module_version": "1.2.0",
      "model_name": "LayoutModel",
      "state": {}
     },
     "c0161f72d33b4a75b35c3d617da55d02": {
      "model_module": "@jupyter-widgets/controls",
      "model_module_version": "1.5.0",
      "model_name": "VBoxModel",
      "state": {
       "children": [
        "IPY_MODEL_953104193bed46958610a06fff066b81"
       ],
       "layout": "IPY_MODEL_57126d9ded264ad295d7df192b33176b"
      }
     },
     "c15d18b116da453188dc5de31f2cdaff": {
      "model_module": "@jupyter-widgets/controls",
      "model_module_version": "1.5.0",
      "model_name": "TabModel",
      "state": {
       "_titles": {
        "0": "person"
       },
       "children": [
        "IPY_MODEL_6fb6885648e1431e889690f92bd95578"
       ],
       "layout": "IPY_MODEL_6d38f9a3404440bbb7585b30a22359ac"
      }
     },
     "c184400780b746cd820fd3408b1801cc": {
      "model_module": "@jupyter-widgets/controls",
      "model_module_version": "1.5.0",
      "model_name": "ButtonModel",
      "state": {
       "description": "Update Mappings",
       "layout": "IPY_MODEL_3f913a0ac799416aacd4099e2ba6d5ab",
       "style": "IPY_MODEL_2e33b359794548ba8b747f384650d25c"
      }
     },
     "c1896a30138f4c9da0c0e5f806d5b9de": {
      "model_module": "@jupyter-widgets/base",
      "model_module_version": "1.2.0",
      "model_name": "LayoutModel",
      "state": {}
     },
     "c2119c4a00364c0e825c082b0762d1e2": {
      "model_module": "@jupyter-widgets/controls",
      "model_module_version": "1.5.0",
      "model_name": "HTMLModel",
      "state": {
       "layout": "IPY_MODEL_bf3c0278a7524678856b3f7839903419",
       "style": "IPY_MODEL_8fa694c8e3e9482a978b5c91c4034038",
       "value": "<table><tr><th>http://example.org/a/bill</th><th></th><th>http://example.org/b/william</th></tr><tr><td style=\"text-align:right;\">http://example.org/a/alice</td><td style=\"text-align:center;\">boss</td><td style=\"text-align:left;\">Alice</td></tr><tr><td style=\"text-align:right;\">Bill</td><td style=\"text-align:center;\">label</td><td style=\"text-align:left;\">William</td></tr><tr><td style=\"text-align:right;\">67890^^http://www.w3.org/2001/XMLSchema#integer</td><td style=\"text-align:center;\">pnr</td><td style=\"text-align:left;\"></td></tr><tr><td></td><td>http://example.org/a/bill</td><td>http://example.org/b/william</td></tr></table>"
      }
     },
     "c215a75fec214262804e02c6eebc06fb": {
      "model_module": "@jupyter-widgets/controls",
      "model_module_version": "1.5.0",
      "model_name": "DescriptionStyleModel",
      "state": {
       "description_width": ""
      }
     },
     "c22f1521746849a08f99c524ae8d9930": {
      "model_module": "@jupyter-widgets/controls",
      "model_module_version": "1.5.0",
      "model_name": "ToggleButtonsStyleModel",
      "state": {
       "button_width": "auto",
       "description_width": ""
      }
     },
     "c2439eebb2f24dafbbdc848c09e11e0b": {
      "model_module": "@jupyter-widgets/controls",
      "model_module_version": "1.5.0",
      "model_name": "HTMLModel",
      "state": {
       "layout": "IPY_MODEL_5b2362f9e86c4e62b8fdf06a86275628",
       "style": "IPY_MODEL_2cdfcfd472514e8bbb5619a5c6c5a97a",
       "value": "<table><tr><th>http://example.org/b/charlie</th><th></th><th>http://example.org/c/P002</th></tr><tr><td style=\"text-align:right;\">Charlie</td><td style=\"text-align:center;\">label</td><td style=\"text-align:left;\">Charlie</td></tr><tr><td style=\"text-align:right;\"></td><td style=\"text-align:center;\">pnr</td><td style=\"text-align:left;\">45678^^http://www.w3.org/2001/XMLSchema#integer</td></tr><tr><td></td><td>http://example.org/b/charlie</td><td>http://example.org/c/P002</td></tr></table>"
      }
     },
     "c2611be8ed1942298d093fda7a3307f0": {
      "model_module": "@jupyter-widgets/controls",
      "model_module_version": "1.5.0",
      "model_name": "ToggleButtonsStyleModel",
      "state": {
       "button_width": "auto",
       "description_width": ""
      }
     },
     "c30c5c1e8af64a80956f64b55633cc2d": {
      "model_module": "@jupyter-widgets/controls",
      "model_module_version": "1.5.0",
      "model_name": "DescriptionStyleModel",
      "state": {
       "description_width": ""
      }
     },
     "c367085adea0494ebd8a79c5e48da091": {
      "model_module": "@jupyter-widgets/base",
      "model_module_version": "1.2.0",
      "model_name": "LayoutModel",
      "state": {
       "border": "solid 1px lightgrey"
      }
     },
     "c369a38b30844ca8be95330adebeab5d": {
      "model_module": "@jupyter-widgets/base",
      "model_module_version": "1.2.0",
      "model_name": "LayoutModel",
      "state": {}
     },
     "c3cdb160d3ab49e28ef3bb6639e6a7a7": {
      "model_module": "@jupyter-widgets/controls",
      "model_module_version": "1.5.0",
      "model_name": "HTMLModel",
      "state": {
       "layout": "IPY_MODEL_ae2e496bc54a47f795c19f2ba54b976b",
       "style": "IPY_MODEL_d089e1bad5024c0a9d1a80943b619440",
       "value": "<table><tr><th>http://example.org/b/alice</th><th></th><th>http://example.org/c/P001</th></tr><tr><td style=\"text-align:right;\">http://example.org/b/alice</td><td style=\"text-align:center;\">boss</td><td style=\"text-align:left;\"></td></tr><tr><td style=\"text-align:right;\">Alice</td><td style=\"text-align:center;\">label</td><td style=\"text-align:left;\">Alice</td></tr><tr><td style=\"text-align:right;\"></td><td style=\"text-align:center;\">pnr</td><td style=\"text-align:left;\">12345^^http://www.w3.org/2001/XMLSchema#integer</td></tr><tr><td></td><td>http://example.org/b/alice</td><td>http://example.org/c/P001</td></tr></table>"
      }
     },
     "c3d03a92c4164dc29ae2a29331c6fb83": {
      "model_module": "@jupyter-widgets/base",
      "model_module_version": "1.2.0",
      "model_name": "LayoutModel",
      "state": {}
     },
     "c3fe2cb2fc364d6f8be1c583fe76771b": {
      "model_module": "@jupyter-widgets/controls",
      "model_module_version": "1.5.0",
      "model_name": "HTMLModel",
      "state": {
       "layout": "IPY_MODEL_c69d5477e98045f2b66abb575b88b3cb",
       "style": "IPY_MODEL_0823459e998448da8288c3edb92d227b",
       "value": "<table><tr><th>http://example.org/b/alice</th><th></th><th>http://example.org/c/P001</th></tr><tr><td style=\"text-align:right;\">http://example.org/b/alice</td><td style=\"text-align:center;\">boss</td><td style=\"text-align:left;\"></td></tr><tr><td style=\"text-align:right;\">Alice</td><td style=\"text-align:center;\">label</td><td style=\"text-align:left;\">Alice</td></tr><tr><td style=\"text-align:right;\"></td><td style=\"text-align:center;\">pnr</td><td style=\"text-align:left;\">12345^^http://www.w3.org/2001/XMLSchema#integer</td></tr></table>"
      }
     },
     "c4304a4954674ec583b54b71ef35a9c7": {
      "model_module": "@jupyter-widgets/output",
      "model_module_version": "1.0.0",
      "model_name": "OutputModel",
      "state": {
       "layout": "IPY_MODEL_ab5c640fb0c0476a9ab4e17f2994ee58"
      }
     },
     "c487ad3df4554370b48adfe0baf97937": {
      "model_module": "@jupyter-widgets/controls",
      "model_module_version": "1.5.0",
      "model_name": "DescriptionStyleModel",
      "state": {
       "description_width": ""
      }
     },
     "c490cd37017a4730b6fb1c0943be32f7": {
      "model_module": "@jupyter-widgets/controls",
      "model_module_version": "1.5.0",
      "model_name": "DescriptionStyleModel",
      "state": {
       "description_width": ""
      }
     },
     "c4bd2ab739c442b9af310621bef5d92d": {
      "model_module": "@jupyter-widgets/base",
      "model_module_version": "1.2.0",
      "model_name": "LayoutModel",
      "state": {}
     },
     "c4df99b8d1dd4c8aab4d975a17b7ab2d": {
      "model_module": "@jupyter-widgets/base",
      "model_module_version": "1.2.0",
      "model_name": "LayoutModel",
      "state": {}
     },
     "c4f721695c8844b0887448e30eea9fdb": {
      "model_module": "@jupyter-widgets/base",
      "model_module_version": "1.2.0",
      "model_name": "LayoutModel",
      "state": {}
     },
     "c50b36e818e946599d6c1389642fb7f7": {
      "model_module": "@jupyter-widgets/controls",
      "model_module_version": "1.5.0",
      "model_name": "ToggleButtonsStyleModel",
      "state": {
       "button_width": "auto",
       "description_width": ""
      }
     },
     "c52ac8c7d6554635b734b14b6c14182e": {
      "model_module": "@jupyter-widgets/base",
      "model_module_version": "1.2.0",
      "model_name": "LayoutModel",
      "state": {}
     },
     "c5c365a34f814190ad0d84e0d2cab467": {
      "model_module": "@jupyter-widgets/controls",
      "model_module_version": "1.5.0",
      "model_name": "HBoxModel",
      "state": {
       "children": [
        "IPY_MODEL_077192a0c5294900b74d29a4a5da0301",
        "IPY_MODEL_35d176457f2345a0946a18168fedbcbe"
       ],
       "layout": "IPY_MODEL_71524c87557a4e958d00575b07121bda"
      }
     },
     "c5d8db9e3082471186d63aa7011cf77e": {
      "model_module": "@jupyter-widgets/base",
      "model_module_version": "1.2.0",
      "model_name": "LayoutModel",
      "state": {}
     },
     "c5e614b2335e4f4db7d890045e528bd3": {
      "model_module": "@jupyter-widgets/controls",
      "model_module_version": "1.5.0",
      "model_name": "ButtonModel",
      "state": {
       "description": "Update Mappings",
       "layout": "IPY_MODEL_a198ca94bf7a4e518802173e9229d566",
       "style": "IPY_MODEL_f43f66dcc0994509893364bbe3e3932d"
      }
     },
     "c644f3ea2f454b52b34eb133bf3d0fe1": {
      "model_module": "@jupyter-widgets/controls",
      "model_module_version": "1.5.0",
      "model_name": "VBoxModel",
      "state": {
       "children": [
        "IPY_MODEL_f67f58aef7ab4c80b14f3015166175ba",
        "IPY_MODEL_d49068c3572b4c69a4f8259b35b1a361"
       ],
       "layout": "IPY_MODEL_1050eccc284a4e33ad259a36757aadcb"
      }
     },
     "c69d5477e98045f2b66abb575b88b3cb": {
      "model_module": "@jupyter-widgets/base",
      "model_module_version": "1.2.0",
      "model_name": "LayoutModel",
      "state": {}
     },
     "c6a755a599564cc08295524fd3ec9ba8": {
      "model_module": "@jupyter-widgets/controls",
      "model_module_version": "1.5.0",
      "model_name": "ToggleButtonsStyleModel",
      "state": {
       "button_width": "auto",
       "description_width": ""
      }
     },
     "c6dc4fcae4504ecdb58085729120ed19": {
      "model_module": "@jupyter-widgets/base",
      "model_module_version": "1.2.0",
      "model_name": "LayoutModel",
      "state": {}
     },
     "c6de8483d43d43119eb759fbf30b3624": {
      "model_module": "@jupyter-widgets/controls",
      "model_module_version": "1.5.0",
      "model_name": "ToggleButtonsStyleModel",
      "state": {
       "button_width": "auto",
       "description_width": ""
      }
     },
     "c797df24b8d84631b7c2c2828bb13acc": {
      "model_module": "@jupyter-widgets/controls",
      "model_module_version": "1.5.0",
      "model_name": "ToggleButtonsModel",
      "state": {
       "_options_labels": [
        "✓",
        "?",
        "✗"
       ],
       "button_style": "",
       "icons": [],
       "index": 1,
       "layout": "IPY_MODEL_1089a48ea47c4c19823a976e3e7b6f49",
       "style": "IPY_MODEL_832b25c4bc734db7be91717c8c4785f4",
       "tooltips": [
        "Accept",
        "Retain",
        "Reject"
       ]
      }
     },
     "c7b245522dd740b6af76589a59743698": {
      "model_module": "@jupyter-widgets/controls",
      "model_module_version": "1.5.0",
      "model_name": "HTMLModel",
      "state": {
       "layout": "IPY_MODEL_3093992def1449ecb03b654de02b8be1",
       "style": "IPY_MODEL_b873ed55cdfd41e1876fb8899c8b6000",
       "value": "<table><tr><th>http://example.org/b/alice</th><th></th><th>http://example.org/c/P001</th></tr><tr><td style=\"text-align:right;\">http://example.org/b/alice</td><td style=\"text-align:center;\">boss</td><td style=\"text-align:left;\"></td></tr><tr><td style=\"text-align:right;\">Alice</td><td style=\"text-align:center;\">label</td><td style=\"text-align:left;\">Alice</td></tr><tr><td style=\"text-align:right;\"></td><td style=\"text-align:center;\">pnr</td><td style=\"text-align:left;\">12345^^http://www.w3.org/2001/XMLSchema#integer</td></tr><tr><td></td><td>http://example.org/b/alice</td><td>http://example.org/c/P001</td></tr></table>"
      }
     },
     "c7c1b8ac9859488bbcbe3e794a817522": {
      "model_module": "@jupyter-widgets/controls",
      "model_module_version": "1.5.0",
      "model_name": "ToggleButtonsModel",
      "state": {
       "_options_labels": [
        "✓",
        "?",
        "✗"
       ],
       "button_style": "",
       "icons": [],
       "index": 1,
       "layout": "IPY_MODEL_6eb8a49090394c098d0fe832e1357603",
       "style": "IPY_MODEL_6d4a745c061040979cf9b3e6ba580e61",
       "tooltips": [
        "Accept",
        "Retain",
        "Reject"
       ]
      }
     },
     "c83201b6d5044187b08509b8bf22c637": {
      "model_module": "@jupyter-widgets/controls",
      "model_module_version": "1.5.0",
      "model_name": "ButtonStyleModel",
      "state": {}
     },
     "c89f7e9f1fcf44a2988e3edea4bf3e10": {
      "model_module": "@jupyter-widgets/controls",
      "model_module_version": "1.5.0",
      "model_name": "HTMLModel",
      "state": {
       "layout": "IPY_MODEL_766287029fa24273993ecdd0df14f976",
       "style": "IPY_MODEL_4600ac0536d7400d8678c4e545a03b06",
       "value": "<table><tr><th>http://example.org/b/charlie</th><th></th><th>http://example.org/c/P002</th></tr><tr><td style=\"text-align:right;\">Charlie</td><td style=\"text-align:center;\">label</td><td style=\"text-align:left;\">Charlie</td></tr><tr><td style=\"text-align:right;\"></td><td style=\"text-align:center;\">pnr</td><td style=\"text-align:left;\">45678^^http://www.w3.org/2001/XMLSchema#integer</td></tr></table>"
      }
     },
     "c8c007bd030d42daac6634d9c0d6cef5": {
      "model_module": "@jupyter-widgets/controls",
      "model_module_version": "1.5.0",
      "model_name": "ToggleButtonsStyleModel",
      "state": {
       "button_width": "auto",
       "description_width": ""
      }
     },
     "c9258a8887ab4c6f91dcff6d9d093037": {
      "model_module": "@jupyter-widgets/controls",
      "model_module_version": "1.5.0",
      "model_name": "TabModel",
      "state": {
       "_titles": {
        "0": "ABC <-> DEF",
        "1": "ABC <-> GHI",
        "2": "DEF <-> GHI"
       },
       "children": [
        "IPY_MODEL_cbf172af1a1a41a4ac919cc2e62c0a59",
        "IPY_MODEL_6cc121b130a34659a6593589a5259e19",
        "IPY_MODEL_6f0c443fba2049b1b80ebbb3daa31d6e"
       ],
       "layout": "IPY_MODEL_86b809dbff204af39d534bc21466b3a9"
      }
     },
     "c96de86ae2764567b43510a4e39c1601": {
      "model_module": "@jupyter-widgets/controls",
      "model_module_version": "1.5.0",
      "model_name": "ToggleButtonsStyleModel",
      "state": {
       "button_width": "auto",
       "description_width": ""
      }
     },
     "c9f1bd5244bf4ae99399bbdb799d63d0": {
      "model_module": "@jupyter-widgets/controls",
      "model_module_version": "1.5.0",
      "model_name": "VBoxModel",
      "state": {
       "children": [
        "IPY_MODEL_7dd8409fea5d4933bc6e3ede74511c89",
        "IPY_MODEL_9c9c0a7b97e54dbbbdd19dbab37991c4"
       ],
       "layout": "IPY_MODEL_61b12eb425a5470d916c79735f039163"
      }
     },
     "ca18aeb84f634805aab6681af3f67630": {
      "model_module": "@jupyter-widgets/controls",
      "model_module_version": "1.5.0",
      "model_name": "ToggleButtonsStyleModel",
      "state": {
       "button_width": "auto",
       "description_width": ""
      }
     },
     "ca36b23bc1814ce18b8b23f190264668": {
      "model_module": "@jupyter-widgets/base",
      "model_module_version": "1.2.0",
      "model_name": "LayoutModel",
      "state": {}
     },
     "ca7b1228f1b6435ba1f6824caaa8c6ae": {
      "model_module": "@jupyter-widgets/base",
      "model_module_version": "1.2.0",
      "model_name": "LayoutModel",
      "state": {}
     },
     "ca9c2c1161d244f48ad052933875b88b": {
      "model_module": "@jupyter-widgets/controls",
      "model_module_version": "1.5.0",
      "model_name": "ToggleButtonsStyleModel",
      "state": {
       "button_width": "auto",
       "description_width": ""
      }
     },
     "cae0e9d8faba44fb958765d9ecfbcbf4": {
      "model_module": "@jupyter-widgets/controls",
      "model_module_version": "1.5.0",
      "model_name": "TabModel",
      "state": {
       "_titles": {
        "0": "ABC <-> DEF",
        "1": "ABC <-> GHI",
        "2": "DEF <-> GHI"
       },
       "children": [
        "IPY_MODEL_8b6ca2f634a544c798ed9db14ae2fe8b",
        "IPY_MODEL_b6520f2b5d2e45caa983a2cbff86eb1f",
        "IPY_MODEL_808ab2e4ef254e2891c0384e270423b9"
       ],
       "layout": "IPY_MODEL_15f87635fd324fdb9d8bccc759368f0f"
      }
     },
     "cb0c21e347fe4b88a7b3aaf670209a2f": {
      "model_module": "@jupyter-widgets/controls",
      "model_module_version": "1.5.0",
      "model_name": "HTMLModel",
      "state": {
       "layout": "IPY_MODEL_1f0b2722a2c244a497712c10fff89d2d",
       "style": "IPY_MODEL_9273f7a12fac45bab98edd66b48b6afd",
       "value": "<table><tr><th>http://example.org/a/alice</th><th></th><th>http://example.org/b/alice</th></tr><tr><td style=\"text-align:right;\">http://example.org/a/bob</td><td style=\"text-align:center;\">boss</td><td style=\"text-align:left;\">http://example.org/b/alice</td></tr><tr><td style=\"text-align:right;\">Alice</td><td style=\"text-align:center;\">label</td><td style=\"text-align:left;\">Alice</td></tr><tr><td style=\"text-align:right;\">45678^^http://www.w3.org/2001/XMLSchema#integer</td><td style=\"text-align:center;\">pnr</td><td style=\"text-align:left;\"></td></tr><tr><td></td><td>http://example.org/a/alice</td><td>http://example.org/b/alice</td></tr></table>"
      }
     },
     "cb63548979f44d2bbdbde2e81dd0b0e1": {
      "model_module": "@jupyter-widgets/controls",
      "model_module_version": "1.5.0",
      "model_name": "ToggleButtonsStyleModel",
      "state": {
       "button_width": "auto",
       "description_width": ""
      }
     },
     "cbc678f4f9e14864a83280ab66d2bdde": {
      "model_module": "@jupyter-widgets/controls",
      "model_module_version": "1.5.0",
      "model_name": "VBoxModel",
      "state": {
       "children": [
        "IPY_MODEL_459a920dc2d748139b59a8f81bdc3ec5",
        "IPY_MODEL_cded69bcb20745d19d3f3919d54cbe35"
       ],
       "layout": "IPY_MODEL_4bc924b6dcb9422ab1088dff625ced7b"
      }
     },
     "cbf172af1a1a41a4ac919cc2e62c0a59": {
      "model_module": "@jupyter-widgets/controls",
      "model_module_version": "1.5.0",
      "model_name": "VBoxModel",
      "state": {
       "children": [
        "IPY_MODEL_52e52abcab7247d5a661566b8ff80ce8",
        "IPY_MODEL_e2d29037e1d34e2fa2bc7daf79b3b3e7"
       ],
       "layout": "IPY_MODEL_36acff988c4e4bc4ab18524bfedc0e43"
      }
     },
     "cc182a4eb6bd4e8ab18bee6cb2911675": {
      "model_module": "@jupyter-widgets/controls",
      "model_module_version": "1.5.0",
      "model_name": "ToggleButtonsModel",
      "state": {
       "_options_labels": [
        "✓",
        "?",
        "✗"
       ],
       "button_style": "",
       "icons": [],
       "index": 1,
       "layout": "IPY_MODEL_2b6c0d2a86214cc18204ed3c3dba1d1b",
       "style": "IPY_MODEL_b59df4d90b934dbcbc345deaf464c8e5",
       "tooltips": [
        "Accept",
        "Retain",
        "Reject"
       ]
      }
     },
     "cc5e7d2daf854f3fb5d5c6c6a40e8ce1": {
      "model_module": "@jupyter-widgets/base",
      "model_module_version": "1.2.0",
      "model_name": "LayoutModel",
      "state": {}
     },
     "cc90fffd9978461b838340ad8ae4965f": {
      "model_module": "@jupyter-widgets/controls",
      "model_module_version": "1.5.0",
      "model_name": "VBoxModel",
      "state": {
       "children": [
        "IPY_MODEL_5a0f6d5543864c408bd114ab439036e2",
        "IPY_MODEL_7b31e00b099f4de79b654e62e4eb770b"
       ],
       "layout": "IPY_MODEL_70773de7c0e248a1859df09be2af1c9c"
      }
     },
     "cc98324e0fb94bea97fc99ea08f1404f": {
      "model_module": "@jupyter-widgets/base",
      "model_module_version": "1.2.0",
      "model_name": "LayoutModel",
      "state": {}
     },
     "ccb74787562940c582777d7864834680": {
      "model_module": "@jupyter-widgets/controls",
      "model_module_version": "1.5.0",
      "model_name": "VBoxModel",
      "state": {
       "children": [
        "IPY_MODEL_139d9f0b31be410db1e817b12d2b65cc"
       ],
       "layout": "IPY_MODEL_141ce5a94ae9463fa2b892458f36568e"
      }
     },
     "ccd80312eb0240f59a801ea73b6cda48": {
      "model_module": "@jupyter-widgets/controls",
      "model_module_version": "1.5.0",
      "model_name": "DescriptionStyleModel",
      "state": {
       "description_width": ""
      }
     },
     "ccdf9ea7ec674927bfda88f6c5cdd626": {
      "model_module": "@jupyter-widgets/base",
      "model_module_version": "1.2.0",
      "model_name": "LayoutModel",
      "state": {}
     },
     "cd03e46ea9034e06bdd6ca376a2e1036": {
      "model_module": "@jupyter-widgets/controls",
      "model_module_version": "1.5.0",
      "model_name": "ToggleButtonsModel",
      "state": {
       "_options_labels": [
        "✓",
        "?",
        "✗"
       ],
       "button_style": "",
       "icons": [],
       "index": 1,
       "layout": "IPY_MODEL_f77c821115a3460fa265fb31ca7ac62d",
       "style": "IPY_MODEL_d205daf24abf482ab538d07d2e6cb79b",
       "tooltips": [
        "Accept",
        "Retain",
        "Reject"
       ]
      }
     },
     "cd04a523e14344ffa49f9fb7c56ed0a0": {
      "model_module": "@jupyter-widgets/controls",
      "model_module_version": "1.5.0",
      "model_name": "VBoxModel",
      "state": {
       "children": [
        "IPY_MODEL_87406dd5acb245a98fd439539a55c876",
        "IPY_MODEL_68c9b9e3573b483cb9eb9e7d47b33c45"
       ],
       "layout": "IPY_MODEL_438aa9b048674fa2a7a2c2c31ff469bf"
      }
     },
     "cd657b6cd43e4b99b1ae877f31584609": {
      "model_module": "@jupyter-widgets/base",
      "model_module_version": "1.2.0",
      "model_name": "LayoutModel",
      "state": {}
     },
     "cd884c0162664946a3bc57c5f098dd63": {
      "model_module": "@jupyter-widgets/base",
      "model_module_version": "1.2.0",
      "model_name": "LayoutModel",
      "state": {
       "max_height": "50em"
      }
     },
     "cd9f455835ee4af5b516144175c67416": {
      "model_module": "@jupyter-widgets/base",
      "model_module_version": "1.2.0",
      "model_name": "LayoutModel",
      "state": {
       "max_height": "50em"
      }
     },
     "cdcf525d197d4ec29cf52b963662566d": {
      "model_module": "@jupyter-widgets/controls",
      "model_module_version": "1.5.0",
      "model_name": "VBoxModel",
      "state": {
       "children": [
        "IPY_MODEL_a5b98e18d559443387726bfb167334bb",
        "IPY_MODEL_e815ecaf81c944b2bec90ef12a7b09b5"
       ],
       "layout": "IPY_MODEL_c4f721695c8844b0887448e30eea9fdb"
      }
     },
     "cded69bcb20745d19d3f3919d54cbe35": {
      "model_module": "@jupyter-widgets/controls",
      "model_module_version": "1.5.0",
      "model_name": "HBoxModel",
      "state": {
       "children": [
        "IPY_MODEL_faa9bea06782497f8169332e00f358f8",
        "IPY_MODEL_8d73b96df26e41be97ac3ac483f5c845"
       ],
       "layout": "IPY_MODEL_b518ef17cbfc499e9a776bdc76031dcd"
      }
     },
     "cdf488060e2f4ccbb0b9744a2d5366d6": {
      "model_module": "@jupyter-widgets/base",
      "model_module_version": "1.2.0",
      "model_name": "LayoutModel",
      "state": {}
     },
     "cea06d2e141f4701b978a7d7278fa96e": {
      "model_module": "@jupyter-widgets/controls",
      "model_module_version": "1.5.0",
      "model_name": "ToggleButtonsStyleModel",
      "state": {
       "button_width": "auto",
       "description_width": ""
      }
     },
     "cef342c5bb0e4fd68ce0e421e6368ffe": {
      "model_module": "@jupyter-widgets/output",
      "model_module_version": "1.0.0",
      "model_name": "OutputModel",
      "state": {
       "layout": "IPY_MODEL_ab4e0506df8d43fc81b88d841551ce19",
       "outputs": [
        {
         "data": {
          "text/html": "Updateing ...",
          "text/plain": "<IPython.core.display.HTML object>"
         },
         "metadata": {},
         "output_type": "display_data"
        },
        {
         "data": {
          "text/html": "Updateing ...",
          "text/plain": "<IPython.core.display.HTML object>"
         },
         "metadata": {},
         "output_type": "display_data"
        },
        {
         "data": {
          "text/html": "Manual Mappings updated.",
          "text/plain": "<IPython.core.display.HTML object>"
         },
         "metadata": {},
         "output_type": "display_data"
        }
       ]
      }
     },
     "cf22d65e30014bc8853ef472c0e5e51a": {
      "model_module": "@jupyter-widgets/base",
      "model_module_version": "1.2.0",
      "model_name": "LayoutModel",
      "state": {}
     },
     "cfedb465bcd3453e93e4f7bb82483fca": {
      "model_module": "@jupyter-widgets/controls",
      "model_module_version": "1.5.0",
      "model_name": "DescriptionStyleModel",
      "state": {
       "description_width": ""
      }
     },
     "d03c831179ec4bbcb8ab0d52bf78ea24": {
      "model_module": "@jupyter-widgets/base",
      "model_module_version": "1.2.0",
      "model_name": "LayoutModel",
      "state": {}
     },
     "d04fd2abcb7446e6b7f9def34a920cb4": {
      "model_module": "@jupyter-widgets/controls",
      "model_module_version": "1.5.0",
      "model_name": "ToggleButtonsModel",
      "state": {
       "_options_labels": [
        "✓",
        "?",
        "✗"
       ],
       "button_style": "",
       "icons": [],
       "index": 1,
       "layout": "IPY_MODEL_3d4c3a430e9d4233b4235ea2a201144d",
       "style": "IPY_MODEL_314498265fa147359a3a7457da1cfbee",
       "tooltips": [
        "Accept",
        "Retain",
        "Reject"
       ]
      }
     },
     "d089e1bad5024c0a9d1a80943b619440": {
      "model_module": "@jupyter-widgets/controls",
      "model_module_version": "1.5.0",
      "model_name": "DescriptionStyleModel",
      "state": {
       "description_width": ""
      }
     },
     "d16e1e8076da4d8d99c462fe5c49f190": {
      "model_module": "@jupyter-widgets/base",
      "model_module_version": "1.2.0",
      "model_name": "LayoutModel",
      "state": {}
     },
     "d16e8f0fe154477ba9b1b81c67fabbc5": {
      "model_module": "@jupyter-widgets/controls",
      "model_module_version": "1.5.0",
      "model_name": "ToggleButtonsModel",
      "state": {
       "_options_labels": [
        "✓",
        "?",
        "✗"
       ],
       "button_style": "",
       "icons": [],
       "index": 1,
       "layout": "IPY_MODEL_624e39b082074a3782bbe4d14b912b8b",
       "style": "IPY_MODEL_736506944eab454dbc1caf27923372c7",
       "tooltips": [
        "Accept",
        "Retain",
        "Reject"
       ]
      }
     },
     "d1c8b8968c5749acb02698a0700c38b3": {
      "model_module": "@jupyter-widgets/controls",
      "model_module_version": "1.5.0",
      "model_name": "HTMLModel",
      "state": {
       "layout": "IPY_MODEL_683f0fa44bac468e9c89722e8b59819b",
       "style": "IPY_MODEL_fa9b6968b1ca4d0f92397c483a6a59c1",
       "value": "<table><tr><th>http://example.org/b/alice</th><th></th><th>http://example.org/c/P001</th></tr><tr><td style=\"text-align:right;\">http://example.org/b/alice</td><td style=\"text-align:center;\">boss</td><td style=\"text-align:left;\"></td></tr><tr><td style=\"text-align:right;\">Alice</td><td style=\"text-align:center;\">label</td><td style=\"text-align:left;\">Alice</td></tr><tr><td style=\"text-align:right;\"></td><td style=\"text-align:center;\">pnr</td><td style=\"text-align:left;\">12345^^http://www.w3.org/2001/XMLSchema#integer</td></tr><tr><td></td><td>http://example.org/b/alice</td><td>http://example.org/c/P001</td></tr></table>"
      }
     },
     "d205daf24abf482ab538d07d2e6cb79b": {
      "model_module": "@jupyter-widgets/controls",
      "model_module_version": "1.5.0",
      "model_name": "ToggleButtonsStyleModel",
      "state": {
       "button_width": "auto",
       "description_width": ""
      }
     },
     "d21c2795e09643dcae66a5f2797e7fee": {
      "model_module": "@jupyter-widgets/base",
      "model_module_version": "1.2.0",
      "model_name": "LayoutModel",
      "state": {}
     },
     "d22363b887ed408a8fedefdbe870a851": {
      "model_module": "@jupyter-widgets/controls",
      "model_module_version": "1.5.0",
      "model_name": "ToggleButtonsModel",
      "state": {
       "_options_labels": [
        "✓",
        "?",
        "✗"
       ],
       "button_style": "",
       "icons": [],
       "index": 1,
       "layout": "IPY_MODEL_1185a263eaf74f7a980e188c55d7a419",
       "style": "IPY_MODEL_e8b51399cc0b4d24a6a21005acd5ce76",
       "tooltips": [
        "Accept",
        "Retain",
        "Reject"
       ]
      }
     },
     "d2990e5da0e44c86aa9fc6ec39a2adba": {
      "model_module": "@jupyter-widgets/controls",
      "model_module_version": "1.5.0",
      "model_name": "ToggleButtonsStyleModel",
      "state": {
       "button_width": "auto",
       "description_width": ""
      }
     },
     "d2da90575faa41df9ed517293e8abe64": {
      "model_module": "@jupyter-widgets/base",
      "model_module_version": "1.2.0",
      "model_name": "LayoutModel",
      "state": {}
     },
     "d2e0a12a6b4b457ead3029be4b97fa4e": {
      "model_module": "@jupyter-widgets/controls",
      "model_module_version": "1.5.0",
      "model_name": "ToggleButtonsModel",
      "state": {
       "_options_labels": [
        "✓",
        "?",
        "✗"
       ],
       "button_style": "",
       "icons": [],
       "index": 1,
       "layout": "IPY_MODEL_46475b62e8224c18b84965c8c61199e8",
       "style": "IPY_MODEL_6bf7a1127b6147989b4937358dc065a6",
       "tooltips": [
        "Accept",
        "Retain",
        "Reject"
       ]
      }
     },
     "d2e33d21edf64cecb10cd35f8d472f9d": {
      "model_module": "@jupyter-widgets/base",
      "model_module_version": "1.2.0",
      "model_name": "LayoutModel",
      "state": {}
     },
     "d369ffac500d4668be5625c8cffeb048": {
      "model_module": "@jupyter-widgets/controls",
      "model_module_version": "1.5.0",
      "model_name": "HTMLModel",
      "state": {
       "layout": "IPY_MODEL_d2e33d21edf64cecb10cd35f8d472f9d",
       "style": "IPY_MODEL_a56954d290874b16b1983117bb5d5af4",
       "value": "<table><tr><th>http://example.org/a/alice</th><th></th><th>http://example.org/c/P001</th></tr><tr><td style=\"text-align:right;\">http://example.org/a/bob</td><td style=\"text-align:center;\">boss</td><td style=\"text-align:left;\"></td></tr><tr><td style=\"text-align:right;\">Alice</td><td style=\"text-align:center;\">label</td><td style=\"text-align:left;\">Alice</td></tr><tr><td style=\"text-align:right;\">45678^^http://www.w3.org/2001/XMLSchema#integer</td><td style=\"text-align:center;\">pnr</td><td style=\"text-align:left;\">12345^^http://www.w3.org/2001/XMLSchema#integer</td></tr></table>"
      }
     },
     "d39eff8f032242b6aa870efaeead354d": {
      "model_module": "@jupyter-widgets/controls",
      "model_module_version": "1.5.0",
      "model_name": "HBoxModel",
      "state": {
       "children": [
        "IPY_MODEL_dbe50d196c33417e8ab5af2452c85f46",
        "IPY_MODEL_9f09e04134c342b2aba53557b8bcff0e"
       ],
       "layout": "IPY_MODEL_6f38be22cf394ac49187957b8ae51b00"
      }
     },
     "d3d0a4a572384fb5ac6cff3c31b06574": {
      "model_module": "@jupyter-widgets/controls",
      "model_module_version": "1.5.0",
      "model_name": "HBoxModel",
      "state": {
       "children": [
        "IPY_MODEL_e43b07b230614b7ba3cb2fbf0ebcdfb8",
        "IPY_MODEL_c2439eebb2f24dafbbdc848c09e11e0b"
       ],
       "layout": "IPY_MODEL_b3aab3b720f746d6b21a0adb1ccdaad2"
      }
     },
     "d49068c3572b4c69a4f8259b35b1a361": {
      "model_module": "@jupyter-widgets/controls",
      "model_module_version": "1.5.0",
      "model_name": "HBoxModel",
      "state": {
       "children": [
        "IPY_MODEL_36d7912276b348429633e1276c393d96",
        "IPY_MODEL_72b288681284410cb07dfd3709c488d2"
       ],
       "layout": "IPY_MODEL_25c13d1b776b44a7a15d48c227470319"
      }
     },
     "d63146b80a9c482fb734cd40fdda0ed2": {
      "model_module": "@jupyter-widgets/base",
      "model_module_version": "1.2.0",
      "model_name": "LayoutModel",
      "state": {}
     },
     "d6baa80a026a410784b67a88abd41a88": {
      "model_module": "@jupyter-widgets/controls",
      "model_module_version": "1.5.0",
      "model_name": "ButtonModel",
      "state": {
       "description": "Update Mappings",
       "layout": "IPY_MODEL_ccdf9ea7ec674927bfda88f6c5cdd626",
       "style": "IPY_MODEL_bc5b459f3229428e9c93ca451dd39e1e"
      }
     },
     "d710b03850ab4ba7add8f0a691522292": {
      "model_module": "@jupyter-widgets/output",
      "model_module_version": "1.0.0",
      "model_name": "OutputModel",
      "state": {
       "layout": "IPY_MODEL_7e29de67f06c4dae846639f85e53b5c5"
      }
     },
     "d8882fe0f4c7443ea66b19e45392ad30": {
      "model_module": "@jupyter-widgets/controls",
      "model_module_version": "1.5.0",
      "model_name": "ToggleButtonsStyleModel",
      "state": {
       "button_width": "auto",
       "description_width": ""
      }
     },
     "d8a4b2cca43b4840826b945e29b56c21": {
      "model_module": "@jupyter-widgets/controls",
      "model_module_version": "1.5.0",
      "model_name": "ButtonStyleModel",
      "state": {}
     },
     "d8db319758644d12874291a88f505083": {
      "model_module": "@jupyter-widgets/base",
      "model_module_version": "1.2.0",
      "model_name": "LayoutModel",
      "state": {}
     },
     "d8e0f1045cbe47d9968a0b6fb16c723b": {
      "model_module": "@jupyter-widgets/controls",
      "model_module_version": "1.5.0",
      "model_name": "ToggleButtonsStyleModel",
      "state": {
       "button_width": "auto",
       "description_width": ""
      }
     },
     "d9969b1b01f94035ad8a0f6f48d4edd6": {
      "model_module": "@jupyter-widgets/base",
      "model_module_version": "1.2.0",
      "model_name": "LayoutModel",
      "state": {}
     },
     "d9b35ba1193046afb2ab38781f2973b9": {
      "model_module": "@jupyter-widgets/controls",
      "model_module_version": "1.5.0",
      "model_name": "HBoxModel",
      "state": {
       "children": [
        "IPY_MODEL_fcb579dea138456a886e961410f1c025",
        "IPY_MODEL_4fc6b0320991444297a37a79867f9c61"
       ],
       "layout": "IPY_MODEL_df207f0c4c5d46ae94af8872b555bcf2"
      }
     },
     "da1a952d52be47bca6c311ed4cee7fae": {
      "model_module": "@jupyter-widgets/controls",
      "model_module_version": "1.5.0",
      "model_name": "ButtonModel",
      "state": {
       "description": "Update Mappings",
       "layout": "IPY_MODEL_ab7a548a20354c77befc49d45e08ad08",
       "style": "IPY_MODEL_809a06c0046a4c9e83b11342a5ceef04"
      }
     },
     "da34ba8c225944a782dace4a36a5a411": {
      "model_module": "@jupyter-widgets/controls",
      "model_module_version": "1.5.0",
      "model_name": "HBoxModel",
      "state": {
       "children": [
        "IPY_MODEL_f0f5aff6723548d5b04982cccbb21609",
        "IPY_MODEL_1f7b66df35754b438f8c57b25e7ed957"
       ],
       "layout": "IPY_MODEL_60ade915c4a64a5897b282b7cfaca303"
      }
     },
     "daa8cd6e1e1143a5a743cc9052a30d6f": {
      "model_module": "@jupyter-widgets/controls",
      "model_module_version": "1.5.0",
      "model_name": "ToggleButtonsStyleModel",
      "state": {
       "button_width": "auto",
       "description_width": ""
      }
     },
     "daba322566034d0b86d3745b41f75d45": {
      "model_module": "@jupyter-widgets/controls",
      "model_module_version": "1.5.0",
      "model_name": "HBoxModel",
      "state": {
       "children": [
        "IPY_MODEL_e6912c4201d74ea7a0dd977777a86a6b",
        "IPY_MODEL_4abb938669c74ce39514b47693839d4f"
       ],
       "layout": "IPY_MODEL_48330e9ccfc741a3a4c49a2aef3be4a7"
      }
     },
     "db3ffa7b817b409184117215a34683d4": {
      "model_module": "@jupyter-widgets/controls",
      "model_module_version": "1.5.0",
      "model_name": "HTMLModel",
      "state": {
       "layout": "IPY_MODEL_9e5a70d115794d01a653bf9cb5bc0cd5",
       "style": "IPY_MODEL_078aeaf4f2eb44118a54ce311e63b5ef",
       "value": "<table><tr><th>http://example.org/b/alice</th><th></th><th>http://example.org/c/P001</th></tr><tr><td style=\"text-align:right;\">http://example.org/b/alice</td><td style=\"text-align:center;\">boss</td><td style=\"text-align:left;\"></td></tr><tr><td style=\"text-align:right;\">Alice</td><td style=\"text-align:center;\">label</td><td style=\"text-align:left;\">Alice</td></tr><tr><td style=\"text-align:right;\"></td><td style=\"text-align:center;\">pnr</td><td style=\"text-align:left;\">12345^^http://www.w3.org/2001/XMLSchema#integer</td></tr></table>"
      }
     },
     "dbe50d196c33417e8ab5af2452c85f46": {
      "model_module": "@jupyter-widgets/controls",
      "model_module_version": "1.5.0",
      "model_name": "ToggleButtonsModel",
      "state": {
       "_options_labels": [
        "✓",
        "?",
        "✗"
       ],
       "button_style": "",
       "icons": [],
       "index": 1,
       "layout": "IPY_MODEL_9ab86e8df8354a6d88109fe1972d003c",
       "style": "IPY_MODEL_0ee84f820f2e47ce8799b7de9b8d2da7",
       "tooltips": [
        "Accept",
        "Retain",
        "Reject"
       ]
      }
     },
     "dc3bf29c141b42daafcf613955698c90": {
      "model_module": "@jupyter-widgets/controls",
      "model_module_version": "1.5.0",
      "model_name": "ToggleButtonsStyleModel",
      "state": {
       "button_width": "auto",
       "description_width": ""
      }
     },
     "dd3eedf433e74a4880a1832ebb88bf1e": {
      "model_module": "@jupyter-widgets/base",
      "model_module_version": "1.2.0",
      "model_name": "LayoutModel",
      "state": {}
     },
     "dd82b7083e514efcae76e29baddc4d75": {
      "model_module": "@jupyter-widgets/output",
      "model_module_version": "1.0.0",
      "model_name": "OutputModel",
      "state": {
       "layout": "IPY_MODEL_64b414df17a84c4a8e9e5a2ec84d1c46",
       "outputs": [
        {
         "data": {
          "text/html": "Updateing ...",
          "text/plain": "<IPython.core.display.HTML object>"
         },
         "metadata": {},
         "output_type": "display_data"
        },
        {
         "data": {
          "text/plain": "[['http://example.org/a/bill', 'http://example.org/b/william']]"
         },
         "metadata": {},
         "output_type": "display_data"
        },
        {
         "data": {
          "text/plain": "[]"
         },
         "metadata": {},
         "output_type": "display_data"
        },
        {
         "data": {
          "text/html": "Updateing ...",
          "text/plain": "<IPython.core.display.HTML object>"
         },
         "metadata": {},
         "output_type": "display_data"
        },
        {
         "data": {
          "text/html": "Manual Mappings updated.",
          "text/plain": "<IPython.core.display.HTML object>"
         },
         "metadata": {},
         "output_type": "display_data"
        },
        {
         "data": {
          "text/html": "Updateing ...",
          "text/plain": "<IPython.core.display.HTML object>"
         },
         "metadata": {},
         "output_type": "display_data"
        },
        {
         "data": {
          "text/plain": "[['http://example.org/a/bill', 'http://example.org/b/william']]"
         },
         "metadata": {},
         "output_type": "display_data"
        },
        {
         "data": {
          "text/plain": "[]"
         },
         "metadata": {},
         "output_type": "display_data"
        },
        {
         "ename": "ValueError",
         "evalue": "list.remove(x): x not in list",
         "output_type": "error",
         "traceback": [
          "\u001b[0;31m---------------------------------------------------------------------------\u001b[0m",
          "\u001b[0;31mValueError\u001b[0m                                Traceback (most recent call last)",
          "\u001b[0;32m<ipython-input-35-24c584aef647>\u001b[0m in \u001b[0;36mupdateMappings\u001b[0;34m(b)\u001b[0m\n\u001b[1;32m    115\u001b[0m             \u001b[0;32mif\u001b[0m \u001b[0mmappingPairWidget\u001b[0m\u001b[0;34m.\u001b[0m\u001b[0mvalue\u001b[0m \u001b[0;34m==\u001b[0m \u001b[0maccepted\u001b[0m\u001b[0;34m:\u001b[0m\u001b[0;34m\u001b[0m\u001b[0;34m\u001b[0m\u001b[0m\n\u001b[1;32m    116\u001b[0m                 \u001b[0mmanualPositiveMappings\u001b[0m\u001b[0;34m.\u001b[0m\u001b[0mappend\u001b[0m\u001b[0;34m(\u001b[0m\u001b[0mmappingPairWidgets\u001b[0m\u001b[0;34m[\u001b[0m\u001b[0mmappingPairWidget\u001b[0m\u001b[0;34m]\u001b[0m\u001b[0;34m)\u001b[0m\u001b[0;34m\u001b[0m\u001b[0;34m\u001b[0m\u001b[0m\n\u001b[0;32m--> 117\u001b[0;31m                 \u001b[0mmanualNegativeMappings\u001b[0m\u001b[0;34m.\u001b[0m\u001b[0mremove\u001b[0m\u001b[0;34m(\u001b[0m\u001b[0mmappingPairWidgets\u001b[0m\u001b[0;34m[\u001b[0m\u001b[0mmappingPairWidget\u001b[0m\u001b[0;34m]\u001b[0m\u001b[0;34m)\u001b[0m\u001b[0;34m\u001b[0m\u001b[0;34m\u001b[0m\u001b[0m\n\u001b[0m\u001b[1;32m    118\u001b[0m             \u001b[0;32melif\u001b[0m \u001b[0mmappingPairWidget\u001b[0m\u001b[0;34m.\u001b[0m\u001b[0mvalue\u001b[0m \u001b[0;34m==\u001b[0m \u001b[0mrejected\u001b[0m\u001b[0;34m:\u001b[0m\u001b[0;34m\u001b[0m\u001b[0;34m\u001b[0m\u001b[0m\n\u001b[1;32m    119\u001b[0m                 \u001b[0mmanualNegativeMappings\u001b[0m\u001b[0;34m.\u001b[0m\u001b[0mappend\u001b[0m\u001b[0;34m(\u001b[0m\u001b[0mmappingPairWidgets\u001b[0m\u001b[0;34m[\u001b[0m\u001b[0mmappingPairWidget\u001b[0m\u001b[0;34m]\u001b[0m\u001b[0;34m)\u001b[0m\u001b[0;34m\u001b[0m\u001b[0;34m\u001b[0m\u001b[0m\n",
          "\u001b[0;31mValueError\u001b[0m: list.remove(x): x not in list"
         ]
        },
        {
         "data": {
          "text/html": "Updateing ...",
          "text/plain": "<IPython.core.display.HTML object>"
         },
         "metadata": {},
         "output_type": "display_data"
        },
        {
         "data": {
          "text/plain": "[['http://example.org/a/bill', 'http://example.org/b/william']]"
         },
         "metadata": {},
         "output_type": "display_data"
        },
        {
         "data": {
          "text/plain": "[]"
         },
         "metadata": {},
         "output_type": "display_data"
        },
        {
         "ename": "ValueError",
         "evalue": "list.remove(x): x not in list",
         "output_type": "error",
         "traceback": [
          "\u001b[0;31m---------------------------------------------------------------------------\u001b[0m",
          "\u001b[0;31mValueError\u001b[0m                                Traceback (most recent call last)",
          "\u001b[0;32m<ipython-input-35-24c584aef647>\u001b[0m in \u001b[0;36mupdateMappings\u001b[0;34m(b)\u001b[0m\n\u001b[1;32m    115\u001b[0m             \u001b[0;32mif\u001b[0m \u001b[0mmappingPairWidget\u001b[0m\u001b[0;34m.\u001b[0m\u001b[0mvalue\u001b[0m \u001b[0;34m==\u001b[0m \u001b[0maccepted\u001b[0m\u001b[0;34m:\u001b[0m\u001b[0;34m\u001b[0m\u001b[0;34m\u001b[0m\u001b[0m\n\u001b[1;32m    116\u001b[0m                 \u001b[0mmanualPositiveMappings\u001b[0m\u001b[0;34m.\u001b[0m\u001b[0mappend\u001b[0m\u001b[0;34m(\u001b[0m\u001b[0mmappingPairWidgets\u001b[0m\u001b[0;34m[\u001b[0m\u001b[0mmappingPairWidget\u001b[0m\u001b[0;34m]\u001b[0m\u001b[0;34m)\u001b[0m\u001b[0;34m\u001b[0m\u001b[0;34m\u001b[0m\u001b[0m\n\u001b[0;32m--> 117\u001b[0;31m                 \u001b[0mmanualNegativeMappings\u001b[0m\u001b[0;34m.\u001b[0m\u001b[0mremove\u001b[0m\u001b[0;34m(\u001b[0m\u001b[0mmappingPairWidgets\u001b[0m\u001b[0;34m[\u001b[0m\u001b[0mmappingPairWidget\u001b[0m\u001b[0;34m]\u001b[0m\u001b[0;34m)\u001b[0m\u001b[0;34m\u001b[0m\u001b[0;34m\u001b[0m\u001b[0m\n\u001b[0m\u001b[1;32m    118\u001b[0m             \u001b[0;32melif\u001b[0m \u001b[0mmappingPairWidget\u001b[0m\u001b[0;34m.\u001b[0m\u001b[0mvalue\u001b[0m \u001b[0;34m==\u001b[0m \u001b[0mrejected\u001b[0m\u001b[0;34m:\u001b[0m\u001b[0;34m\u001b[0m\u001b[0;34m\u001b[0m\u001b[0m\n\u001b[1;32m    119\u001b[0m                 \u001b[0mmanualNegativeMappings\u001b[0m\u001b[0;34m.\u001b[0m\u001b[0mappend\u001b[0m\u001b[0;34m(\u001b[0m\u001b[0mmappingPairWidgets\u001b[0m\u001b[0;34m[\u001b[0m\u001b[0mmappingPairWidget\u001b[0m\u001b[0;34m]\u001b[0m\u001b[0;34m)\u001b[0m\u001b[0;34m\u001b[0m\u001b[0;34m\u001b[0m\u001b[0m\n",
          "\u001b[0;31mValueError\u001b[0m: list.remove(x): x not in list"
         ]
        }
       ]
      }
     },
     "dda62065681a4ecba8a1629685679919": {
      "model_module": "@jupyter-widgets/base",
      "model_module_version": "1.2.0",
      "model_name": "LayoutModel",
      "state": {}
     },
     "de5a7ec236aa468fa67ac20e788db92c": {
      "model_module": "@jupyter-widgets/controls",
      "model_module_version": "1.5.0",
      "model_name": "HBoxModel",
      "state": {
       "children": [
        "IPY_MODEL_2cfe8e4b6b244c6b877a66ba2abd9908",
        "IPY_MODEL_4881c6e2c9964b4fa72d44b31fb0f826"
       ],
       "layout": "IPY_MODEL_96174b82d6be494481d59bb231a6546b"
      }
     },
     "df207f0c4c5d46ae94af8872b555bcf2": {
      "model_module": "@jupyter-widgets/base",
      "model_module_version": "1.2.0",
      "model_name": "LayoutModel",
      "state": {}
     },
     "df5e44da9dbc4d5da921db45aa1f191e": {
      "model_module": "@jupyter-widgets/controls",
      "model_module_version": "1.5.0",
      "model_name": "TabModel",
      "state": {
       "_titles": {
        "0": "person"
       },
       "children": [
        "IPY_MODEL_4f2842ddd7dc4ea2aa75f96fb2fcf0d9"
       ],
       "layout": "IPY_MODEL_2d98d6f215d74c72a40a807e476b2cbb"
      }
     },
     "df77e674467d443a851cc96fdc501996": {
      "model_module": "@jupyter-widgets/controls",
      "model_module_version": "1.5.0",
      "model_name": "HTMLModel",
      "state": {
       "layout": "IPY_MODEL_e449648e953e486d91d6d4032c41ab34",
       "style": "IPY_MODEL_c487ad3df4554370b48adfe0baf97937",
       "value": "<table><tr><th>http://example.org/a/alice</th><th></th><th>http://example.org/c/P001</th></tr><tr><td style=\"text-align:right;\">http://example.org/a/bob</td><td style=\"text-align:center;\">boss</td><td style=\"text-align:left;\"></td></tr><tr><td style=\"text-align:right;\">Alice</td><td style=\"text-align:center;\">label</td><td style=\"text-align:left;\">Alice</td></tr><tr><td style=\"text-align:right;\">45678^^http://www.w3.org/2001/XMLSchema#integer</td><td style=\"text-align:center;\">pnr</td><td style=\"text-align:left;\">12345^^http://www.w3.org/2001/XMLSchema#integer</td></tr></table>"
      }
     },
     "df962951f84543079d121a869078ce3b": {
      "model_module": "@jupyter-widgets/base",
      "model_module_version": "1.2.0",
      "model_name": "LayoutModel",
      "state": {}
     },
     "dfcb373cb3834e25b22baaa62f32020b": {
      "model_module": "@jupyter-widgets/base",
      "model_module_version": "1.2.0",
      "model_name": "LayoutModel",
      "state": {}
     },
     "dfe18d75b4084f28b9d62a4dedd63f9f": {
      "model_module": "@jupyter-widgets/controls",
      "model_module_version": "1.5.0",
      "model_name": "HTMLModel",
      "state": {
       "layout": "IPY_MODEL_add36254552443479f3719b6bc67d91d",
       "style": "IPY_MODEL_3b09b0d78648421aa668ba19515a759e",
       "value": "<table><tr><th>http://example.org/a/bill</th><th></th><th>http://example.org/b/william</th></tr><tr><td style=\"text-align:right;\">http://example.org/a/alice</td><td style=\"text-align:center;\">boss</td><td style=\"text-align:left;\">Alice</td></tr><tr><td style=\"text-align:right;\">Bill</td><td style=\"text-align:center;\">label</td><td style=\"text-align:left;\">William</td></tr><tr><td style=\"text-align:right;\">67890^^http://www.w3.org/2001/XMLSchema#integer</td><td style=\"text-align:center;\">pnr</td><td style=\"text-align:left;\"></td></tr><tr><td></td><td>http://example.org/a/bill</td><td>http://example.org/b/william</td></tr></table>"
      }
     },
     "e010d1a808f242229f21cbbe9e049d5d": {
      "model_module": "@jupyter-widgets/controls",
      "model_module_version": "1.5.0",
      "model_name": "HBoxModel",
      "state": {
       "children": [
        "IPY_MODEL_3d1f0792ff3749beb70607a4bb5ca788",
        "IPY_MODEL_a251bde3ff6240ad8815a1ccf8468c77"
       ],
       "layout": "IPY_MODEL_583b82dcc2e94716b82675feaa4ac1ee"
      }
     },
     "e087cd7df32b46c296c9ec0d477ed8c6": {
      "model_module": "@jupyter-widgets/base",
      "model_module_version": "1.2.0",
      "model_name": "LayoutModel",
      "state": {}
     },
     "e090042dbdbe470e82f14c2f7e5630ba": {
      "model_module": "@jupyter-widgets/controls",
      "model_module_version": "1.5.0",
      "model_name": "DescriptionStyleModel",
      "state": {
       "description_width": ""
      }
     },
     "e09483669e5a47ccad7c6136861b2e8a": {
      "model_module": "@jupyter-widgets/base",
      "model_module_version": "1.2.0",
      "model_name": "LayoutModel",
      "state": {}
     },
     "e0ecbc13282f4e02963fc11a1d5470e8": {
      "model_module": "@jupyter-widgets/controls",
      "model_module_version": "1.5.0",
      "model_name": "HTMLModel",
      "state": {
       "layout": "IPY_MODEL_bb3da66849e44db5b7b783afc3a1e078",
       "style": "IPY_MODEL_f9fc36de2a9a420ba772ef844695d4f2",
       "value": "<table><tr><th>http://example.org/a/alice</th><th></th><th>http://example.org/c/P001</th></tr><tr><td style=\"text-align:right;\">http://example.org/a/bob</td><td style=\"text-align:center;\">boss</td><td style=\"text-align:left;\"></td></tr><tr><td style=\"text-align:right;\">Alice</td><td style=\"text-align:center;\">label</td><td style=\"text-align:left;\">Alice</td></tr><tr><td style=\"text-align:right;\">45678^^http://www.w3.org/2001/XMLSchema#integer</td><td style=\"text-align:center;\">pnr</td><td style=\"text-align:left;\">12345^^http://www.w3.org/2001/XMLSchema#integer</td></tr></table>"
      }
     },
     "e162e84f155742d68fbb0df271b8e07d": {
      "model_module": "@jupyter-widgets/controls",
      "model_module_version": "1.5.0",
      "model_name": "ToggleButtonsStyleModel",
      "state": {
       "button_width": "auto",
       "description_width": ""
      }
     },
     "e1898047f531405cb07209e5b2b36cde": {
      "model_module": "@jupyter-widgets/controls",
      "model_module_version": "1.5.0",
      "model_name": "DescriptionStyleModel",
      "state": {
       "description_width": ""
      }
     },
     "e1f66987eeb64035b9a75c08e00e102a": {
      "model_module": "@jupyter-widgets/base",
      "model_module_version": "1.2.0",
      "model_name": "LayoutModel",
      "state": {
       "max_height": "50em"
      }
     },
     "e268b054460e4f77abbe03b92550bdd1": {
      "model_module": "@jupyter-widgets/base",
      "model_module_version": "1.2.0",
      "model_name": "LayoutModel",
      "state": {}
     },
     "e2d29037e1d34e2fa2bc7daf79b3b3e7": {
      "model_module": "@jupyter-widgets/controls",
      "model_module_version": "1.5.0",
      "model_name": "HBoxModel",
      "state": {
       "children": [
        "IPY_MODEL_38661671691e4946a74cfdf4405c7d35",
        "IPY_MODEL_e9d991da124a4050bb9b9c94392a0d1f"
       ],
       "layout": "IPY_MODEL_619d4746dd8c47d793dfda4eb55d8af4"
      }
     },
     "e2d593e4eb8742e78e45811af9c2aaee": {
      "model_module": "@jupyter-widgets/controls",
      "model_module_version": "1.5.0",
      "model_name": "HBoxModel",
      "state": {
       "children": [
        "IPY_MODEL_9716998764c546c5a18ba039046a54a6",
        "IPY_MODEL_f78875e1455c42cc8553b17a145807a4"
       ],
       "layout": "IPY_MODEL_065b5d9e941e4c68a779f3caba85ba62"
      }
     },
     "e37d0a3058ee4f04ae95d925c8e3ec8d": {
      "model_module": "@jupyter-widgets/controls",
      "model_module_version": "1.5.0",
      "model_name": "HBoxModel",
      "state": {
       "children": [
        "IPY_MODEL_454e11596d4343fd962911516105484f",
        "IPY_MODEL_b1822ac7e8be40e8b56eac1579999933"
       ],
       "layout": "IPY_MODEL_cf22d65e30014bc8853ef472c0e5e51a"
      }
     },
     "e38b34318bfe4053b91ed81aab9b8622": {
      "model_module": "@jupyter-widgets/controls",
      "model_module_version": "1.5.0",
      "model_name": "DescriptionStyleModel",
      "state": {
       "description_width": ""
      }
     },
     "e3c75f775ba644548e9c74799685ba35": {
      "model_module": "@jupyter-widgets/controls",
      "model_module_version": "1.5.0",
      "model_name": "ToggleButtonsStyleModel",
      "state": {
       "button_width": "auto",
       "description_width": ""
      }
     },
     "e3c7b58b8ab54ac6ac671ecc76aa668c": {
      "model_module": "@jupyter-widgets/base",
      "model_module_version": "1.2.0",
      "model_name": "LayoutModel",
      "state": {}
     },
     "e3ec6cbb964442c8acfeb213b81aa5ce": {
      "model_module": "@jupyter-widgets/controls",
      "model_module_version": "1.5.0",
      "model_name": "ToggleButtonsModel",
      "state": {
       "_options_labels": [
        "✓",
        "?",
        "✗"
       ],
       "button_style": "",
       "icons": [],
       "index": 0,
       "layout": "IPY_MODEL_537cf14bbd8245618b88a6715b5abe8f",
       "style": "IPY_MODEL_bc737d5158e948ce841301bb91507e1d",
       "tooltips": [
        "Accept",
        "Retain",
        "Reject"
       ]
      }
     },
     "e43b07b230614b7ba3cb2fbf0ebcdfb8": {
      "model_module": "@jupyter-widgets/controls",
      "model_module_version": "1.5.0",
      "model_name": "ToggleButtonsModel",
      "state": {
       "_options_labels": [
        "✓",
        "?",
        "✗"
       ],
       "button_style": "",
       "icons": [],
       "index": 1,
       "layout": "IPY_MODEL_a8403b48829947329b85e5dbbca64d8c",
       "style": "IPY_MODEL_a40f0d45617d405381706f68c0af14b1",
       "tooltips": [
        "Accept",
        "Retain",
        "Reject"
       ]
      }
     },
     "e449648e953e486d91d6d4032c41ab34": {
      "model_module": "@jupyter-widgets/base",
      "model_module_version": "1.2.0",
      "model_name": "LayoutModel",
      "state": {}
     },
     "e4f5ae498bae4b74ab8d5d3de4f72f16": {
      "model_module": "@jupyter-widgets/controls",
      "model_module_version": "1.5.0",
      "model_name": "DescriptionStyleModel",
      "state": {
       "description_width": ""
      }
     },
     "e5d1d6348c544b98b72c4c70ad95e48a": {
      "model_module": "@jupyter-widgets/controls",
      "model_module_version": "1.5.0",
      "model_name": "VBoxModel",
      "state": {
       "children": [
        "IPY_MODEL_bbe131cd5976495f9b369562e75a0102"
       ],
       "layout": "IPY_MODEL_ae8c9c0ff27543668d2e56ce53cf4883"
      }
     },
     "e6912c4201d74ea7a0dd977777a86a6b": {
      "model_module": "@jupyter-widgets/controls",
      "model_module_version": "1.5.0",
      "model_name": "ToggleButtonsModel",
      "state": {
       "_options_labels": [
        "✓",
        "?",
        "✗"
       ],
       "button_style": "",
       "icons": [],
       "index": 1,
       "layout": "IPY_MODEL_04c0ee0c79784cad9f2bc2350f682c34",
       "style": "IPY_MODEL_7bd35d27b3a441dba9f3527c930c3dbd",
       "tooltips": [
        "Accept",
        "Retain",
        "Reject"
       ]
      }
     },
     "e719584a8e62486c9d00df5b116fb26e": {
      "model_module": "@jupyter-widgets/controls",
      "model_module_version": "1.5.0",
      "model_name": "ToggleButtonsModel",
      "state": {
       "_options_labels": [
        "✓",
        "?",
        "✗"
       ],
       "button_style": "",
       "icons": [],
       "index": 1,
       "layout": "IPY_MODEL_555b20aaafef4eafa7bac953a4d97ddf",
       "style": "IPY_MODEL_c50b36e818e946599d6c1389642fb7f7",
       "tooltips": [
        "Accept",
        "Retain",
        "Reject"
       ]
      }
     },
     "e7f570abbab849c2b038468cb0699a89": {
      "model_module": "@jupyter-widgets/controls",
      "model_module_version": "1.5.0",
      "model_name": "HTMLModel",
      "state": {
       "layout": "IPY_MODEL_27ab1b24e977464384f88a30b7a650ee",
       "style": "IPY_MODEL_522e4789f9ab4e84ae88ca416e809d7d",
       "value": "<table><tr><th>http://example.org/a/bill</th><th></th><th>http://example.org/b/william</th></tr><tr><td style=\"text-align:right;\">http://example.org/a/alice</td><td style=\"text-align:center;\">boss</td><td style=\"text-align:left;\">Alice</td></tr><tr><td style=\"text-align:right;\">Bill</td><td style=\"text-align:center;\">label</td><td style=\"text-align:left;\">William</td></tr><tr><td style=\"text-align:right;\">67890^^http://www.w3.org/2001/XMLSchema#integer</td><td style=\"text-align:center;\">pnr</td><td style=\"text-align:left;\"></td></tr></table>"
      }
     },
     "e815ecaf81c944b2bec90ef12a7b09b5": {
      "model_module": "@jupyter-widgets/controls",
      "model_module_version": "1.5.0",
      "model_name": "HBoxModel",
      "state": {
       "children": [
        "IPY_MODEL_520bcca8b6c647e98d2d46b2a12cf4a3",
        "IPY_MODEL_a88e63fa2a534f76a4cf4f8deda7ea5f"
       ],
       "layout": "IPY_MODEL_14ce3728591c4e11b965152f5c5abe60"
      }
     },
     "e86d82dc4a584caabcbc1c3e46843dd9": {
      "model_module": "@jupyter-widgets/controls",
      "model_module_version": "1.5.0",
      "model_name": "DescriptionStyleModel",
      "state": {
       "description_width": ""
      }
     },
     "e8b51399cc0b4d24a6a21005acd5ce76": {
      "model_module": "@jupyter-widgets/controls",
      "model_module_version": "1.5.0",
      "model_name": "ToggleButtonsStyleModel",
      "state": {
       "button_width": "auto",
       "description_width": ""
      }
     },
     "e8ba3e3c99ac4bdebc8982a786eb193a": {
      "model_module": "@jupyter-widgets/controls",
      "model_module_version": "1.5.0",
      "model_name": "HBoxModel",
      "state": {
       "children": [
        "IPY_MODEL_43353f7ceb1249f3a381ff1c6096cba7",
        "IPY_MODEL_d1c8b8968c5749acb02698a0700c38b3"
       ],
       "layout": "IPY_MODEL_d2da90575faa41df9ed517293e8abe64"
      }
     },
     "e9d991da124a4050bb9b9c94392a0d1f": {
      "model_module": "@jupyter-widgets/controls",
      "model_module_version": "1.5.0",
      "model_name": "HTMLModel",
      "state": {
       "layout": "IPY_MODEL_98fed2b6031648659836f99e0df67ae5",
       "style": "IPY_MODEL_8bf68b3eb8984a2caf88ee7a45a25c15",
       "value": "<table><tr><th>http://example.org/a/bill</th><th></th><th>http://example.org/b/william</th></tr><tr><td style=\"text-align:right;\">http://example.org/a/alice</td><td style=\"text-align:center;\">boss</td><td style=\"text-align:left;\">Alice</td></tr><tr><td style=\"text-align:right;\">Bill</td><td style=\"text-align:center;\">label</td><td style=\"text-align:left;\">William</td></tr><tr><td style=\"text-align:right;\">67890^^http://www.w3.org/2001/XMLSchema#integer</td><td style=\"text-align:center;\">pnr</td><td style=\"text-align:left;\"></td></tr><tr><td></td><td>http://example.org/a/bill</td><td>http://example.org/b/william</td></tr></table>"
      }
     },
     "e9e32773db08467684ccd56efc31d260": {
      "model_module": "@jupyter-widgets/controls",
      "model_module_version": "1.5.0",
      "model_name": "HBoxModel",
      "state": {
       "children": [
        "IPY_MODEL_50d0d60c468a4e7a89a44b99996033d1",
        "IPY_MODEL_02fcb4ab9ead4a4a816882fc4dafea2c"
       ],
       "layout": "IPY_MODEL_56899b29eeb04a11bee48699e6f06c4b"
      }
     },
     "ebf3c5c50b0d4514b7e73265ec41ecfb": {
      "model_module": "@jupyter-widgets/controls",
      "model_module_version": "1.5.0",
      "model_name": "HBoxModel",
      "state": {
       "children": [
        "IPY_MODEL_cd03e46ea9034e06bdd6ca376a2e1036",
        "IPY_MODEL_74585d50d6e4459c801856973dd4a48a"
       ],
       "layout": "IPY_MODEL_15b194a4b1c342bd89dae091769c09de"
      }
     },
     "ec073ea999484d64875b0b6a3843235e": {
      "model_module": "@jupyter-widgets/controls",
      "model_module_version": "1.5.0",
      "model_name": "HBoxModel",
      "state": {
       "children": [
        "IPY_MODEL_92787fd2ce824e4ab0b49fc3aab054d6",
        "IPY_MODEL_c2119c4a00364c0e825c082b0762d1e2"
       ],
       "layout": "IPY_MODEL_3e60a359d29a42a382cfecdb7661fbc2"
      }
     },
     "ec19009ae62d4813a0e86730aaab7e98": {
      "model_module": "@jupyter-widgets/base",
      "model_module_version": "1.2.0",
      "model_name": "LayoutModel",
      "state": {}
     },
     "ec5f80b3dd904a82b179038ebd434236": {
      "model_module": "@jupyter-widgets/controls",
      "model_module_version": "1.5.0",
      "model_name": "ToggleButtonsModel",
      "state": {
       "_options_labels": [
        "✓",
        "?",
        "✗"
       ],
       "button_style": "",
       "icons": [],
       "index": 1,
       "layout": "IPY_MODEL_644e9cceb60a4b71a6ea8f68387d8797",
       "style": "IPY_MODEL_c6a755a599564cc08295524fd3ec9ba8",
       "tooltips": [
        "Accept",
        "Retain",
        "Reject"
       ]
      }
     },
     "ec7863db0eb0409780223f64ea393c7b": {
      "model_module": "@jupyter-widgets/base",
      "model_module_version": "1.2.0",
      "model_name": "LayoutModel",
      "state": {
       "border": "solid"
      }
     },
     "ec7b1604200c4a788c0da80506cb408c": {
      "model_module": "@jupyter-widgets/base",
      "model_module_version": "1.2.0",
      "model_name": "LayoutModel",
      "state": {}
     },
     "ed0776305404473d94190db8a435cfc6": {
      "model_module": "@jupyter-widgets/controls",
      "model_module_version": "1.5.0",
      "model_name": "VBoxModel",
      "state": {
       "children": [
        "IPY_MODEL_1eb9a8c8d2604abe8406aeedf69b0a68",
        "IPY_MODEL_31d86366fcfc4769af0d9a306c5ac50b"
       ],
       "layout": "IPY_MODEL_be0e75ac407a4053b592995adcd6b7e3"
      }
     },
     "ed1495011ef9430c9be4c6582b9d64ab": {
      "model_module": "@jupyter-widgets/base",
      "model_module_version": "1.2.0",
      "model_name": "LayoutModel",
      "state": {}
     },
     "ed618be60cd1443b84439e5be1e2307a": {
      "model_module": "@jupyter-widgets/base",
      "model_module_version": "1.2.0",
      "model_name": "LayoutModel",
      "state": {}
     },
     "edae34d287954993830db1711aeaf6b3": {
      "model_module": "@jupyter-widgets/base",
      "model_module_version": "1.2.0",
      "model_name": "LayoutModel",
      "state": {}
     },
     "edd84a874dfa41c4aab8d8056e439953": {
      "model_module": "@jupyter-widgets/controls",
      "model_module_version": "1.5.0",
      "model_name": "HTMLModel",
      "state": {
       "layout": "IPY_MODEL_397f17db6525482aa98fbafde558c747",
       "style": "IPY_MODEL_cfedb465bcd3453e93e4f7bb82483fca",
       "value": "<table><tr><th>http://example.org/a/alice</th><th></th><th>http://example.org/b/alice</th></tr><tr><td style=\"text-align:right;\">http://example.org/a/bob</td><td style=\"text-align:center;\">boss</td><td style=\"text-align:left;\">http://example.org/b/alice</td></tr><tr><td style=\"text-align:right;\">Alice</td><td style=\"text-align:center;\">label</td><td style=\"text-align:left;\">Alice</td></tr><tr><td style=\"text-align:right;\">45678^^http://www.w3.org/2001/XMLSchema#integer</td><td style=\"text-align:center;\">pnr</td><td style=\"text-align:left;\"></td></tr><tr><td></td><td>http://example.org/a/alice</td><td>http://example.org/b/alice</td></tr></table>"
      }
     },
     "eeb8954d48d14f2cb0933cafa0b49506": {
      "model_module": "@jupyter-widgets/base",
      "model_module_version": "1.2.0",
      "model_name": "LayoutModel",
      "state": {
       "border": "solid"
      }
     },
     "eef7006cb6e44b58be71d775391563d2": {
      "model_module": "@jupyter-widgets/base",
      "model_module_version": "1.2.0",
      "model_name": "LayoutModel",
      "state": {}
     },
     "ef0c62b57fa44197a5fa4071433e9372": {
      "model_module": "@jupyter-widgets/controls",
      "model_module_version": "1.5.0",
      "model_name": "ToggleButtonsStyleModel",
      "state": {
       "button_width": "auto",
       "description_width": ""
      }
     },
     "f04b50c319ef4937bf3f57bf2d36af60": {
      "model_module": "@jupyter-widgets/base",
      "model_module_version": "1.2.0",
      "model_name": "LayoutModel",
      "state": {}
     },
     "f0f5aff6723548d5b04982cccbb21609": {
      "model_module": "@jupyter-widgets/controls",
      "model_module_version": "1.5.0",
      "model_name": "ToggleButtonsModel",
      "state": {
       "_options_labels": [
        "✓",
        "?",
        "✗"
       ],
       "button_style": "",
       "icons": [],
       "index": 1,
       "layout": "IPY_MODEL_b537e08c6b5545b5b340c8bd44835218",
       "style": "IPY_MODEL_e3c75f775ba644548e9c74799685ba35",
       "tooltips": [
        "Accept",
        "Retain",
        "Reject"
       ]
      }
     },
     "f1bad05628c449ad9deacb5fbe73c906": {
      "model_module": "@jupyter-widgets/base",
      "model_module_version": "1.2.0",
      "model_name": "LayoutModel",
      "state": {
       "border": "solid 1px grey"
      }
     },
     "f1c61ccb3e0f4382810369dd8e57ff23": {
      "model_module": "@jupyter-widgets/base",
      "model_module_version": "1.2.0",
      "model_name": "LayoutModel",
      "state": {
       "max_height": "50em"
      }
     },
     "f240c81a9e5540dcb731267adf4cb474": {
      "model_module": "@jupyter-widgets/controls",
      "model_module_version": "1.5.0",
      "model_name": "ToggleButtonsStyleModel",
      "state": {
       "button_width": "auto",
       "description_width": ""
      }
     },
     "f2490efa98a44d49b7397601a8eef1f2": {
      "model_module": "@jupyter-widgets/base",
      "model_module_version": "1.2.0",
      "model_name": "LayoutModel",
      "state": {}
     },
     "f2f1ceadee794e568afcc4c477d31d49": {
      "model_module": "@jupyter-widgets/controls",
      "model_module_version": "1.5.0",
      "model_name": "DescriptionStyleModel",
      "state": {
       "description_width": ""
      }
     },
     "f31c54eb4dcb4f538b2387d1325e513c": {
      "model_module": "@jupyter-widgets/base",
      "model_module_version": "1.2.0",
      "model_name": "LayoutModel",
      "state": {}
     },
     "f331cce961444697b31a0ef636c8e873": {
      "model_module": "@jupyter-widgets/base",
      "model_module_version": "1.2.0",
      "model_name": "LayoutModel",
      "state": {}
     },
     "f3e7a8a3d03749b7acaed678b576cc02": {
      "model_module": "@jupyter-widgets/base",
      "model_module_version": "1.2.0",
      "model_name": "LayoutModel",
      "state": {}
     },
     "f3ec2c8b33fd438ba631db3e64e7bd4b": {
      "model_module": "@jupyter-widgets/controls",
      "model_module_version": "1.5.0",
      "model_name": "HBoxModel",
      "state": {
       "children": [
        "IPY_MODEL_d2e0a12a6b4b457ead3029be4b97fa4e",
        "IPY_MODEL_6dd34315d2de42a0b6fe73ca2aa6da66"
       ],
       "layout": "IPY_MODEL_ba92235ea84b4aee9af8275689bec18a"
      }
     },
     "f3ff53af2fdb42a78ebf55f65cfee416": {
      "model_module": "@jupyter-widgets/base",
      "model_module_version": "1.2.0",
      "model_name": "LayoutModel",
      "state": {}
     },
     "f41c123cf8c3449fb668d27c54d3317e": {
      "model_module": "@jupyter-widgets/base",
      "model_module_version": "1.2.0",
      "model_name": "LayoutModel",
      "state": {}
     },
     "f424280dd011438993e2f766bfc8c096": {
      "model_module": "@jupyter-widgets/controls",
      "model_module_version": "1.5.0",
      "model_name": "HBoxModel",
      "state": {
       "children": [
        "IPY_MODEL_5bc8a78ede924ace9b22a7cf27988c42",
        "IPY_MODEL_72ffb022769540eab369dce420dabb1c"
       ],
       "layout": "IPY_MODEL_aa2582d9149244b6bc76418093a007ce"
      }
     },
     "f43f66dcc0994509893364bbe3e3932d": {
      "model_module": "@jupyter-widgets/controls",
      "model_module_version": "1.5.0",
      "model_name": "ButtonStyleModel",
      "state": {}
     },
     "f4540490186b4617a5dcd703f5c2ad7f": {
      "model_module": "@jupyter-widgets/controls",
      "model_module_version": "1.5.0",
      "model_name": "ButtonModel",
      "state": {
       "description": "Update Mappings",
       "layout": "IPY_MODEL_6ca70285e49845329fe171afcb2ae51f",
       "style": "IPY_MODEL_1b3885eb9f03466d8a477c4dfd426781"
      }
     },
     "f4af030422c1437a8bd77706e3dfcecf": {
      "model_module": "@jupyter-widgets/controls",
      "model_module_version": "1.5.0",
      "model_name": "ToggleButtonsStyleModel",
      "state": {
       "button_width": "auto",
       "description_width": ""
      }
     },
     "f5a4ecef2b054d9cabf8dfb68525d51b": {
      "model_module": "@jupyter-widgets/controls",
      "model_module_version": "1.5.0",
      "model_name": "ToggleButtonsStyleModel",
      "state": {
       "button_width": "auto",
       "description_width": ""
      }
     },
     "f5a975e3e06345a8ba4e872b5980b87e": {
      "model_module": "@jupyter-widgets/base",
      "model_module_version": "1.2.0",
      "model_name": "LayoutModel",
      "state": {}
     },
     "f5c8e7e8860943a3a98e54b2c174fe49": {
      "model_module": "@jupyter-widgets/controls",
      "model_module_version": "1.5.0",
      "model_name": "VBoxModel",
      "state": {
       "children": [
        "IPY_MODEL_f424280dd011438993e2f766bfc8c096",
        "IPY_MODEL_daba322566034d0b86d3745b41f75d45"
       ],
       "layout": "IPY_MODEL_6cd376f635044990aec97b94658f0589"
      }
     },
     "f5ec870d919a4f5d96fbc145c3d775c7": {
      "model_module": "@jupyter-widgets/base",
      "model_module_version": "1.2.0",
      "model_name": "LayoutModel",
      "state": {}
     },
     "f5f530ea0ac340c9bd7bf17abf5b4cfb": {
      "model_module": "@jupyter-widgets/controls",
      "model_module_version": "1.5.0",
      "model_name": "DescriptionStyleModel",
      "state": {
       "description_width": ""
      }
     },
     "f63bab2621db44d2937e00f6289c4b85": {
      "model_module": "@jupyter-widgets/controls",
      "model_module_version": "1.5.0",
      "model_name": "VBoxModel",
      "state": {
       "children": [
        "IPY_MODEL_c5c365a34f814190ad0d84e0d2cab467",
        "IPY_MODEL_97c309f8909e4e15a3a52b5093dc1d81"
       ],
       "layout": "IPY_MODEL_c369a38b30844ca8be95330adebeab5d"
      }
     },
     "f64aed9687234f7ba143733d8dafecac": {
      "model_module": "@jupyter-widgets/controls",
      "model_module_version": "1.5.0",
      "model_name": "ToggleButtonsStyleModel",
      "state": {
       "button_width": "auto",
       "description_width": ""
      }
     },
     "f67f58aef7ab4c80b14f3015166175ba": {
      "model_module": "@jupyter-widgets/controls",
      "model_module_version": "1.5.0",
      "model_name": "HBoxModel",
      "state": {
       "children": [
        "IPY_MODEL_f9366d88d2d641888157da01d6612516",
        "IPY_MODEL_8dc2ee68ae2741d6875748b814421ada"
       ],
       "layout": "IPY_MODEL_503d130ba4924afd9c194efaea593fd6"
      }
     },
     "f6c6a56f71174b20ba209db63ea612d8": {
      "model_module": "@jupyter-widgets/controls",
      "model_module_version": "1.5.0",
      "model_name": "DescriptionStyleModel",
      "state": {
       "description_width": ""
      }
     },
     "f742fc8778874785a04aab5de18902d7": {
      "model_module": "@jupyter-widgets/controls",
      "model_module_version": "1.5.0",
      "model_name": "ButtonModel",
      "state": {
       "description": "Update Mappings",
       "layout": "IPY_MODEL_7e3973a81ce24cc29d7290f1a53f2dbe",
       "style": "IPY_MODEL_c83201b6d5044187b08509b8bf22c637"
      }
     },
     "f76fb140d41946ff84c4d5b246e7ab57": {
      "model_module": "@jupyter-widgets/controls",
      "model_module_version": "1.5.0",
      "model_name": "VBoxModel",
      "state": {
       "children": [
        "IPY_MODEL_55dab515fb1d49dbb79c232fc0a4e3bf"
       ],
       "layout": "IPY_MODEL_a56d4c0d824a48f5aaa2187e5b7001c4"
      }
     },
     "f77c821115a3460fa265fb31ca7ac62d": {
      "model_module": "@jupyter-widgets/base",
      "model_module_version": "1.2.0",
      "model_name": "LayoutModel",
      "state": {}
     },
     "f78875e1455c42cc8553b17a145807a4": {
      "model_module": "@jupyter-widgets/controls",
      "model_module_version": "1.5.0",
      "model_name": "HTMLModel",
      "state": {
       "layout": "IPY_MODEL_a8ad516ed766451fb22d34feab790a1c",
       "style": "IPY_MODEL_94ec8f708a0144798a47349a4a2dfbc0",
       "value": "<table><tr><th>http://example.org/a/alice</th><th></th><th>http://example.org/b/alice</th></tr><tr><td style=\"text-align:right;\">http://example.org/a/bob</td><td style=\"text-align:center;\">boss</td><td style=\"text-align:left;\">http://example.org/b/alice</td></tr><tr><td style=\"text-align:right;\">Alice</td><td style=\"text-align:center;\">label</td><td style=\"text-align:left;\">Alice</td></tr><tr><td style=\"text-align:right;\">45678^^http://www.w3.org/2001/XMLSchema#integer</td><td style=\"text-align:center;\">pnr</td><td style=\"text-align:left;\"></td></tr></table>"
      }
     },
     "f80df633166e4aecbf0648a7b27b3bcb": {
      "model_module": "@jupyter-widgets/controls",
      "model_module_version": "1.5.0",
      "model_name": "ToggleButtonsStyleModel",
      "state": {
       "button_width": "auto",
       "description_width": ""
      }
     },
     "f82dee7ec60d4041b2199efd9d7dddc4": {
      "model_module": "@jupyter-widgets/controls",
      "model_module_version": "1.5.0",
      "model_name": "ButtonStyleModel",
      "state": {}
     },
     "f87fb87b5a5e440da45c77e857bc364e": {
      "model_module": "@jupyter-widgets/controls",
      "model_module_version": "1.5.0",
      "model_name": "HBoxModel",
      "state": {
       "children": [
        "IPY_MODEL_211595a0950a44d090ae641318398cef",
        "IPY_MODEL_9a72b7f39d7d42629823cd6027a96e5a"
       ],
       "layout": "IPY_MODEL_8208379bc0e141b8a15a3d285f8a404c"
      }
     },
     "f9057b2986784a50a392228e9dfaef13": {
      "model_module": "@jupyter-widgets/controls",
      "model_module_version": "1.5.0",
      "model_name": "ToggleButtonsStyleModel",
      "state": {
       "button_width": "auto",
       "description_width": ""
      }
     },
     "f9366d88d2d641888157da01d6612516": {
      "model_module": "@jupyter-widgets/controls",
      "model_module_version": "1.5.0",
      "model_name": "ToggleButtonsModel",
      "state": {
       "_options_labels": [
        "✓",
        "?",
        "✗"
       ],
       "button_style": "",
       "icons": [],
       "index": 1,
       "layout": "IPY_MODEL_21cdfb65040d4b3ea8dcd5bb64c3a310",
       "style": "IPY_MODEL_17a59c5529264e94a0f6aa356146630b",
       "tooltips": [
        "Accept",
        "Retain",
        "Reject"
       ]
      }
     },
     "f98d2febfca34a59a437b03d1ee527db": {
      "model_module": "@jupyter-widgets/controls",
      "model_module_version": "1.5.0",
      "model_name": "ButtonStyleModel",
      "state": {}
     },
     "f98fda3ac67d4a22ad88f7195bb8fcdd": {
      "model_module": "@jupyter-widgets/controls",
      "model_module_version": "1.5.0",
      "model_name": "ToggleButtonsModel",
      "state": {
       "_options_labels": [
        "✓",
        "?",
        "✗"
       ],
       "button_style": "",
       "icons": [],
       "index": 1,
       "layout": "IPY_MODEL_f9cd32f4a2a1413896e408d681d0bbd8",
       "style": "IPY_MODEL_09dbee6904134fdab70d5a307e8845fb",
       "tooltips": [
        "Accept",
        "Retain",
        "Reject"
       ]
      }
     },
     "f9a5acc8c2db4144a4a79f787b739017": {
      "model_module": "@jupyter-widgets/base",
      "model_module_version": "1.2.0",
      "model_name": "LayoutModel",
      "state": {}
     },
     "f9cd32f4a2a1413896e408d681d0bbd8": {
      "model_module": "@jupyter-widgets/base",
      "model_module_version": "1.2.0",
      "model_name": "LayoutModel",
      "state": {}
     },
     "f9fc36de2a9a420ba772ef844695d4f2": {
      "model_module": "@jupyter-widgets/controls",
      "model_module_version": "1.5.0",
      "model_name": "DescriptionStyleModel",
      "state": {
       "description_width": ""
      }
     },
     "fa0f818ffac74467b64eb53000a6310f": {
      "model_module": "@jupyter-widgets/controls",
      "model_module_version": "1.5.0",
      "model_name": "ToggleButtonsModel",
      "state": {
       "_options_labels": [
        "✓",
        "?",
        "✗"
       ],
       "button_style": "",
       "icons": [],
       "index": 1,
       "layout": "IPY_MODEL_bfb38d4461364b26b1923d2a46796536",
       "style": "IPY_MODEL_49fadf3ce6f14880b1adb0783b44d18a",
       "tooltips": [
        "Accept",
        "Retain",
        "Reject"
       ]
      }
     },
     "fa9b6968b1ca4d0f92397c483a6a59c1": {
      "model_module": "@jupyter-widgets/controls",
      "model_module_version": "1.5.0",
      "model_name": "DescriptionStyleModel",
      "state": {
       "description_width": ""
      }
     },
     "faa9bea06782497f8169332e00f358f8": {
      "model_module": "@jupyter-widgets/controls",
      "model_module_version": "1.5.0",
      "model_name": "ToggleButtonsModel",
      "state": {
       "_options_labels": [
        "✓",
        "?",
        "✗"
       ],
       "button_style": "",
       "icons": [],
       "index": 1,
       "layout": "IPY_MODEL_9a4ee2cc20b445108d98ba954402d2db",
       "style": "IPY_MODEL_cb63548979f44d2bbdbde2e81dd0b0e1",
       "tooltips": [
        "Accept",
        "Retain",
        "Reject"
       ]
      }
     },
     "fac3626be9544a42bc7eed5f3d6c90c9": {
      "model_module": "@jupyter-widgets/controls",
      "model_module_version": "1.5.0",
      "model_name": "HTMLModel",
      "state": {
       "layout": "IPY_MODEL_5e2ed3032a6e437d895dc654c4adc133",
       "style": "IPY_MODEL_1cc161c2146249c589b30cdd9b1290a8",
       "value": "<table><tr><th>http://example.org/a/alice</th><th></th><th>http://example.org/c/P001</th></tr><tr><td style=\"text-align:right;\">http://example.org/a/bob</td><td style=\"text-align:center;\">boss</td><td style=\"text-align:left;\"></td></tr><tr><td style=\"text-align:right;\">Alice</td><td style=\"text-align:center;\">label</td><td style=\"text-align:left;\">Alice</td></tr><tr><td style=\"text-align:right;\">45678^^http://www.w3.org/2001/XMLSchema#integer</td><td style=\"text-align:center;\">pnr</td><td style=\"text-align:left;\">12345^^http://www.w3.org/2001/XMLSchema#integer</td></tr><tr><td></td><td>http://example.org/a/alice</td><td>http://example.org/c/P001</td></tr></table>"
      }
     },
     "fad5524d32a34047a6d408a4fe77e2db": {
      "model_module": "@jupyter-widgets/base",
      "model_module_version": "1.2.0",
      "model_name": "LayoutModel",
      "state": {}
     },
     "fb992507e21d4873b6dae0ffb6f7591b": {
      "model_module": "@jupyter-widgets/controls",
      "model_module_version": "1.5.0",
      "model_name": "DescriptionStyleModel",
      "state": {
       "description_width": ""
      }
     },
     "fc026ca5543e44f499f6c33c84e762da": {
      "model_module": "@jupyter-widgets/controls",
      "model_module_version": "1.5.0",
      "model_name": "HTMLModel",
      "state": {
       "layout": "IPY_MODEL_9e5b9b3034734158b31cf32f592fdfc3",
       "style": "IPY_MODEL_83facfa276fc46538dfd3a92f74de9d4",
       "value": "<table><tr><th>http://example.org/a/alice</th><th></th><th>http://example.org/b/alice</th></tr><tr><td style=\"text-align:right;\">http://example.org/a/bob</td><td style=\"text-align:center;\">boss</td><td style=\"text-align:left;\">http://example.org/b/alice</td></tr><tr><td style=\"text-align:right;\">Alice</td><td style=\"text-align:center;\">label</td><td style=\"text-align:left;\">Alice</td></tr><tr><td style=\"text-align:right;\">45678^^http://www.w3.org/2001/XMLSchema#integer</td><td style=\"text-align:center;\">pnr</td><td style=\"text-align:left;\"></td></tr><tr><td></td><td>http://example.org/a/alice</td><td>http://example.org/b/alice</td></tr></table>"
      }
     },
     "fc1cc263fea64457aa40899f7681e3af": {
      "model_module": "@jupyter-widgets/base",
      "model_module_version": "1.2.0",
      "model_name": "LayoutModel",
      "state": {}
     },
     "fc721fdc46a94c61ade0d35ec08a0151": {
      "model_module": "@jupyter-widgets/base",
      "model_module_version": "1.2.0",
      "model_name": "LayoutModel",
      "state": {
       "border": "solid 1px #333"
      }
     },
     "fcb579dea138456a886e961410f1c025": {
      "model_module": "@jupyter-widgets/controls",
      "model_module_version": "1.5.0",
      "model_name": "ToggleButtonsModel",
      "state": {
       "_options_labels": [
        "✓",
        "?",
        "✗"
       ],
       "button_style": "",
       "icons": [],
       "index": 1,
       "layout": "IPY_MODEL_6a86630a0086498ba5b0b660233ebbf7",
       "style": "IPY_MODEL_6ef7ad46dac440639a485491a31565c8",
       "tooltips": [
        "Accept",
        "Retain",
        "Reject"
       ]
      }
     },
     "fcef62b9ae114101bbeb1b9a558511f8": {
      "model_module": "@jupyter-widgets/controls",
      "model_module_version": "1.5.0",
      "model_name": "HTMLModel",
      "state": {
       "layout": "IPY_MODEL_0503bcc9a8264270b41b6d72987c6d1d",
       "style": "IPY_MODEL_e4f5ae498bae4b74ab8d5d3de4f72f16",
       "value": "<table><tr><th>http://example.org/a/alice</th><th></th><th>http://example.org/c/P001</th></tr><tr><td style=\"text-align:right;\">http://example.org/a/bob</td><td style=\"text-align:center;\">boss</td><td style=\"text-align:left;\"></td></tr><tr><td style=\"text-align:right;\">Alice</td><td style=\"text-align:center;\">label</td><td style=\"text-align:left;\">Alice</td></tr><tr><td style=\"text-align:right;\">45678^^http://www.w3.org/2001/XMLSchema#integer</td><td style=\"text-align:center;\">pnr</td><td style=\"text-align:left;\">12345^^http://www.w3.org/2001/XMLSchema#integer</td></tr><tr><td></td><td>http://example.org/a/alice</td><td>http://example.org/c/P001</td></tr></table>"
      }
     },
     "fd3655189a4d47f088d0e725c10bdbd6": {
      "model_module": "@jupyter-widgets/controls",
      "model_module_version": "1.5.0",
      "model_name": "ButtonStyleModel",
      "state": {}
     },
     "fd42b9eb828f4a8a96d1f595e94ab262": {
      "model_module": "@jupyter-widgets/base",
      "model_module_version": "1.2.0",
      "model_name": "LayoutModel",
      "state": {}
     },
     "fd8f293dedf64f8fbb6a2d1db0a023ec": {
      "model_module": "@jupyter-widgets/base",
      "model_module_version": "1.2.0",
      "model_name": "LayoutModel",
      "state": {}
     },
     "fde6bf1b7a634e8b98731054bd33bb03": {
      "model_module": "@jupyter-widgets/controls",
      "model_module_version": "1.5.0",
      "model_name": "HTMLModel",
      "state": {
       "layout": "IPY_MODEL_3f431a663c3a4d10b842506ba2ef25fc",
       "style": "IPY_MODEL_38368301519d43a38f0fc8af6ea4263e",
       "value": "<table><tr><th>http://example.org/a/alice</th><th></th><th>http://example.org/b/alice</th></tr><tr><td style=\"text-align:right;\">http://example.org/a/bob</td><td style=\"text-align:center;\">boss</td><td style=\"text-align:left;\">http://example.org/b/alice</td></tr><tr><td style=\"text-align:right;\">Alice</td><td style=\"text-align:center;\">label</td><td style=\"text-align:left;\">Alice</td></tr><tr><td style=\"text-align:right;\">45678^^http://www.w3.org/2001/XMLSchema#integer</td><td style=\"text-align:center;\">pnr</td><td style=\"text-align:left;\"></td></tr><tr><td></td><td>http://example.org/a/alice</td><td>http://example.org/b/alice</td></tr></table>"
      }
     },
     "fede44daf58d4b23815611ea6f4a0cca": {
      "model_module": "@jupyter-widgets/controls",
      "model_module_version": "1.5.0",
      "model_name": "DescriptionStyleModel",
      "state": {
       "description_width": ""
      }
     },
     "ff70fe9b90e74a22a73cc9639c942c84": {
      "model_module": "@jupyter-widgets/base",
      "model_module_version": "1.2.0",
      "model_name": "LayoutModel",
      "state": {}
     },
     "ffd797d995514766a50b81795725fb6c": {
      "model_module": "@jupyter-widgets/controls",
      "model_module_version": "1.5.0",
      "model_name": "ButtonStyleModel",
      "state": {}
     }
    },
    "version_major": 2,
    "version_minor": 0
   }
  }
 },
 "nbformat": 4,
 "nbformat_minor": 4
}
