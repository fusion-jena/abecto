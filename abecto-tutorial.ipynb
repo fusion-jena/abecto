{
 "cells": [
  {
   "cell_type": "markdown",
   "metadata": {},
   "source": [
    "# ABECTO Tutorial\n",
    "\n",
    "ABECTO is an **AB**ox **E**valuation and **C**omparison **T**ool for **O**ntologies. It allows to easily compare and evaluate two or more RDF knowledge bases regarding the contained information. This tutorial provides an introduction to the use of ABECTO.\n"
   ]
  },
  {
   "cell_type": "markdown",
   "metadata": {},
   "source": [
    "## Preparation\n",
    "\n",
    "Before we can start, we need to do a few preparation steps. If ABECTO has not been compiled yet, we should do it now. (This step is not needed, if you run this notebook on [mybinder.org](https://mybinder.org).)\n",
    "\n",
    "```\n",
    "mvn package -Dmaven.test.skip=true\n",
    "```\n",
    "\n",
    "ABECTO is running as a HTTP REST service in the background. We will use some provided Phyton functions, which hide the raw HTTP requests."
   ]
  },
  {
   "cell_type": "code",
   "execution_count": null,
   "metadata": {},
   "outputs": [],
   "source": [
    "from abecto import *"
   ]
  },
  {
   "cell_type": "markdown",
   "metadata": {},
   "source": [
    "First, we create some sample files that we will use in this tutorial."
   ]
  },
  {
   "cell_type": "code",
   "execution_count": null,
   "metadata": {},
   "outputs": [],
   "source": [
    "import tempfile\n",
    "\n",
    "source1file1 = tempfile.TemporaryFile(mode = \"w+\")\n",
    "source1file1.write(\"\"\"\n",
    "    BASE         <http://example.org/a/>\n",
    "    PREFIX :     <http://example.org/a/>\n",
    "    PREFIX rdf:  <http://www.w3.org/1999/02/22-rdf-syntax-ns#>\n",
    "    PREFIX rdfs: <http://www.w3.org/2000/01/rdf-schema#>\n",
    "    PREFIX xsd:  <http://www.w3.org/2001/XMLSchema#>\n",
    "\n",
    "    :alice rdf:type   :Person ;\n",
    "           rdfs:label \"Alice\" ;\n",
    "           :pnr       \"45678\"^^xsd:integer ;\n",
    "           :boss      :bob .\n",
    "\"\"\")\n",
    "source1file1.seek(0)\n",
    "\n",
    "source1file2 = tempfile.TemporaryFile(mode = \"w+\")\n",
    "source1file2.write(\"\"\"\n",
    "    BASE         <http://example.org/a/>\n",
    "    PREFIX :     <http://example.org/a/>\n",
    "    PREFIX rdf:  <http://www.w3.org/1999/02/22-rdf-syntax-ns#>\n",
    "    PREFIX rdfs: <http://www.w3.org/2000/01/rdf-schema#>\n",
    "    PREFIX xsd:  <http://www.w3.org/2001/XMLSchema#>\n",
    "\n",
    "    :bill rdf:type   :Person ;\n",
    "          rdfs:label \"Bill\" ;\n",
    "          :pnr       \"67890\"^^xsd:integer ;\n",
    "          :boss      :alice .\n",
    "\"\"\")\n",
    "source1file2.seek(0)\n",
    "\n",
    "source2file1 = tempfile.TemporaryFile(mode = \"w+\")\n",
    "source2file1.write(\"\"\"\n",
    "    BASE         <http://example.org/b/>\n",
    "    PREFIX :     <http://example.org/b/>\n",
    "    PREFIX rdf:  <http://www.w3.org/1999/02/22-rdf-syntax-ns#>\n",
    "    PREFIX rdfs: <http://www.w3.org/2000/01/rdf-schema#>\n",
    "\n",
    "    :alice rdf:type   :Person ;\n",
    "           rdfs:label \"Alice\" ;\n",
    "           :boss      :alice .\n",
    "\n",
    "    :william rdf:type   :Person ;\n",
    "             rdfs:label \"William\" ;\n",
    "             :boss      \"Alice\" .\n",
    "\n",
    "    :charlie rdf:type   :Person ;\n",
    "             rdfs:label \"Charlie\" .\n",
    "\"\"\")\n",
    "source2file1.seek(0);\n",
    "\n",
    "source3file1 = tempfile.TemporaryFile(mode = \"w+\")\n",
    "source3file1.write(\"\"\"\n",
    "    BASE         <http://example.org/c/>\n",
    "    PREFIX :     <http://example.org/c/>\n",
    "    PREFIX rdf:  <http://www.w3.org/1999/02/22-rdf-syntax-ns#>\n",
    "    PREFIX rdfs: <http://www.w3.org/2000/01/rdf-schema#>\n",
    "    PREFIX xsd:  <http://www.w3.org/2001/XMLSchema#>\n",
    "\n",
    "    :P001 rdf:type   :Person ;\n",
    "          rdfs:label \"Alice\" ;\n",
    "          :pnr       \"12345\"^^xsd:integer .\n",
    "\n",
    "    :P002 rdf:type   :Person ;\n",
    "          rdfs:label \"Charlie\" ;\n",
    "          :pnr       \"45678\"^^xsd:integer .\n",
    "\"\"\")\n",
    "source3file1.seek(0);"
   ]
  },
  {
   "cell_type": "markdown",
   "metadata": {},
   "source": [
    "Now, we start the service. **This might take a few seconds.** (If ABECTO is already running, this will just initialize the Phyton object needed in this notebook.)"
   ]
  },
  {
   "cell_type": "code",
   "execution_count": null,
   "metadata": {},
   "outputs": [],
   "source": [
    "abecto = Abecto(\"http://localhost:8080/\", \"target/abecto.jar\")\n",
    "abecto.start()"
   ]
  },
  {
   "cell_type": "markdown",
   "metadata": {},
   "source": [
    "After the service was started, we are ready to create our ontology evaluation and comparison project."
   ]
  },
  {
   "cell_type": "markdown",
   "metadata": {},
   "source": [
    "## Project Setup\n",
    "\n",
    "First, we create a new ABECTO project. We can also give the project an arbitrary name."
   ]
  },
  {
   "cell_type": "code",
   "execution_count": null,
   "metadata": {},
   "outputs": [],
   "source": [
    "project = abecto.project(\"My Comparison Project\")"
   ]
  },
  {
   "cell_type": "markdown",
   "metadata": {},
   "source": [
    "A project consists of the knowledge bases to analyse and a processing pipeline. Each node of the pipeline (called \"step\") calls a processor with a specific set of parameters and input steps. The results of these processings are RDF models that can be consumed by further steps or fetched for analysis.\n",
    "\n",
    "Now, we create the knowledge base object for the knowledge base we want to include into our project."
   ]
  },
  {
   "cell_type": "code",
   "execution_count": null,
   "metadata": {},
   "outputs": [],
   "source": [
    "kb1 = project.knowledgeBase(\"ABC\")\n",
    "kb2 = project.knowledgeBase(\"DEF\")\n",
    "kb3 = project.knowledgeBase(\"GHI\")"
   ]
  },
  {
   "cell_type": "markdown",
   "metadata": {},
   "source": [
    "A knowledge base might consist of several sources. For each source we create at least one source step. In this case, we use the `RdfFileSourceProcessor`, witch reads RDF files from the local file system."
   ]
  },
  {
   "cell_type": "code",
   "execution_count": null,
   "metadata": {},
   "outputs": [],
   "source": [
    "kb1source1 = kb1.source(\"RdfFileSourceProcessor\")\n",
    "kb1source2 = kb1.source(\"RdfFileSourceProcessor\")\n",
    "kb2source1 = kb2.source(\"RdfFileSourceProcessor\")\n",
    "kb3source1 = kb3.source(\"RdfFileSourceProcessor\")"
   ]
  },
  {
   "cell_type": "markdown",
   "metadata": {},
   "source": [
    "Now, we load the RDF files into the source steps. This is done in a two-stage process to allow later updates of the sources."
   ]
  },
  {
   "cell_type": "code",
   "execution_count": null,
   "metadata": {},
   "outputs": [],
   "source": [
    "kb1source1.load(source1file1)\n",
    "kb1source2.load(source1file2)\n",
    "kb2source1.load(source2file1)\n",
    "kb3source1.load(source3file1);"
   ]
  },
  {
   "cell_type": "markdown",
   "metadata": {},
   "source": [
    "To compare the knowledge bases, ABECTO needs to know what we want to compare. This is declare with so called \"categories\". For each knowledge base we can define one pattern for each applicable category. The patterns use the Turtle/SPARQL syntax and one variable needs to have the same name as the category itself. In this case, we use the `ManualCategoryProcessor` to declare a single category called \"person\". We use `into()` to create the following step for each knowledge base with the source step as input. We use `plus()` to combine the two source steps of knowledge base 1."
   ]
  },
  {
   "cell_type": "code",
   "execution_count": null,
   "metadata": {},
   "outputs": [],
   "source": [
    "categories1 = kb1source1.plus(kb1source2).into(\"ManualCategoryProcessor\", {\"patterns\": {\n",
    "    \"person\": \"\"\"?person <http://www.w3.org/2000/01/rdf-schema#label> ?label ;\n",
    "                         <http://example.org/a/pnr>                   ?pnr ;\n",
    "                         <http://example.org/a/boss>                  ?boss .\"\"\"}})\n",
    "categories2 = kb2source1.into(\"ManualCategoryProcessor\", {\"patterns\": {\n",
    "    \"person\": \"\"\"?person <http://www.w3.org/2000/01/rdf-schema#label> ?label . \n",
    "                 OPTIONAL {\n",
    "                     ?person <http://example.org/b/boss> ?boss .\n",
    "                 }\"\"\"}})\n",
    "categories3 = kb3source1.into(\"ManualCategoryProcessor\", {\"patterns\": {\n",
    "    \"person\": \"\"\"?person <http://www.w3.org/2000/01/rdf-schema#label> ?label ;\n",
    "                         <http://example.org/c/pnr>                   ?pnr .\"\"\"}})"
   ]
  },
  {
   "cell_type": "markdown",
   "metadata": {},
   "source": [
    "In the next step we use the `JaroWinklerMappingProcessor` to map the entities of the different knowledge bases. Therefor, we use all three category steps as input. By this, the results of the source steps are also avaliable for the mapping step, as the results of earlier steps will be passed through. The mapping will by used be the further steps."
   ]
  },
  {
   "cell_type": "code",
   "execution_count": null,
   "metadata": {},
   "outputs": [],
   "source": [
    "mapping1 = categories1.plus(categories2).plus(categories3).into(\"JaroWinklerMappingProcessor\", {\"threshold\": 0.9, \"case_sensitive\": False, \"category\": \"person\", \"variables\": [\"label\"]})"
   ]
  },
  {
   "cell_type": "markdown",
   "metadata": {},
   "source": [
    "It is also possible to use multiple mappers in one project. We now improve the mapping using the `ManuallMappingProcessor`."
   ]
  },
  {
   "cell_type": "code",
   "execution_count": null,
   "metadata": {},
   "outputs": [],
   "source": [
    "mapping2 = mapping1.into(\"ManualMappingProcessor\", {\"mappings\": [[\"http://example.org/a/bill\",\"http://example.org/b/william\"]]})"
   ]
  },
  {
   "cell_type": "markdown",
   "metadata": {},
   "source": [
    "With the `MappingReportProcessor` we prepare the mappings for later reporting."
   ]
  },
  {
   "cell_type": "code",
   "execution_count": null,
   "metadata": {},
   "outputs": [],
   "source": [
    "mappingReport = mapping2.into(\"MappingReportProcessor\")"
   ]
  },
  {
   "cell_type": "code",
   "execution_count": null,
   "metadata": {},
   "outputs": [],
   "source": [
    "count = mappingReport.into(\"CategoryCountProcessor\")"
   ]
  },
  {
   "cell_type": "code",
   "execution_count": null,
   "metadata": {},
   "outputs": [],
   "source": [
    "literalDeviation = count.into(\"LiteralDeviationProcessor\", {\"variables\": {\"person\": [\"label\", \"pnr\"] }})"
   ]
  },
  {
   "cell_type": "code",
   "execution_count": null,
   "metadata": {},
   "outputs": [],
   "source": [
    "resourceDeviation = literalDeviation.into(\"ResourceDeviationProcessor\", {\"variables\": {\"person\": [\"boss\"] }})"
   ]
  },
  {
   "cell_type": "code",
   "execution_count": null,
   "metadata": {},
   "outputs": [],
   "source": [
    "deviationReport = resourceDeviation.into(\"DeviationReportProcessor\")"
   ]
  },
  {
   "cell_type": "code",
   "execution_count": null,
   "metadata": {},
   "outputs": [],
   "source": [
    "issueReport = deviationReport.into(\"IssueReportProcessor\")"
   ]
  },
  {
   "cell_type": "markdown",
   "metadata": {},
   "source": [
    "# Project Execution and Reporting"
   ]
  },
  {
   "cell_type": "code",
   "execution_count": null,
   "metadata": {},
   "outputs": [],
   "source": [
    "execution = project.runAndAwait()"
   ]
  },
  {
   "cell_type": "code",
   "execution_count": null,
   "metadata": {},
   "outputs": [],
   "source": [
    "execution.measures()"
   ]
  },
  {
   "cell_type": "code",
   "execution_count": null,
   "metadata": {},
   "outputs": [],
   "source": [
    "mappingReport.report()"
   ]
  },
  {
   "cell_type": "code",
   "execution_count": null,
   "metadata": {},
   "outputs": [],
   "source": [
    "count.report()"
   ]
  },
  {
   "cell_type": "code",
   "execution_count": null,
   "metadata": {},
   "outputs": [],
   "source": [
    "deviationReport.report()"
   ]
  },
  {
   "cell_type": "code",
   "execution_count": null,
   "metadata": {},
   "outputs": [],
   "source": [
    "issueReport.report()"
   ]
  },
  {
   "cell_type": "markdown",
   "metadata": {},
   "source": [
    "# Advanced Features"
   ]
  },
  {
   "cell_type": "markdown",
   "metadata": {},
   "source": [
    "Now, we see our new project in the list of projects."
   ]
  },
  {
   "cell_type": "code",
   "execution_count": null,
   "metadata": {},
   "outputs": [],
   "source": [
    "abecto.projects()"
   ]
  },
  {
   "cell_type": "markdown",
   "metadata": {},
   "source": [
    "We can also request information of a certain project."
   ]
  },
  {
   "cell_type": "code",
   "execution_count": null,
   "metadata": {},
   "outputs": [],
   "source": [
    "project.info()"
   ]
  },
  {
   "cell_type": "markdown",
   "metadata": {},
   "source": [
    "Furthermore, we can delete projects."
   ]
  },
  {
   "cell_type": "code",
   "execution_count": null,
   "metadata": {},
   "outputs": [],
   "source": [
    "trashProject = abecto.project(\"Trash Project\")\n",
    "trashProject.delete()\n",
    "abecto.projects()"
   ]
  },
  {
   "cell_type": "markdown",
   "metadata": {},
   "source": [
    "The knowledge bases appear now in the list of knowledge bases of the project."
   ]
  },
  {
   "cell_type": "code",
   "execution_count": null,
   "metadata": {},
   "outputs": [],
   "source": [
    "project.knowledgeBases()"
   ]
  },
  {
   "cell_type": "markdown",
   "metadata": {},
   "source": [
    "We can also request information of a certain knowledge base."
   ]
  },
  {
   "cell_type": "code",
   "execution_count": null,
   "metadata": {},
   "outputs": [],
   "source": [
    "kb1.info()"
   ]
  },
  {
   "cell_type": "markdown",
   "metadata": {},
   "source": [
    "And we can delete knowledge bases."
   ]
  },
  {
   "cell_type": "code",
   "execution_count": null,
   "metadata": {},
   "outputs": [],
   "source": [
    "trashKB = project.knowledgeBase(\"Trash Knowledge Base\")\n",
    "trashKB.delete()\n",
    "project.knowledgeBases()"
   ]
  },
  {
   "cell_type": "code",
   "execution_count": null,
   "metadata": {},
   "outputs": [],
   "source": [
    "project.steps()"
   ]
  },
  {
   "cell_type": "code",
   "execution_count": null,
   "metadata": {},
   "outputs": [],
   "source": [
    "kb1source1.info()"
   ]
  },
  {
   "cell_type": "code",
   "execution_count": null,
   "metadata": {},
   "outputs": [],
   "source": [
    "mapping2.processings()"
   ]
  },
  {
   "cell_type": "code",
   "execution_count": null,
   "metadata": {},
   "outputs": [],
   "source": [
    "mappingReport.last()"
   ]
  },
  {
   "cell_type": "code",
   "execution_count": null,
   "metadata": {},
   "outputs": [],
   "source": [
    "mappingReport.last().raw()"
   ]
  },
  {
   "cell_type": "code",
   "execution_count": null,
   "metadata": {},
   "outputs": [],
   "source": [
    "mappingReport.last().graph()"
   ]
  },
  {
   "cell_type": "code",
   "execution_count": null,
   "metadata": {},
   "outputs": [],
   "source": [
    "mappingReport.last().graphAsDataFrame()"
   ]
  }
 ],
 "metadata": {
  "kernelspec": {
   "display_name": "Python 3",
   "language": "python",
   "name": "python3"
  },
  "language_info": {
   "codemirror_mode": {
    "name": "ipython",
    "version": 3
   },
   "file_extension": ".py",
   "mimetype": "text/x-python",
   "name": "python",
   "nbconvert_exporter": "python",
   "pygments_lexer": "ipython3",
   "version": "3.7.3"
  }
 },
 "nbformat": 4,
 "nbformat_minor": 4
}
