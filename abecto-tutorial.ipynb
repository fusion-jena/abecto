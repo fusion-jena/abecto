{
 "cells": [
  {
   "cell_type": "markdown",
   "metadata": {},
   "source": [
    "# ABECTO Tutorial\n",
    "\n",
    "ABECTO is an **AB**ox **E**valuation and **C**omparison **T**ool for **O**ntologies. It allows to easily compare and evaluate two or more RDF knowledge bases regarding the contained information. This tutorial provides an introduction to the use of ABECTO.\n"
   ]
  },
  {
   "cell_type": "markdown",
   "metadata": {},
   "source": [
    "## Preparation\n",
    "\n",
    "Before we can start, we need to do a few preparation steps.\n",
    "\n",
    "ABECTO is running as a HTTP REST service in the background. We will use some provided functions, which hide the raw HTTP requests."
   ]
  },
  {
   "cell_type": "code",
   "execution_count": 1,
   "metadata": {},
   "outputs": [],
   "source": [
    "from abecto import *"
   ]
  },
  {
   "cell_type": "markdown",
   "metadata": {},
   "source": [
    "First, we create some sample files that we will use in this tutorial."
   ]
  },
  {
   "cell_type": "code",
   "execution_count": 2,
   "metadata": {},
   "outputs": [],
   "source": [
    "import tempfile\n",
    "\n",
    "source1file1 = tempfile.TemporaryFile(mode = \"w+\")\n",
    "source1file1.write(\"\"\"\n",
    "    BASE         <http://example.org/a/>\n",
    "    PREFIX :     <http://example.org/a/>\n",
    "    PREFIX rdf:  <http://www.w3.org/1999/02/22-rdf-syntax-ns#>\n",
    "    PREFIX rdfs: <http://www.w3.org/2000/01/rdf-schema#>\n",
    "    PREFIX xsd:  <http://www.w3.org/2001/XMLSchema#>\n",
    "\n",
    "    :alice rdf:type   :Person ;\n",
    "           rdfs:label \"Alice\" ;\n",
    "           :pnr       \"12345\"^^xsd:integer .\n",
    "\"\"\")\n",
    "source1file1.seek(0)\n",
    "\n",
    "source1file2 = tempfile.TemporaryFile(mode = \"w+\")\n",
    "source1file2.write(\"\"\"\n",
    "    BASE         <http://example.org/a/>\n",
    "    PREFIX :     <http://example.org/a/>\n",
    "    PREFIX rdf:  <http://www.w3.org/1999/02/22-rdf-syntax-ns#>\n",
    "    PREFIX rdfs: <http://www.w3.org/2000/01/rdf-schema#>\n",
    "    PREFIX xsd:  <http://www.w3.org/2001/XMLSchema#>\n",
    "\n",
    "    :bob rdf:type   :Person ;\n",
    "         rdfs:label \"Bob\" ;\n",
    "         :pnr       \"67890\"^^xsd:integer .\n",
    "\"\"\")\n",
    "source1file2.seek(0)\n",
    "\n",
    "source2file1 = tempfile.TemporaryFile(mode = \"w+\")\n",
    "source2file1.write(\"\"\"\n",
    "    BASE         <http://example.org/b/>\n",
    "    PREFIX :     <http://example.org/b/>\n",
    "    PREFIX rdf:  <http://www.w3.org/1999/02/22-rdf-syntax-ns#>\n",
    "    PREFIX rdfs: <http://www.w3.org/2000/01/rdf-schema#>\n",
    "\n",
    "    :alice rdf:type   :Person ;\n",
    "           rdfs:label \"Alice\" .\n",
    "\n",
    "    :bob rdf:type   :Person ;\n",
    "         rdfs:label \"Bob\" .\n",
    "\n",
    "    :charlie rdf:type   :Person ;\n",
    "             rdfs:label \"Charlie\" .\n",
    "\"\"\")\n",
    "source2file1.seek(0);\n",
    "\n",
    "source3file1 = tempfile.TemporaryFile(mode = \"w+\")\n",
    "source3file1.write(\"\"\"\n",
    "    BASE         <http://example.net/b/>\n",
    "    PREFIX :     <http://example.net/b/>\n",
    "    PREFIX rdf:  <http://www.w3.org/1999/02/22-rdf-syntax-ns#>\n",
    "    PREFIX rdfs: <http://www.w3.org/2000/01/rdf-schema#>\n",
    "\n",
    "    :P001 rdf:type   :Person ;\n",
    "           rdfs:label \"Alice\" .\n",
    "\n",
    "    :P002 rdf:type   :Person ;\n",
    "             rdfs:label \"Charlie\" .\n",
    "\"\"\")\n",
    "source3file1.seek(0);"
   ]
  },
  {
   "cell_type": "markdown",
   "metadata": {},
   "source": [
    "Now, we start the service. **This might take a few seconds.**"
   ]
  },
  {
   "cell_type": "code",
   "execution_count": 3,
   "metadata": {},
   "outputs": [],
   "source": [
    "abecto = Abecto(\"http://localhost:8080/\", \"target/abecto.jar\")\n",
    "abecto.start()"
   ]
  },
  {
   "cell_type": "markdown",
   "metadata": {},
   "source": [
    "After the service was started, we are ready to create our ontology evaluation and comparison project."
   ]
  },
  {
   "cell_type": "markdown",
   "metadata": {},
   "source": [
    "## Project Setup\n",
    "\n",
    "First, we create a new ABECTO project. We can also give the project an arbitrary name."
   ]
  },
  {
   "cell_type": "code",
   "execution_count": 4,
   "metadata": {},
   "outputs": [],
   "source": [
    "project = abecto.project(\"My Project\")"
   ]
  },
  {
   "cell_type": "markdown",
   "metadata": {},
   "source": [
    "Now, we see our new project in the list of projects."
   ]
  },
  {
   "cell_type": "code",
   "execution_count": 5,
   "metadata": {},
   "outputs": [],
   "source": [
    "#abecto.projects()"
   ]
  },
  {
   "cell_type": "markdown",
   "metadata": {},
   "source": [
    "We can also request information of a certain project."
   ]
  },
  {
   "cell_type": "code",
   "execution_count": 6,
   "metadata": {},
   "outputs": [],
   "source": [
    "#getProject(project)"
   ]
  },
  {
   "cell_type": "markdown",
   "metadata": {},
   "source": [
    "Furthermore, we can delete projects."
   ]
  },
  {
   "cell_type": "code",
   "execution_count": 7,
   "metadata": {},
   "outputs": [],
   "source": [
    "#trashProject <- createProject(\"Trash Project\")\n",
    "#deleteProject(trashProject)\n",
    "#listProjects()"
   ]
  },
  {
   "cell_type": "markdown",
   "metadata": {},
   "source": [
    "Now, we create a knowledge base object for each knwoledge base we want to include into the project."
   ]
  },
  {
   "cell_type": "code",
   "execution_count": 8,
   "metadata": {},
   "outputs": [],
   "source": [
    "kb1 = project.knowledgeBase(\"Knowledge Base ABCDEFG\")\n",
    "kb2 = project.knowledgeBase(\"Knowledge Base HIJKLMN\")\n",
    "kb3 = project.knowledgeBase(\"Knowledge Base OPQRSTU\")"
   ]
  },
  {
   "cell_type": "markdown",
   "metadata": {},
   "source": [
    "The knowledge bases appear now in the list of knowledge bases of the project."
   ]
  },
  {
   "cell_type": "code",
   "execution_count": 9,
   "metadata": {},
   "outputs": [],
   "source": [
    "#project.knowledgeBases()"
   ]
  },
  {
   "cell_type": "markdown",
   "metadata": {},
   "source": [
    "We can also request information of a certain knowledge base."
   ]
  },
  {
   "cell_type": "code",
   "execution_count": 10,
   "metadata": {},
   "outputs": [],
   "source": [
    "#getKnowledgebase(kb1)"
   ]
  },
  {
   "cell_type": "markdown",
   "metadata": {},
   "source": [
    "And we can delete knowledge bases."
   ]
  },
  {
   "cell_type": "code",
   "execution_count": 11,
   "metadata": {},
   "outputs": [],
   "source": [
    "#trashKB <- createKnowledgebase(project,\"Trash Knowledge Base\")\n",
    "#deleteKnowledgebase(trashKB)\n",
    "#listKnowledgebases(project)"
   ]
  },
  {
   "cell_type": "code",
   "execution_count": 12,
   "metadata": {},
   "outputs": [],
   "source": [
    "kb1source1 = kb1.source(\"RdfFileSourceProcessor\")\n",
    "kb1source2 = kb1.source(\"RdfFileSourceProcessor\")\n",
    "kb2source1 = kb2.source(\"RdfFileSourceProcessor\")\n",
    "kb3source1 = kb3.source(\"RdfFileSourceProcessor\")"
   ]
  },
  {
   "cell_type": "code",
   "execution_count": 13,
   "metadata": {},
   "outputs": [],
   "source": [
    "#getStep(kb1source1)"
   ]
  },
  {
   "cell_type": "code",
   "execution_count": 14,
   "metadata": {},
   "outputs": [],
   "source": [
    "#listSteps(project)"
   ]
  },
  {
   "cell_type": "code",
   "execution_count": 15,
   "metadata": {},
   "outputs": [],
   "source": [
    "kb1source1.load(source1file1)\n",
    "kb1source2.load(source1file2)\n",
    "kb2source1.load(source2file1)\n",
    "kb3source1.load(source3file1);"
   ]
  },
  {
   "cell_type": "code",
   "execution_count": 16,
   "metadata": {},
   "outputs": [],
   "source": [
    "personPattern = {\"person\": \"?person <http://www.w3.org/2000/01/rdf-schema#label> ?label .\"}\n",
    "categories1 = kb1source1.plus(kb1source2).into(\"ManualCategoryProcessor\", {\"patterns\": personPattern})\n",
    "categories2 = kb2source1.into(\"ManualCategoryProcessor\", {\"patterns\": personPattern})\n",
    "categories3 = kb3source1.into(\"ManualCategoryProcessor\", {\"patterns\": personPattern})"
   ]
  },
  {
   "cell_type": "code",
   "execution_count": 17,
   "metadata": {},
   "outputs": [],
   "source": [
    "mapping = categories1.plus(categories2).plus(categories3).into(\"JaroWinklerMappingProcessor\", {\"threshold\": 0.9, \"case_sensitive\": False, \"category\": \"person\", \"variables\": [\"label\"]})"
   ]
  },
  {
   "cell_type": "code",
   "execution_count": 18,
   "metadata": {},
   "outputs": [],
   "source": [
    "mappingReport = mapping.into(\"MappingReportProcessor\")"
   ]
  },
  {
   "cell_type": "code",
   "execution_count": 19,
   "metadata": {},
   "outputs": [],
   "source": [
    "project.runAndAwait()"
   ]
  },
  {
   "cell_type": "code",
   "execution_count": 20,
   "metadata": {},
   "outputs": [
    {
     "data": {
      "text/html": [
       "<div>\n",
       "<style scoped>\n",
       "    .dataframe tbody tr th:only-of-type {\n",
       "        vertical-align: middle;\n",
       "    }\n",
       "\n",
       "    .dataframe tbody tr th {\n",
       "        vertical-align: top;\n",
       "    }\n",
       "\n",
       "    .dataframe thead th {\n",
       "        text-align: right;\n",
       "    }\n",
       "</style>\n",
       "<table border=\"1\" class=\"dataframe\">\n",
       "  <thead>\n",
       "    <tr style=\"text-align: right;\">\n",
       "      <th></th>\n",
       "      <th>@id</th>\n",
       "      <th>@type</th>\n",
       "      <th>category1</th>\n",
       "      <th>category2</th>\n",
       "      <th>data1</th>\n",
       "      <th>data2</th>\n",
       "      <th>id1</th>\n",
       "      <th>id2</th>\n",
       "      <th>knowledgeBase1</th>\n",
       "      <th>knowledgeBase2</th>\n",
       "    </tr>\n",
       "  </thead>\n",
       "  <tbody>\n",
       "    <tr>\n",
       "      <th>0</th>\n",
       "      <td>_:b0</td>\n",
       "      <td>http://fusion.cs.uni-jena.de/ontology/abecto/M...</td>\n",
       "      <td>person</td>\n",
       "      <td>person</td>\n",
       "      <td>{\"label\":\"Charlie\",\"person\":\"http://example.or...</td>\n",
       "      <td>NaN</td>\n",
       "      <td>http://example.org/b/charlie</td>\n",
       "      <td>NaN</td>\n",
       "      <td>b32d8ad8-e14e-432e-8627-d8b319ec1edc</td>\n",
       "      <td>4267b806-7327-419a-ad31-be39b766e1c4</td>\n",
       "    </tr>\n",
       "    <tr>\n",
       "      <th>1</th>\n",
       "      <td>_:b1</td>\n",
       "      <td>http://fusion.cs.uni-jena.de/ontology/abecto/M...</td>\n",
       "      <td>person</td>\n",
       "      <td>person</td>\n",
       "      <td>{\"label\":\"Alice\",\"person\":\"http://example.org/...</td>\n",
       "      <td>{\"label\":\"Alice\",\"person\":\"http://example.net/...</td>\n",
       "      <td>http://example.org/b/alice</td>\n",
       "      <td>http://example.net/b/P001</td>\n",
       "      <td>b32d8ad8-e14e-432e-8627-d8b319ec1edc</td>\n",
       "      <td>43142f30-1a45-43f1-97ba-3db8de9bcdb3</td>\n",
       "    </tr>\n",
       "    <tr>\n",
       "      <th>2</th>\n",
       "      <td>_:b2</td>\n",
       "      <td>http://fusion.cs.uni-jena.de/ontology/abecto/M...</td>\n",
       "      <td>person</td>\n",
       "      <td>person</td>\n",
       "      <td>NaN</td>\n",
       "      <td>{\"label\":\"Bob\",\"person\":\"http://example.org/a/...</td>\n",
       "      <td>NaN</td>\n",
       "      <td>http://example.org/a/bob</td>\n",
       "      <td>43142f30-1a45-43f1-97ba-3db8de9bcdb3</td>\n",
       "      <td>4267b806-7327-419a-ad31-be39b766e1c4</td>\n",
       "    </tr>\n",
       "    <tr>\n",
       "      <th>3</th>\n",
       "      <td>_:b3</td>\n",
       "      <td>http://fusion.cs.uni-jena.de/ontology/abecto/M...</td>\n",
       "      <td>person</td>\n",
       "      <td>person</td>\n",
       "      <td>{\"label\":\"Alice\",\"person\":\"http://example.org/...</td>\n",
       "      <td>{\"label\":\"Alice\",\"person\":\"http://example.org/...</td>\n",
       "      <td>http://example.org/b/alice</td>\n",
       "      <td>http://example.org/a/alice</td>\n",
       "      <td>b32d8ad8-e14e-432e-8627-d8b319ec1edc</td>\n",
       "      <td>4267b806-7327-419a-ad31-be39b766e1c4</td>\n",
       "    </tr>\n",
       "    <tr>\n",
       "      <th>4</th>\n",
       "      <td>_:b4</td>\n",
       "      <td>http://fusion.cs.uni-jena.de/ontology/abecto/M...</td>\n",
       "      <td>person</td>\n",
       "      <td>person</td>\n",
       "      <td>{\"label\":\"Alice\",\"person\":\"http://example.net/...</td>\n",
       "      <td>{\"label\":\"Alice\",\"person\":\"http://example.org/...</td>\n",
       "      <td>http://example.net/b/P001</td>\n",
       "      <td>http://example.org/a/alice</td>\n",
       "      <td>43142f30-1a45-43f1-97ba-3db8de9bcdb3</td>\n",
       "      <td>4267b806-7327-419a-ad31-be39b766e1c4</td>\n",
       "    </tr>\n",
       "    <tr>\n",
       "      <th>5</th>\n",
       "      <td>_:b5</td>\n",
       "      <td>http://fusion.cs.uni-jena.de/ontology/abecto/M...</td>\n",
       "      <td>person</td>\n",
       "      <td>person</td>\n",
       "      <td>{\"label\":\"Bob\",\"person\":\"http://example.org/b/...</td>\n",
       "      <td>NaN</td>\n",
       "      <td>http://example.org/b/bob</td>\n",
       "      <td>NaN</td>\n",
       "      <td>b32d8ad8-e14e-432e-8627-d8b319ec1edc</td>\n",
       "      <td>43142f30-1a45-43f1-97ba-3db8de9bcdb3</td>\n",
       "    </tr>\n",
       "    <tr>\n",
       "      <th>6</th>\n",
       "      <td>_:b6</td>\n",
       "      <td>http://fusion.cs.uni-jena.de/ontology/abecto/M...</td>\n",
       "      <td>person</td>\n",
       "      <td>person</td>\n",
       "      <td>{\"label\":\"Charlie\",\"person\":\"http://example.ne...</td>\n",
       "      <td>NaN</td>\n",
       "      <td>http://example.net/b/P002</td>\n",
       "      <td>NaN</td>\n",
       "      <td>43142f30-1a45-43f1-97ba-3db8de9bcdb3</td>\n",
       "      <td>4267b806-7327-419a-ad31-be39b766e1c4</td>\n",
       "    </tr>\n",
       "    <tr>\n",
       "      <th>7</th>\n",
       "      <td>_:b7</td>\n",
       "      <td>http://fusion.cs.uni-jena.de/ontology/abecto/M...</td>\n",
       "      <td>person</td>\n",
       "      <td>person</td>\n",
       "      <td>{\"label\":\"Bob\",\"person\":\"http://example.org/b/...</td>\n",
       "      <td>{\"label\":\"Bob\",\"person\":\"http://example.org/a/...</td>\n",
       "      <td>http://example.org/b/bob</td>\n",
       "      <td>http://example.org/a/bob</td>\n",
       "      <td>b32d8ad8-e14e-432e-8627-d8b319ec1edc</td>\n",
       "      <td>4267b806-7327-419a-ad31-be39b766e1c4</td>\n",
       "    </tr>\n",
       "    <tr>\n",
       "      <th>8</th>\n",
       "      <td>_:b8</td>\n",
       "      <td>http://fusion.cs.uni-jena.de/ontology/abecto/M...</td>\n",
       "      <td>person</td>\n",
       "      <td>person</td>\n",
       "      <td>{\"label\":\"Charlie\",\"person\":\"http://example.or...</td>\n",
       "      <td>{\"label\":\"Charlie\",\"person\":\"http://example.ne...</td>\n",
       "      <td>http://example.org/b/charlie</td>\n",
       "      <td>http://example.net/b/P002</td>\n",
       "      <td>b32d8ad8-e14e-432e-8627-d8b319ec1edc</td>\n",
       "      <td>43142f30-1a45-43f1-97ba-3db8de9bcdb3</td>\n",
       "    </tr>\n",
       "  </tbody>\n",
       "</table>\n",
       "</div>"
      ],
      "text/plain": [
       "    @id                                              @type category1  \\\n",
       "0  _:b0  http://fusion.cs.uni-jena.de/ontology/abecto/M...    person   \n",
       "1  _:b1  http://fusion.cs.uni-jena.de/ontology/abecto/M...    person   \n",
       "2  _:b2  http://fusion.cs.uni-jena.de/ontology/abecto/M...    person   \n",
       "3  _:b3  http://fusion.cs.uni-jena.de/ontology/abecto/M...    person   \n",
       "4  _:b4  http://fusion.cs.uni-jena.de/ontology/abecto/M...    person   \n",
       "5  _:b5  http://fusion.cs.uni-jena.de/ontology/abecto/M...    person   \n",
       "6  _:b6  http://fusion.cs.uni-jena.de/ontology/abecto/M...    person   \n",
       "7  _:b7  http://fusion.cs.uni-jena.de/ontology/abecto/M...    person   \n",
       "8  _:b8  http://fusion.cs.uni-jena.de/ontology/abecto/M...    person   \n",
       "\n",
       "  category2                                              data1  \\\n",
       "0    person  {\"label\":\"Charlie\",\"person\":\"http://example.or...   \n",
       "1    person  {\"label\":\"Alice\",\"person\":\"http://example.org/...   \n",
       "2    person                                                NaN   \n",
       "3    person  {\"label\":\"Alice\",\"person\":\"http://example.org/...   \n",
       "4    person  {\"label\":\"Alice\",\"person\":\"http://example.net/...   \n",
       "5    person  {\"label\":\"Bob\",\"person\":\"http://example.org/b/...   \n",
       "6    person  {\"label\":\"Charlie\",\"person\":\"http://example.ne...   \n",
       "7    person  {\"label\":\"Bob\",\"person\":\"http://example.org/b/...   \n",
       "8    person  {\"label\":\"Charlie\",\"person\":\"http://example.or...   \n",
       "\n",
       "                                               data2  \\\n",
       "0                                                NaN   \n",
       "1  {\"label\":\"Alice\",\"person\":\"http://example.net/...   \n",
       "2  {\"label\":\"Bob\",\"person\":\"http://example.org/a/...   \n",
       "3  {\"label\":\"Alice\",\"person\":\"http://example.org/...   \n",
       "4  {\"label\":\"Alice\",\"person\":\"http://example.org/...   \n",
       "5                                                NaN   \n",
       "6                                                NaN   \n",
       "7  {\"label\":\"Bob\",\"person\":\"http://example.org/a/...   \n",
       "8  {\"label\":\"Charlie\",\"person\":\"http://example.ne...   \n",
       "\n",
       "                            id1                         id2  \\\n",
       "0  http://example.org/b/charlie                         NaN   \n",
       "1    http://example.org/b/alice   http://example.net/b/P001   \n",
       "2                           NaN    http://example.org/a/bob   \n",
       "3    http://example.org/b/alice  http://example.org/a/alice   \n",
       "4     http://example.net/b/P001  http://example.org/a/alice   \n",
       "5      http://example.org/b/bob                         NaN   \n",
       "6     http://example.net/b/P002                         NaN   \n",
       "7      http://example.org/b/bob    http://example.org/a/bob   \n",
       "8  http://example.org/b/charlie   http://example.net/b/P002   \n",
       "\n",
       "                         knowledgeBase1                        knowledgeBase2  \n",
       "0  b32d8ad8-e14e-432e-8627-d8b319ec1edc  4267b806-7327-419a-ad31-be39b766e1c4  \n",
       "1  b32d8ad8-e14e-432e-8627-d8b319ec1edc  43142f30-1a45-43f1-97ba-3db8de9bcdb3  \n",
       "2  43142f30-1a45-43f1-97ba-3db8de9bcdb3  4267b806-7327-419a-ad31-be39b766e1c4  \n",
       "3  b32d8ad8-e14e-432e-8627-d8b319ec1edc  4267b806-7327-419a-ad31-be39b766e1c4  \n",
       "4  43142f30-1a45-43f1-97ba-3db8de9bcdb3  4267b806-7327-419a-ad31-be39b766e1c4  \n",
       "5  b32d8ad8-e14e-432e-8627-d8b319ec1edc  43142f30-1a45-43f1-97ba-3db8de9bcdb3  \n",
       "6  43142f30-1a45-43f1-97ba-3db8de9bcdb3  4267b806-7327-419a-ad31-be39b766e1c4  \n",
       "7  b32d8ad8-e14e-432e-8627-d8b319ec1edc  4267b806-7327-419a-ad31-be39b766e1c4  \n",
       "8  b32d8ad8-e14e-432e-8627-d8b319ec1edc  43142f30-1a45-43f1-97ba-3db8de9bcdb3  "
      ]
     },
     "execution_count": 20,
     "metadata": {},
     "output_type": "execute_result"
    }
   ],
   "source": [
    "mappingReport.lastProcessing().graphAsDataFrame()"
   ]
  },
  {
   "cell_type": "code",
   "execution_count": 21,
   "metadata": {},
   "outputs": [
    {
     "data": {
      "text/plain": [
       "{'id': '81e8c2ec-850e-42ed-ae82-4756074cc49e',\n",
       " 'project': 'ae3a3939-f0db-4d3e-9c03-c7e1260f4d99',\n",
       " 'knowledgeBase': None,\n",
       " 'parameter': {'id': '7afd3687-2b09-432d-b022-21a501748af3', 'parameters': {}},\n",
       " 'processorClass': 'de.uni_jena.cs.fusion.abecto.processor.implementation.MappingReportProcessor',\n",
       " 'mapping': False,\n",
       " 'meta': True,\n",
       " 'refinement': True,\n",
       " 'source': False,\n",
       " 'transformation': False}"
      ]
     },
     "execution_count": 21,
     "metadata": {},
     "output_type": "execute_result"
    }
   ],
   "source": [
    "mappingReport.info()"
   ]
  },
  {
   "cell_type": "code",
   "execution_count": 22,
   "metadata": {},
   "outputs": [
    {
     "data": {
      "text/html": [
       "<h1>Mapping Report</h1>"
      ],
      "text/plain": [
       "<IPython.core.display.HTML object>"
      ]
     },
     "metadata": {},
     "output_type": "display_data"
    },
    {
     "data": {
      "text/html": [
       "<h2>Category: person</h2>"
      ],
      "text/plain": [
       "<IPython.core.display.HTML object>"
      ]
     },
     "metadata": {},
     "output_type": "display_data"
    },
    {
     "data": {
      "text/html": [
       "<table><tr><th style=\"text-align:center;\" colspan=\"2\">Knowledge Base OPQRSTU</th><th style=\"text-align:center;\" colspan=\"2\">Knowledge Base ABCDEFG</th></tr><tr><td>http://example.net/b/P001</td><td><table><tr><td>label</td><td>Alice</td></tr><tr><td>person</td><td>http://example.net/b/P001</td></tr></table></td><td><table><tr><td>label</td><td>Alice</td></tr><tr><td>person</td><td>http://example.org/a/alice</td></tr></table></td><td>http://example.org/a/alice</td></tr><tr><td>http://example.net/b/P002</td><td><table><tr><td>label</td><td>Charlie</td></tr><tr><td>person</td><td>http://example.net/b/P002</td></tr></table></td><td></td><td></td></tr><tr><td></td><td></td><td><table><tr><td>label</td><td>Bob</td></tr><tr><td>person</td><td>http://example.org/a/bob</td></tr></table></td><td>http://example.org/a/bob</td></tr></table>"
      ],
      "text/plain": [
       "<IPython.core.display.HTML object>"
      ]
     },
     "metadata": {},
     "output_type": "display_data"
    },
    {
     "data": {
      "text/html": [
       "<table><tr><th style=\"text-align:center;\" colspan=\"2\">Knowledge Base HIJKLMN</th><th style=\"text-align:center;\" colspan=\"2\">Knowledge Base ABCDEFG</th></tr><tr><td>http://example.org/b/alice</td><td><table><tr><td>label</td><td>Alice</td></tr><tr><td>person</td><td>http://example.org/b/alice</td></tr></table></td><td><table><tr><td>label</td><td>Alice</td></tr><tr><td>person</td><td>http://example.org/a/alice</td></tr></table></td><td>http://example.org/a/alice</td></tr><tr><td>http://example.org/b/bob</td><td><table><tr><td>label</td><td>Bob</td></tr><tr><td>person</td><td>http://example.org/b/bob</td></tr></table></td><td><table><tr><td>label</td><td>Bob</td></tr><tr><td>person</td><td>http://example.org/a/bob</td></tr></table></td><td>http://example.org/a/bob</td></tr><tr><td>http://example.org/b/charlie</td><td><table><tr><td>label</td><td>Charlie</td></tr><tr><td>person</td><td>http://example.org/b/charlie</td></tr></table></td><td></td><td></td></tr></table>"
      ],
      "text/plain": [
       "<IPython.core.display.HTML object>"
      ]
     },
     "metadata": {},
     "output_type": "display_data"
    },
    {
     "data": {
      "text/html": [
       "<table><tr><th style=\"text-align:center;\" colspan=\"2\">Knowledge Base HIJKLMN</th><th style=\"text-align:center;\" colspan=\"2\">Knowledge Base OPQRSTU</th></tr><tr><td>http://example.org/b/alice</td><td><table><tr><td>label</td><td>Alice</td></tr><tr><td>person</td><td>http://example.org/b/alice</td></tr></table></td><td><table><tr><td>label</td><td>Alice</td></tr><tr><td>person</td><td>http://example.net/b/P001</td></tr></table></td><td>http://example.net/b/P001</td></tr><tr><td>http://example.org/b/bob</td><td><table><tr><td>label</td><td>Bob</td></tr><tr><td>person</td><td>http://example.org/b/bob</td></tr></table></td><td></td><td></td></tr><tr><td>http://example.org/b/charlie</td><td><table><tr><td>label</td><td>Charlie</td></tr><tr><td>person</td><td>http://example.org/b/charlie</td></tr></table></td><td><table><tr><td>label</td><td>Charlie</td></tr><tr><td>person</td><td>http://example.net/b/P002</td></tr></table></td><td>http://example.net/b/P002</td></tr></table>"
      ],
      "text/plain": [
       "<IPython.core.display.HTML object>"
      ]
     },
     "metadata": {},
     "output_type": "display_data"
    }
   ],
   "source": [
    "mappingReport.lastProcessing().report()"
   ]
  }
 ],
 "metadata": {
  "kernelspec": {
   "display_name": "Python 3",
   "language": "python",
   "name": "python3"
  },
  "language_info": {
   "codemirror_mode": {
    "name": "ipython",
    "version": 3
   },
   "file_extension": ".py",
   "mimetype": "text/x-python",
   "name": "python",
   "nbconvert_exporter": "python",
   "pygments_lexer": "ipython3",
   "version": "3.7.3"
  }
 },
 "nbformat": 4,
 "nbformat_minor": 4
}
