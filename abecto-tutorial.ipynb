{
 "cells": [
  {
   "cell_type": "markdown",
   "metadata": {},
   "source": [
    "# ABECTO Tutorial\n",
    "\n",
    "ABECTO is an **AB**ox **E**valuation and **C**omparison **T**ool for **O**ntologies. It allows to easily compare and evaluate two or more RDF knowledge bases regarding the contained information. This tutorial provides an introduction to the use of ABECTO.\n"
   ]
  },
  {
   "cell_type": "markdown",
   "metadata": {},
   "source": [
    "## Preparation\n",
    "\n",
    "Before we can start, we need to do a few preparation steps. If ABECTO has not been compiled yet, we should do it now. (This step is not needed, if you run this notebook on [mybinder.org](https://mybinder.org).)\n",
    "\n",
    "```\n",
    "mvn package -Dmaven.test.skip=true\n",
    "```\n",
    "\n",
    "ABECTO is running as a HTTP REST service in the background. We will use some provided Phyton functions, which hide the raw HTTP requests."
   ]
  },
  {
   "cell_type": "code",
   "execution_count": null,
   "metadata": {},
   "outputs": [],
   "source": [
    "from abecto import *"
   ]
  },
  {
   "cell_type": "markdown",
   "metadata": {},
   "source": [
    "First, we create some sample files that we will use in this tutorial."
   ]
  },
  {
   "cell_type": "code",
   "execution_count": null,
   "metadata": {},
   "outputs": [],
   "source": [
    "import tempfile\n",
    "\n",
    "source1file1 = tempfile.TemporaryFile(mode = \"w+\")\n",
    "source1file1.write(\"\"\"\n",
    "    BASE         <http://example.org/a/>\n",
    "    PREFIX :     <http://example.org/a/>\n",
    "    PREFIX rdf:  <http://www.w3.org/1999/02/22-rdf-syntax-ns#>\n",
    "    PREFIX rdfs: <http://www.w3.org/2000/01/rdf-schema#>\n",
    "    PREFIX xsd:  <http://www.w3.org/2001/XMLSchema#>\n",
    "\n",
    "    :alice rdf:type   :Person ;\n",
    "           rdfs:label \"Alice\" ;\n",
    "           :pnr       \"45678\"^^xsd:integer ;\n",
    "           :boss      :bob .\n",
    "\"\"\")\n",
    "source1file1.seek(0)\n",
    "\n",
    "source1file2 = tempfile.TemporaryFile(mode = \"w+\")\n",
    "source1file2.write(\"\"\"\n",
    "    BASE         <http://example.org/a/>\n",
    "    PREFIX :     <http://example.org/a/>\n",
    "    PREFIX rdf:  <http://www.w3.org/1999/02/22-rdf-syntax-ns#>\n",
    "    PREFIX rdfs: <http://www.w3.org/2000/01/rdf-schema#>\n",
    "    PREFIX xsd:  <http://www.w3.org/2001/XMLSchema#>\n",
    "\n",
    "    :bill rdf:type   :Person ;\n",
    "          rdfs:label \"Bill\" ;\n",
    "          :pnr       \"67890\"^^xsd:integer ;\n",
    "          :boss      :alice .\n",
    "\"\"\")\n",
    "source1file2.seek(0)\n",
    "\n",
    "source2file1 = tempfile.TemporaryFile(mode = \"w+\")\n",
    "source2file1.write(\"\"\"\n",
    "    BASE         <http://example.org/b/>\n",
    "    PREFIX :     <http://example.org/b/>\n",
    "    PREFIX rdf:  <http://www.w3.org/1999/02/22-rdf-syntax-ns#>\n",
    "    PREFIX rdfs: <http://www.w3.org/2000/01/rdf-schema#>\n",
    "\n",
    "    :alice rdf:type   :Person ;\n",
    "           rdfs:label \"Alice\" ;\n",
    "           :boss      :alice .\n",
    "\n",
    "    :william rdf:type   :Person ;\n",
    "             rdfs:label \"William\" ;\n",
    "             :boss      \"Alice\" .\n",
    "\n",
    "    :charlie rdf:type   :Person ;\n",
    "             rdfs:label \"Charlie\" .\n",
    "\"\"\")\n",
    "source2file1.seek(0);\n",
    "\n",
    "source3file1 = tempfile.TemporaryFile(mode = \"w+\")\n",
    "source3file1.write(\"\"\"\n",
    "    BASE         <http://example.org/c/>\n",
    "    PREFIX :     <http://example.org/c/>\n",
    "    PREFIX rdf:  <http://www.w3.org/1999/02/22-rdf-syntax-ns#>\n",
    "    PREFIX rdfs: <http://www.w3.org/2000/01/rdf-schema#>\n",
    "    PREFIX xsd:  <http://www.w3.org/2001/XMLSchema#>\n",
    "\n",
    "    :P001 rdf:type   :Person ;\n",
    "          rdfs:label \"Alice\" ;\n",
    "          :pnr       \"12345\"^^xsd:integer .\n",
    "\n",
    "    :P002 rdf:type   :Person ;\n",
    "          rdfs:label \"Charlie\" ;\n",
    "          :pnr       \"45678\"^^xsd:integer .\n",
    "\n",
    "    :P003 rdf:type   :Person ;\n",
    "          rdfs:label \"Dave\" ;\n",
    "          :pnr       \"98765\"^^xsd:integer .\n",
    "\"\"\")\n",
    "source3file1.seek(0);"
   ]
  },
  {
   "cell_type": "markdown",
   "metadata": {},
   "source": [
    "Now, we start the service. **This might take a few seconds.** (If ABECTO is already running, this will just initialize the Phyton object needed in this notebook.)"
   ]
  },
  {
   "cell_type": "code",
   "execution_count": null,
   "metadata": {},
   "outputs": [],
   "source": [
    "abecto = Abecto(\"http://localhost:8080/\", \"target/abecto.jar\")\n",
    "abecto.start()"
   ]
  },
  {
   "cell_type": "markdown",
   "metadata": {},
   "source": [
    "After the service was started, we are ready to create our ontology evaluation and comparison project."
   ]
  },
  {
   "cell_type": "markdown",
   "metadata": {},
   "source": [
    "## Project Setup\n",
    "\n",
    "First, we create a new ABECTO project. We can also give the project an arbitrary name."
   ]
  },
  {
   "cell_type": "code",
   "execution_count": null,
   "metadata": {},
   "outputs": [],
   "source": [
    "project = abecto.project(\"My Comparison Project\")"
   ]
  },
  {
   "cell_type": "markdown",
   "metadata": {},
   "source": [
    "A project consists of the knowledge bases to analyse and a processing pipeline. Each node of the pipeline (called \"step\") calls a processor with a specific set of parameters and input steps. The results of these processings are RDF models that can be consumed by further steps or fetched for analysis.\n",
    "\n",
    "Now, we create the knowledge base object for the knowledge base we want to include into our project."
   ]
  },
  {
   "cell_type": "code",
   "execution_count": null,
   "metadata": {},
   "outputs": [],
   "source": [
    "kb1 = project.knowledgeBase(\"ABC\")\n",
    "kb2 = project.knowledgeBase(\"DEF\")\n",
    "kb3 = project.knowledgeBase(\"GHI\")"
   ]
  },
  {
   "cell_type": "markdown",
   "metadata": {},
   "source": [
    "A knowledge base might consist of several sources. For each source we create at least one source step. In this case, we use the `RdfFileSourceProcessor`, witch reads RDF files from the local file system."
   ]
  },
  {
   "cell_type": "code",
   "execution_count": null,
   "metadata": {},
   "outputs": [],
   "source": [
    "kb1source1 = kb1.source(\"RdfFileSourceProcessor\")\n",
    "kb1source2 = kb1.source(\"RdfFileSourceProcessor\")\n",
    "kb2source1 = kb2.source(\"RdfFileSourceProcessor\")\n",
    "kb3source1 = kb3.source(\"RdfFileSourceProcessor\")"
   ]
  },
  {
   "cell_type": "markdown",
   "metadata": {},
   "source": [
    "Now, we load the RDF files into the source steps. This is done in a two-stage process to allow later updates of the sources."
   ]
  },
  {
   "cell_type": "code",
   "execution_count": null,
   "metadata": {},
   "outputs": [],
   "source": [
    "kb1source1.load(source1file1)\n",
    "kb1source2.load(source1file2)\n",
    "kb2source1.load(source2file1)\n",
    "kb3source1.load(source3file1);"
   ]
  },
  {
   "cell_type": "markdown",
   "metadata": {},
   "source": [
    "To compare the knowledge bases, ABECTO needs to know what we want to compare. This is declare with so called \"categories\". For each knowledge base we can define one pattern for each applicable category. The patterns use the Turtle/SPARQL syntax and one variable needs to have the same name as the category itself. In this case, we use the `ManualCategoryProcessor` to declare a single category called \"person\". We use `into()` to create the following step for each knowledge base with the source step as input. We use `+` to combine the two source steps of knowledge base 1."
   ]
  },
  {
   "cell_type": "code",
   "execution_count": null,
   "metadata": {},
   "outputs": [],
   "source": [
    "categories1 = (kb1source1 + kb1source2).into(\"ManualCategoryProcessor\", {\"patterns\": {\n",
    "    \"person\": \"\"\"?person <http://www.w3.org/2000/01/rdf-schema#label> ?label ;\n",
    "                         <http://example.org/a/pnr>                   ?pnr ;\n",
    "                         <http://example.org/a/boss>                  ?boss .\"\"\"}})\n",
    "categories2 = kb2source1.into(\"ManualCategoryProcessor\", {\"patterns\": {\n",
    "    \"person\": \"\"\"?person <http://www.w3.org/2000/01/rdf-schema#label> ?label . \n",
    "                 OPTIONAL {\n",
    "                     ?person <http://example.org/b/boss> ?boss .\n",
    "                 }\"\"\"}})\n",
    "categories3 = kb3source1.into(\"ManualCategoryProcessor\", {\"patterns\": {\n",
    "    \"person\": \"\"\"?person <http://www.w3.org/2000/01/rdf-schema#label> ?label ;\n",
    "                         <http://example.org/c/pnr>                   ?pnr .\"\"\"}})"
   ]
  },
  {
   "cell_type": "markdown",
   "metadata": {},
   "source": [
    "In the next step we use the `JaroWinklerMappingProcessor` to map the entities of the different knowledge bases. Therefor, we use all three category steps as input. By this, the results of the source steps are also avaliable for the mapping step, as the results of earlier steps will be passed through. The mapping will by used be the further steps."
   ]
  },
  {
   "cell_type": "code",
   "execution_count": null,
   "metadata": {},
   "outputs": [],
   "source": [
    "autoMapping = (categories1 + categories2 + categories3).into(\"JaroWinklerMappingProcessor\", {\"threshold\": 0.9, \"case_sensitive\": False, \"category\": \"person\", \"variables\": [\"label\"]})"
   ]
  },
  {
   "cell_type": "markdown",
   "metadata": {},
   "source": [
    "It is also possible to use multiple mappers in one project. We now improve the mapping using the `ManuallMappingProcessor`."
   ]
  },
  {
   "cell_type": "code",
   "execution_count": null,
   "metadata": {},
   "outputs": [],
   "source": [
    "#manualMapping = autoMapping.into(\"ManualMappingProcessor\", {\"mappings\": [[\"http://example.org/a/bill\",\"http://example.org/b/william\"]]})\n",
    "manualMapping = autoMapping.into(\"ManualMappingProcessor\")"
   ]
  },
  {
   "cell_type": "markdown",
   "metadata": {},
   "source": [
    "Now we define some steps for comparison and evaluation. As we do not need to address the single steps, we will chain all the step definitions."
   ]
  },
  {
   "cell_type": "code",
   "execution_count": null,
   "metadata": {},
   "outputs": [],
   "source": [
    "manualMapping.into(\"CategoryCountProcessor\")\\\n",
    "             .into(\"LiteralDeviationProcessor\", {\"variables\": {\"person\": [\"label\", \"pnr\"] }})\\\n",
    "             .into(\"ResourceDeviationProcessor\", {\"variables\": {\"person\": [\"boss\"] }});"
   ]
  },
  {
   "cell_type": "markdown",
   "metadata": {},
   "source": [
    "# Project Execution and Reporting\n",
    "\n",
    "After all steps have been defined, we will now go to execute the pipeline and look into the results."
   ]
  },
  {
   "cell_type": "code",
   "execution_count": null,
   "metadata": {},
   "outputs": [],
   "source": [
    "execution = project.runAndAwait()"
   ]
  },
  {
   "cell_type": "code",
   "execution_count": null,
   "metadata": {},
   "outputs": [],
   "source": [
    "execution.measures()"
   ]
  },
  {
   "cell_type": "code",
   "execution_count": null,
   "metadata": {},
   "outputs": [],
   "source": [
    "execution.deviations()"
   ]
  },
  {
   "cell_type": "code",
   "execution_count": null,
   "metadata": {},
   "outputs": [],
   "source": [
    "execution.issues()"
   ]
  },
  {
   "cell_type": "code",
   "execution_count": null,
   "metadata": {},
   "outputs": [],
   "source": [
    "#execution.mappings(manualMapping)\n",
    "self=execution\n",
    "manualMappingStep=manualMapping\n",
    "\n",
    "\n",
    "# symboles\n",
    "accepted = \"✓\"\n",
    "retained = \"?\"\n",
    "rejected = \"✗\"\n",
    "\n",
    "output = widgets.Output()\n",
    "\n",
    "# widgets templates\n",
    "def unmappedWidget(resource, resourceData, resourceSink):\n",
    "    with output:\n",
    "        table = \"<table>\"\n",
    "        if any(list(resourceData)):\n",
    "            for key in sorted(resourceData):\n",
    "                table += \"<tr>\"\n",
    "                table += \"<td style=\\\"text-align:center;\\\">\" + key + \"</td>\"\n",
    "                table += \"<td style=\\\"text-align:right;\\\">\" + \", \".join(resourceData[key]) + \"</td>\"\n",
    "                table += \"</tr>\"\n",
    "        table += \"</table>\"\n",
    "        button = widgets.Button(description=resource, tooltip='Use', layout={'width': 'max-content'})\n",
    "        def use(b):\n",
    "            resourceSink.value = resource\n",
    "        button.on_click(use)\n",
    "        return widgets.VBox([button, widgets.HTML(value=table)], layout={'border': 'solid 1px lightgrey'})\n",
    "\n",
    "def mappingPairWidget(resource1, resource2, resource1Data, resource1Data2, value):\n",
    "    with output:\n",
    "        keys = set(list(resource1Data)).union(set(list(resource2Data)))\n",
    "        table = \"<table><tr><th>\" + resource1 + \"</th><th></th><th>\"+ resource2 + \"</th></tr>\"\n",
    "        if any(keys):\n",
    "            for key in sorted(keys):\n",
    "                table += \"<tr>\"\n",
    "                table += \"<td style=\\\"text-align:right;\\\">\" + (\", \".join(resource1Data[key]) if key in resource1Data else \"\") + \"</td>\"\n",
    "                table += \"<td style=\\\"text-align:center;\\\">\" + key + \"</td>\"\n",
    "                table += \"<td style=\\\"text-align:left;\\\">\" + (\", \".join(resource2Data[key]) if key in resource2Data else \"\") + \"</td>\"\n",
    "                table += \"</tr>\"\n",
    "        table += \"</table>\"\n",
    "        button = widgets.ToggleButtons(options=[accepted,retained,rejected],value=value,tooltips=[\"Accept\", \"Retain\", \"Reject\"], style={'button_width': 'auto'})\n",
    "        return widgets.HBox([button, widgets.HTML(value=table)], layout={'border': 'solid 1px lightgrey'})\n",
    "\n",
    "def newMappingWidget(resource1, resource2, newMappingSink):\n",
    "    with output:\n",
    "        button = widgets.Button(description=rejected, tooltip='Remove')\n",
    "        widget = widgets.HBox([widgets.Label(value=resource1), button, widgets.Label(value=resource2)])\n",
    "        def remove(b):\n",
    "            newMappingSink.children = tuple(x for x in newMappingSink.children if x != widget)\n",
    "        button.on_click(remove)\n",
    "        return widget\n",
    "\n",
    "def unmappedPairingWidget(resource1Widget, resource2Widget, newMappingSink):\n",
    "    with output:\n",
    "        button = widgets.Button(description='Add Mapping')\n",
    "        def add(b):\n",
    "            if resource1Widget.value != \"\" and resource2Widget.value != \"\":\n",
    "                newMappingSink.children += (newMappingWidget(resource1Widget.value, resource2Widget.value, newMappingSink),)\n",
    "                resource1Widget.value = \"\"\n",
    "                resource2Widget.value = \"\"\n",
    "        button.on_click(add)\n",
    "        return widgets.VBox([widgets.HBox([resource1Widget, button, resource2Widget]), newMappingSink])\n",
    "\n",
    "# collect execution data\n",
    "categoryData = self.resultDataFrame(\"Category\")\n",
    "categories =  set(categoryData[\"name\"])\n",
    "knowledgeBases = self.sortedKnowledgeBases(set(categoryData[\"knowledgeBase\"]))\n",
    "mappings = {}\n",
    "for mapping in self.results(\"Mapping\"):\n",
    "    if mapping[\"resourcesMap\"]:\n",
    "        if mapping[\"resource1\"] in mappings:\n",
    "            mappings[mapping[\"resource1\"]].add(mapping[\"resource2\"])\n",
    "        else:\n",
    "            mappings[mapping[\"resource1\"]] = {mapping[\"resource2\"]}\n",
    "        if mapping[\"resource2\"] in mappings:\n",
    "            mappings[mapping[\"resource2\"]].add(mapping[\"resource1\"])\n",
    "        else:\n",
    "            mappings[mapping[\"resource2\"]] = {mapping[\"resource1\"]}\n",
    "# get manual mapping parameters\n",
    "manualMappingParameters = manualMappingStep.parameters()[\"parameters\"]\n",
    "display(manualMappingParameters)\n",
    "# collect positive manual mappings from parameters\n",
    "manualPositiveMappings = {}\n",
    "for mappingList in (manualMappingParameters[\"mappings\"] if manualMappingParameters[\"mappings\"] else []):\n",
    "    for resource1 in mappingList:\n",
    "        for resource2 in mappingList:\n",
    "            if resource1 != resource2:\n",
    "                if resource1 in manualPositiveMappings:\n",
    "                    manualPositiveMappings[resource1].add(resource2)\n",
    "                else:\n",
    "                    manualPositiveMappings[resource1] = {resource2}\n",
    "                if resource2 in manualPositiveMappings:\n",
    "                    manualPositiveMappings[resource2].add(resource1)\n",
    "                else:\n",
    "                    manualPositiveMappings[resource2] = {resource1}\n",
    "# collect negativ manual mappings from parameters\n",
    "manualNegativeMappings = {}\n",
    "for mappingList in (manualMappingParameters[\"suppressed_mappings\"] if manualMappingParameters[\"suppressed_mappings\"] else []):\n",
    "    for resource1 in mappingList:\n",
    "        for resource2 in mappingList:\n",
    "            if resource1 != resource2:\n",
    "                if resource1 in manualNegativeMappings:\n",
    "                    manualNegativeMappings[resource1].add(resource2)\n",
    "                else:\n",
    "                    manualNegativeMappings[resource1] = {resource2}\n",
    "                if resource2 in manualNegativeMappings:\n",
    "                    manualNegativeMappings[resource2].add(resource1)\n",
    "                else:\n",
    "                    manualNegativeMappings[resource2] = {resource1}\n",
    "# prepare unmapped resources widgets\n",
    "resourceSinks = {}\n",
    "unmappedResourceWidgets = {}\n",
    "kbData = {}\n",
    "for categoryName in categories:\n",
    "    resourceSinks[categoryName] = {}\n",
    "    kbData[categoryName]= {}\n",
    "    unmappedResourceWidgets[categoryName]= {}\n",
    "    for (kbId, kbLabel) in knowledgeBases:\n",
    "        resourceSinks[categoryName][kbId] = widgets.Text(value='', placeholder='Resource to map')\n",
    "        kbData[categoryName][kbId] = self.data(categoryName, kbId)\n",
    "        unmapped = []\n",
    "        for unmappedResource in set(kbData[categoryName][kbId])-set(mappings)-set(manualPositiveMappings):\n",
    "            unmapped.append(unmappedWidget(unmappedResource, kbData[categoryName][kbId][unmappedResource], resourceSinks[categoryName][kbId]))\n",
    "        unmappedResourceWidgets[categoryName][kbId] = widgets.VBox(unmapped,layout={'width': '50%','max_height':'20em'})\n",
    "\n",
    "mappingPairWidgets = {}\n",
    "newMappingSinks = []\n",
    "categoryTabChildren = []\n",
    "categoryTabTitles = []\n",
    "for categoryName in categories:\n",
    "    kbTabChildrens = []\n",
    "    kbTabTitles = []\n",
    "    for (kb1Id, kb1Label) in knowledgeBases:\n",
    "        for (kb2Id, kb2Label) in knowledgeBases:\n",
    "            if (kb1Label < kb2Label):\n",
    "                pairs = []\n",
    "                for resource1 in kbData[categoryName][kb1Id]:\n",
    "                    resource1Data = kbData[categoryName][kb1Id][resource1]\n",
    "                    # add positive manual mappings\n",
    "                    if resource1 in manualPositiveMappings:\n",
    "                        for resource2 in manualPositiveMappings[resource1]:\n",
    "                            if resource2 in kbData[categoryName][kb2Id]:\n",
    "                                resource2Data = kbData[categoryName][kb2Id][resource2]\n",
    "                                pair = mappingPairWidget(resource1, resource2, resource1Data, resource2Data, accepted)\n",
    "                                mappingPairWidgets[pair] = [resource1, resource2]\n",
    "                                pairs.append(pair)\n",
    "                    # add negative manual mappings\n",
    "                    if resource1 in manualNegativeMappings:\n",
    "                        for resource2 in manualNegativeMappings[resource1]:\n",
    "                            if resource2 in kbData[categoryName][kb2Id]:\n",
    "                                resource2Data = kbData[categoryName][kb2Id][resource2]\n",
    "                                pair = mappingPairWidget(resource1, resource2, resource1Data, resource2Data, rejected)\n",
    "                                mappingPairWidgets[pair] = [resource1, resource2]\n",
    "                                pairs.append(pair)\n",
    "                    # add none manual mappings\n",
    "                    if resource1 in mappings:\n",
    "                        for resource2 in mappings[resource1]:\n",
    "                            if resource2 in kbData[categoryName][kb2Id] and not (\n",
    "                                resource1 in manualPositiveMappings and resource2 in manualPositiveMappings[resource1] or\n",
    "                                resource1 in manualNegativeMappings and resource2 in manualNegativeMappings[resource1] ):\n",
    "                                resource2Data = kbData[categoryName][kb2Id][resource2]\n",
    "                                pair = mappingPairWidget(resource1, resource2, resource1Data, resource2Data, retained)\n",
    "                                mappingPairWidgets[pair] = [resource1, resource2]\n",
    "                                pairs.append(pair)\n",
    "                # widgets management\n",
    "                newMappingSink = widgets.VBox([],layout={'max_height':'30em'})\n",
    "                pairTab = widgets.VBox([\n",
    "                    widgets.VBox(pairs,layout={'max_height':'30em'}),\n",
    "                    widgets.HBox([\n",
    "                        unmappedResourceWidgets[categoryName][kb1Id],\n",
    "                        unmappedResourceWidgets[categoryName][kb2Id]\n",
    "                    ]),\n",
    "                    unmappedPairingWidget(resourceSinks[categoryName][kb1Id], resourceSinks[categoryName][kb2Id], newMappingSink)\n",
    "                ])\n",
    "                kbTabChildrens.append(pairTab)\n",
    "                newMappingSinks.append(newMappingSink)\n",
    "                kbTabTitles.append(kb1Label + \" <-> \" + kb2Label)\n",
    "    # widgets management\n",
    "    kbTabs = widgets.Tab(children=kbTabChildrens)\n",
    "    for i, title in enumerate(kbTabTitles):\n",
    "        kbTabs.set_title(i, title)    \n",
    "    categoryTabChildren.append(kbTabs)\n",
    "    categoryTabTitles.append(categoryName)\n",
    "# widgets management\n",
    "categoryTabs = widgets.Tab(children=categoryTabChildren)\n",
    "for i, title in enumerate(categoryTabTitles):\n",
    "    categoryTabs.set_title(i, title)\n",
    "    \n",
    "display(HTML(\"<h2>Mapping Review</h2>\"))\n",
    "display(categoryTabs)\n",
    "\n",
    "updateButton = widgets.Button(description='Update Mappings')\n",
    "hideButton = widgets.Button(description='Show Only Undecided', layout={'width': 'max-content'})\n",
    "showButton = widgets.Button(description='Show All')\n",
    "showButton.layout.display = \"none\"\n",
    "display(widgets.HBox([updateButton, hideButton, showButton]), output)\n",
    "def updateMappings(b):\n",
    "    with output:\n",
    "        # get remote manual mapping data\n",
    "        manualMappingParameters = manualMappingStep.parameters()[\"parameters\"]\n",
    "        manualPositiveMappings = manualMappingParameters[\"mappings\"] if manualMappingParameters[\"mappings\"] else []\n",
    "        manualNegativeMappings = manualMappingParameters[\"suppressed_mappings\"] if manualMappingParameters[\"suppressed_mappings\"] else []\n",
    "        # update local manual mapping data\n",
    "        for mappingPairWidget in mappingPairWidgets:\n",
    "            if mappingPairWidget.children[0].value == accepted:\n",
    "                while mappingPairWidgets[mappingPairWidget] not in manualPositiveMappings: manualPositiveMappings.append(mappingPairWidgets[mappingPairWidget])\n",
    "                while mappingPairWidgets[mappingPairWidget] in manualNegativeMappings: manualNegativeMappings.remove(mappingPairWidgets[mappingPairWidget])\n",
    "            if mappingPairWidget.children[0].value == retained:\n",
    "                while mappingPairWidgets[mappingPairWidget] in manualPositiveMappings: manualPositiveMappings.remove(mappingPairWidgets[mappingPairWidget])\n",
    "                while mappingPairWidgets[mappingPairWidget] in manualNegativeMappings: manualNegativeMappings.remove(mappingPairWidgets[mappingPairWidget])\n",
    "            elif mappingPairWidget.children[0].value == rejected:\n",
    "                while mappingPairWidgets[mappingPairWidget] in manualPositiveMappings: manualPositiveMappings.remove(mappingPairWidgets[mappingPairWidget])\n",
    "                while mappingPairWidgets[mappingPairWidget] not in manualNegativeMappings: manualNegativeMappings.append(mappingPairWidgets[mappingPairWidget])\n",
    "        for newMappingSink in newMappingSinks:\n",
    "            for newMapping in newMappingSink.children:\n",
    "                manualPositiveMappings.append([newMapping.children[0].value, newMapping.children[2].value])\n",
    "        # update remote manual mapping data\n",
    "        manualMappingStep.setParameter(\"mappings\", manualPositiveMappings)\n",
    "        manualMappingStep.setParameter(\"suppressed_mappings\", manualNegativeMappings)\n",
    "        display(HTML(\"Manual Mappings updated.\"))\n",
    "updateButton.on_click(updateMappings)\n",
    "def hide(b):\n",
    "    with output:\n",
    "        for mappingPairWidget in mappingPairWidgets:\n",
    "            if mappingPairWidget.children[0].value != retained:\n",
    "                mappingPairWidget.layout.display = \"none\"\n",
    "        hideButton.layout.display = \"none\"\n",
    "        showButton.layout.display = \"inline-flex\"\n",
    "hideButton.on_click(hide)\n",
    "def show(b):\n",
    "    with output:\n",
    "        for mappingPairWidget in mappingPairWidgets:\n",
    "            if mappingPairWidget.children[0].value != retained:\n",
    "                mappingPairWidget.layout.display = \"inline-flex\"\n",
    "        hideButton.layout.display = \"inline-flex\"\n",
    "        showButton.layout.display = \"none\"\n",
    "showButton.on_click(show)\n"
   ]
  },
  {
   "cell_type": "markdown",
   "metadata": {},
   "source": [
    "# Advanced Features"
   ]
  },
  {
   "cell_type": "markdown",
   "metadata": {},
   "source": [
    "Now, we see our new project in the list of projects."
   ]
  },
  {
   "cell_type": "code",
   "execution_count": null,
   "metadata": {},
   "outputs": [],
   "source": [
    "abecto.projects()"
   ]
  },
  {
   "cell_type": "markdown",
   "metadata": {},
   "source": [
    "We can also request information of a certain project."
   ]
  },
  {
   "cell_type": "code",
   "execution_count": null,
   "metadata": {},
   "outputs": [],
   "source": [
    "project.info()"
   ]
  },
  {
   "cell_type": "markdown",
   "metadata": {},
   "source": [
    "Furthermore, we can delete projects."
   ]
  },
  {
   "cell_type": "code",
   "execution_count": null,
   "metadata": {},
   "outputs": [],
   "source": [
    "trashProject = abecto.project(\"Trash Project\")\n",
    "trashProject.delete()\n",
    "abecto.projects()"
   ]
  },
  {
   "cell_type": "markdown",
   "metadata": {},
   "source": [
    "The knowledge bases appear now in the list of knowledge bases of the project."
   ]
  },
  {
   "cell_type": "code",
   "execution_count": null,
   "metadata": {},
   "outputs": [],
   "source": [
    "project.knowledgeBases()"
   ]
  },
  {
   "cell_type": "markdown",
   "metadata": {},
   "source": [
    "We can also request information of a certain knowledge base."
   ]
  },
  {
   "cell_type": "code",
   "execution_count": null,
   "metadata": {},
   "outputs": [],
   "source": [
    "kb1.info()"
   ]
  },
  {
   "cell_type": "markdown",
   "metadata": {},
   "source": [
    "And we can delete knowledge bases."
   ]
  },
  {
   "cell_type": "code",
   "execution_count": null,
   "metadata": {},
   "outputs": [],
   "source": [
    "trashKB = project.knowledgeBase(\"Trash Knowledge Base\")\n",
    "trashKB.delete()\n",
    "project.knowledgeBases()"
   ]
  },
  {
   "cell_type": "code",
   "execution_count": null,
   "metadata": {},
   "outputs": [],
   "source": [
    "project.steps()"
   ]
  },
  {
   "cell_type": "code",
   "execution_count": null,
   "metadata": {},
   "outputs": [],
   "source": [
    "kb1source1.info()"
   ]
  },
  {
   "cell_type": "code",
   "execution_count": null,
   "metadata": {},
   "outputs": [],
   "source": [
    "manualMapping.processings()"
   ]
  },
  {
   "cell_type": "code",
   "execution_count": null,
   "metadata": {},
   "outputs": [],
   "source": [
    "manualMapping.last()"
   ]
  },
  {
   "cell_type": "code",
   "execution_count": null,
   "metadata": {},
   "outputs": [],
   "source": [
    "manualMapping.last().raw()"
   ]
  },
  {
   "cell_type": "code",
   "execution_count": null,
   "metadata": {},
   "outputs": [],
   "source": [
    "manualMapping.last().graph()"
   ]
  },
  {
   "cell_type": "code",
   "execution_count": null,
   "metadata": {},
   "outputs": [],
   "source": [
    "manualMapping.last().graphAsDataFrame()"
   ]
  },
  {
   "cell_type": "code",
   "execution_count": null,
   "metadata": {},
   "outputs": [],
   "source": [
    "#abecto.stop()"
   ]
  }
 ],
 "metadata": {
  "kernelspec": {
   "display_name": "Python 3",
   "language": "python",
   "name": "python3"
  },
  "language_info": {
   "codemirror_mode": {
    "name": "ipython",
    "version": 3
   },
   "file_extension": ".py",
   "mimetype": "text/x-python",
   "name": "python",
   "nbconvert_exporter": "python",
   "pygments_lexer": "ipython3",
   "version": "3.7.3"
  },
  "widgets": {
   "application/vnd.jupyter.widget-state+json": {
    "state": {
     "0130b48603854437bb7ee0d0de9ad81f": {
      "model_module": "@jupyter-widgets/controls",
      "model_module_version": "1.5.0",
      "model_name": "ButtonModel",
      "state": {
       "description": "Show Only Undecided",
       "layout": "IPY_MODEL_c41c160fab7f422e910c002c6ba9f9ab",
       "style": "IPY_MODEL_c232c9f1d01849f28a79ba863543e60d"
      }
     },
     "016e2287274543d98d7611b90f8d285d": {
      "model_module": "@jupyter-widgets/base",
      "model_module_version": "1.2.0",
      "model_name": "LayoutModel",
      "state": {}
     },
     "01811e24e7a54258a6f26e13bb92bb2e": {
      "model_module": "@jupyter-widgets/controls",
      "model_module_version": "1.5.0",
      "model_name": "VBoxModel",
      "state": {
       "layout": "IPY_MODEL_ef38c95dfad24db884725973d023b7c3"
      }
     },
     "02a542bc017741c4a74b4d79f4651578": {
      "model_module": "@jupyter-widgets/controls",
      "model_module_version": "1.5.0",
      "model_name": "DescriptionStyleModel",
      "state": {
       "description_width": ""
      }
     },
     "0394c633823f409f88bf94a0b1dc81a3": {
      "model_module": "@jupyter-widgets/base",
      "model_module_version": "1.2.0",
      "model_name": "LayoutModel",
      "state": {}
     },
     "04097a60dd224dc2b04cc0d38feb5da7": {
      "model_module": "@jupyter-widgets/base",
      "model_module_version": "1.2.0",
      "model_name": "LayoutModel",
      "state": {
       "max_height": "30em"
      }
     },
     "054ce0991ea946dd8aed0c450af7beec": {
      "model_module": "@jupyter-widgets/controls",
      "model_module_version": "1.5.0",
      "model_name": "DescriptionStyleModel",
      "state": {
       "description_width": ""
      }
     },
     "055d027d85f14c5691da04e48026afd4": {
      "model_module": "@jupyter-widgets/controls",
      "model_module_version": "1.5.0",
      "model_name": "VBoxModel",
      "state": {
       "children": [
        "IPY_MODEL_43a1dcee8b9043d6a825d3d96e57ace7"
       ],
       "layout": "IPY_MODEL_c672f0208c9d43d18500ac5841322f16"
      }
     },
     "06920049dcfd455290b4916d17680800": {
      "model_module": "@jupyter-widgets/controls",
      "model_module_version": "1.5.0",
      "model_name": "HBoxModel",
      "state": {
       "children": [
        "IPY_MODEL_a924f4815b3a4202ae0ee9b7867c72c4",
        "IPY_MODEL_b6bd3bcda02341c88cfc641066997998"
       ],
       "layout": "IPY_MODEL_1b6285be5102465db131befc10ef383f"
      }
     },
     "06a7b36ca58e451c894bdaabd9cb3ef1": {
      "model_module": "@jupyter-widgets/controls",
      "model_module_version": "1.5.0",
      "model_name": "HBoxModel",
      "state": {
       "children": [
        "IPY_MODEL_3c0c9c4e69a34e6e852e2cd26f5f9373",
        "IPY_MODEL_63f98ab701cf492a9ab2ea24ce8a281d",
        "IPY_MODEL_cdf57ba715cd4898b8c776aa8386fdfc"
       ],
       "layout": "IPY_MODEL_d91bd66b8d094f609fad405c6448c9d3"
      }
     },
     "070f60b67f694e8db950358232dd5bf6": {
      "model_module": "@jupyter-widgets/controls",
      "model_module_version": "1.5.0",
      "model_name": "HBoxModel",
      "state": {
       "children": [
        "IPY_MODEL_f8f07241433a4c1d97c4a5ed39b3f245",
        "IPY_MODEL_bb690391075b45548fc289634eafd676"
       ],
       "layout": "IPY_MODEL_c07ec4c868404745a4dab60e95eb921a"
      }
     },
     "0971768a8e7641e68c57c75a61697ce7": {
      "model_module": "@jupyter-widgets/base",
      "model_module_version": "1.2.0",
      "model_name": "LayoutModel",
      "state": {
       "border": "solid 1px lightgrey"
      }
     },
     "0a61454e3af945cd90109aa4f45cc1af": {
      "model_module": "@jupyter-widgets/controls",
      "model_module_version": "1.5.0",
      "model_name": "DescriptionStyleModel",
      "state": {
       "description_width": ""
      }
     },
     "0b034742aa294d89896fcfcfaa315711": {
      "model_module": "@jupyter-widgets/base",
      "model_module_version": "1.2.0",
      "model_name": "LayoutModel",
      "state": {}
     },
     "0b7a11cce92449f0a342e276e1225478": {
      "model_module": "@jupyter-widgets/controls",
      "model_module_version": "1.5.0",
      "model_name": "HBoxModel",
      "state": {
       "children": [
        "IPY_MODEL_7fc0d4727dba45eaae151618b2dee3e9",
        "IPY_MODEL_80b57b4568e549f0a742e2a8b8927bf8"
       ],
       "layout": "IPY_MODEL_132755be268240c4b70e8f1e8cdab530"
      }
     },
     "0bdaac4eae35408e95116c0953fc900c": {
      "model_module": "@jupyter-widgets/controls",
      "model_module_version": "1.5.0",
      "model_name": "VBoxModel",
      "state": {
       "children": [
        "IPY_MODEL_698d5b141c0441019bd1299c87b0c12c",
        "IPY_MODEL_1c0bbcb36f634476888c6668a849da85",
        "IPY_MODEL_88ee6063fd534ec0a34f34e787e8ab0b"
       ],
       "layout": "IPY_MODEL_ccbe74ff52834cd7b59217b4778b3189"
      }
     },
     "0cc2e465f992496cae1fb66a35b4d1bf": {
      "model_module": "@jupyter-widgets/base",
      "model_module_version": "1.2.0",
      "model_name": "LayoutModel",
      "state": {
       "border": "solid 1px lightgrey"
      }
     },
     "0dd05da36e8846f099e3c69b2269d192": {
      "model_module": "@jupyter-widgets/controls",
      "model_module_version": "1.5.0",
      "model_name": "ButtonModel",
      "state": {
       "description": "http://example.org/a/bill",
       "layout": "IPY_MODEL_5c1c9e6f5a4047858a9d88fdc0b201ca",
       "style": "IPY_MODEL_538ea592abb0475fbe0559478f16ba5f",
       "tooltip": "Use"
      }
     },
     "0df6a75b1cfe4af4806fb65ef4858482": {
      "model_module": "@jupyter-widgets/controls",
      "model_module_version": "1.5.0",
      "model_name": "VBoxModel",
      "state": {
       "children": [
        "IPY_MODEL_e272a0ccf5384f49a2deb5d047db9339",
        "IPY_MODEL_252bd02daa4f4c4ebacb2abb08ca6372"
       ],
       "layout": "IPY_MODEL_c990eec004c3430994f83e45167d46e3"
      }
     },
     "0e17c76700824b489b04138851746f47": {
      "model_module": "@jupyter-widgets/base",
      "model_module_version": "1.2.0",
      "model_name": "LayoutModel",
      "state": {}
     },
     "0e3777e1ec724c85a01ac2140b1b3fd8": {
      "model_module": "@jupyter-widgets/base",
      "model_module_version": "1.2.0",
      "model_name": "LayoutModel",
      "state": {}
     },
     "103583385f414e16b7c53594a8adf370": {
      "model_module": "@jupyter-widgets/base",
      "model_module_version": "1.2.0",
      "model_name": "LayoutModel",
      "state": {
       "display": "none",
       "width": "max-content"
      }
     },
     "103cc922691844ca90b1a5cf9812d580": {
      "model_module": "@jupyter-widgets/base",
      "model_module_version": "1.2.0",
      "model_name": "LayoutModel",
      "state": {
       "max_height": "30em"
      }
     },
     "114c7e212e5743a0bbaf392c711b351b": {
      "model_module": "@jupyter-widgets/controls",
      "model_module_version": "1.5.0",
      "model_name": "VBoxModel",
      "state": {
       "children": [
        "IPY_MODEL_31c11e53f53842afa9db3145d41c6a01"
       ],
       "layout": "IPY_MODEL_be84e93517294f458705d6ec178b26cb"
      }
     },
     "116f29688b874b3682cc9f42c8fcb4f5": {
      "model_module": "@jupyter-widgets/controls",
      "model_module_version": "1.5.0",
      "model_name": "ButtonModel",
      "state": {
       "description": "Show Only Undecided",
       "layout": "IPY_MODEL_c96763b99c1a47c49492cd5a05c0e156",
       "style": "IPY_MODEL_4558a12b7ae04e8e810a350b554db907"
      }
     },
     "1220c53160fd4a60ae480e21bcfaeeb4": {
      "model_module": "@jupyter-widgets/base",
      "model_module_version": "1.2.0",
      "model_name": "LayoutModel",
      "state": {}
     },
     "130fddcd7b4f463e81c91716a6720a89": {
      "model_module": "@jupyter-widgets/controls",
      "model_module_version": "1.5.0",
      "model_name": "HTMLModel",
      "state": {
       "layout": "IPY_MODEL_dc143e4f194c414db95bf061d1181f00",
       "style": "IPY_MODEL_e9ae94348ec542c486671b1d36ffd675",
       "value": "<table><tr><th>http://example.org/a/alice</th><th></th><th>http://example.org/b/alice</th></tr><tr><td style=\"text-align:right;\">http://example.org/a/bob</td><td style=\"text-align:center;\">boss</td><td style=\"text-align:left;\">http://example.org/b/alice</td></tr><tr><td style=\"text-align:right;\">Alice</td><td style=\"text-align:center;\">label</td><td style=\"text-align:left;\">Alice</td></tr><tr><td style=\"text-align:right;\">45678^^http://www.w3.org/2001/XMLSchema#integer</td><td style=\"text-align:center;\">pnr</td><td style=\"text-align:left;\"></td></tr></table>"
      }
     },
     "132755be268240c4b70e8f1e8cdab530": {
      "model_module": "@jupyter-widgets/base",
      "model_module_version": "1.2.0",
      "model_name": "LayoutModel",
      "state": {
       "border": "solid 1px lightgrey"
      }
     },
     "141309736bae4c6ba13124859895c9cd": {
      "model_module": "@jupyter-widgets/controls",
      "model_module_version": "1.5.0",
      "model_name": "HTMLModel",
      "state": {
       "layout": "IPY_MODEL_dfb0a5658c3543b1a1bb233c37cf1c1e",
       "style": "IPY_MODEL_5c4ab6ac3d6a46a78b2ff61a4c80bf7a",
       "value": "<table><tr><th>http://example.org/a/alice</th><th></th><th>http://example.org/b/alice</th></tr><tr><td style=\"text-align:right;\">http://example.org/a/bob</td><td style=\"text-align:center;\">boss</td><td style=\"text-align:left;\">http://example.org/b/alice</td></tr><tr><td style=\"text-align:right;\">Alice</td><td style=\"text-align:center;\">label</td><td style=\"text-align:left;\">Alice</td></tr><tr><td style=\"text-align:right;\">45678^^http://www.w3.org/2001/XMLSchema#integer</td><td style=\"text-align:center;\">pnr</td><td style=\"text-align:left;\"></td></tr></table>"
      }
     },
     "143916ca8300458fbb94bf7cfe9e3b79": {
      "model_module": "@jupyter-widgets/controls",
      "model_module_version": "1.5.0",
      "model_name": "ToggleButtonsStyleModel",
      "state": {
       "button_width": "auto",
       "description_width": ""
      }
     },
     "1452c82accb24d84bc5c628189f95c43": {
      "model_module": "@jupyter-widgets/controls",
      "model_module_version": "1.5.0",
      "model_name": "HBoxModel",
      "state": {
       "children": [
        "IPY_MODEL_b3bb074de9c6485c808a12f474c9467e",
        "IPY_MODEL_0130b48603854437bb7ee0d0de9ad81f",
        "IPY_MODEL_c755cd0b00a84bdba2a0e85e5531fe56"
       ],
       "layout": "IPY_MODEL_cb8d74f7ecde43159f0fec041d292cda"
      }
     },
     "147d8cf2765f49b596561f6e0d776226": {
      "model_module": "@jupyter-widgets/controls",
      "model_module_version": "1.5.0",
      "model_name": "DescriptionStyleModel",
      "state": {
       "description_width": ""
      }
     },
     "149bdc301c5d4fbda13198bf40bc8ae8": {
      "model_module": "@jupyter-widgets/base",
      "model_module_version": "1.2.0",
      "model_name": "LayoutModel",
      "state": {}
     },
     "150f04abc6174335a1c6287f8246d15c": {
      "model_module": "@jupyter-widgets/controls",
      "model_module_version": "1.5.0",
      "model_name": "HTMLModel",
      "state": {
       "layout": "IPY_MODEL_c37d11e167574f8096f8c6b9d94331ef",
       "style": "IPY_MODEL_19443f2e189e4754b9cb73cce3adb6f1",
       "value": "<table><tr><th>http://example.org/b/alice</th><th></th><th>http://example.org/c/P001</th></tr><tr><td style=\"text-align:right;\">http://example.org/b/alice</td><td style=\"text-align:center;\">boss</td><td style=\"text-align:left;\"></td></tr><tr><td style=\"text-align:right;\">Alice</td><td style=\"text-align:center;\">label</td><td style=\"text-align:left;\">Alice</td></tr><tr><td style=\"text-align:right;\"></td><td style=\"text-align:center;\">pnr</td><td style=\"text-align:left;\">12345^^http://www.w3.org/2001/XMLSchema#integer</td></tr></table>"
      }
     },
     "151224822c9c4085b2dde970ae3a668e": {
      "model_module": "@jupyter-widgets/base",
      "model_module_version": "1.2.0",
      "model_name": "LayoutModel",
      "state": {
       "width": "max-content"
      }
     },
     "155af277f9d64fa5a79d2348dfd12a4f": {
      "model_module": "@jupyter-widgets/controls",
      "model_module_version": "1.5.0",
      "model_name": "HTMLModel",
      "state": {
       "layout": "IPY_MODEL_d17ebf4497424695bb4b3e432d900ea6",
       "style": "IPY_MODEL_054ce0991ea946dd8aed0c450af7beec",
       "value": "<table><tr><th>http://example.org/b/charlie</th><th></th><th>http://example.org/c/P002</th></tr><tr><td style=\"text-align:right;\">Charlie</td><td style=\"text-align:center;\">label</td><td style=\"text-align:left;\">Charlie</td></tr><tr><td style=\"text-align:right;\"></td><td style=\"text-align:center;\">pnr</td><td style=\"text-align:left;\">45678^^http://www.w3.org/2001/XMLSchema#integer</td></tr></table>"
      }
     },
     "1616671bf1814f7985495efca98c9394": {
      "model_module": "@jupyter-widgets/controls",
      "model_module_version": "1.5.0",
      "model_name": "ToggleButtonsModel",
      "state": {
       "_options_labels": [
        "✓",
        "?",
        "✗"
       ],
       "button_style": "",
       "icons": [],
       "index": 1,
       "layout": "IPY_MODEL_d75c36ec7c144bc0a94bd41eed4699ba",
       "style": "IPY_MODEL_63a3bcc6264f40e88af7a421dca0f210",
       "tooltips": [
        "Accept",
        "Retain",
        "Reject"
       ]
      }
     },
     "16eed8676ceb45ada3225bb6033efb24": {
      "model_module": "@jupyter-widgets/base",
      "model_module_version": "1.2.0",
      "model_name": "LayoutModel",
      "state": {}
     },
     "19443f2e189e4754b9cb73cce3adb6f1": {
      "model_module": "@jupyter-widgets/controls",
      "model_module_version": "1.5.0",
      "model_name": "DescriptionStyleModel",
      "state": {
       "description_width": ""
      }
     },
     "1962cf5d86a347fe802e1969fe456252": {
      "model_module": "@jupyter-widgets/controls",
      "model_module_version": "1.5.0",
      "model_name": "ButtonStyleModel",
      "state": {}
     },
     "19d2bb184fe7460dafc01388efd10d76": {
      "model_module": "@jupyter-widgets/base",
      "model_module_version": "1.2.0",
      "model_name": "LayoutModel",
      "state": {}
     },
     "1a453bb8a59047b684e8caa3327285d2": {
      "model_module": "@jupyter-widgets/controls",
      "model_module_version": "1.5.0",
      "model_name": "HBoxModel",
      "state": {
       "children": [
        "IPY_MODEL_1616671bf1814f7985495efca98c9394",
        "IPY_MODEL_155af277f9d64fa5a79d2348dfd12a4f"
       ],
       "layout": "IPY_MODEL_aa5bfea635d24dec89580dcc8a12cecc"
      }
     },
     "1af443842b2c44fa81c1cc83a17c344e": {
      "model_module": "@jupyter-widgets/controls",
      "model_module_version": "1.5.0",
      "model_name": "ToggleButtonsStyleModel",
      "state": {
       "button_width": "auto",
       "description_width": ""
      }
     },
     "1b6285be5102465db131befc10ef383f": {
      "model_module": "@jupyter-widgets/base",
      "model_module_version": "1.2.0",
      "model_name": "LayoutModel",
      "state": {}
     },
     "1c0bbcb36f634476888c6668a849da85": {
      "model_module": "@jupyter-widgets/controls",
      "model_module_version": "1.5.0",
      "model_name": "HBoxModel",
      "state": {
       "children": [
        "IPY_MODEL_355d102f62e14dda940324af55f515bb",
        "IPY_MODEL_b6bd3bcda02341c88cfc641066997998"
       ],
       "layout": "IPY_MODEL_7392eb1a6f694681bdf479e76b5247d3"
      }
     },
     "1ccfb33af70545368439d7772e6d92e0": {
      "model_module": "@jupyter-widgets/controls",
      "model_module_version": "1.5.0",
      "model_name": "DescriptionStyleModel",
      "state": {
       "description_width": ""
      }
     },
     "1d0d0b22860e47c48049d8a093fe03ce": {
      "model_module": "@jupyter-widgets/base",
      "model_module_version": "1.2.0",
      "model_name": "LayoutModel",
      "state": {}
     },
     "1e9c52293ffe457aa489fd7a94582bb3": {
      "model_module": "@jupyter-widgets/controls",
      "model_module_version": "1.5.0",
      "model_name": "ToggleButtonsModel",
      "state": {
       "_options_labels": [
        "✓",
        "?",
        "✗"
       ],
       "button_style": "",
       "icons": [],
       "index": 1,
       "layout": "IPY_MODEL_a6ae73cd94a744f1a50a80f8da730cca",
       "style": "IPY_MODEL_8cd5b72949844107a3e0cb9ba4f459ba",
       "tooltips": [
        "Accept",
        "Retain",
        "Reject"
       ]
      }
     },
     "1ee993dc60284eef8201dfc2ce6189c6": {
      "model_module": "@jupyter-widgets/controls",
      "model_module_version": "1.5.0",
      "model_name": "ButtonStyleModel",
      "state": {}
     },
     "21be1d8b3df5467a98835a9019a2e822": {
      "model_module": "@jupyter-widgets/controls",
      "model_module_version": "1.5.0",
      "model_name": "VBoxModel",
      "state": {
       "children": [
        "IPY_MODEL_0b7a11cce92449f0a342e276e1225478",
        "IPY_MODEL_ca1f3a893f1a4531a6ab50cf98fbc8ae"
       ],
       "layout": "IPY_MODEL_779b8123b84c4d7eb521b59bec7acd93"
      }
     },
     "24aab22a93af4e7bb07496be4448c01a": {
      "model_module": "@jupyter-widgets/controls",
      "model_module_version": "1.5.0",
      "model_name": "TextModel",
      "state": {
       "layout": "IPY_MODEL_53b2add0d9154fc58789af0dbe871926",
       "placeholder": "Resource to map",
       "style": "IPY_MODEL_147d8cf2765f49b596561f6e0d776226"
      }
     },
     "24cc920c19364ff097d7bae3e3af836e": {
      "model_module": "@jupyter-widgets/base",
      "model_module_version": "1.2.0",
      "model_name": "LayoutModel",
      "state": {}
     },
     "252bd02daa4f4c4ebacb2abb08ca6372": {
      "model_module": "@jupyter-widgets/controls",
      "model_module_version": "1.5.0",
      "model_name": "HTMLModel",
      "state": {
       "layout": "IPY_MODEL_fa60cb980bc94a10bf5de93dc810dc5e",
       "style": "IPY_MODEL_6f40c59d522749829a0e8437a5ad05cd",
       "value": "<table><tr><td style=\"text-align:center;\">boss</td><td style=\"text-align:right;\">Alice</td></tr><tr><td style=\"text-align:center;\">label</td><td style=\"text-align:right;\">William</td></tr></table>"
      }
     },
     "253452d46b9648c9b152eaa1c3e6fe9e": {
      "model_module": "@jupyter-widgets/base",
      "model_module_version": "1.2.0",
      "model_name": "LayoutModel",
      "state": {}
     },
     "26b963b9a9f74349bd4abb9c1bc3d122": {
      "model_module": "@jupyter-widgets/controls",
      "model_module_version": "1.5.0",
      "model_name": "VBoxModel",
      "state": {
       "layout": "IPY_MODEL_4584fe86de3a41ec8b68fec078abc8d1"
      }
     },
     "2734a7e4d45a407c90b39560e11f88e9": {
      "model_module": "@jupyter-widgets/controls",
      "model_module_version": "1.5.0",
      "model_name": "ToggleButtonsModel",
      "state": {
       "_options_labels": [
        "✓",
        "?",
        "✗"
       ],
       "button_style": "",
       "icons": [],
       "index": 1,
       "layout": "IPY_MODEL_4d7f3297711e47148d5bba35386474d6",
       "style": "IPY_MODEL_daea6706fa604bab8c4c613dbf955543",
       "tooltips": [
        "Accept",
        "Retain",
        "Reject"
       ]
      }
     },
     "27cc7ef6fe684fc7b8c852f0427f9c60": {
      "model_module": "@jupyter-widgets/base",
      "model_module_version": "1.2.0",
      "model_name": "LayoutModel",
      "state": {}
     },
     "28aaff6935554ed8ad86fda026ae4be3": {
      "model_module": "@jupyter-widgets/base",
      "model_module_version": "1.2.0",
      "model_name": "LayoutModel",
      "state": {
       "max_height": "30em"
      }
     },
     "2a81ba1c584f4150a8d5687ddb0b6448": {
      "model_module": "@jupyter-widgets/controls",
      "model_module_version": "1.5.0",
      "model_name": "VBoxModel",
      "state": {
       "children": [
        "IPY_MODEL_06a7b36ca58e451c894bdaabd9cb3ef1",
        "IPY_MODEL_67f59b22f89046648ed0a960c51b2d40"
       ],
       "layout": "IPY_MODEL_27cc7ef6fe684fc7b8c852f0427f9c60"
      }
     },
     "2a9c3f6bb27c4b35b53c58308d228e5b": {
      "model_module": "@jupyter-widgets/controls",
      "model_module_version": "1.5.0",
      "model_name": "VBoxModel",
      "state": {
       "children": [
        "IPY_MODEL_ed80c953945c4d09b141a84178500784",
        "IPY_MODEL_8458de5bdfc840eeaca930e305401edf"
       ],
       "layout": "IPY_MODEL_ca88604d8ea44f84a454b2152ebdb27a"
      }
     },
     "2b2d77f049bc4574b0f02b0850f190e8": {
      "model_module": "@jupyter-widgets/controls",
      "model_module_version": "1.5.0",
      "model_name": "DescriptionStyleModel",
      "state": {
       "description_width": ""
      }
     },
     "2bb3c41c4c614e18bb98e5ad539bd168": {
      "model_module": "@jupyter-widgets/controls",
      "model_module_version": "1.5.0",
      "model_name": "ToggleButtonsModel",
      "state": {
       "_options_labels": [
        "✓",
        "?",
        "✗"
       ],
       "button_style": "",
       "icons": [],
       "index": 1,
       "layout": "IPY_MODEL_56d7fc4f7e0f4bd7ad635f36346d4a9a",
       "style": "IPY_MODEL_adcc050946334ccfbadf4b957dc05f50",
       "tooltips": [
        "Accept",
        "Retain",
        "Reject"
       ]
      }
     },
     "2c3c40c87fc440c0b368fc4d148fab2a": {
      "model_module": "@jupyter-widgets/controls",
      "model_module_version": "1.5.0",
      "model_name": "ToggleButtonsModel",
      "state": {
       "_options_labels": [
        "✓",
        "?",
        "✗"
       ],
       "button_style": "",
       "icons": [],
       "index": 0,
       "layout": "IPY_MODEL_9a24a21a98c84ab086c637a511586e37",
       "style": "IPY_MODEL_d6d72a9e59784c81b6b5e36c6c714d20",
       "tooltips": [
        "Accept",
        "Retain",
        "Reject"
       ]
      }
     },
     "2c69163ff63c40f281705fe128f05d7b": {
      "model_module": "@jupyter-widgets/controls",
      "model_module_version": "1.5.0",
      "model_name": "VBoxModel",
      "state": {
       "children": [
        "IPY_MODEL_806a24992d7f4551804a41607cd3d7d0",
        "IPY_MODEL_bb67b65fea7c425cb33dcbfe45d4084f"
       ],
       "layout": "IPY_MODEL_fbb39af79cab4493841b0d826328e0e3"
      }
     },
     "2c88646354ee41e19e8838711545e684": {
      "model_module": "@jupyter-widgets/controls",
      "model_module_version": "1.5.0",
      "model_name": "ButtonModel",
      "state": {
       "description": "http://example.org/c/P003",
       "layout": "IPY_MODEL_46bd17f4e6374216b33ba047799981cf",
       "style": "IPY_MODEL_9b8cced7a91048928ec465a88949692b",
       "tooltip": "Use"
      }
     },
     "2cc5007e9e614ef18d251a8c08dfac50": {
      "model_module": "@jupyter-widgets/controls",
      "model_module_version": "1.5.0",
      "model_name": "VBoxModel",
      "state": {
       "layout": "IPY_MODEL_5f242cd896aa4972becd424dcd305468"
      }
     },
     "2e6ee499d35a4c4cb2488b55424c796e": {
      "model_module": "@jupyter-widgets/controls",
      "model_module_version": "1.5.0",
      "model_name": "HBoxModel",
      "state": {
       "children": [
        "IPY_MODEL_6786794befa14048bf608c42cbd997ec",
        "IPY_MODEL_cccd6ce8099c4a84bcd7252132e7240d",
        "IPY_MODEL_3827d335cc114a238b96990fc01da431"
       ],
       "layout": "IPY_MODEL_c54b39fded4a49dba22a4b49db2fe4d7"
      }
     },
     "3002615b6da74930bea67b7b13168bc2": {
      "model_module": "@jupyter-widgets/controls",
      "model_module_version": "1.5.0",
      "model_name": "VBoxModel",
      "state": {
       "children": [
        "IPY_MODEL_21be1d8b3df5467a98835a9019a2e822",
        "IPY_MODEL_56e52d7ee693439ba53125394b25cbd0",
        "IPY_MODEL_6320ef9387aa401ca9b0d9e51420a1c2"
       ],
       "layout": "IPY_MODEL_42f252125b124766999ef3849224fdea"
      }
     },
     "3022df4793b4479f9f02f47794f9b951": {
      "model_module": "@jupyter-widgets/controls",
      "model_module_version": "1.5.0",
      "model_name": "HBoxModel",
      "state": {
       "children": [
        "IPY_MODEL_1e9c52293ffe457aa489fd7a94582bb3",
        "IPY_MODEL_7a4ae0b080be4c11b71d5a804161b066"
       ],
       "layout": "IPY_MODEL_3c81e7bd08b647a8933e46b991cc5efa"
      }
     },
     "31c11e53f53842afa9db3145d41c6a01": {
      "model_module": "@jupyter-widgets/controls",
      "model_module_version": "1.5.0",
      "model_name": "VBoxModel",
      "state": {
       "children": [
        "IPY_MODEL_2c88646354ee41e19e8838711545e684",
        "IPY_MODEL_612204dc7d774f3393bfcc932d1d723e"
       ],
       "layout": "IPY_MODEL_55fcbb9d0386448080d6c41a96dd0c20"
      }
     },
     "33a84065afbd47edbb98a4dd4630c8de": {
      "model_module": "@jupyter-widgets/base",
      "model_module_version": "1.2.0",
      "model_name": "LayoutModel",
      "state": {}
     },
     "344941952939445e905692758b11a844": {
      "model_module": "@jupyter-widgets/base",
      "model_module_version": "1.2.0",
      "model_name": "LayoutModel",
      "state": {}
     },
     "34b92497bc984a65b240e58eb0f6f660": {
      "model_module": "@jupyter-widgets/base",
      "model_module_version": "1.2.0",
      "model_name": "LayoutModel",
      "state": {}
     },
     "34d0640d405f444a8ebe381f71fd3ddd": {
      "model_module": "@jupyter-widgets/controls",
      "model_module_version": "1.5.0",
      "model_name": "HBoxModel",
      "state": {
       "children": [
        "IPY_MODEL_5b70ec86c1724849a6bbcbf02525907e",
        "IPY_MODEL_ba16fc1460814d419e7b0ce620fe2360",
        "IPY_MODEL_83869aa7464f4238a9a05f94249a0e40"
       ],
       "layout": "IPY_MODEL_6360ac2e391c4b10ad9c8bbd0af035d2"
      }
     },
     "355d102f62e14dda940324af55f515bb": {
      "model_module": "@jupyter-widgets/controls",
      "model_module_version": "1.5.0",
      "model_name": "VBoxModel",
      "state": {
       "layout": "IPY_MODEL_bff0bca6c77b4b7d804a1d85fa0a708b"
      }
     },
     "3585253c95ed48cbaf875e2a165722ac": {
      "model_module": "@jupyter-widgets/base",
      "model_module_version": "1.2.0",
      "model_name": "LayoutModel",
      "state": {}
     },
     "3827d335cc114a238b96990fc01da431": {
      "model_module": "@jupyter-widgets/controls",
      "model_module_version": "1.5.0",
      "model_name": "ButtonModel",
      "state": {
       "description": "Show All",
       "layout": "IPY_MODEL_9c74ea5c23a042b8a4ea22a4450d75f0",
       "style": "IPY_MODEL_3e52a5b2f0fc4c4fb6cd6bce3628ee77"
      }
     },
     "388fa1c3d4c64108b7a670a26710c8f1": {
      "model_module": "@jupyter-widgets/base",
      "model_module_version": "1.2.0",
      "model_name": "LayoutModel",
      "state": {
       "border": "solid 1px lightgrey"
      }
     },
     "38dcbf009edb482496ecddb527264cda": {
      "model_module": "@jupyter-widgets/controls",
      "model_module_version": "1.5.0",
      "model_name": "DescriptionStyleModel",
      "state": {
       "description_width": ""
      }
     },
     "39099c7c9f074d7ba92995b14258e86e": {
      "model_module": "@jupyter-widgets/controls",
      "model_module_version": "1.5.0",
      "model_name": "ToggleButtonsModel",
      "state": {
       "_options_labels": [
        "✓",
        "?",
        "✗"
       ],
       "button_style": "",
       "icons": [],
       "index": 1,
       "layout": "IPY_MODEL_e3b48a1c933642d0b3e65d0db70963a9",
       "style": "IPY_MODEL_965d3c83e0c7424baeef90517d5bf20b",
       "tooltips": [
        "Accept",
        "Retain",
        "Reject"
       ]
      }
     },
     "3c0c9c4e69a34e6e852e2cd26f5f9373": {
      "model_module": "@jupyter-widgets/controls",
      "model_module_version": "1.5.0",
      "model_name": "TextModel",
      "state": {
       "layout": "IPY_MODEL_67a2ff35607c49e9bfab19d13cd977f5",
       "placeholder": "Resource to map",
       "style": "IPY_MODEL_897974aeeda749b79cc8119cd9184eb4"
      }
     },
     "3c81e7bd08b647a8933e46b991cc5efa": {
      "model_module": "@jupyter-widgets/base",
      "model_module_version": "1.2.0",
      "model_name": "LayoutModel",
      "state": {
       "border": "solid 1px lightgrey"
      }
     },
     "3cc5a05e7007432ab7002791b1053699": {
      "model_module": "@jupyter-widgets/controls",
      "model_module_version": "1.5.0",
      "model_name": "VBoxModel",
      "state": {
       "children": [
        "IPY_MODEL_1a453bb8a59047b684e8caa3327285d2",
        "IPY_MODEL_3022df4793b4479f9f02f47794f9b951"
       ],
       "layout": "IPY_MODEL_d09f11c37c3a4eefb0c2a2e62df44432"
      }
     },
     "3d0e45aac74f41ffbe5e3f7a403dcaab": {
      "model_module": "@jupyter-widgets/controls",
      "model_module_version": "1.5.0",
      "model_name": "VBoxModel",
      "state": {
       "children": [
        "IPY_MODEL_ecc88bc4c5f24255a90df8e7a4ac486a",
        "IPY_MODEL_b2e7e94b57ac4d028f2754b9cdf8311b"
       ],
       "layout": "IPY_MODEL_886871553ae9449fb77a10a8e96120e6"
      }
     },
     "3d42b61212ce4831856a997f51e0b9b0": {
      "model_module": "@jupyter-widgets/base",
      "model_module_version": "1.2.0",
      "model_name": "LayoutModel",
      "state": {}
     },
     "3e5171590d3a4c1a8fc1b0873b206699": {
      "model_module": "@jupyter-widgets/controls",
      "model_module_version": "1.5.0",
      "model_name": "ToggleButtonsModel",
      "state": {
       "_options_labels": [
        "✓",
        "?",
        "✗"
       ],
       "button_style": "",
       "icons": [],
       "index": 1,
       "layout": "IPY_MODEL_f3de3ac9b728497bb9d3e768be5cd43a",
       "style": "IPY_MODEL_1af443842b2c44fa81c1cc83a17c344e",
       "tooltips": [
        "Accept",
        "Retain",
        "Reject"
       ]
      }
     },
     "3e52a5b2f0fc4c4fb6cd6bce3628ee77": {
      "model_module": "@jupyter-widgets/controls",
      "model_module_version": "1.5.0",
      "model_name": "ButtonStyleModel",
      "state": {}
     },
     "3f58d59a3be04993a47f7af624aa8a0d": {
      "model_module": "@jupyter-widgets/controls",
      "model_module_version": "1.5.0",
      "model_name": "ButtonModel",
      "state": {
       "description": "Add Mapping",
       "layout": "IPY_MODEL_cae25218974641ecbf1e6d3c5943dfd7",
       "style": "IPY_MODEL_e081e74065484333a5e104db3713d760"
      }
     },
     "40343fce3e4c4d9a80628185296a606c": {
      "model_module": "@jupyter-widgets/base",
      "model_module_version": "1.2.0",
      "model_name": "LayoutModel",
      "state": {}
     },
     "40cab339713d4e80b70430c3f1340cc8": {
      "model_module": "@jupyter-widgets/controls",
      "model_module_version": "1.5.0",
      "model_name": "VBoxModel",
      "state": {
       "children": [
        "IPY_MODEL_99a09c534743412ab2d6f241efab778b"
       ],
       "layout": "IPY_MODEL_04097a60dd224dc2b04cc0d38feb5da7"
      }
     },
     "410c77f3661a41e883bc4ec94488a6e8": {
      "model_module": "@jupyter-widgets/base",
      "model_module_version": "1.2.0",
      "model_name": "LayoutModel",
      "state": {}
     },
     "41d6b4db62354794b955fe3aa38e29d4": {
      "model_module": "@jupyter-widgets/controls",
      "model_module_version": "1.5.0",
      "model_name": "VBoxModel",
      "state": {
       "children": [
        "IPY_MODEL_40cab339713d4e80b70430c3f1340cc8",
        "IPY_MODEL_dcc3c3397ed74130b272db50aa11fdfe",
        "IPY_MODEL_da26b712435f4e9cb1f47c63b959984c"
       ],
       "layout": "IPY_MODEL_19d2bb184fe7460dafc01388efd10d76"
      }
     },
     "41ff0f3534e84a559bd4f6deaf7b81b5": {
      "model_module": "@jupyter-widgets/controls",
      "model_module_version": "1.5.0",
      "model_name": "DescriptionStyleModel",
      "state": {
       "description_width": ""
      }
     },
     "42ea1ab79d324dcd85c3b8170677aee2": {
      "model_module": "@jupyter-widgets/controls",
      "model_module_version": "1.5.0",
      "model_name": "DescriptionStyleModel",
      "state": {
       "description_width": ""
      }
     },
     "42f252125b124766999ef3849224fdea": {
      "model_module": "@jupyter-widgets/base",
      "model_module_version": "1.2.0",
      "model_name": "LayoutModel",
      "state": {}
     },
     "438df25b9a554fa2946e31f3b21a21e3": {
      "model_module": "@jupyter-widgets/controls",
      "model_module_version": "1.5.0",
      "model_name": "ToggleButtonsStyleModel",
      "state": {
       "button_width": "auto",
       "description_width": ""
      }
     },
     "43a1dcee8b9043d6a825d3d96e57ace7": {
      "model_module": "@jupyter-widgets/controls",
      "model_module_version": "1.5.0",
      "model_name": "HBoxModel",
      "state": {
       "children": [
        "IPY_MODEL_48c9a888d58245a2aea1e33126cc7761",
        "IPY_MODEL_d84ee64ef17a47eea269070b613b7e38"
       ],
       "layout": "IPY_MODEL_c393dfaf526f4b288295530e4ceb3c3c"
      }
     },
     "444448ef6a6b4c10b878219ecd8ee1c6": {
      "model_module": "@jupyter-widgets/controls",
      "model_module_version": "1.5.0",
      "model_name": "VBoxModel",
      "state": {
       "children": [
        "IPY_MODEL_3d0e45aac74f41ffbe5e3f7a403dcaab"
       ],
       "layout": "IPY_MODEL_b6e48ffd34f346fc8ab5df64bd97e721"
      }
     },
     "448096569aa748b7a0b6ebad83e2576d": {
      "model_module": "@jupyter-widgets/base",
      "model_module_version": "1.2.0",
      "model_name": "LayoutModel",
      "state": {}
     },
     "453386dd9c0542cbbfe75f08928505b5": {
      "model_module": "@jupyter-widgets/controls",
      "model_module_version": "1.5.0",
      "model_name": "VBoxModel",
      "state": {
       "children": [
        "IPY_MODEL_770239576c92427cadb7e517c67cf50e",
        "IPY_MODEL_01811e24e7a54258a6f26e13bb92bb2e"
       ],
       "layout": "IPY_MODEL_3d42b61212ce4831856a997f51e0b9b0"
      }
     },
     "45496d2dbb8041db9b019b0dd7641734": {
      "model_module": "@jupyter-widgets/base",
      "model_module_version": "1.2.0",
      "model_name": "LayoutModel",
      "state": {}
     },
     "4558a12b7ae04e8e810a350b554db907": {
      "model_module": "@jupyter-widgets/controls",
      "model_module_version": "1.5.0",
      "model_name": "ButtonStyleModel",
      "state": {}
     },
     "457eea167c6a47c3b02f24860235d05d": {
      "model_module": "@jupyter-widgets/base",
      "model_module_version": "1.2.0",
      "model_name": "LayoutModel",
      "state": {}
     },
     "4584fe86de3a41ec8b68fec078abc8d1": {
      "model_module": "@jupyter-widgets/base",
      "model_module_version": "1.2.0",
      "model_name": "LayoutModel",
      "state": {
       "max_height": "30em"
      }
     },
     "45f3e2cf99674d63b79e0d05bd65b9a1": {
      "model_module": "@jupyter-widgets/controls",
      "model_module_version": "1.5.0",
      "model_name": "ButtonModel",
      "state": {
       "description": "Add Mapping",
       "layout": "IPY_MODEL_eb9e4ee93f584395942670eb09c8bc38",
       "style": "IPY_MODEL_ef5f5bd1f9a14f17b8e3a1fad7b95a22"
      }
     },
     "4694e4dcc44e45d6993b9aeb134624ac": {
      "model_module": "@jupyter-widgets/controls",
      "model_module_version": "1.5.0",
      "model_name": "HBoxModel",
      "state": {
       "children": [
        "IPY_MODEL_cdf57ba715cd4898b8c776aa8386fdfc",
        "IPY_MODEL_7a0d702108fc4fc4abc1ca41f13e1085",
        "IPY_MODEL_85fa04195db0472085998576eee61928"
       ],
       "layout": "IPY_MODEL_8047111a2146449a92c16a83b99ea3a7"
      }
     },
     "46bd17f4e6374216b33ba047799981cf": {
      "model_module": "@jupyter-widgets/base",
      "model_module_version": "1.2.0",
      "model_name": "LayoutModel",
      "state": {
       "width": "max-content"
      }
     },
     "47174d9cb6af4d36a8aad5576a599b32": {
      "model_module": "@jupyter-widgets/controls",
      "model_module_version": "1.5.0",
      "model_name": "VBoxModel",
      "state": {
       "children": [
        "IPY_MODEL_94d5d8f4b7de475c8422f024c545e425"
       ],
       "layout": "IPY_MODEL_d969ffa952634362ab91727b72b2db27"
      }
     },
     "48c9a888d58245a2aea1e33126cc7761": {
      "model_module": "@jupyter-widgets/controls",
      "model_module_version": "1.5.0",
      "model_name": "ToggleButtonsModel",
      "state": {
       "_options_labels": [
        "✓",
        "?",
        "✗"
       ],
       "button_style": "",
       "icons": [],
       "index": 1,
       "layout": "IPY_MODEL_cba03a722af4482daf9ac55bf01e91ae",
       "style": "IPY_MODEL_facf770a738946a7b43051fc1e7abc61",
       "tooltips": [
        "Accept",
        "Retain",
        "Reject"
       ]
      }
     },
     "4b0267a7b96a4a41bc7c059c1bd887dc": {
      "model_module": "@jupyter-widgets/controls",
      "model_module_version": "1.5.0",
      "model_name": "DescriptionStyleModel",
      "state": {
       "description_width": ""
      }
     },
     "4b0b78e9f69049bbb5f87d822e05e4ae": {
      "model_module": "@jupyter-widgets/controls",
      "model_module_version": "1.5.0",
      "model_name": "ButtonModel",
      "state": {
       "description": "Update Mappings",
       "layout": "IPY_MODEL_e4f2860830e24f358fa096d7ed8607a5",
       "style": "IPY_MODEL_94bcbea2759e4bf98e3b12681aa1124f"
      }
     },
     "4b552889b7274e3399f0611b7e316674": {
      "model_module": "@jupyter-widgets/controls",
      "model_module_version": "1.5.0",
      "model_name": "DescriptionStyleModel",
      "state": {
       "description_width": ""
      }
     },
     "4c19b5eaa38c4436b964a67cafddbb7e": {
      "model_module": "@jupyter-widgets/controls",
      "model_module_version": "1.5.0",
      "model_name": "DescriptionStyleModel",
      "state": {
       "description_width": ""
      }
     },
     "4c5a802a10854adabd16ae4369532550": {
      "model_module": "@jupyter-widgets/base",
      "model_module_version": "1.2.0",
      "model_name": "LayoutModel",
      "state": {}
     },
     "4d4420c6b22c4484a9b46d2fe095b415": {
      "model_module": "@jupyter-widgets/base",
      "model_module_version": "1.2.0",
      "model_name": "LayoutModel",
      "state": {
       "max_height": "30em"
      }
     },
     "4d7f3297711e47148d5bba35386474d6": {
      "model_module": "@jupyter-widgets/base",
      "model_module_version": "1.2.0",
      "model_name": "LayoutModel",
      "state": {}
     },
     "4dc58090e6464b8a8ab521e8b27096bf": {
      "model_module": "@jupyter-widgets/base",
      "model_module_version": "1.2.0",
      "model_name": "LayoutModel",
      "state": {}
     },
     "4df307615aa24779b376ae7f9a788cec": {
      "model_module": "@jupyter-widgets/base",
      "model_module_version": "1.2.0",
      "model_name": "LayoutModel",
      "state": {}
     },
     "4e44045bd0034710aba780940a1359fc": {
      "model_module": "@jupyter-widgets/controls",
      "model_module_version": "1.5.0",
      "model_name": "DescriptionStyleModel",
      "state": {
       "description_width": ""
      }
     },
     "4ea46dfbe5c14e5ba77c9d696bf02afa": {
      "model_module": "@jupyter-widgets/controls",
      "model_module_version": "1.5.0",
      "model_name": "TabModel",
      "state": {
       "_titles": {
        "0": "person"
       },
       "children": [
        "IPY_MODEL_ff4b846adfb94978a32841e52178b8be"
       ],
       "layout": "IPY_MODEL_d493eb2965bc4b92bfb70c8fc522b260"
      }
     },
     "4eaa198416fc417e8dfc95e49c7c4629": {
      "model_module": "@jupyter-widgets/controls",
      "model_module_version": "1.5.0",
      "model_name": "VBoxModel",
      "state": {
       "layout": "IPY_MODEL_c6659ded8e5a47f78eb76eab4ca9e912"
      }
     },
     "50f2d2f623274fd28902f7d44a9a30d0": {
      "model_module": "@jupyter-widgets/base",
      "model_module_version": "1.2.0",
      "model_name": "LayoutModel",
      "state": {
       "max_height": "30em"
      }
     },
     "5134e1e1bece4064b10c01efd6e57cd8": {
      "model_module": "@jupyter-widgets/base",
      "model_module_version": "1.2.0",
      "model_name": "LayoutModel",
      "state": {
       "width": "max-content"
      }
     },
     "5275745a75944e3f817a8d83b81acbb1": {
      "model_module": "@jupyter-widgets/controls",
      "model_module_version": "1.5.0",
      "model_name": "ButtonStyleModel",
      "state": {}
     },
     "527fc3427515407881d1e260ec7d80dd": {
      "model_module": "@jupyter-widgets/controls",
      "model_module_version": "1.5.0",
      "model_name": "VBoxModel",
      "state": {
       "children": [
        "IPY_MODEL_6a7597257f154312b6f6bdaec79ec798",
        "IPY_MODEL_c8baf7e0270545159fbef274643c6fe4"
       ],
       "layout": "IPY_MODEL_922211ab99b04d4fa4a6fbd10c8a27e9"
      }
     },
     "52f0d729113a4e6b9a0d7b241263bdce": {
      "model_module": "@jupyter-widgets/controls",
      "model_module_version": "1.5.0",
      "model_name": "ButtonStyleModel",
      "state": {}
     },
     "53447b83143d45ffafc6acc568736f99": {
      "model_module": "@jupyter-widgets/controls",
      "model_module_version": "1.5.0",
      "model_name": "HBoxModel",
      "state": {
       "children": [
        "IPY_MODEL_3c0c9c4e69a34e6e852e2cd26f5f9373",
        "IPY_MODEL_b8beb60d629a4ce99f088b8edcbdf574",
        "IPY_MODEL_85fa04195db0472085998576eee61928"
       ],
       "layout": "IPY_MODEL_cf26fe6d90cc4e52ac975bdada21a83d"
      }
     },
     "538ea592abb0475fbe0559478f16ba5f": {
      "model_module": "@jupyter-widgets/controls",
      "model_module_version": "1.5.0",
      "model_name": "ButtonStyleModel",
      "state": {}
     },
     "53b2add0d9154fc58789af0dbe871926": {
      "model_module": "@jupyter-widgets/base",
      "model_module_version": "1.2.0",
      "model_name": "LayoutModel",
      "state": {}
     },
     "54b9a57b725b4ffb84fb86df7b1c3ace": {
      "model_module": "@jupyter-widgets/base",
      "model_module_version": "1.2.0",
      "model_name": "LayoutModel",
      "state": {}
     },
     "55fcbb9d0386448080d6c41a96dd0c20": {
      "model_module": "@jupyter-widgets/base",
      "model_module_version": "1.2.0",
      "model_name": "LayoutModel",
      "state": {
       "border": "solid 1px lightgrey"
      }
     },
     "56d7fc4f7e0f4bd7ad635f36346d4a9a": {
      "model_module": "@jupyter-widgets/base",
      "model_module_version": "1.2.0",
      "model_name": "LayoutModel",
      "state": {}
     },
     "56e52d7ee693439ba53125394b25cbd0": {
      "model_module": "@jupyter-widgets/controls",
      "model_module_version": "1.5.0",
      "model_name": "HBoxModel",
      "state": {
       "children": [
        "IPY_MODEL_444448ef6a6b4c10b878219ecd8ee1c6",
        "IPY_MODEL_d42ace5607074e50bc0a1395c941babc"
       ],
       "layout": "IPY_MODEL_df707b84d7e8461b861e5cb49bb50edd"
      }
     },
     "57a2b4b0003844a4bb6f73521d4d5f84": {
      "model_module": "@jupyter-widgets/controls",
      "model_module_version": "1.5.0",
      "model_name": "HTMLModel",
      "state": {
       "layout": "IPY_MODEL_84f476e3202c40fdb2c7443ca313d0d2",
       "style": "IPY_MODEL_750fe7a84cf04c97acc8a66e23905530",
       "value": "<table><tr><th>http://example.org/a/bill</th><th></th><th>http://example.org/b/william</th></tr><tr><td style=\"text-align:right;\">http://example.org/a/alice</td><td style=\"text-align:center;\">boss</td><td style=\"text-align:left;\">Alice</td></tr><tr><td style=\"text-align:right;\">Bill</td><td style=\"text-align:center;\">label</td><td style=\"text-align:left;\">William</td></tr><tr><td style=\"text-align:right;\">67890^^http://www.w3.org/2001/XMLSchema#integer</td><td style=\"text-align:center;\">pnr</td><td style=\"text-align:left;\"></td></tr></table>"
      }
     },
     "57f6ed2087cf4589bc76da54c46d8694": {
      "model_module": "@jupyter-widgets/base",
      "model_module_version": "1.2.0",
      "model_name": "LayoutModel",
      "state": {}
     },
     "585a29d2d3694468805de22921d246f7": {
      "model_module": "@jupyter-widgets/base",
      "model_module_version": "1.2.0",
      "model_name": "LayoutModel",
      "state": {}
     },
     "5891e35781c74e51a0c0e921c8f539c0": {
      "model_module": "@jupyter-widgets/base",
      "model_module_version": "1.2.0",
      "model_name": "LayoutModel",
      "state": {}
     },
     "591c0ab30dca401e99a999d532d21694": {
      "model_module": "@jupyter-widgets/base",
      "model_module_version": "1.2.0",
      "model_name": "LayoutModel",
      "state": {
       "width": "max-content"
      }
     },
     "5a9231016aa94496bdea4fd84a30723e": {
      "model_module": "@jupyter-widgets/base",
      "model_module_version": "1.2.0",
      "model_name": "LayoutModel",
      "state": {}
     },
     "5b70ec86c1724849a6bbcbf02525907e": {
      "model_module": "@jupyter-widgets/controls",
      "model_module_version": "1.5.0",
      "model_name": "TextModel",
      "state": {
       "layout": "IPY_MODEL_9d91d96e1b9d4c3fa630285332637eb5",
       "placeholder": "Resource to map",
       "style": "IPY_MODEL_38dcbf009edb482496ecddb527264cda"
      }
     },
     "5c1c9e6f5a4047858a9d88fdc0b201ca": {
      "model_module": "@jupyter-widgets/base",
      "model_module_version": "1.2.0",
      "model_name": "LayoutModel",
      "state": {
       "width": "max-content"
      }
     },
     "5c4ab6ac3d6a46a78b2ff61a4c80bf7a": {
      "model_module": "@jupyter-widgets/controls",
      "model_module_version": "1.5.0",
      "model_name": "DescriptionStyleModel",
      "state": {
       "description_width": ""
      }
     },
     "5d541a9aff884cea918a8f2295534c15": {
      "model_module": "@jupyter-widgets/controls",
      "model_module_version": "1.5.0",
      "model_name": "ToggleButtonsModel",
      "state": {
       "_options_labels": [
        "✓",
        "?",
        "✗"
       ],
       "button_style": "",
       "icons": [],
       "index": 1,
       "layout": "IPY_MODEL_24cc920c19364ff097d7bae3e3af836e",
       "style": "IPY_MODEL_438df25b9a554fa2946e31f3b21a21e3",
       "tooltips": [
        "Accept",
        "Retain",
        "Reject"
       ]
      }
     },
     "5e85fafed1a04486ae4030c857329c65": {
      "model_module": "@jupyter-widgets/controls",
      "model_module_version": "1.5.0",
      "model_name": "VBoxModel",
      "state": {
       "children": [
        "IPY_MODEL_53447b83143d45ffafc6acc568736f99",
        "IPY_MODEL_6b2c629ad332476c82c3a83382e9169e"
       ],
       "layout": "IPY_MODEL_70fee7b7fabc448c920b386c22cf9d2d"
      }
     },
     "5f242cd896aa4972becd424dcd305468": {
      "model_module": "@jupyter-widgets/base",
      "model_module_version": "1.2.0",
      "model_name": "LayoutModel",
      "state": {
       "max_height": "30em"
      }
     },
     "5f9bf343ef7240c98363b20c2bd58b22": {
      "model_module": "@jupyter-widgets/controls",
      "model_module_version": "1.5.0",
      "model_name": "VBoxModel",
      "state": {
       "children": [
        "IPY_MODEL_6ee4b6edf4a84599955f9214326d2640"
       ],
       "layout": "IPY_MODEL_75f6c9d44aca473ea13fa7b47bc6b341"
      }
     },
     "5fcc9d3f39994367b3eed37b9f6620a0": {
      "model_module": "@jupyter-widgets/controls",
      "model_module_version": "1.5.0",
      "model_name": "VBoxModel",
      "state": {
       "children": [
        "IPY_MODEL_2c69163ff63c40f281705fe128f05d7b",
        "IPY_MODEL_06920049dcfd455290b4916d17680800",
        "IPY_MODEL_453386dd9c0542cbbfe75f08928505b5"
       ],
       "layout": "IPY_MODEL_692561506dc944e7a4450751ff943503"
      }
     },
     "612204dc7d774f3393bfcc932d1d723e": {
      "model_module": "@jupyter-widgets/controls",
      "model_module_version": "1.5.0",
      "model_name": "HTMLModel",
      "state": {
       "layout": "IPY_MODEL_91073d89691046a288da0ba04b8eb99d",
       "style": "IPY_MODEL_4b0267a7b96a4a41bc7c059c1bd887dc",
       "value": "<table><tr><td style=\"text-align:center;\">label</td><td style=\"text-align:right;\">Dave</td></tr><tr><td style=\"text-align:center;\">pnr</td><td style=\"text-align:right;\">98765^^http://www.w3.org/2001/XMLSchema#integer</td></tr></table>"
      }
     },
     "616c3377a78a4000b33dcab3b83798b5": {
      "model_module": "@jupyter-widgets/base",
      "model_module_version": "1.2.0",
      "model_name": "LayoutModel",
      "state": {
       "width": "max-content"
      }
     },
     "619e22cb7e80422a89837a0fd8134eac": {
      "model_module": "@jupyter-widgets/base",
      "model_module_version": "1.2.0",
      "model_name": "LayoutModel",
      "state": {}
     },
     "6283a87278664990bfd08d626bfaa2f3": {
      "model_module": "@jupyter-widgets/output",
      "model_module_version": "1.0.0",
      "model_name": "OutputModel",
      "state": {
       "layout": "IPY_MODEL_344941952939445e905692758b11a844",
       "outputs": [
        {
         "data": {
          "text/html": "Manual Mappings updated.",
          "text/plain": "<IPython.core.display.HTML object>"
         },
         "metadata": {},
         "output_type": "display_data"
        }
       ]
      }
     },
     "6320ef9387aa401ca9b0d9e51420a1c2": {
      "model_module": "@jupyter-widgets/controls",
      "model_module_version": "1.5.0",
      "model_name": "VBoxModel",
      "state": {
       "children": [
        "IPY_MODEL_4694e4dcc44e45d6993b9aeb134624ac",
        "IPY_MODEL_2cc5007e9e614ef18d251a8c08dfac50"
       ],
       "layout": "IPY_MODEL_1220c53160fd4a60ae480e21bcfaeeb4"
      }
     },
     "6360ac2e391c4b10ad9c8bbd0af035d2": {
      "model_module": "@jupyter-widgets/base",
      "model_module_version": "1.2.0",
      "model_name": "LayoutModel",
      "state": {}
     },
     "63a3bcc6264f40e88af7a421dca0f210": {
      "model_module": "@jupyter-widgets/controls",
      "model_module_version": "1.5.0",
      "model_name": "ToggleButtonsStyleModel",
      "state": {
       "button_width": "auto",
       "description_width": ""
      }
     },
     "63f98ab701cf492a9ab2ea24ce8a281d": {
      "model_module": "@jupyter-widgets/controls",
      "model_module_version": "1.5.0",
      "model_name": "ButtonModel",
      "state": {
       "description": "Add Mapping",
       "layout": "IPY_MODEL_57f6ed2087cf4589bc76da54c46d8694",
       "style": "IPY_MODEL_5275745a75944e3f817a8d83b81acbb1"
      }
     },
     "649dd7bb5ff04c9b9cb2d08eb55256ea": {
      "model_module": "@jupyter-widgets/controls",
      "model_module_version": "1.5.0",
      "model_name": "VBoxModel",
      "state": {
       "children": [
        "IPY_MODEL_055d027d85f14c5691da04e48026afd4",
        "IPY_MODEL_b375cc0329904a599f37f7bd55953a35",
        "IPY_MODEL_5e85fafed1a04486ae4030c857329c65"
       ],
       "layout": "IPY_MODEL_16eed8676ceb45ada3225bb6033efb24"
      }
     },
     "657fe06e30924cd487806072fafa38f3": {
      "model_module": "@jupyter-widgets/controls",
      "model_module_version": "1.5.0",
      "model_name": "VBoxModel",
      "state": {
       "children": [
        "IPY_MODEL_34d0640d405f444a8ebe381f71fd3ddd",
        "IPY_MODEL_e508d85a2f274143ada4d8a2669b0304"
       ],
       "layout": "IPY_MODEL_f61c9f6a0b9045ac856961febfa4271c"
      }
     },
     "65d7f0fcf45e46649c320246f06c12f8": {
      "model_module": "@jupyter-widgets/controls",
      "model_module_version": "1.5.0",
      "model_name": "VBoxModel",
      "state": {
       "children": [
        "IPY_MODEL_e86f6ab990c24e55879c52dceea36eb2",
        "IPY_MODEL_ebb52f82797a4ae08d9bf009892de343",
        "IPY_MODEL_e0d4e495ca9243ffbcdf2e64fad3a419"
       ],
       "layout": "IPY_MODEL_585a29d2d3694468805de22921d246f7"
      }
     },
     "6786794befa14048bf608c42cbd997ec": {
      "model_module": "@jupyter-widgets/controls",
      "model_module_version": "1.5.0",
      "model_name": "ButtonModel",
      "state": {
       "description": "Update Mappings",
       "layout": "IPY_MODEL_54b9a57b725b4ffb84fb86df7b1c3ace",
       "style": "IPY_MODEL_7156dfe92f3b4166801249aff9dcc748"
      }
     },
     "67a2ff35607c49e9bfab19d13cd977f5": {
      "model_module": "@jupyter-widgets/base",
      "model_module_version": "1.2.0",
      "model_name": "LayoutModel",
      "state": {}
     },
     "67f59b22f89046648ed0a960c51b2d40": {
      "model_module": "@jupyter-widgets/controls",
      "model_module_version": "1.5.0",
      "model_name": "VBoxModel",
      "state": {
       "children": [
        "IPY_MODEL_dbf30a16d48b472a8b32e5db772e452e"
       ],
       "layout": "IPY_MODEL_50f2d2f623274fd28902f7d44a9a30d0"
      }
     },
     "681424add10245109b3ee047c054bec6": {
      "model_module": "@jupyter-widgets/controls",
      "model_module_version": "1.5.0",
      "model_name": "HBoxModel",
      "state": {
       "children": [
        "IPY_MODEL_ae8271b6051f4f5aa96a859690a9c9b9",
        "IPY_MODEL_72aa2cf7d96740a0ae79cf9347688eea",
        "IPY_MODEL_83869aa7464f4238a9a05f94249a0e40"
       ],
       "layout": "IPY_MODEL_dbea2a3259c846e18cbb76ee6a41f872"
      }
     },
     "692561506dc944e7a4450751ff943503": {
      "model_module": "@jupyter-widgets/base",
      "model_module_version": "1.2.0",
      "model_name": "LayoutModel",
      "state": {}
     },
     "698d5b141c0441019bd1299c87b0c12c": {
      "model_module": "@jupyter-widgets/controls",
      "model_module_version": "1.5.0",
      "model_name": "VBoxModel",
      "state": {
       "children": [
        "IPY_MODEL_070f60b67f694e8db950358232dd5bf6"
       ],
       "layout": "IPY_MODEL_d7877591e8a44e64be7bf2d95ddf4acc"
      }
     },
     "69afd32b759d4ce3889c43eb43d8d26b": {
      "model_module": "@jupyter-widgets/controls",
      "model_module_version": "1.5.0",
      "model_name": "ButtonModel",
      "state": {
       "description": "Add Mapping",
       "layout": "IPY_MODEL_c71cb37a085e43f4b0f1cb09b22587be",
       "style": "IPY_MODEL_df8d2cba0ca54d8181fffc7121ff2485"
      }
     },
     "69b19ecc3b7a4d5e9a0c14e3a7734042": {
      "model_module": "@jupyter-widgets/controls",
      "model_module_version": "1.5.0",
      "model_name": "VBoxModel",
      "state": {
       "children": [
        "IPY_MODEL_bb6411c049db42ee887d7bceda68d396",
        "IPY_MODEL_deb17d9c55da4f3c99e86dda4dfab84e",
        "IPY_MODEL_ece2f79532e445f28086ebcc2bede6f9"
       ],
       "layout": "IPY_MODEL_4df307615aa24779b376ae7f9a788cec"
      }
     },
     "6a7597257f154312b6f6bdaec79ec798": {
      "model_module": "@jupyter-widgets/controls",
      "model_module_version": "1.5.0",
      "model_name": "ButtonModel",
      "state": {
       "description": "http://example.org/c/P003",
       "layout": "IPY_MODEL_616c3377a78a4000b33dcab3b83798b5",
       "style": "IPY_MODEL_a2e2712585d94bd7850b8735d59f856b",
       "tooltip": "Use"
      }
     },
     "6b2c629ad332476c82c3a83382e9169e": {
      "model_module": "@jupyter-widgets/controls",
      "model_module_version": "1.5.0",
      "model_name": "VBoxModel",
      "state": {
       "layout": "IPY_MODEL_103cc922691844ca90b1a5cf9812d580"
      }
     },
     "6be3de18d7d84a27967c99fd64942e6d": {
      "model_module": "@jupyter-widgets/controls",
      "model_module_version": "1.5.0",
      "model_name": "TabModel",
      "state": {
       "_titles": {
        "0": "ABC <-> DEF",
        "1": "ABC <-> GHI",
        "2": "DEF <-> GHI"
       },
       "children": [
        "IPY_MODEL_6f30c536ac654fb18321ef03944111af",
        "IPY_MODEL_649dd7bb5ff04c9b9cb2d08eb55256ea",
        "IPY_MODEL_3002615b6da74930bea67b7b13168bc2"
       ],
       "layout": "IPY_MODEL_7ca1c1fbf144458f8cc7c7799f94f9dd"
      }
     },
     "6ee4b6edf4a84599955f9214326d2640": {
      "model_module": "@jupyter-widgets/controls",
      "model_module_version": "1.5.0",
      "model_name": "VBoxModel",
      "state": {
       "children": [
        "IPY_MODEL_0dd05da36e8846f099e3c69b2269d192",
        "IPY_MODEL_ff3c7a210acf4146841c155706818daf"
       ],
       "layout": "IPY_MODEL_9ebc960a74ae4b5b8aecd5308518b61d"
      }
     },
     "6f30c536ac654fb18321ef03944111af": {
      "model_module": "@jupyter-widgets/controls",
      "model_module_version": "1.5.0",
      "model_name": "VBoxModel",
      "state": {
       "children": [
        "IPY_MODEL_47174d9cb6af4d36a8aad5576a599b32",
        "IPY_MODEL_d1a85e96354345e3bc25a7e9a6626b45",
        "IPY_MODEL_2a81ba1c584f4150a8d5687ddb0b6448"
       ],
       "layout": "IPY_MODEL_149bdc301c5d4fbda13198bf40bc8ae8"
      }
     },
     "6f40c59d522749829a0e8437a5ad05cd": {
      "model_module": "@jupyter-widgets/controls",
      "model_module_version": "1.5.0",
      "model_name": "DescriptionStyleModel",
      "state": {
       "description_width": ""
      }
     },
     "6f925db312e64b72ad26e51abdffa47b": {
      "model_module": "@jupyter-widgets/controls",
      "model_module_version": "1.5.0",
      "model_name": "HBoxModel",
      "state": {
       "children": [
        "IPY_MODEL_e319d9077d5a4bcdbdc57c25c5f84ea1",
        "IPY_MODEL_69afd32b759d4ce3889c43eb43d8d26b",
        "IPY_MODEL_db9835e070264e4e9092e58e0c1cfe22"
       ],
       "layout": "IPY_MODEL_ecc7de6e6062469880748da61be8291a"
      }
     },
     "70fee7b7fabc448c920b386c22cf9d2d": {
      "model_module": "@jupyter-widgets/base",
      "model_module_version": "1.2.0",
      "model_name": "LayoutModel",
      "state": {}
     },
     "7156dfe92f3b4166801249aff9dcc748": {
      "model_module": "@jupyter-widgets/controls",
      "model_module_version": "1.5.0",
      "model_name": "ButtonStyleModel",
      "state": {}
     },
     "719cac7d36b94f33bdc71f1cd0d055fb": {
      "model_module": "@jupyter-widgets/controls",
      "model_module_version": "1.5.0",
      "model_name": "HBoxModel",
      "state": {
       "children": [
        "IPY_MODEL_ae8271b6051f4f5aa96a859690a9c9b9",
        "IPY_MODEL_45f3e2cf99674d63b79e0d05bd65b9a1",
        "IPY_MODEL_5b70ec86c1724849a6bbcbf02525907e"
       ],
       "layout": "IPY_MODEL_fe161bd2febe459cae02e0f15bd7e5dd"
      }
     },
     "72aa2cf7d96740a0ae79cf9347688eea": {
      "model_module": "@jupyter-widgets/controls",
      "model_module_version": "1.5.0",
      "model_name": "ButtonModel",
      "state": {
       "description": "Add Mapping",
       "layout": "IPY_MODEL_b96e504ccf9a467bbe8bed7b865aca4c",
       "style": "IPY_MODEL_b66724d6df404da0909d171392b9c1b6"
      }
     },
     "7392eb1a6f694681bdf479e76b5247d3": {
      "model_module": "@jupyter-widgets/base",
      "model_module_version": "1.2.0",
      "model_name": "LayoutModel",
      "state": {}
     },
     "750fe7a84cf04c97acc8a66e23905530": {
      "model_module": "@jupyter-widgets/controls",
      "model_module_version": "1.5.0",
      "model_name": "DescriptionStyleModel",
      "state": {
       "description_width": ""
      }
     },
     "75f6c9d44aca473ea13fa7b47bc6b341": {
      "model_module": "@jupyter-widgets/base",
      "model_module_version": "1.2.0",
      "model_name": "LayoutModel",
      "state": {
       "max_height": "20em",
       "width": "50%"
      }
     },
     "75fe9a637bf5492a88642943df6c07dd": {
      "model_module": "@jupyter-widgets/controls",
      "model_module_version": "1.5.0",
      "model_name": "LabelModel",
      "state": {
       "layout": "IPY_MODEL_45496d2dbb8041db9b019b0dd7641734",
       "style": "IPY_MODEL_4e44045bd0034710aba780940a1359fc",
       "value": "http://example.org/b/william"
      }
     },
     "770239576c92427cadb7e517c67cf50e": {
      "model_module": "@jupyter-widgets/controls",
      "model_module_version": "1.5.0",
      "model_name": "HBoxModel",
      "state": {
       "children": [
        "IPY_MODEL_db9835e070264e4e9092e58e0c1cfe22",
        "IPY_MODEL_a8766c5528b64670920faeae95b4487e",
        "IPY_MODEL_24aab22a93af4e7bb07496be4448c01a"
       ],
       "layout": "IPY_MODEL_33a84065afbd47edbb98a4dd4630c8de"
      }
     },
     "7757cc5d71c149b787beb0c54d069f6e": {
      "model_module": "@jupyter-widgets/base",
      "model_module_version": "1.2.0",
      "model_name": "LayoutModel",
      "state": {}
     },
     "779b8123b84c4d7eb521b59bec7acd93": {
      "model_module": "@jupyter-widgets/base",
      "model_module_version": "1.2.0",
      "model_name": "LayoutModel",
      "state": {
       "max_height": "30em"
      }
     },
     "795298200238452288869a44bb476fc3": {
      "model_module": "@jupyter-widgets/base",
      "model_module_version": "1.2.0",
      "model_name": "LayoutModel",
      "state": {}
     },
     "7a0d702108fc4fc4abc1ca41f13e1085": {
      "model_module": "@jupyter-widgets/controls",
      "model_module_version": "1.5.0",
      "model_name": "ButtonModel",
      "state": {
       "description": "Add Mapping",
       "layout": "IPY_MODEL_0394c633823f409f88bf94a0b1dc81a3",
       "style": "IPY_MODEL_806d5da91ac242a8ac642b9cb327a04e"
      }
     },
     "7a4ae0b080be4c11b71d5a804161b066": {
      "model_module": "@jupyter-widgets/controls",
      "model_module_version": "1.5.0",
      "model_name": "HTMLModel",
      "state": {
       "layout": "IPY_MODEL_457eea167c6a47c3b02f24860235d05d",
       "style": "IPY_MODEL_2b2d77f049bc4574b0f02b0850f190e8",
       "value": "<table><tr><th>http://example.org/b/alice</th><th></th><th>http://example.org/c/P001</th></tr><tr><td style=\"text-align:right;\">http://example.org/b/alice</td><td style=\"text-align:center;\">boss</td><td style=\"text-align:left;\"></td></tr><tr><td style=\"text-align:right;\">Alice</td><td style=\"text-align:center;\">label</td><td style=\"text-align:left;\">Alice</td></tr><tr><td style=\"text-align:right;\"></td><td style=\"text-align:center;\">pnr</td><td style=\"text-align:left;\">12345^^http://www.w3.org/2001/XMLSchema#integer</td></tr></table>"
      }
     },
     "7a55e4fbfde74cc9be5b9539addb1540": {
      "model_module": "@jupyter-widgets/controls",
      "model_module_version": "1.5.0",
      "model_name": "DescriptionStyleModel",
      "state": {
       "description_width": ""
      }
     },
     "7ae1438801b744558423dd75831c9ab8": {
      "model_module": "@jupyter-widgets/base",
      "model_module_version": "1.2.0",
      "model_name": "LayoutModel",
      "state": {
       "display": "none"
      }
     },
     "7b2b7ab75e2d459d835bc0e504c65e95": {
      "model_module": "@jupyter-widgets/controls",
      "model_module_version": "1.5.0",
      "model_name": "DescriptionStyleModel",
      "state": {
       "description_width": ""
      }
     },
     "7b2c9ca9c876443984bedd1b1a8f706a": {
      "model_module": "@jupyter-widgets/controls",
      "model_module_version": "1.5.0",
      "model_name": "ButtonStyleModel",
      "state": {}
     },
     "7c16fa7be7954cb993efb1ffd205bbd2": {
      "model_module": "@jupyter-widgets/controls",
      "model_module_version": "1.5.0",
      "model_name": "HBoxModel",
      "state": {
       "children": [
        "IPY_MODEL_4b0b78e9f69049bbb5f87d822e05e4ae",
        "IPY_MODEL_116f29688b874b3682cc9f42c8fcb4f5",
        "IPY_MODEL_b06add764d50423699d6d4cd6cf440ac"
       ],
       "layout": "IPY_MODEL_94d5722016b74f3e81926eb0019fd06c"
      }
     },
     "7ca1c1fbf144458f8cc7c7799f94f9dd": {
      "model_module": "@jupyter-widgets/base",
      "model_module_version": "1.2.0",
      "model_name": "LayoutModel",
      "state": {}
     },
     "7e52329bf5bf4f39a322da84f34e6dbd": {
      "model_module": "@jupyter-widgets/controls",
      "model_module_version": "1.5.0",
      "model_name": "HBoxModel",
      "state": {
       "children": [
        "IPY_MODEL_dfd584e4c08a4c6e979a4393ad2facbd",
        "IPY_MODEL_114c7e212e5743a0bbaf392c711b351b"
       ],
       "layout": "IPY_MODEL_0e3777e1ec724c85a01ac2140b1b3fd8"
      }
     },
     "7f3c6b269c874274bbf62318c2ea1e8e": {
      "model_module": "@jupyter-widgets/controls",
      "model_module_version": "1.5.0",
      "model_name": "DescriptionStyleModel",
      "state": {
       "description_width": ""
      }
     },
     "7fc0d4727dba45eaae151618b2dee3e9": {
      "model_module": "@jupyter-widgets/controls",
      "model_module_version": "1.5.0",
      "model_name": "ToggleButtonsModel",
      "state": {
       "_options_labels": [
        "✓",
        "?",
        "✗"
       ],
       "button_style": "",
       "icons": [],
       "index": 1,
       "layout": "IPY_MODEL_bbdec5139d374ec9a8e35ded9037d583",
       "style": "IPY_MODEL_fdd5f7dceeef4840bb3e2c0ef10a3a42",
       "tooltips": [
        "Accept",
        "Retain",
        "Reject"
       ]
      }
     },
     "8047111a2146449a92c16a83b99ea3a7": {
      "model_module": "@jupyter-widgets/base",
      "model_module_version": "1.2.0",
      "model_name": "LayoutModel",
      "state": {}
     },
     "806a24992d7f4551804a41607cd3d7d0": {
      "model_module": "@jupyter-widgets/controls",
      "model_module_version": "1.5.0",
      "model_name": "HBoxModel",
      "state": {
       "children": [
        "IPY_MODEL_2bb3c41c4c614e18bb98e5ad539bd168",
        "IPY_MODEL_e210101f81ff43c199a1f0e608af4ec5"
       ],
       "layout": "IPY_MODEL_388fa1c3d4c64108b7a670a26710c8f1"
      }
     },
     "806d5da91ac242a8ac642b9cb327a04e": {
      "model_module": "@jupyter-widgets/controls",
      "model_module_version": "1.5.0",
      "model_name": "ButtonStyleModel",
      "state": {}
     },
     "80b57b4568e549f0a742e2a8b8927bf8": {
      "model_module": "@jupyter-widgets/controls",
      "model_module_version": "1.5.0",
      "model_name": "HTMLModel",
      "state": {
       "layout": "IPY_MODEL_34b92497bc984a65b240e58eb0f6f660",
       "style": "IPY_MODEL_02a542bc017741c4a74b4d79f4651578",
       "value": "<table><tr><th>http://example.org/b/charlie</th><th></th><th>http://example.org/c/P002</th></tr><tr><td style=\"text-align:right;\">Charlie</td><td style=\"text-align:center;\">label</td><td style=\"text-align:left;\">Charlie</td></tr><tr><td style=\"text-align:right;\"></td><td style=\"text-align:center;\">pnr</td><td style=\"text-align:left;\">45678^^http://www.w3.org/2001/XMLSchema#integer</td></tr></table>"
      }
     },
     "8105b067bc104c14872db7ded637ca24": {
      "model_module": "@jupyter-widgets/base",
      "model_module_version": "1.2.0",
      "model_name": "LayoutModel",
      "state": {}
     },
     "81b2c6f2274c46cbaafd556288f5a1fa": {
      "model_module": "@jupyter-widgets/controls",
      "model_module_version": "1.5.0",
      "model_name": "HTMLModel",
      "state": {
       "layout": "IPY_MODEL_619e22cb7e80422a89837a0fd8134eac",
       "style": "IPY_MODEL_42ea1ab79d324dcd85c3b8170677aee2",
       "value": "<table><tr><th>http://example.org/a/alice</th><th></th><th>http://example.org/b/alice</th></tr><tr><td style=\"text-align:right;\">http://example.org/a/bob</td><td style=\"text-align:center;\">boss</td><td style=\"text-align:left;\">http://example.org/b/alice</td></tr><tr><td style=\"text-align:right;\">Alice</td><td style=\"text-align:center;\">label</td><td style=\"text-align:left;\">Alice</td></tr><tr><td style=\"text-align:right;\">45678^^http://www.w3.org/2001/XMLSchema#integer</td><td style=\"text-align:center;\">pnr</td><td style=\"text-align:left;\"></td></tr></table>"
      }
     },
     "8295dc6d94c141aa9baa435c557ea5bc": {
      "model_module": "@jupyter-widgets/controls",
      "model_module_version": "1.5.0",
      "model_name": "VBoxModel",
      "state": {
       "layout": "IPY_MODEL_4d4420c6b22c4484a9b46d2fe095b415"
      }
     },
     "8360d9b5569b4c71a1501ce6338179f1": {
      "model_module": "@jupyter-widgets/controls",
      "model_module_version": "1.5.0",
      "model_name": "ButtonStyleModel",
      "state": {}
     },
     "836cee435644497f8beed85293dcda84": {
      "model_module": "@jupyter-widgets/base",
      "model_module_version": "1.2.0",
      "model_name": "LayoutModel",
      "state": {}
     },
     "83869aa7464f4238a9a05f94249a0e40": {
      "model_module": "@jupyter-widgets/controls",
      "model_module_version": "1.5.0",
      "model_name": "TextModel",
      "state": {
       "layout": "IPY_MODEL_5a9231016aa94496bdea4fd84a30723e",
       "placeholder": "Resource to map",
       "style": "IPY_MODEL_dfc2cbeccc4744b79f80419e9b5146ce"
      }
     },
     "8458de5bdfc840eeaca930e305401edf": {
      "model_module": "@jupyter-widgets/controls",
      "model_module_version": "1.5.0",
      "model_name": "HTMLModel",
      "state": {
       "layout": "IPY_MODEL_c8450dc66ad64e1aab7d1bbf7ff15b48",
       "style": "IPY_MODEL_41ff0f3534e84a559bd4f6deaf7b81b5",
       "value": "<table><tr><td style=\"text-align:center;\">boss</td><td style=\"text-align:right;\">http://example.org/a/alice</td></tr><tr><td style=\"text-align:center;\">label</td><td style=\"text-align:right;\">Bill</td></tr><tr><td style=\"text-align:center;\">pnr</td><td style=\"text-align:right;\">67890^^http://www.w3.org/2001/XMLSchema#integer</td></tr></table>"
      }
     },
     "84c3530d2aa2483e83b80da5bae7252b": {
      "model_module": "@jupyter-widgets/controls",
      "model_module_version": "1.5.0",
      "model_name": "DescriptionStyleModel",
      "state": {
       "description_width": ""
      }
     },
     "84f476e3202c40fdb2c7443ca313d0d2": {
      "model_module": "@jupyter-widgets/base",
      "model_module_version": "1.2.0",
      "model_name": "LayoutModel",
      "state": {}
     },
     "8596c72860094446a5e4d67b84f4f175": {
      "model_module": "@jupyter-widgets/base",
      "model_module_version": "1.2.0",
      "model_name": "LayoutModel",
      "state": {}
     },
     "85d56fdee62f48239a973a9f31c59201": {
      "model_module": "@jupyter-widgets/controls",
      "model_module_version": "1.5.0",
      "model_name": "DescriptionStyleModel",
      "state": {
       "description_width": ""
      }
     },
     "85fa04195db0472085998576eee61928": {
      "model_module": "@jupyter-widgets/controls",
      "model_module_version": "1.5.0",
      "model_name": "TextModel",
      "state": {
       "layout": "IPY_MODEL_8105b067bc104c14872db7ded637ca24",
       "placeholder": "Resource to map",
       "style": "IPY_MODEL_c274dfeef12c43b2b415dc5b2df77f25"
      }
     },
     "886871553ae9449fb77a10a8e96120e6": {
      "model_module": "@jupyter-widgets/base",
      "model_module_version": "1.2.0",
      "model_name": "LayoutModel",
      "state": {
       "border": "solid 1px lightgrey"
      }
     },
     "88ee6063fd534ec0a34f34e787e8ab0b": {
      "model_module": "@jupyter-widgets/controls",
      "model_module_version": "1.5.0",
      "model_name": "VBoxModel",
      "state": {
       "children": [
        "IPY_MODEL_8b278dac6460432e8f12b94b7022f3c6",
        "IPY_MODEL_4eaa198416fc417e8dfc95e49c7c4629"
       ],
       "layout": "IPY_MODEL_795298200238452288869a44bb476fc3"
      }
     },
     "8934d90746ae40e1a907a1ecee0cc09b": {
      "model_module": "@jupyter-widgets/base",
      "model_module_version": "1.2.0",
      "model_name": "LayoutModel",
      "state": {}
     },
     "896b2a28a91c44aaa0420ce9ba8a4213": {
      "model_module": "@jupyter-widgets/base",
      "model_module_version": "1.2.0",
      "model_name": "LayoutModel",
      "state": {}
     },
     "897974aeeda749b79cc8119cd9184eb4": {
      "model_module": "@jupyter-widgets/controls",
      "model_module_version": "1.5.0",
      "model_name": "DescriptionStyleModel",
      "state": {
       "description_width": ""
      }
     },
     "897ac6cb9723419a9f985162b9abf9e8": {
      "model_module": "@jupyter-widgets/controls",
      "model_module_version": "1.5.0",
      "model_name": "DescriptionStyleModel",
      "state": {
       "description_width": ""
      }
     },
     "8b278dac6460432e8f12b94b7022f3c6": {
      "model_module": "@jupyter-widgets/controls",
      "model_module_version": "1.5.0",
      "model_name": "HBoxModel",
      "state": {
       "children": [
        "IPY_MODEL_e319d9077d5a4bcdbdc57c25c5f84ea1",
        "IPY_MODEL_3f58d59a3be04993a47f7af624aa8a0d",
        "IPY_MODEL_24aab22a93af4e7bb07496be4448c01a"
       ],
       "layout": "IPY_MODEL_cb948f368d774180b2631475d0a7b0ea"
      }
     },
     "8b9cdc49875542ff82f656deb944e7a5": {
      "model_module": "@jupyter-widgets/base",
      "model_module_version": "1.2.0",
      "model_name": "LayoutModel",
      "state": {}
     },
     "8cd5b72949844107a3e0cb9ba4f459ba": {
      "model_module": "@jupyter-widgets/controls",
      "model_module_version": "1.5.0",
      "model_name": "ToggleButtonsStyleModel",
      "state": {
       "button_width": "auto",
       "description_width": ""
      }
     },
     "90aacfed14b94736a11c9ce2a9c30f4c": {
      "model_module": "@jupyter-widgets/controls",
      "model_module_version": "1.5.0",
      "model_name": "ToggleButtonsModel",
      "state": {
       "_options_labels": [
        "✓",
        "?",
        "✗"
       ],
       "button_style": "",
       "icons": [],
       "index": 1,
       "layout": "IPY_MODEL_7757cc5d71c149b787beb0c54d069f6e",
       "style": "IPY_MODEL_143916ca8300458fbb94bf7cfe9e3b79",
       "tooltips": [
        "Accept",
        "Retain",
        "Reject"
       ]
      }
     },
     "90cba786eb164e20aec14cd728a30ff1": {
      "model_module": "@jupyter-widgets/controls",
      "model_module_version": "1.5.0",
      "model_name": "VBoxModel",
      "state": {
       "children": [
        "IPY_MODEL_2a9c3f6bb27c4b35b53c58308d228e5b"
       ],
       "layout": "IPY_MODEL_c58d640a974840b882d06d936e9a7e14"
      }
     },
     "91073d89691046a288da0ba04b8eb99d": {
      "model_module": "@jupyter-widgets/base",
      "model_module_version": "1.2.0",
      "model_name": "LayoutModel",
      "state": {}
     },
     "922211ab99b04d4fa4a6fbd10c8a27e9": {
      "model_module": "@jupyter-widgets/base",
      "model_module_version": "1.2.0",
      "model_name": "LayoutModel",
      "state": {
       "border": "solid 1px lightgrey"
      }
     },
     "9412b0c597da46a3b160a71944365725": {
      "model_module": "@jupyter-widgets/controls",
      "model_module_version": "1.5.0",
      "model_name": "TabModel",
      "state": {
       "_titles": {
        "0": "person"
       },
       "children": [
        "IPY_MODEL_6be3de18d7d84a27967c99fd64942e6d"
       ],
       "layout": "IPY_MODEL_448096569aa748b7a0b6ebad83e2576d"
      }
     },
     "94bcbea2759e4bf98e3b12681aa1124f": {
      "model_module": "@jupyter-widgets/controls",
      "model_module_version": "1.5.0",
      "model_name": "ButtonStyleModel",
      "state": {}
     },
     "94d5722016b74f3e81926eb0019fd06c": {
      "model_module": "@jupyter-widgets/base",
      "model_module_version": "1.2.0",
      "model_name": "LayoutModel",
      "state": {}
     },
     "94d5d8f4b7de475c8422f024c545e425": {
      "model_module": "@jupyter-widgets/controls",
      "model_module_version": "1.5.0",
      "model_name": "HBoxModel",
      "state": {
       "children": [
        "IPY_MODEL_90aacfed14b94736a11c9ce2a9c30f4c",
        "IPY_MODEL_130fddcd7b4f463e81c91716a6720a89"
       ],
       "layout": "IPY_MODEL_0971768a8e7641e68c57c75a61697ce7"
      }
     },
     "952c3c39538749cca3bb0aa7eb8db00f": {
      "model_module": "@jupyter-widgets/base",
      "model_module_version": "1.2.0",
      "model_name": "LayoutModel",
      "state": {
       "border": "solid 1px lightgrey"
      }
     },
     "965d3c83e0c7424baeef90517d5bf20b": {
      "model_module": "@jupyter-widgets/controls",
      "model_module_version": "1.5.0",
      "model_name": "ToggleButtonsStyleModel",
      "state": {
       "button_width": "auto",
       "description_width": ""
      }
     },
     "96a47ef7369a4b3c9c73248f8980f906": {
      "model_module": "@jupyter-widgets/controls",
      "model_module_version": "1.5.0",
      "model_name": "LabelModel",
      "state": {
       "layout": "IPY_MODEL_e6672ec7ea6942cb8401532d1d2c0f37",
       "style": "IPY_MODEL_f5455b4cf7a64b19a08b1b14894646a8",
       "value": "http://example.org/a/bill"
      }
     },
     "96d4582b1b7d4d6a910dec2d5810145d": {
      "model_module": "@jupyter-widgets/base",
      "model_module_version": "1.2.0",
      "model_name": "LayoutModel",
      "state": {}
     },
     "974a93adc8624246b35f9fa05a1601c6": {
      "model_module": "@jupyter-widgets/base",
      "model_module_version": "1.2.0",
      "model_name": "LayoutModel",
      "state": {}
     },
     "99a09c534743412ab2d6f241efab778b": {
      "model_module": "@jupyter-widgets/controls",
      "model_module_version": "1.5.0",
      "model_name": "HBoxModel",
      "state": {
       "children": [
        "IPY_MODEL_c9b1ed5d702149cfb3d37e0a9f47c375",
        "IPY_MODEL_141309736bae4c6ba13124859895c9cd"
       ],
       "layout": "IPY_MODEL_a04a4837f2f641688750516d98c61fa3"
      }
     },
     "9a24a21a98c84ab086c637a511586e37": {
      "model_module": "@jupyter-widgets/base",
      "model_module_version": "1.2.0",
      "model_name": "LayoutModel",
      "state": {}
     },
     "9b8cced7a91048928ec465a88949692b": {
      "model_module": "@jupyter-widgets/controls",
      "model_module_version": "1.5.0",
      "model_name": "ButtonStyleModel",
      "state": {}
     },
     "9c74ea5c23a042b8a4ea22a4450d75f0": {
      "model_module": "@jupyter-widgets/base",
      "model_module_version": "1.2.0",
      "model_name": "LayoutModel",
      "state": {
       "display": "inline-flex"
      }
     },
     "9d91d96e1b9d4c3fa630285332637eb5": {
      "model_module": "@jupyter-widgets/base",
      "model_module_version": "1.2.0",
      "model_name": "LayoutModel",
      "state": {}
     },
     "9ebc960a74ae4b5b8aecd5308518b61d": {
      "model_module": "@jupyter-widgets/base",
      "model_module_version": "1.2.0",
      "model_name": "LayoutModel",
      "state": {
       "border": "solid 1px lightgrey"
      }
     },
     "9ed29945e3d9409b9d2ee2d26b89cb75": {
      "model_module": "@jupyter-widgets/controls",
      "model_module_version": "1.5.0",
      "model_name": "TabModel",
      "state": {
       "_titles": {
        "0": "person"
       },
       "children": [
        "IPY_MODEL_b79db0d31e3c4ee18ba03fca40faf3f2"
       ],
       "layout": "IPY_MODEL_b2db2860bce84ec4bbc51c0a8dd26860"
      }
     },
     "9f34aa710c8443bcbbe63a75b12360b1": {
      "model_module": "@jupyter-widgets/base",
      "model_module_version": "1.2.0",
      "model_name": "LayoutModel",
      "state": {}
     },
     "a04a4837f2f641688750516d98c61fa3": {
      "model_module": "@jupyter-widgets/base",
      "model_module_version": "1.2.0",
      "model_name": "LayoutModel",
      "state": {
       "border": "solid 1px lightgrey"
      }
     },
     "a1841a84d5fb466086b7818f4cdb2f5b": {
      "model_module": "@jupyter-widgets/controls",
      "model_module_version": "1.5.0",
      "model_name": "ButtonStyleModel",
      "state": {}
     },
     "a2e2712585d94bd7850b8735d59f856b": {
      "model_module": "@jupyter-widgets/controls",
      "model_module_version": "1.5.0",
      "model_name": "ButtonStyleModel",
      "state": {}
     },
     "a2fd842a61f940479c90dba620be6a46": {
      "model_module": "@jupyter-widgets/base",
      "model_module_version": "1.2.0",
      "model_name": "LayoutModel",
      "state": {}
     },
     "a368b87db212428099f2fb65d6b870f0": {
      "model_module": "@jupyter-widgets/base",
      "model_module_version": "1.2.0",
      "model_name": "LayoutModel",
      "state": {
       "border": "solid 1px lightgrey"
      }
     },
     "a6ae73cd94a744f1a50a80f8da730cca": {
      "model_module": "@jupyter-widgets/base",
      "model_module_version": "1.2.0",
      "model_name": "LayoutModel",
      "state": {}
     },
     "a6b641b025034f21a0d76fed1fc5c953": {
      "model_module": "@jupyter-widgets/controls",
      "model_module_version": "1.5.0",
      "model_name": "ButtonStyleModel",
      "state": {}
     },
     "a8766c5528b64670920faeae95b4487e": {
      "model_module": "@jupyter-widgets/controls",
      "model_module_version": "1.5.0",
      "model_name": "ButtonModel",
      "state": {
       "description": "Add Mapping",
       "layout": "IPY_MODEL_5891e35781c74e51a0c0e921c8f539c0",
       "style": "IPY_MODEL_a1841a84d5fb466086b7818f4cdb2f5b"
      }
     },
     "a8c3192892e24650b188a05c06635f83": {
      "model_module": "@jupyter-widgets/base",
      "model_module_version": "1.2.0",
      "model_name": "LayoutModel",
      "state": {}
     },
     "a924f4815b3a4202ae0ee9b7867c72c4": {
      "model_module": "@jupyter-widgets/controls",
      "model_module_version": "1.5.0",
      "model_name": "VBoxModel",
      "state": {
       "layout": "IPY_MODEL_ae7670f2efcc42b183788f89a92fe0ad"
      }
     },
     "a96f6b053e9644fa85e7de5e0700f8fe": {
      "model_module": "@jupyter-widgets/controls",
      "model_module_version": "1.5.0",
      "model_name": "HBoxModel",
      "state": {
       "children": [
        "IPY_MODEL_2c3c40c87fc440c0b368fc4d148fab2a",
        "IPY_MODEL_57a2b4b0003844a4bb6f73521d4d5f84"
       ],
       "layout": "IPY_MODEL_cebcc8f293bf44929e52f2e14ed61c21"
      }
     },
     "aa5bfea635d24dec89580dcc8a12cecc": {
      "model_module": "@jupyter-widgets/base",
      "model_module_version": "1.2.0",
      "model_name": "LayoutModel",
      "state": {
       "border": "solid 1px lightgrey"
      }
     },
     "ac1ad91a17324ac2a795e7f5cfe3b6df": {
      "model_module": "@jupyter-widgets/controls",
      "model_module_version": "1.5.0",
      "model_name": "HBoxModel",
      "state": {
       "children": [
        "IPY_MODEL_3e5171590d3a4c1a8fc1b0873b206699",
        "IPY_MODEL_81b2c6f2274c46cbaafd556288f5a1fa"
       ],
       "layout": "IPY_MODEL_952c3c39538749cca3bb0aa7eb8db00f"
      }
     },
     "adcc050946334ccfbadf4b957dc05f50": {
      "model_module": "@jupyter-widgets/controls",
      "model_module_version": "1.5.0",
      "model_name": "ToggleButtonsStyleModel",
      "state": {
       "button_width": "auto",
       "description_width": ""
      }
     },
     "ae1dd0e0366442b1af5970f96aa4c450": {
      "model_module": "@jupyter-widgets/controls",
      "model_module_version": "1.5.0",
      "model_name": "HTMLModel",
      "state": {
       "layout": "IPY_MODEL_0b034742aa294d89896fcfcfaa315711",
       "style": "IPY_MODEL_4c19b5eaa38c4436b964a67cafddbb7e",
       "value": "<table><tr><th>http://example.org/b/alice</th><th></th><th>http://example.org/c/P001</th></tr><tr><td style=\"text-align:right;\">http://example.org/b/alice</td><td style=\"text-align:center;\">boss</td><td style=\"text-align:left;\"></td></tr><tr><td style=\"text-align:right;\">Alice</td><td style=\"text-align:center;\">label</td><td style=\"text-align:left;\">Alice</td></tr><tr><td style=\"text-align:right;\"></td><td style=\"text-align:center;\">pnr</td><td style=\"text-align:left;\">12345^^http://www.w3.org/2001/XMLSchema#integer</td></tr></table>"
      }
     },
     "ae7670f2efcc42b183788f89a92fe0ad": {
      "model_module": "@jupyter-widgets/base",
      "model_module_version": "1.2.0",
      "model_name": "LayoutModel",
      "state": {
       "max_height": "20em",
       "width": "50%"
      }
     },
     "ae8271b6051f4f5aa96a859690a9c9b9": {
      "model_module": "@jupyter-widgets/controls",
      "model_module_version": "1.5.0",
      "model_name": "TextModel",
      "state": {
       "layout": "IPY_MODEL_974a93adc8624246b35f9fa05a1601c6",
       "placeholder": "Resource to map",
       "style": "IPY_MODEL_84c3530d2aa2483e83b80da5bae7252b"
      }
     },
     "aec5131153c04f518cf8f3cfec7a6013": {
      "model_module": "@jupyter-widgets/base",
      "model_module_version": "1.2.0",
      "model_name": "LayoutModel",
      "state": {
       "max_height": "20em",
       "width": "50%"
      }
     },
     "af8c0e627c804595a58093c5126d23ff": {
      "model_module": "@jupyter-widgets/base",
      "model_module_version": "1.2.0",
      "model_name": "LayoutModel",
      "state": {
       "border": "solid 1px lightgrey"
      }
     },
     "b06add764d50423699d6d4cd6cf440ac": {
      "model_module": "@jupyter-widgets/controls",
      "model_module_version": "1.5.0",
      "model_name": "ButtonModel",
      "state": {
       "description": "Show All",
       "layout": "IPY_MODEL_e0b96dadf5e34cc79e43abfebee309c9",
       "style": "IPY_MODEL_8360d9b5569b4c71a1501ce6338179f1"
      }
     },
     "b157f7a7f06648bbaad5c1778c52cba1": {
      "model_module": "@jupyter-widgets/base",
      "model_module_version": "1.2.0",
      "model_name": "LayoutModel",
      "state": {}
     },
     "b18607eb69ab4aae87a74e780287f06f": {
      "model_module": "@jupyter-widgets/base",
      "model_module_version": "1.2.0",
      "model_name": "LayoutModel",
      "state": {}
     },
     "b2db2860bce84ec4bbc51c0a8dd26860": {
      "model_module": "@jupyter-widgets/base",
      "model_module_version": "1.2.0",
      "model_name": "LayoutModel",
      "state": {}
     },
     "b2e7e94b57ac4d028f2754b9cdf8311b": {
      "model_module": "@jupyter-widgets/controls",
      "model_module_version": "1.5.0",
      "model_name": "HTMLModel",
      "state": {
       "layout": "IPY_MODEL_8934d90746ae40e1a907a1ecee0cc09b",
       "style": "IPY_MODEL_897ac6cb9723419a9f985162b9abf9e8",
       "value": "<table><tr><td style=\"text-align:center;\">boss</td><td style=\"text-align:right;\">Alice</td></tr><tr><td style=\"text-align:center;\">label</td><td style=\"text-align:right;\">William</td></tr></table>"
      }
     },
     "b375cc0329904a599f37f7bd55953a35": {
      "model_module": "@jupyter-widgets/controls",
      "model_module_version": "1.5.0",
      "model_name": "HBoxModel",
      "state": {
       "children": [
        "IPY_MODEL_90cba786eb164e20aec14cd728a30ff1",
        "IPY_MODEL_d42ace5607074e50bc0a1395c941babc"
       ],
       "layout": "IPY_MODEL_b3ec237267c24276bcb9a3c434633703"
      }
     },
     "b3bb074de9c6485c808a12f474c9467e": {
      "model_module": "@jupyter-widgets/controls",
      "model_module_version": "1.5.0",
      "model_name": "ButtonModel",
      "state": {
       "description": "Update Mappings",
       "layout": "IPY_MODEL_c3b888b099d1485ab672c364a78fb5cc",
       "style": "IPY_MODEL_1ee993dc60284eef8201dfc2ce6189c6"
      }
     },
     "b3ec237267c24276bcb9a3c434633703": {
      "model_module": "@jupyter-widgets/base",
      "model_module_version": "1.2.0",
      "model_name": "LayoutModel",
      "state": {}
     },
     "b43102562d9e44729734cfdbe42649ac": {
      "model_module": "@jupyter-widgets/base",
      "model_module_version": "1.2.0",
      "model_name": "LayoutModel",
      "state": {}
     },
     "b5a9fcc18acc4f9fb2b72141aa2c57b0": {
      "model_module": "@jupyter-widgets/controls",
      "model_module_version": "1.5.0",
      "model_name": "VBoxModel",
      "state": {
       "children": [
        "IPY_MODEL_3cc5a05e7007432ab7002791b1053699",
        "IPY_MODEL_7e52329bf5bf4f39a322da84f34e6dbd",
        "IPY_MODEL_657fe06e30924cd487806072fafa38f3"
       ],
       "layout": "IPY_MODEL_3585253c95ed48cbaf875e2a165722ac"
      }
     },
     "b66724d6df404da0909d171392b9c1b6": {
      "model_module": "@jupyter-widgets/controls",
      "model_module_version": "1.5.0",
      "model_name": "ButtonStyleModel",
      "state": {}
     },
     "b6acccabd9314c65a6b8c0932d6872a0": {
      "model_module": "@jupyter-widgets/controls",
      "model_module_version": "1.5.0",
      "model_name": "DescriptionStyleModel",
      "state": {
       "description_width": ""
      }
     },
     "b6bd3bcda02341c88cfc641066997998": {
      "model_module": "@jupyter-widgets/controls",
      "model_module_version": "1.5.0",
      "model_name": "VBoxModel",
      "state": {
       "children": [
        "IPY_MODEL_527fc3427515407881d1e260ec7d80dd"
       ],
       "layout": "IPY_MODEL_aec5131153c04f518cf8f3cfec7a6013"
      }
     },
     "b6e48ffd34f346fc8ab5df64bd97e721": {
      "model_module": "@jupyter-widgets/base",
      "model_module_version": "1.2.0",
      "model_name": "LayoutModel",
      "state": {
       "max_height": "20em",
       "width": "50%"
      }
     },
     "b79db0d31e3c4ee18ba03fca40faf3f2": {
      "model_module": "@jupyter-widgets/controls",
      "model_module_version": "1.5.0",
      "model_name": "TabModel",
      "state": {
       "_titles": {
        "0": "ABC <-> DEF",
        "1": "ABC <-> GHI",
        "2": "DEF <-> GHI"
       },
       "children": [
        "IPY_MODEL_69b19ecc3b7a4d5e9a0c14e3a7734042",
        "IPY_MODEL_0bdaac4eae35408e95116c0953fc900c",
        "IPY_MODEL_5fcc9d3f39994367b3eed37b9f6620a0"
       ],
       "layout": "IPY_MODEL_b8b703dfa2f74fa8a117bd34b02ef1a5"
      }
     },
     "b89bf7a5580e45e9828d3fbbd9528a6b": {
      "model_module": "@jupyter-widgets/base",
      "model_module_version": "1.2.0",
      "model_name": "LayoutModel",
      "state": {
       "max_height": "30em"
      }
     },
     "b8b703dfa2f74fa8a117bd34b02ef1a5": {
      "model_module": "@jupyter-widgets/base",
      "model_module_version": "1.2.0",
      "model_name": "LayoutModel",
      "state": {}
     },
     "b8beb60d629a4ce99f088b8edcbdf574": {
      "model_module": "@jupyter-widgets/controls",
      "model_module_version": "1.5.0",
      "model_name": "ButtonModel",
      "state": {
       "description": "Add Mapping",
       "layout": "IPY_MODEL_c713035f450b49b7b9c796d3acd4720c",
       "style": "IPY_MODEL_f2c559bf88e44a848dab0745e17a15d9"
      }
     },
     "b96e504ccf9a467bbe8bed7b865aca4c": {
      "model_module": "@jupyter-widgets/base",
      "model_module_version": "1.2.0",
      "model_name": "LayoutModel",
      "state": {}
     },
     "b9d20a1747c14ae68fbd83400f9e0889": {
      "model_module": "@jupyter-widgets/base",
      "model_module_version": "1.2.0",
      "model_name": "LayoutModel",
      "state": {}
     },
     "ba16fc1460814d419e7b0ce620fe2360": {
      "model_module": "@jupyter-widgets/controls",
      "model_module_version": "1.5.0",
      "model_name": "ButtonModel",
      "state": {
       "description": "Add Mapping",
       "layout": "IPY_MODEL_b9d20a1747c14ae68fbd83400f9e0889",
       "style": "IPY_MODEL_1962cf5d86a347fe802e1969fe456252"
      }
     },
     "bb4318758ebe4bc4872e144d471b3abe": {
      "model_module": "@jupyter-widgets/controls",
      "model_module_version": "1.5.0",
      "model_name": "DescriptionStyleModel",
      "state": {
       "description_width": ""
      }
     },
     "bb6411c049db42ee887d7bceda68d396": {
      "model_module": "@jupyter-widgets/controls",
      "model_module_version": "1.5.0",
      "model_name": "VBoxModel",
      "state": {
       "children": [
        "IPY_MODEL_ac1ad91a17324ac2a795e7f5cfe3b6df",
        "IPY_MODEL_a96f6b053e9644fa85e7de5e0700f8fe"
       ],
       "layout": "IPY_MODEL_b89bf7a5580e45e9828d3fbbd9528a6b"
      }
     },
     "bb67b65fea7c425cb33dcbfe45d4084f": {
      "model_module": "@jupyter-widgets/controls",
      "model_module_version": "1.5.0",
      "model_name": "HBoxModel",
      "state": {
       "children": [
        "IPY_MODEL_2734a7e4d45a407c90b39560e11f88e9",
        "IPY_MODEL_150f04abc6174335a1c6287f8246d15c"
       ],
       "layout": "IPY_MODEL_cc263158bf67438499a917e4b73ede51"
      }
     },
     "bb690391075b45548fc289634eafd676": {
      "model_module": "@jupyter-widgets/controls",
      "model_module_version": "1.5.0",
      "model_name": "HTMLModel",
      "state": {
       "layout": "IPY_MODEL_b43102562d9e44729734cfdbe42649ac",
       "style": "IPY_MODEL_ccd7fd88ad4f40a280ccf4809041ae93",
       "value": "<table><tr><th>http://example.org/a/alice</th><th></th><th>http://example.org/c/P001</th></tr><tr><td style=\"text-align:right;\">http://example.org/a/bob</td><td style=\"text-align:center;\">boss</td><td style=\"text-align:left;\"></td></tr><tr><td style=\"text-align:right;\">Alice</td><td style=\"text-align:center;\">label</td><td style=\"text-align:left;\">Alice</td></tr><tr><td style=\"text-align:right;\">45678^^http://www.w3.org/2001/XMLSchema#integer</td><td style=\"text-align:center;\">pnr</td><td style=\"text-align:left;\">12345^^http://www.w3.org/2001/XMLSchema#integer</td></tr></table>"
      }
     },
     "bbdec5139d374ec9a8e35ded9037d583": {
      "model_module": "@jupyter-widgets/base",
      "model_module_version": "1.2.0",
      "model_name": "LayoutModel",
      "state": {}
     },
     "be84e93517294f458705d6ec178b26cb": {
      "model_module": "@jupyter-widgets/base",
      "model_module_version": "1.2.0",
      "model_name": "LayoutModel",
      "state": {
       "max_height": "20em",
       "width": "50%"
      }
     },
     "bf3d989e120b4fbe9d2522f2a17f3dd9": {
      "model_module": "@jupyter-widgets/controls",
      "model_module_version": "1.5.0",
      "model_name": "ToggleButtonsStyleModel",
      "state": {
       "button_width": "auto",
       "description_width": ""
      }
     },
     "bff0bca6c77b4b7d804a1d85fa0a708b": {
      "model_module": "@jupyter-widgets/base",
      "model_module_version": "1.2.0",
      "model_name": "LayoutModel",
      "state": {
       "max_height": "20em",
       "width": "50%"
      }
     },
     "c07ec4c868404745a4dab60e95eb921a": {
      "model_module": "@jupyter-widgets/base",
      "model_module_version": "1.2.0",
      "model_name": "LayoutModel",
      "state": {
       "border": "solid 1px lightgrey"
      }
     },
     "c232c9f1d01849f28a79ba863543e60d": {
      "model_module": "@jupyter-widgets/controls",
      "model_module_version": "1.5.0",
      "model_name": "ButtonStyleModel",
      "state": {}
     },
     "c274dfeef12c43b2b415dc5b2df77f25": {
      "model_module": "@jupyter-widgets/controls",
      "model_module_version": "1.5.0",
      "model_name": "DescriptionStyleModel",
      "state": {
       "description_width": ""
      }
     },
     "c37d11e167574f8096f8c6b9d94331ef": {
      "model_module": "@jupyter-widgets/base",
      "model_module_version": "1.2.0",
      "model_name": "LayoutModel",
      "state": {}
     },
     "c393dfaf526f4b288295530e4ceb3c3c": {
      "model_module": "@jupyter-widgets/base",
      "model_module_version": "1.2.0",
      "model_name": "LayoutModel",
      "state": {
       "border": "solid 1px lightgrey"
      }
     },
     "c3b888b099d1485ab672c364a78fb5cc": {
      "model_module": "@jupyter-widgets/base",
      "model_module_version": "1.2.0",
      "model_name": "LayoutModel",
      "state": {}
     },
     "c3ddfa6c1fea435198d56b23f0f608e2": {
      "model_module": "@jupyter-widgets/controls",
      "model_module_version": "1.5.0",
      "model_name": "ButtonModel",
      "state": {
       "description": "http://example.org/c/P003",
       "layout": "IPY_MODEL_591c0ab30dca401e99a999d532d21694",
       "style": "IPY_MODEL_a6b641b025034f21a0d76fed1fc5c953",
       "tooltip": "Use"
      }
     },
     "c41c160fab7f422e910c002c6ba9f9ab": {
      "model_module": "@jupyter-widgets/base",
      "model_module_version": "1.2.0",
      "model_name": "LayoutModel",
      "state": {
       "width": "max-content"
      }
     },
     "c4db35be274e42c08e3e708ba729b90e": {
      "model_module": "@jupyter-widgets/base",
      "model_module_version": "1.2.0",
      "model_name": "LayoutModel",
      "state": {}
     },
     "c54b39fded4a49dba22a4b49db2fe4d7": {
      "model_module": "@jupyter-widgets/base",
      "model_module_version": "1.2.0",
      "model_name": "LayoutModel",
      "state": {}
     },
     "c58d640a974840b882d06d936e9a7e14": {
      "model_module": "@jupyter-widgets/base",
      "model_module_version": "1.2.0",
      "model_name": "LayoutModel",
      "state": {
       "max_height": "20em",
       "width": "50%"
      }
     },
     "c63692c27bc341a19a009463ada78f48": {
      "model_module": "@jupyter-widgets/controls",
      "model_module_version": "1.5.0",
      "model_name": "HTMLModel",
      "state": {
       "layout": "IPY_MODEL_0e17c76700824b489b04138851746f47",
       "style": "IPY_MODEL_b6acccabd9314c65a6b8c0932d6872a0",
       "value": "<table><tr><td style=\"text-align:center;\">label</td><td style=\"text-align:right;\">Dave</td></tr><tr><td style=\"text-align:center;\">pnr</td><td style=\"text-align:right;\">98765^^http://www.w3.org/2001/XMLSchema#integer</td></tr></table>"
      }
     },
     "c6659ded8e5a47f78eb76eab4ca9e912": {
      "model_module": "@jupyter-widgets/base",
      "model_module_version": "1.2.0",
      "model_name": "LayoutModel",
      "state": {
       "max_height": "30em"
      }
     },
     "c672f0208c9d43d18500ac5841322f16": {
      "model_module": "@jupyter-widgets/base",
      "model_module_version": "1.2.0",
      "model_name": "LayoutModel",
      "state": {
       "max_height": "30em"
      }
     },
     "c713035f450b49b7b9c796d3acd4720c": {
      "model_module": "@jupyter-widgets/base",
      "model_module_version": "1.2.0",
      "model_name": "LayoutModel",
      "state": {}
     },
     "c71cb37a085e43f4b0f1cb09b22587be": {
      "model_module": "@jupyter-widgets/base",
      "model_module_version": "1.2.0",
      "model_name": "LayoutModel",
      "state": {}
     },
     "c755cd0b00a84bdba2a0e85e5531fe56": {
      "model_module": "@jupyter-widgets/controls",
      "model_module_version": "1.5.0",
      "model_name": "ButtonModel",
      "state": {
       "description": "Show All",
       "layout": "IPY_MODEL_7ae1438801b744558423dd75831c9ab8",
       "style": "IPY_MODEL_d9da32ba270d4e25b875b067a0fcd6c8"
      }
     },
     "c8450dc66ad64e1aab7d1bbf7ff15b48": {
      "model_module": "@jupyter-widgets/base",
      "model_module_version": "1.2.0",
      "model_name": "LayoutModel",
      "state": {}
     },
     "c8baf7e0270545159fbef274643c6fe4": {
      "model_module": "@jupyter-widgets/controls",
      "model_module_version": "1.5.0",
      "model_name": "HTMLModel",
      "state": {
       "layout": "IPY_MODEL_a2fd842a61f940479c90dba620be6a46",
       "style": "IPY_MODEL_7b2b7ab75e2d459d835bc0e504c65e95",
       "value": "<table><tr><td style=\"text-align:center;\">label</td><td style=\"text-align:right;\">Dave</td></tr><tr><td style=\"text-align:center;\">pnr</td><td style=\"text-align:right;\">98765^^http://www.w3.org/2001/XMLSchema#integer</td></tr></table>"
      }
     },
     "c96763b99c1a47c49492cd5a05c0e156": {
      "model_module": "@jupyter-widgets/base",
      "model_module_version": "1.2.0",
      "model_name": "LayoutModel",
      "state": {
       "width": "max-content"
      }
     },
     "c990eec004c3430994f83e45167d46e3": {
      "model_module": "@jupyter-widgets/base",
      "model_module_version": "1.2.0",
      "model_name": "LayoutModel",
      "state": {
       "border": "solid 1px lightgrey"
      }
     },
     "c9b1ed5d702149cfb3d37e0a9f47c375": {
      "model_module": "@jupyter-widgets/controls",
      "model_module_version": "1.5.0",
      "model_name": "ToggleButtonsModel",
      "state": {
       "_options_labels": [
        "✓",
        "?",
        "✗"
       ],
       "button_style": "",
       "icons": [],
       "index": 1,
       "layout": "IPY_MODEL_9f34aa710c8443bcbbe63a75b12360b1",
       "style": "IPY_MODEL_bf3d989e120b4fbe9d2522f2a17f3dd9",
       "tooltips": [
        "Accept",
        "Retain",
        "Reject"
       ]
      }
     },
     "ca1f3a893f1a4531a6ab50cf98fbc8ae": {
      "model_module": "@jupyter-widgets/controls",
      "model_module_version": "1.5.0",
      "model_name": "HBoxModel",
      "state": {
       "children": [
        "IPY_MODEL_39099c7c9f074d7ba92995b14258e86e",
        "IPY_MODEL_ae1dd0e0366442b1af5970f96aa4c450"
       ],
       "layout": "IPY_MODEL_af8c0e627c804595a58093c5126d23ff"
      }
     },
     "ca88604d8ea44f84a454b2152ebdb27a": {
      "model_module": "@jupyter-widgets/base",
      "model_module_version": "1.2.0",
      "model_name": "LayoutModel",
      "state": {
       "border": "solid 1px lightgrey"
      }
     },
     "cae25218974641ecbf1e6d3c5943dfd7": {
      "model_module": "@jupyter-widgets/base",
      "model_module_version": "1.2.0",
      "model_name": "LayoutModel",
      "state": {}
     },
     "cb8d74f7ecde43159f0fec041d292cda": {
      "model_module": "@jupyter-widgets/base",
      "model_module_version": "1.2.0",
      "model_name": "LayoutModel",
      "state": {}
     },
     "cb948f368d774180b2631475d0a7b0ea": {
      "model_module": "@jupyter-widgets/base",
      "model_module_version": "1.2.0",
      "model_name": "LayoutModel",
      "state": {}
     },
     "cba03a722af4482daf9ac55bf01e91ae": {
      "model_module": "@jupyter-widgets/base",
      "model_module_version": "1.2.0",
      "model_name": "LayoutModel",
      "state": {}
     },
     "cc263158bf67438499a917e4b73ede51": {
      "model_module": "@jupyter-widgets/base",
      "model_module_version": "1.2.0",
      "model_name": "LayoutModel",
      "state": {
       "border": "solid 1px lightgrey"
      }
     },
     "ccbe74ff52834cd7b59217b4778b3189": {
      "model_module": "@jupyter-widgets/base",
      "model_module_version": "1.2.0",
      "model_name": "LayoutModel",
      "state": {}
     },
     "ccc9b576c24949ca87973c7b2dab4e02": {
      "model_module": "@jupyter-widgets/base",
      "model_module_version": "1.2.0",
      "model_name": "LayoutModel",
      "state": {
       "max_height": "20em",
       "width": "50%"
      }
     },
     "cccd6ce8099c4a84bcd7252132e7240d": {
      "model_module": "@jupyter-widgets/controls",
      "model_module_version": "1.5.0",
      "model_name": "ButtonModel",
      "state": {
       "description": "Show Only Undecided",
       "layout": "IPY_MODEL_103583385f414e16b7c53594a8adf370",
       "style": "IPY_MODEL_7b2c9ca9c876443984bedd1b1a8f706a"
      }
     },
     "ccd7fd88ad4f40a280ccf4809041ae93": {
      "model_module": "@jupyter-widgets/controls",
      "model_module_version": "1.5.0",
      "model_name": "DescriptionStyleModel",
      "state": {
       "description_width": ""
      }
     },
     "cd6a5604dd624bc2a2154cc0e5667b47": {
      "model_module": "@jupyter-widgets/base",
      "model_module_version": "1.2.0",
      "model_name": "LayoutModel",
      "state": {}
     },
     "cdf57ba715cd4898b8c776aa8386fdfc": {
      "model_module": "@jupyter-widgets/controls",
      "model_module_version": "1.5.0",
      "model_name": "TextModel",
      "state": {
       "layout": "IPY_MODEL_8b9cdc49875542ff82f656deb944e7a5",
       "placeholder": "Resource to map",
       "style": "IPY_MODEL_4b552889b7274e3399f0611b7e316674"
      }
     },
     "cebcc8f293bf44929e52f2e14ed61c21": {
      "model_module": "@jupyter-widgets/base",
      "model_module_version": "1.2.0",
      "model_name": "LayoutModel",
      "state": {
       "border": "solid 1px lightgrey",
       "display": "none"
      }
     },
     "ced7e63fe8cc432eb9764841970435cf": {
      "model_module": "@jupyter-widgets/base",
      "model_module_version": "1.2.0",
      "model_name": "LayoutModel",
      "state": {
       "width": "max-content"
      }
     },
     "cf26fe6d90cc4e52ac975bdada21a83d": {
      "model_module": "@jupyter-widgets/base",
      "model_module_version": "1.2.0",
      "model_name": "LayoutModel",
      "state": {}
     },
     "d09f11c37c3a4eefb0c2a2e62df44432": {
      "model_module": "@jupyter-widgets/base",
      "model_module_version": "1.2.0",
      "model_name": "LayoutModel",
      "state": {
       "max_height": "30em"
      }
     },
     "d17ebf4497424695bb4b3e432d900ea6": {
      "model_module": "@jupyter-widgets/base",
      "model_module_version": "1.2.0",
      "model_name": "LayoutModel",
      "state": {}
     },
     "d1a85e96354345e3bc25a7e9a6626b45": {
      "model_module": "@jupyter-widgets/controls",
      "model_module_version": "1.5.0",
      "model_name": "HBoxModel",
      "state": {
       "children": [
        "IPY_MODEL_90cba786eb164e20aec14cd728a30ff1",
        "IPY_MODEL_444448ef6a6b4c10b878219ecd8ee1c6"
       ],
       "layout": "IPY_MODEL_cd6a5604dd624bc2a2154cc0e5667b47"
      }
     },
     "d3d4e2d043d34d72bc46414be571afde": {
      "model_module": "@jupyter-widgets/controls",
      "model_module_version": "1.5.0",
      "model_name": "ButtonStyleModel",
      "state": {}
     },
     "d3e0b27bcbc6491cbac34b5fc90b33e4": {
      "model_module": "@jupyter-widgets/base",
      "model_module_version": "1.2.0",
      "model_name": "LayoutModel",
      "state": {}
     },
     "d42ace5607074e50bc0a1395c941babc": {
      "model_module": "@jupyter-widgets/controls",
      "model_module_version": "1.5.0",
      "model_name": "VBoxModel",
      "state": {
       "children": [
        "IPY_MODEL_d7167601c98f4247bd9e174384e3fcad"
       ],
       "layout": "IPY_MODEL_ccc9b576c24949ca87973c7b2dab4e02"
      }
     },
     "d493eb2965bc4b92bfb70c8fc522b260": {
      "model_module": "@jupyter-widgets/base",
      "model_module_version": "1.2.0",
      "model_name": "LayoutModel",
      "state": {}
     },
     "d6d72a9e59784c81b6b5e36c6c714d20": {
      "model_module": "@jupyter-widgets/controls",
      "model_module_version": "1.5.0",
      "model_name": "ToggleButtonsStyleModel",
      "state": {
       "button_width": "auto",
       "description_width": ""
      }
     },
     "d7167601c98f4247bd9e174384e3fcad": {
      "model_module": "@jupyter-widgets/controls",
      "model_module_version": "1.5.0",
      "model_name": "VBoxModel",
      "state": {
       "children": [
        "IPY_MODEL_c3ddfa6c1fea435198d56b23f0f608e2",
        "IPY_MODEL_c63692c27bc341a19a009463ada78f48"
       ],
       "layout": "IPY_MODEL_0cc2e465f992496cae1fb66a35b4d1bf"
      }
     },
     "d75c36ec7c144bc0a94bd41eed4699ba": {
      "model_module": "@jupyter-widgets/base",
      "model_module_version": "1.2.0",
      "model_name": "LayoutModel",
      "state": {}
     },
     "d7877591e8a44e64be7bf2d95ddf4acc": {
      "model_module": "@jupyter-widgets/base",
      "model_module_version": "1.2.0",
      "model_name": "LayoutModel",
      "state": {
       "max_height": "30em"
      }
     },
     "d829f1b41b504e0ba4ebad4158600707": {
      "model_module": "@jupyter-widgets/output",
      "model_module_version": "1.0.0",
      "model_name": "OutputModel",
      "state": {
       "layout": "IPY_MODEL_ffe5af9a35ac450486c6cc5eafdb5845"
      }
     },
     "d84ee64ef17a47eea269070b613b7e38": {
      "model_module": "@jupyter-widgets/controls",
      "model_module_version": "1.5.0",
      "model_name": "HTMLModel",
      "state": {
       "layout": "IPY_MODEL_1d0d0b22860e47c48049d8a093fe03ce",
       "style": "IPY_MODEL_7a55e4fbfde74cc9be5b9539addb1540",
       "value": "<table><tr><th>http://example.org/a/alice</th><th></th><th>http://example.org/c/P001</th></tr><tr><td style=\"text-align:right;\">http://example.org/a/bob</td><td style=\"text-align:center;\">boss</td><td style=\"text-align:left;\"></td></tr><tr><td style=\"text-align:right;\">Alice</td><td style=\"text-align:center;\">label</td><td style=\"text-align:left;\">Alice</td></tr><tr><td style=\"text-align:right;\">45678^^http://www.w3.org/2001/XMLSchema#integer</td><td style=\"text-align:center;\">pnr</td><td style=\"text-align:left;\">12345^^http://www.w3.org/2001/XMLSchema#integer</td></tr></table>"
      }
     },
     "d91bd66b8d094f609fad405c6448c9d3": {
      "model_module": "@jupyter-widgets/base",
      "model_module_version": "1.2.0",
      "model_name": "LayoutModel",
      "state": {}
     },
     "d969ffa952634362ab91727b72b2db27": {
      "model_module": "@jupyter-widgets/base",
      "model_module_version": "1.2.0",
      "model_name": "LayoutModel",
      "state": {
       "max_height": "30em"
      }
     },
     "d97dba10a88d4b439a8deec1d1f8a2fe": {
      "model_module": "@jupyter-widgets/controls",
      "model_module_version": "1.5.0",
      "model_name": "HBoxModel",
      "state": {
       "children": [
        "IPY_MODEL_5d541a9aff884cea918a8f2295534c15",
        "IPY_MODEL_ddf64bc323124cba87792dcff0457d09"
       ],
       "layout": "IPY_MODEL_a368b87db212428099f2fb65d6b870f0"
      }
     },
     "d9da32ba270d4e25b875b067a0fcd6c8": {
      "model_module": "@jupyter-widgets/controls",
      "model_module_version": "1.5.0",
      "model_name": "ButtonStyleModel",
      "state": {}
     },
     "da26b712435f4e9cb1f47c63b959984c": {
      "model_module": "@jupyter-widgets/controls",
      "model_module_version": "1.5.0",
      "model_name": "VBoxModel",
      "state": {
       "children": [
        "IPY_MODEL_719cac7d36b94f33bdc71f1cd0d055fb",
        "IPY_MODEL_8295dc6d94c141aa9baa435c557ea5bc"
       ],
       "layout": "IPY_MODEL_896b2a28a91c44aaa0420ce9ba8a4213"
      }
     },
     "daea6706fa604bab8c4c613dbf955543": {
      "model_module": "@jupyter-widgets/controls",
      "model_module_version": "1.5.0",
      "model_name": "ToggleButtonsStyleModel",
      "state": {
       "button_width": "auto",
       "description_width": ""
      }
     },
     "db9835e070264e4e9092e58e0c1cfe22": {
      "model_module": "@jupyter-widgets/controls",
      "model_module_version": "1.5.0",
      "model_name": "TextModel",
      "state": {
       "layout": "IPY_MODEL_c4db35be274e42c08e3e708ba729b90e",
       "placeholder": "Resource to map",
       "style": "IPY_MODEL_bb4318758ebe4bc4872e144d471b3abe"
      }
     },
     "dbea2a3259c846e18cbb76ee6a41f872": {
      "model_module": "@jupyter-widgets/base",
      "model_module_version": "1.2.0",
      "model_name": "LayoutModel",
      "state": {}
     },
     "dbf30a16d48b472a8b32e5db772e452e": {
      "model_module": "@jupyter-widgets/controls",
      "model_module_version": "1.5.0",
      "model_name": "HBoxModel",
      "state": {
       "children": [
        "IPY_MODEL_96a47ef7369a4b3c9c73248f8980f906",
        "IPY_MODEL_e120423c8a8245ae88689fff84e28339",
        "IPY_MODEL_75fe9a637bf5492a88642943df6c07dd"
       ],
       "layout": "IPY_MODEL_253452d46b9648c9b152eaa1c3e6fe9e"
      }
     },
     "dc143e4f194c414db95bf061d1181f00": {
      "model_module": "@jupyter-widgets/base",
      "model_module_version": "1.2.0",
      "model_name": "LayoutModel",
      "state": {}
     },
     "dcc3c3397ed74130b272db50aa11fdfe": {
      "model_module": "@jupyter-widgets/controls",
      "model_module_version": "1.5.0",
      "model_name": "HBoxModel",
      "state": {
       "children": [
        "IPY_MODEL_5f9bf343ef7240c98363b20c2bd58b22",
        "IPY_MODEL_dfd584e4c08a4c6e979a4393ad2facbd"
       ],
       "layout": "IPY_MODEL_4dc58090e6464b8a8ab521e8b27096bf"
      }
     },
     "ddf64bc323124cba87792dcff0457d09": {
      "model_module": "@jupyter-widgets/controls",
      "model_module_version": "1.5.0",
      "model_name": "HTMLModel",
      "state": {
       "layout": "IPY_MODEL_d3e0b27bcbc6491cbac34b5fc90b33e4",
       "style": "IPY_MODEL_7f3c6b269c874274bbf62318c2ea1e8e",
       "value": "<table><tr><th>http://example.org/a/alice</th><th></th><th>http://example.org/c/P001</th></tr><tr><td style=\"text-align:right;\">http://example.org/a/bob</td><td style=\"text-align:center;\">boss</td><td style=\"text-align:left;\"></td></tr><tr><td style=\"text-align:right;\">Alice</td><td style=\"text-align:center;\">label</td><td style=\"text-align:left;\">Alice</td></tr><tr><td style=\"text-align:right;\">45678^^http://www.w3.org/2001/XMLSchema#integer</td><td style=\"text-align:center;\">pnr</td><td style=\"text-align:left;\">12345^^http://www.w3.org/2001/XMLSchema#integer</td></tr></table>"
      }
     },
     "deb17d9c55da4f3c99e86dda4dfab84e": {
      "model_module": "@jupyter-widgets/controls",
      "model_module_version": "1.5.0",
      "model_name": "HBoxModel",
      "state": {
       "children": [
        "IPY_MODEL_355d102f62e14dda940324af55f515bb",
        "IPY_MODEL_a924f4815b3a4202ae0ee9b7867c72c4"
       ],
       "layout": "IPY_MODEL_016e2287274543d98d7611b90f8d285d"
      }
     },
     "df707b84d7e8461b861e5cb49bb50edd": {
      "model_module": "@jupyter-widgets/base",
      "model_module_version": "1.2.0",
      "model_name": "LayoutModel",
      "state": {}
     },
     "df8d2cba0ca54d8181fffc7121ff2485": {
      "model_module": "@jupyter-widgets/controls",
      "model_module_version": "1.5.0",
      "model_name": "ButtonStyleModel",
      "state": {}
     },
     "dfb0a5658c3543b1a1bb233c37cf1c1e": {
      "model_module": "@jupyter-widgets/base",
      "model_module_version": "1.2.0",
      "model_name": "LayoutModel",
      "state": {}
     },
     "dfc2cbeccc4744b79f80419e9b5146ce": {
      "model_module": "@jupyter-widgets/controls",
      "model_module_version": "1.5.0",
      "model_name": "DescriptionStyleModel",
      "state": {
       "description_width": ""
      }
     },
     "dfd584e4c08a4c6e979a4393ad2facbd": {
      "model_module": "@jupyter-widgets/controls",
      "model_module_version": "1.5.0",
      "model_name": "VBoxModel",
      "state": {
       "children": [
        "IPY_MODEL_0df6a75b1cfe4af4806fb65ef4858482"
       ],
       "layout": "IPY_MODEL_e5fb57e131684bf69bdd626cbd2d002d"
      }
     },
     "e081e74065484333a5e104db3713d760": {
      "model_module": "@jupyter-widgets/controls",
      "model_module_version": "1.5.0",
      "model_name": "ButtonStyleModel",
      "state": {}
     },
     "e0b96dadf5e34cc79e43abfebee309c9": {
      "model_module": "@jupyter-widgets/base",
      "model_module_version": "1.2.0",
      "model_name": "LayoutModel",
      "state": {
       "display": "none"
      }
     },
     "e0d4e495ca9243ffbcdf2e64fad3a419": {
      "model_module": "@jupyter-widgets/controls",
      "model_module_version": "1.5.0",
      "model_name": "VBoxModel",
      "state": {
       "children": [
        "IPY_MODEL_681424add10245109b3ee047c054bec6",
        "IPY_MODEL_26b963b9a9f74349bd4abb9c1bc3d122"
       ],
       "layout": "IPY_MODEL_b157f7a7f06648bbaad5c1778c52cba1"
      }
     },
     "e120423c8a8245ae88689fff84e28339": {
      "model_module": "@jupyter-widgets/controls",
      "model_module_version": "1.5.0",
      "model_name": "ButtonModel",
      "state": {
       "description": "✗",
       "layout": "IPY_MODEL_410c77f3661a41e883bc4ec94488a6e8",
       "style": "IPY_MODEL_e4d33eea54cc4fa09beb998183c15831",
       "tooltip": "Remove"
      }
     },
     "e210101f81ff43c199a1f0e608af4ec5": {
      "model_module": "@jupyter-widgets/controls",
      "model_module_version": "1.5.0",
      "model_name": "HTMLModel",
      "state": {
       "layout": "IPY_MODEL_96d4582b1b7d4d6a910dec2d5810145d",
       "style": "IPY_MODEL_1ccfb33af70545368439d7772e6d92e0",
       "value": "<table><tr><th>http://example.org/b/charlie</th><th></th><th>http://example.org/c/P002</th></tr><tr><td style=\"text-align:right;\">Charlie</td><td style=\"text-align:center;\">label</td><td style=\"text-align:left;\">Charlie</td></tr><tr><td style=\"text-align:right;\"></td><td style=\"text-align:center;\">pnr</td><td style=\"text-align:left;\">45678^^http://www.w3.org/2001/XMLSchema#integer</td></tr></table>"
      }
     },
     "e272a0ccf5384f49a2deb5d047db9339": {
      "model_module": "@jupyter-widgets/controls",
      "model_module_version": "1.5.0",
      "model_name": "ButtonModel",
      "state": {
       "description": "http://example.org/b/william",
       "layout": "IPY_MODEL_151224822c9c4085b2dde970ae3a668e",
       "style": "IPY_MODEL_f193b5f85c144b68b18fca379ac06d50",
       "tooltip": "Use"
      }
     },
     "e319d9077d5a4bcdbdc57c25c5f84ea1": {
      "model_module": "@jupyter-widgets/controls",
      "model_module_version": "1.5.0",
      "model_name": "TextModel",
      "state": {
       "layout": "IPY_MODEL_40343fce3e4c4d9a80628185296a606c",
       "placeholder": "Resource to map",
       "style": "IPY_MODEL_85d56fdee62f48239a973a9f31c59201"
      }
     },
     "e3b48a1c933642d0b3e65d0db70963a9": {
      "model_module": "@jupyter-widgets/base",
      "model_module_version": "1.2.0",
      "model_name": "LayoutModel",
      "state": {}
     },
     "e4d33eea54cc4fa09beb998183c15831": {
      "model_module": "@jupyter-widgets/controls",
      "model_module_version": "1.5.0",
      "model_name": "ButtonStyleModel",
      "state": {}
     },
     "e4f2860830e24f358fa096d7ed8607a5": {
      "model_module": "@jupyter-widgets/base",
      "model_module_version": "1.2.0",
      "model_name": "LayoutModel",
      "state": {}
     },
     "e508d85a2f274143ada4d8a2669b0304": {
      "model_module": "@jupyter-widgets/controls",
      "model_module_version": "1.5.0",
      "model_name": "VBoxModel",
      "state": {
       "layout": "IPY_MODEL_28aaff6935554ed8ad86fda026ae4be3"
      }
     },
     "e56e086d017b48778bbfe9bced5704eb": {
      "model_module": "@jupyter-widgets/controls",
      "model_module_version": "1.5.0",
      "model_name": "ToggleButtonsStyleModel",
      "state": {
       "button_width": "auto",
       "description_width": ""
      }
     },
     "e59391dcc1a14ce29daf886e320df29c": {
      "model_module": "@jupyter-widgets/controls",
      "model_module_version": "1.5.0",
      "model_name": "VBoxModel",
      "state": {
       "layout": "IPY_MODEL_f89db9a9e28842e5ad6c1502e12a4f6e"
      }
     },
     "e5bda25b6f50408799fac1641cd71135": {
      "model_module": "@jupyter-widgets/base",
      "model_module_version": "1.2.0",
      "model_name": "LayoutModel",
      "state": {}
     },
     "e5fb57e131684bf69bdd626cbd2d002d": {
      "model_module": "@jupyter-widgets/base",
      "model_module_version": "1.2.0",
      "model_name": "LayoutModel",
      "state": {
       "max_height": "20em",
       "width": "50%"
      }
     },
     "e6672ec7ea6942cb8401532d1d2c0f37": {
      "model_module": "@jupyter-widgets/base",
      "model_module_version": "1.2.0",
      "model_name": "LayoutModel",
      "state": {}
     },
     "e86f6ab990c24e55879c52dceea36eb2": {
      "model_module": "@jupyter-widgets/controls",
      "model_module_version": "1.5.0",
      "model_name": "VBoxModel",
      "state": {
       "children": [
        "IPY_MODEL_d97dba10a88d4b439a8deec1d1f8a2fe"
       ],
       "layout": "IPY_MODEL_ed6ce73f5c774589bd88ee9419b92645"
      }
     },
     "e9ae94348ec542c486671b1d36ffd675": {
      "model_module": "@jupyter-widgets/controls",
      "model_module_version": "1.5.0",
      "model_name": "DescriptionStyleModel",
      "state": {
       "description_width": ""
      }
     },
     "eb9e4ee93f584395942670eb09c8bc38": {
      "model_module": "@jupyter-widgets/base",
      "model_module_version": "1.2.0",
      "model_name": "LayoutModel",
      "state": {}
     },
     "ebb52f82797a4ae08d9bf009892de343": {
      "model_module": "@jupyter-widgets/controls",
      "model_module_version": "1.5.0",
      "model_name": "HBoxModel",
      "state": {
       "children": [
        "IPY_MODEL_5f9bf343ef7240c98363b20c2bd58b22",
        "IPY_MODEL_114c7e212e5743a0bbaf392c711b351b"
       ],
       "layout": "IPY_MODEL_836cee435644497f8beed85293dcda84"
      }
     },
     "ecc7de6e6062469880748da61be8291a": {
      "model_module": "@jupyter-widgets/base",
      "model_module_version": "1.2.0",
      "model_name": "LayoutModel",
      "state": {}
     },
     "ecc88bc4c5f24255a90df8e7a4ac486a": {
      "model_module": "@jupyter-widgets/controls",
      "model_module_version": "1.5.0",
      "model_name": "ButtonModel",
      "state": {
       "description": "http://example.org/b/william",
       "layout": "IPY_MODEL_5134e1e1bece4064b10c01efd6e57cd8",
       "style": "IPY_MODEL_52f0d729113a4e6b9a0d7b241263bdce",
       "tooltip": "Use"
      }
     },
     "ece2f79532e445f28086ebcc2bede6f9": {
      "model_module": "@jupyter-widgets/controls",
      "model_module_version": "1.5.0",
      "model_name": "VBoxModel",
      "state": {
       "children": [
        "IPY_MODEL_6f925db312e64b72ad26e51abdffa47b",
        "IPY_MODEL_e59391dcc1a14ce29daf886e320df29c"
       ],
       "layout": "IPY_MODEL_e5bda25b6f50408799fac1641cd71135"
      }
     },
     "ed6ce73f5c774589bd88ee9419b92645": {
      "model_module": "@jupyter-widgets/base",
      "model_module_version": "1.2.0",
      "model_name": "LayoutModel",
      "state": {
       "max_height": "30em"
      }
     },
     "ed80c953945c4d09b141a84178500784": {
      "model_module": "@jupyter-widgets/controls",
      "model_module_version": "1.5.0",
      "model_name": "ButtonModel",
      "state": {
       "description": "http://example.org/a/bill",
       "layout": "IPY_MODEL_ced7e63fe8cc432eb9764841970435cf",
       "style": "IPY_MODEL_d3d4e2d043d34d72bc46414be571afde",
       "tooltip": "Use"
      }
     },
     "eedd21c7a21c48079db52452b61d58ed": {
      "model_module": "@jupyter-widgets/output",
      "model_module_version": "1.0.0",
      "model_name": "OutputModel",
      "state": {
       "layout": "IPY_MODEL_b18607eb69ab4aae87a74e780287f06f"
      }
     },
     "ef38c95dfad24db884725973d023b7c3": {
      "model_module": "@jupyter-widgets/base",
      "model_module_version": "1.2.0",
      "model_name": "LayoutModel",
      "state": {
       "max_height": "30em"
      }
     },
     "ef5f5bd1f9a14f17b8e3a1fad7b95a22": {
      "model_module": "@jupyter-widgets/controls",
      "model_module_version": "1.5.0",
      "model_name": "ButtonStyleModel",
      "state": {}
     },
     "f193b5f85c144b68b18fca379ac06d50": {
      "model_module": "@jupyter-widgets/controls",
      "model_module_version": "1.5.0",
      "model_name": "ButtonStyleModel",
      "state": {}
     },
     "f2c559bf88e44a848dab0745e17a15d9": {
      "model_module": "@jupyter-widgets/controls",
      "model_module_version": "1.5.0",
      "model_name": "ButtonStyleModel",
      "state": {}
     },
     "f3de3ac9b728497bb9d3e768be5cd43a": {
      "model_module": "@jupyter-widgets/base",
      "model_module_version": "1.2.0",
      "model_name": "LayoutModel",
      "state": {}
     },
     "f5455b4cf7a64b19a08b1b14894646a8": {
      "model_module": "@jupyter-widgets/controls",
      "model_module_version": "1.5.0",
      "model_name": "DescriptionStyleModel",
      "state": {
       "description_width": ""
      }
     },
     "f61c9f6a0b9045ac856961febfa4271c": {
      "model_module": "@jupyter-widgets/base",
      "model_module_version": "1.2.0",
      "model_name": "LayoutModel",
      "state": {}
     },
     "f89db9a9e28842e5ad6c1502e12a4f6e": {
      "model_module": "@jupyter-widgets/base",
      "model_module_version": "1.2.0",
      "model_name": "LayoutModel",
      "state": {
       "max_height": "30em"
      }
     },
     "f8f07241433a4c1d97c4a5ed39b3f245": {
      "model_module": "@jupyter-widgets/controls",
      "model_module_version": "1.5.0",
      "model_name": "ToggleButtonsModel",
      "state": {
       "_options_labels": [
        "✓",
        "?",
        "✗"
       ],
       "button_style": "",
       "icons": [],
       "index": 1,
       "layout": "IPY_MODEL_4c5a802a10854adabd16ae4369532550",
       "style": "IPY_MODEL_e56e086d017b48778bbfe9bced5704eb",
       "tooltips": [
        "Accept",
        "Retain",
        "Reject"
       ]
      }
     },
     "fa60cb980bc94a10bf5de93dc810dc5e": {
      "model_module": "@jupyter-widgets/base",
      "model_module_version": "1.2.0",
      "model_name": "LayoutModel",
      "state": {}
     },
     "facf770a738946a7b43051fc1e7abc61": {
      "model_module": "@jupyter-widgets/controls",
      "model_module_version": "1.5.0",
      "model_name": "ToggleButtonsStyleModel",
      "state": {
       "button_width": "auto",
       "description_width": ""
      }
     },
     "fbb39af79cab4493841b0d826328e0e3": {
      "model_module": "@jupyter-widgets/base",
      "model_module_version": "1.2.0",
      "model_name": "LayoutModel",
      "state": {
       "max_height": "30em"
      }
     },
     "fdd5f7dceeef4840bb3e2c0ef10a3a42": {
      "model_module": "@jupyter-widgets/controls",
      "model_module_version": "1.5.0",
      "model_name": "ToggleButtonsStyleModel",
      "state": {
       "button_width": "auto",
       "description_width": ""
      }
     },
     "fe161bd2febe459cae02e0f15bd7e5dd": {
      "model_module": "@jupyter-widgets/base",
      "model_module_version": "1.2.0",
      "model_name": "LayoutModel",
      "state": {}
     },
     "ff3c7a210acf4146841c155706818daf": {
      "model_module": "@jupyter-widgets/controls",
      "model_module_version": "1.5.0",
      "model_name": "HTMLModel",
      "state": {
       "layout": "IPY_MODEL_8596c72860094446a5e4d67b84f4f175",
       "style": "IPY_MODEL_0a61454e3af945cd90109aa4f45cc1af",
       "value": "<table><tr><td style=\"text-align:center;\">boss</td><td style=\"text-align:right;\">http://example.org/a/alice</td></tr><tr><td style=\"text-align:center;\">label</td><td style=\"text-align:right;\">Bill</td></tr><tr><td style=\"text-align:center;\">pnr</td><td style=\"text-align:right;\">67890^^http://www.w3.org/2001/XMLSchema#integer</td></tr></table>"
      }
     },
     "ff4b846adfb94978a32841e52178b8be": {
      "model_module": "@jupyter-widgets/controls",
      "model_module_version": "1.5.0",
      "model_name": "TabModel",
      "state": {
       "_titles": {
        "0": "ABC <-> DEF",
        "1": "ABC <-> GHI",
        "2": "DEF <-> GHI"
       },
       "children": [
        "IPY_MODEL_41d6b4db62354794b955fe3aa38e29d4",
        "IPY_MODEL_65d7f0fcf45e46649c320246f06c12f8",
        "IPY_MODEL_b5a9fcc18acc4f9fb2b72141aa2c57b0"
       ],
       "layout": "IPY_MODEL_a8c3192892e24650b188a05c06635f83"
      }
     },
     "ffe5af9a35ac450486c6cc5eafdb5845": {
      "model_module": "@jupyter-widgets/base",
      "model_module_version": "1.2.0",
      "model_name": "LayoutModel",
      "state": {}
     }
    },
    "version_major": 2,
    "version_minor": 0
   }
  }
 },
 "nbformat": 4,
 "nbformat_minor": 4
}
