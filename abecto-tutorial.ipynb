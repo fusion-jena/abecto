{
 "cells": [
  {
   "cell_type": "markdown",
   "metadata": {},
   "source": [
    "# ABECTO Tutorial\n",
    "\n",
    "ABECTO is an **AB**ox **E**valuation and **C**omparison **T**ool for **O**ntologies. It allows to easily compare and evaluate two or more RDF knowledge bases regarding the contained information. This tutorial provides an introduction to the use of ABECTO.\n"
   ]
  },
  {
   "cell_type": "markdown",
   "metadata": {},
   "source": [
    "## Preparation\n",
    "\n",
    "Before we can start, we need to do a few preparation steps. If ABECTO has not been compiled yet, we should do it now. (This step is not needed, if you run this notebook on [mybinder.org](https://mybinder.org).)\n",
    "\n",
    "```\n",
    "mvn package -Dmaven.test.skip=true\n",
    "```\n",
    "\n",
    "ABECTO is running as a HTTP REST service in the background. We will use some provided Phyton functions, which hide the raw HTTP requests."
   ]
  },
  {
   "cell_type": "code",
   "execution_count": 1,
   "metadata": {},
   "outputs": [],
   "source": [
    "from abecto import *"
   ]
  },
  {
   "cell_type": "markdown",
   "metadata": {},
   "source": [
    "First, we create some sample files that we will use in this tutorial."
   ]
  },
  {
   "cell_type": "code",
   "execution_count": 2,
   "metadata": {},
   "outputs": [],
   "source": [
    "import tempfile\n",
    "\n",
    "source1file1 = tempfile.TemporaryFile(mode = \"w+\")\n",
    "source1file1.write(\"\"\"\n",
    "    BASE         <http://example.org/a/>\n",
    "    PREFIX :     <http://example.org/a/>\n",
    "    PREFIX rdf:  <http://www.w3.org/1999/02/22-rdf-syntax-ns#>\n",
    "    PREFIX rdfs: <http://www.w3.org/2000/01/rdf-schema#>\n",
    "    PREFIX xsd:  <http://www.w3.org/2001/XMLSchema#>\n",
    "\n",
    "    :alice rdf:type   :Person ;\n",
    "           rdfs:label \"Alice\" ;\n",
    "           :pnr       \"45678\"^^xsd:integer ;\n",
    "           :boss      :bob .\n",
    "\"\"\")\n",
    "source1file1.seek(0)\n",
    "\n",
    "source1file2 = tempfile.TemporaryFile(mode = \"w+\")\n",
    "source1file2.write(\"\"\"\n",
    "    BASE         <http://example.org/a/>\n",
    "    PREFIX :     <http://example.org/a/>\n",
    "    PREFIX rdf:  <http://www.w3.org/1999/02/22-rdf-syntax-ns#>\n",
    "    PREFIX rdfs: <http://www.w3.org/2000/01/rdf-schema#>\n",
    "    PREFIX xsd:  <http://www.w3.org/2001/XMLSchema#>\n",
    "\n",
    "    :bill rdf:type   :Person ;\n",
    "          rdfs:label \"Bill\" ;\n",
    "          :pnr       \"67890\"^^xsd:integer ;\n",
    "          :boss      :alice .\n",
    "\"\"\")\n",
    "source1file2.seek(0)\n",
    "\n",
    "source2file1 = tempfile.TemporaryFile(mode = \"w+\")\n",
    "source2file1.write(\"\"\"\n",
    "    BASE         <http://example.org/b/>\n",
    "    PREFIX :     <http://example.org/b/>\n",
    "    PREFIX rdf:  <http://www.w3.org/1999/02/22-rdf-syntax-ns#>\n",
    "    PREFIX rdfs: <http://www.w3.org/2000/01/rdf-schema#>\n",
    "\n",
    "    :alice rdf:type   :Person ;\n",
    "           rdfs:label \"Alice\" ;\n",
    "           :boss      :alice .\n",
    "\n",
    "    :william rdf:type   :Person ;\n",
    "             rdfs:label \"William\" ;\n",
    "             :boss      \"Alice\" .\n",
    "\n",
    "    :charlie rdf:type   :Person ;\n",
    "             rdfs:label \"Charlie\" .\n",
    "\"\"\")\n",
    "source2file1.seek(0);\n",
    "\n",
    "source3file1 = tempfile.TemporaryFile(mode = \"w+\")\n",
    "source3file1.write(\"\"\"\n",
    "    BASE         <http://example.org/c/>\n",
    "    PREFIX :     <http://example.org/c/>\n",
    "    PREFIX rdf:  <http://www.w3.org/1999/02/22-rdf-syntax-ns#>\n",
    "    PREFIX rdfs: <http://www.w3.org/2000/01/rdf-schema#>\n",
    "    PREFIX xsd:  <http://www.w3.org/2001/XMLSchema#>\n",
    "\n",
    "    :P001 rdf:type   :Person ;\n",
    "          rdfs:label \"Alice\" ;\n",
    "          :pnr       \"12345\"^^xsd:integer .\n",
    "\n",
    "    :P002 rdf:type   :Person ;\n",
    "          rdfs:label \"Charlie\" ;\n",
    "          :pnr       \"45678\"^^xsd:integer .\n",
    "\"\"\")\n",
    "source3file1.seek(0);"
   ]
  },
  {
   "cell_type": "markdown",
   "metadata": {},
   "source": [
    "Now, we start the service. **This might take a few seconds.** (If ABECTO is already running, this will just initialize the Phyton object needed in this notebook.)"
   ]
  },
  {
   "cell_type": "code",
   "execution_count": 3,
   "metadata": {},
   "outputs": [],
   "source": [
    "abecto = Abecto(\"http://localhost:8080/\", \"target/abecto.jar\")\n",
    "abecto.start()"
   ]
  },
  {
   "cell_type": "markdown",
   "metadata": {},
   "source": [
    "After the service was started, we are ready to create our ontology evaluation and comparison project."
   ]
  },
  {
   "cell_type": "markdown",
   "metadata": {},
   "source": [
    "## Project Setup\n",
    "\n",
    "First, we create a new ABECTO project. We can also give the project an arbitrary name."
   ]
  },
  {
   "cell_type": "code",
   "execution_count": 4,
   "metadata": {},
   "outputs": [],
   "source": [
    "project = abecto.project(\"My Comparison Project\")"
   ]
  },
  {
   "cell_type": "markdown",
   "metadata": {},
   "source": [
    "A project consists of the knowledge bases to analyse and a processing pipeline. Each node of the pipeline (called \"step\") calls a processor with a specific set of parameters and input steps. The results of these processings are RDF models that can be consumed by further steps or fetched for analysis.\n",
    "\n",
    "Now, we create the knowledge base object for the knowledge base we want to include into our project."
   ]
  },
  {
   "cell_type": "code",
   "execution_count": 5,
   "metadata": {},
   "outputs": [],
   "source": [
    "kb1 = project.knowledgeBase(\"ABC\")\n",
    "kb2 = project.knowledgeBase(\"DEF\")\n",
    "kb3 = project.knowledgeBase(\"GHI\")"
   ]
  },
  {
   "cell_type": "markdown",
   "metadata": {},
   "source": [
    "A knowledge base might consist of several sources. For each source we create at least one source step. In this case, we use the `RdfFileSourceProcessor`, witch reads RDF files from the local file system."
   ]
  },
  {
   "cell_type": "code",
   "execution_count": 6,
   "metadata": {},
   "outputs": [],
   "source": [
    "kb1source1 = kb1.source(\"RdfFileSourceProcessor\")\n",
    "kb1source2 = kb1.source(\"RdfFileSourceProcessor\")\n",
    "kb2source1 = kb2.source(\"RdfFileSourceProcessor\")\n",
    "kb3source1 = kb3.source(\"RdfFileSourceProcessor\")"
   ]
  },
  {
   "cell_type": "markdown",
   "metadata": {},
   "source": [
    "Now, we load the RDF files into the source steps. This is done in a two-stage process to allow later updates of the sources."
   ]
  },
  {
   "cell_type": "code",
   "execution_count": 7,
   "metadata": {},
   "outputs": [],
   "source": [
    "kb1source1.load(source1file1)\n",
    "kb1source2.load(source1file2)\n",
    "kb2source1.load(source2file1)\n",
    "kb3source1.load(source3file1);"
   ]
  },
  {
   "cell_type": "markdown",
   "metadata": {},
   "source": [
    "To compare the knowledge bases, ABECTO needs to know what we want to compare. This is declare with so called \"categories\". For each knowledge base we can define one pattern for each applicable category. The patterns use the Turtle/SPARQL syntax and one variable needs to have the same name as the category itself. In this case, we use the `ManualCategoryProcessor` to declare a single category called \"person\". We use `into()` to create the following step for each knowledge base with the source step as input. We use `plus()` to combine the two source steps of knowledge base 1."
   ]
  },
  {
   "cell_type": "code",
   "execution_count": 8,
   "metadata": {},
   "outputs": [],
   "source": [
    "categories1 = kb1source1.plus(kb1source2).into(\"ManualCategoryProcessor\", {\"patterns\": {\n",
    "    \"person\": \"\"\"?person <http://www.w3.org/2000/01/rdf-schema#label> ?label ;\n",
    "                         <http://example.org/a/pnr>                   ?pnr ;\n",
    "                         <http://example.org/a/boss>                  ?boss .\"\"\"}})\n",
    "categories2 = kb2source1.into(\"ManualCategoryProcessor\", {\"patterns\": {\n",
    "    \"person\": \"\"\"?person <http://www.w3.org/2000/01/rdf-schema#label> ?label . \n",
    "                 OPTIONAL {\n",
    "                     ?person <http://example.org/b/boss> ?boss .\n",
    "                 }\"\"\"}})\n",
    "categories3 = kb3source1.into(\"ManualCategoryProcessor\", {\"patterns\": {\n",
    "    \"person\": \"\"\"?person <http://www.w3.org/2000/01/rdf-schema#label> ?label ;\n",
    "                         <http://example.org/c/pnr>                   ?pnr .\"\"\"}})"
   ]
  },
  {
   "cell_type": "markdown",
   "metadata": {},
   "source": [
    "In the next step we use the `JaroWinklerMappingProcessor` to map the entities of the different knowledge bases. Therefor, we use all three category steps as input. By this, the results of the source steps are also avaliable for the mapping step, as the results of earlier steps will be passed through. The mapping will by used be the further steps."
   ]
  },
  {
   "cell_type": "code",
   "execution_count": 9,
   "metadata": {},
   "outputs": [],
   "source": [
    "mapping1 = categories1.plus(categories2).plus(categories3).into(\"JaroWinklerMappingProcessor\", {\"threshold\": 0.9, \"case_sensitive\": False, \"category\": \"person\", \"variables\": [\"label\"]})"
   ]
  },
  {
   "cell_type": "markdown",
   "metadata": {},
   "source": [
    "It is also possible to use multiple mappers in one project. We now improve the mapping using the `ManuallMappingProcessor`."
   ]
  },
  {
   "cell_type": "code",
   "execution_count": 10,
   "metadata": {},
   "outputs": [],
   "source": [
    "mapping2 = mapping1.into(\"ManualMappingProcessor\", {\"mappings\": [[\"http://example.org/a/bill\",\"http://example.org/b/william\"]]})"
   ]
  },
  {
   "cell_type": "markdown",
   "metadata": {},
   "source": [
    "With the `MappingReportProcessor` we prepare the mappings for later reporting."
   ]
  },
  {
   "cell_type": "code",
   "execution_count": 11,
   "metadata": {},
   "outputs": [],
   "source": [
    "mappingReport = mapping2.into(\"MappingReportProcessor\")"
   ]
  },
  {
   "cell_type": "code",
   "execution_count": 12,
   "metadata": {},
   "outputs": [],
   "source": [
    "count = mappingReport.into(\"CategoryCountProcessor\")"
   ]
  },
  {
   "cell_type": "code",
   "execution_count": 13,
   "metadata": {},
   "outputs": [],
   "source": [
    "literalDeviation = count.into(\"LiteralDeviationProcessor\", {\"variables\": {\"person\": [\"label\", \"pnr\"] }})"
   ]
  },
  {
   "cell_type": "code",
   "execution_count": 14,
   "metadata": {},
   "outputs": [],
   "source": [
    "resourceDeviation = literalDeviation.into(\"ResourceDeviationProcessor\", {\"variables\": {\"person\": [\"boss\"] }})"
   ]
  },
  {
   "cell_type": "code",
   "execution_count": 15,
   "metadata": {},
   "outputs": [],
   "source": [
    "deviationReport = resourceDeviation.into(\"DeviationReportProcessor\")"
   ]
  },
  {
   "cell_type": "code",
   "execution_count": 16,
   "metadata": {},
   "outputs": [],
   "source": [
    "issueReport = deviationReport.into(\"IssueReportProcessor\")"
   ]
  },
  {
   "cell_type": "markdown",
   "metadata": {},
   "source": [
    "# Project Execution and Reporting"
   ]
  },
  {
   "cell_type": "code",
   "execution_count": 17,
   "metadata": {},
   "outputs": [],
   "source": [
    "execution = project.runAndAwait()"
   ]
  },
  {
   "cell_type": "code",
   "execution_count": 18,
   "metadata": {},
   "outputs": [
    {
     "data": {
      "text/html": [
       "<h1>Mapping Report</h1>"
      ],
      "text/plain": [
       "<IPython.core.display.HTML object>"
      ]
     },
     "metadata": {},
     "output_type": "display_data"
    },
    {
     "data": {
      "text/html": [
       "<h2>Category: person</h2>"
      ],
      "text/plain": [
       "<IPython.core.display.HTML object>"
      ]
     },
     "metadata": {},
     "output_type": "display_data"
    },
    {
     "data": {
      "text/html": [
       "<table><tr><th style=\"text-align:center;font-size:larger;\">DEF</th><th></th><th style=\"text-align:center;font-size:larger;\">ABC</th></tr><tr style=\"border-top:solid 1px #000\"><th style=\"text-align:right;\">http://example.org/b/alice</th><td></td><th style=\"text-align:left;\">http://example.org/a/alice</th></tr><tr><td style=\"text-align:right;\">http://example.org/b/alice</td><td style=\"text-align:center;\">boss</td><td style=\"text-align:left;\">http://example.org/a/bob</td></tr><tr><td style=\"text-align:right;\">Alice</td><td style=\"text-align:center;\">label</td><td style=\"text-align:left;\">Alice</td></tr><tr><td style=\"text-align:right;\"></td><td style=\"text-align:center;\">pnr</td><td style=\"text-align:left;\">45678</td></tr><tr style=\"border-top:solid 1px #000\"><th style=\"text-align:right;\">http://example.org/b/charlie</th><td></td><th style=\"text-align:left;\"></th></tr><tr><td style=\"text-align:right;\">Charlie</td><td style=\"text-align:center;\">label</td><td style=\"text-align:left;\"></td></tr><tr style=\"border-top:solid 1px #000\"><th style=\"text-align:right;\">http://example.org/b/william</th><td></td><th style=\"text-align:left;\">http://example.org/a/bill</th></tr><tr><td style=\"text-align:right;\">Alice</td><td style=\"text-align:center;\">boss</td><td style=\"text-align:left;\">http://example.org/a/alice</td></tr><tr><td style=\"text-align:right;\">William</td><td style=\"text-align:center;\">label</td><td style=\"text-align:left;\">Bill</td></tr><tr><td style=\"text-align:right;\"></td><td style=\"text-align:center;\">pnr</td><td style=\"text-align:left;\">67890</td></tr></table>"
      ],
      "text/plain": [
       "<IPython.core.display.HTML object>"
      ]
     },
     "metadata": {},
     "output_type": "display_data"
    },
    {
     "data": {
      "text/html": [
       "<table><tr><th style=\"text-align:center;font-size:larger;\">GHI</th><th></th><th style=\"text-align:center;font-size:larger;\">ABC</th></tr><tr style=\"border-top:solid 1px #000\"><th style=\"text-align:right;\">http://example.org/c/P001</th><td></td><th style=\"text-align:left;\">http://example.org/a/alice</th></tr><tr><td style=\"text-align:right;\"></td><td style=\"text-align:center;\">boss</td><td style=\"text-align:left;\">http://example.org/a/bob</td></tr><tr><td style=\"text-align:right;\">Alice</td><td style=\"text-align:center;\">label</td><td style=\"text-align:left;\">Alice</td></tr><tr><td style=\"text-align:right;\">12345</td><td style=\"text-align:center;\">pnr</td><td style=\"text-align:left;\">45678</td></tr><tr style=\"border-top:solid 1px #000\"><th style=\"text-align:right;\">http://example.org/c/P002</th><td></td><th style=\"text-align:left;\"></th></tr><tr><td style=\"text-align:right;\">Charlie</td><td style=\"text-align:center;\">label</td><td style=\"text-align:left;\"></td></tr><tr><td style=\"text-align:right;\">45678</td><td style=\"text-align:center;\">pnr</td><td style=\"text-align:left;\"></td></tr><tr style=\"border-top:solid 1px #000\"><th style=\"text-align:right;\"></th><td></td><th style=\"text-align:left;\">http://example.org/a/bill</th></tr><tr><td style=\"text-align:right;\"></td><td style=\"text-align:center;\">boss</td><td style=\"text-align:left;\">http://example.org/a/alice</td></tr><tr><td style=\"text-align:right;\"></td><td style=\"text-align:center;\">label</td><td style=\"text-align:left;\">Bill</td></tr><tr><td style=\"text-align:right;\"></td><td style=\"text-align:center;\">pnr</td><td style=\"text-align:left;\">67890</td></tr></table>"
      ],
      "text/plain": [
       "<IPython.core.display.HTML object>"
      ]
     },
     "metadata": {},
     "output_type": "display_data"
    },
    {
     "data": {
      "text/html": [
       "<table><tr><th style=\"text-align:center;font-size:larger;\">GHI</th><th></th><th style=\"text-align:center;font-size:larger;\">DEF</th></tr><tr style=\"border-top:solid 1px #000\"><th style=\"text-align:right;\">http://example.org/c/P001</th><td></td><th style=\"text-align:left;\">http://example.org/b/alice</th></tr><tr><td style=\"text-align:right;\"></td><td style=\"text-align:center;\">boss</td><td style=\"text-align:left;\">http://example.org/b/alice</td></tr><tr><td style=\"text-align:right;\">Alice</td><td style=\"text-align:center;\">label</td><td style=\"text-align:left;\">Alice</td></tr><tr><td style=\"text-align:right;\">12345</td><td style=\"text-align:center;\">pnr</td><td style=\"text-align:left;\"></td></tr><tr style=\"border-top:solid 1px #000\"><th style=\"text-align:right;\">http://example.org/c/P002</th><td></td><th style=\"text-align:left;\">http://example.org/b/charlie</th></tr><tr><td style=\"text-align:right;\">Charlie</td><td style=\"text-align:center;\">label</td><td style=\"text-align:left;\">Charlie</td></tr><tr><td style=\"text-align:right;\">45678</td><td style=\"text-align:center;\">pnr</td><td style=\"text-align:left;\"></td></tr><tr style=\"border-top:solid 1px #000\"><th style=\"text-align:right;\"></th><td></td><th style=\"text-align:left;\">http://example.org/b/william</th></tr><tr><td style=\"text-align:right;\"></td><td style=\"text-align:center;\">boss</td><td style=\"text-align:left;\">Alice</td></tr><tr><td style=\"text-align:right;\"></td><td style=\"text-align:center;\">label</td><td style=\"text-align:left;\">William</td></tr></table>"
      ],
      "text/plain": [
       "<IPython.core.display.HTML object>"
      ]
     },
     "metadata": {},
     "output_type": "display_data"
    }
   ],
   "source": [
    "mappingReport.report()"
   ]
  },
  {
   "cell_type": "code",
   "execution_count": 19,
   "metadata": {},
   "outputs": [
    {
     "data": {
      "text/html": [
       "<h1>Category Count Report</h1>"
      ],
      "text/plain": [
       "<IPython.core.display.HTML object>"
      ]
     },
     "metadata": {},
     "output_type": "display_data"
    },
    {
     "data": {
      "text/html": [
       "<table><tr><th>Category</th><th >Variable</th><th>GHI</th><th>ABC</th><th>DEF</th></tr><tr><th>person</th><th></th><td>2</td><td>2</td><td>3</td></tr><tr><th>person</th><th>boss</th><td></td><td>2</td><td>2</td></tr><tr><th>person</th><th>label</th><td>2</td><td>2</td><td>3</td></tr><tr><th>person</th><th>pnr</th><td>2</td><td>2</td><td></td></tr></table>"
      ],
      "text/plain": [
       "<IPython.core.display.HTML object>"
      ]
     },
     "metadata": {},
     "output_type": "display_data"
    }
   ],
   "source": [
    "count.report()"
   ]
  },
  {
   "cell_type": "code",
   "execution_count": 20,
   "metadata": {},
   "outputs": [
    {
     "data": {
      "text/html": [
       "<h1>Deviation Report</h1>"
      ],
      "text/plain": [
       "<IPython.core.display.HTML object>"
      ]
     },
     "metadata": {},
     "output_type": "display_data"
    },
    {
     "data": {
      "text/html": [
       "<h2>Category: person</h2>"
      ],
      "text/plain": [
       "<IPython.core.display.HTML object>"
      ]
     },
     "metadata": {},
     "output_type": "display_data"
    },
    {
     "data": {
      "text/html": [
       "<table><tr><th style=\"text-align:center;\" colspan=\"3\">ABC</th><th style=\"text-align:center;\" colspan=\"3\">DEF</th></tr><tr rowspan=\"variablesCount\"><td>http://example.org/a/alice</td><td>boss</td><td>&lt;http://example.org/a/bob&gt;</td><td>&lt;http://example.org/b/alice&gt;</td><td>boss</td><td>http://example.org/b/alice</td></tr><tr rowspan=\"variablesCount\"><td>http://example.org/a/bill</td><td>label</td><td>Bill</td><td>William</td><td>label</td><td>http://example.org/b/william</td></tr></table>"
      ],
      "text/plain": [
       "<IPython.core.display.HTML object>"
      ]
     },
     "metadata": {},
     "output_type": "display_data"
    },
    {
     "data": {
      "text/html": [
       "<table><tr><th style=\"text-align:center;\" colspan=\"3\">ABC</th><th style=\"text-align:center;\" colspan=\"3\">GHI</th></tr><tr rowspan=\"variablesCount\"><td>http://example.org/a/alice</td><td>pnr</td><td>45678^^http://www.w3.org/2001/XMLSchema#integer</td><td>12345^^http://www.w3.org/2001/XMLSchema#integer</td><td>pnr</td><td>http://example.org/c/P001</td></tr></table>"
      ],
      "text/plain": [
       "<IPython.core.display.HTML object>"
      ]
     },
     "metadata": {},
     "output_type": "display_data"
    }
   ],
   "source": [
    "deviationReport.report()"
   ]
  },
  {
   "cell_type": "code",
   "execution_count": 21,
   "metadata": {},
   "outputs": [
    {
     "data": {
      "text/html": [
       "<h1>Issue Report</h1>"
      ],
      "text/plain": [
       "<IPython.core.display.HTML object>"
      ]
     },
     "metadata": {},
     "output_type": "display_data"
    },
    {
     "data": {
      "text/html": [
       "<h2>Knowledge Base: DEF</h2>"
      ],
      "text/plain": [
       "<IPython.core.display.HTML object>"
      ]
     },
     "metadata": {},
     "output_type": "display_data"
    },
    {
     "data": {
      "text/html": [
       "<table><tr><th>Issue Type</th><th>Affected Entity</th><th>Message</th></tr><tr><td>UnexpectedValueType</td><td>http://example.org/b/william</td><td>Value of property \"boss\" is not a resource.</td></tr></table>"
      ],
      "text/plain": [
       "<IPython.core.display.HTML object>"
      ]
     },
     "metadata": {},
     "output_type": "display_data"
    }
   ],
   "source": [
    "issueReport.report()"
   ]
  },
  {
   "cell_type": "markdown",
   "metadata": {},
   "source": [
    "# Advanced Features"
   ]
  },
  {
   "cell_type": "markdown",
   "metadata": {},
   "source": [
    "Now, we see our new project in the list of projects."
   ]
  },
  {
   "cell_type": "code",
   "execution_count": 22,
   "metadata": {},
   "outputs": [
    {
     "data": {
      "text/plain": [
       "[{'id': 'dffef576-5bda-4084-8d12-965158dbf862', 'label': 'My Comparison Project'},\n",
       " {'id': '4c938347-a4c0-4c4c-ba93-2ad51310932f', 'label': 'My Comparison Project'},\n",
       " {'id': 'ffc52c87-1ac0-4f5e-894d-ad2dba8de680', 'label': 'My Comparison Project'},\n",
       " {'id': 'baf24ad7-2894-480b-a808-f0adb6f260ff', 'label': 'My Comparison Project'},\n",
       " {'id': 'fffa5ac2-6d94-45c5-92c6-e4041b688160', 'label': 'My Comparison Project'},\n",
       " {'id': '66a74f15-b393-485a-a339-0c6a8edbcbe9', 'label': 'My Comparison Project'},\n",
       " {'id': '0f7ec2c0-064e-49ff-a436-cbd33c545440', 'label': 'My Comparison Project'},\n",
       " {'id': 'ae8b7263-f265-45ef-a2b1-448d86847656', 'label': 'My Comparison Project'},\n",
       " {'id': 'bcf5a0b1-4637-40ce-8d4f-2713b73d7157', 'label': 'My Comparison Project'},\n",
       " {'id': 'acd73eda-17a3-4cde-9b3c-a55aac9218df', 'label': 'My Comparison Project'},\n",
       " {'id': '62f2c72e-f370-4654-82a1-46dc7807af8e', 'label': 'My Comparison Project'},\n",
       " {'id': '52d9e2ec-002b-4844-8f68-6044a4f65072', 'label': 'My Comparison Project'},\n",
       " {'id': '040e9c83-e677-40ae-90a8-85e9b06a3911', 'label': 'My Comparison Project'},\n",
       " {'id': '5c5a790f-21fe-430c-82a6-a3d03e1da447', 'label': 'My Comparison Project'},\n",
       " {'id': 'aed99acd-3be0-46f0-962a-c6696a0b4650', 'label': 'My Comparison Project'}]"
      ]
     },
     "execution_count": 22,
     "metadata": {},
     "output_type": "execute_result"
    }
   ],
   "source": [
    "abecto.projects()"
   ]
  },
  {
   "cell_type": "markdown",
   "metadata": {},
   "source": [
    "We can also request information of a certain project."
   ]
  },
  {
   "cell_type": "code",
   "execution_count": 23,
   "metadata": {},
   "outputs": [
    {
     "data": {
      "text/plain": [
       "{'id': 'aed99acd-3be0-46f0-962a-c6696a0b4650',\n",
       " 'label': 'My Comparison Project'}"
      ]
     },
     "execution_count": 23,
     "metadata": {},
     "output_type": "execute_result"
    }
   ],
   "source": [
    "project.info()"
   ]
  },
  {
   "cell_type": "markdown",
   "metadata": {},
   "source": [
    "Furthermore, we can delete projects."
   ]
  },
  {
   "cell_type": "code",
   "execution_count": 24,
   "metadata": {},
   "outputs": [
    {
     "data": {
      "text/plain": [
       "[{'id': 'dffef576-5bda-4084-8d12-965158dbf862', 'label': 'My Comparison Project'},\n",
       " {'id': '4c938347-a4c0-4c4c-ba93-2ad51310932f', 'label': 'My Comparison Project'},\n",
       " {'id': 'ffc52c87-1ac0-4f5e-894d-ad2dba8de680', 'label': 'My Comparison Project'},\n",
       " {'id': 'baf24ad7-2894-480b-a808-f0adb6f260ff', 'label': 'My Comparison Project'},\n",
       " {'id': 'fffa5ac2-6d94-45c5-92c6-e4041b688160', 'label': 'My Comparison Project'},\n",
       " {'id': '66a74f15-b393-485a-a339-0c6a8edbcbe9', 'label': 'My Comparison Project'},\n",
       " {'id': '0f7ec2c0-064e-49ff-a436-cbd33c545440', 'label': 'My Comparison Project'},\n",
       " {'id': 'ae8b7263-f265-45ef-a2b1-448d86847656', 'label': 'My Comparison Project'},\n",
       " {'id': 'bcf5a0b1-4637-40ce-8d4f-2713b73d7157', 'label': 'My Comparison Project'},\n",
       " {'id': 'acd73eda-17a3-4cde-9b3c-a55aac9218df', 'label': 'My Comparison Project'},\n",
       " {'id': '62f2c72e-f370-4654-82a1-46dc7807af8e', 'label': 'My Comparison Project'},\n",
       " {'id': '52d9e2ec-002b-4844-8f68-6044a4f65072', 'label': 'My Comparison Project'},\n",
       " {'id': '040e9c83-e677-40ae-90a8-85e9b06a3911', 'label': 'My Comparison Project'},\n",
       " {'id': '5c5a790f-21fe-430c-82a6-a3d03e1da447', 'label': 'My Comparison Project'},\n",
       " {'id': 'aed99acd-3be0-46f0-962a-c6696a0b4650', 'label': 'My Comparison Project'}]"
      ]
     },
     "execution_count": 24,
     "metadata": {},
     "output_type": "execute_result"
    }
   ],
   "source": [
    "trashProject = abecto.project(\"Trash Project\")\n",
    "trashProject.delete()\n",
    "abecto.projects()"
   ]
  },
  {
   "cell_type": "markdown",
   "metadata": {},
   "source": [
    "The knowledge bases appear now in the list of knowledge bases of the project."
   ]
  },
  {
   "cell_type": "code",
   "execution_count": 25,
   "metadata": {},
   "outputs": [
    {
     "data": {
      "text/plain": [
       "[{'id': '5cc584d1-f322-44db-8c7f-62905107d482', 'label': 'ABC', 'project': 'aed99acd-3be0-46f0-962a-c6696a0b4650'},\n",
       " {'id': '6b50d0ef-3519-429d-9476-1151585e7edd', 'label': 'DEF', 'project': 'aed99acd-3be0-46f0-962a-c6696a0b4650'},\n",
       " {'id': 'fe3a9f1e-1320-41b2-aaf4-38489b2cc8af', 'label': 'GHI', 'project': 'aed99acd-3be0-46f0-962a-c6696a0b4650'}]"
      ]
     },
     "execution_count": 25,
     "metadata": {},
     "output_type": "execute_result"
    }
   ],
   "source": [
    "project.knowledgeBases()"
   ]
  },
  {
   "cell_type": "markdown",
   "metadata": {},
   "source": [
    "We can also request information of a certain knowledge base."
   ]
  },
  {
   "cell_type": "code",
   "execution_count": 26,
   "metadata": {},
   "outputs": [
    {
     "data": {
      "text/plain": [
       "{'id': '5cc584d1-f322-44db-8c7f-62905107d482',\n",
       " 'label': 'ABC',\n",
       " 'project': 'aed99acd-3be0-46f0-962a-c6696a0b4650'}"
      ]
     },
     "execution_count": 26,
     "metadata": {},
     "output_type": "execute_result"
    }
   ],
   "source": [
    "kb1.info()"
   ]
  },
  {
   "cell_type": "markdown",
   "metadata": {},
   "source": [
    "And we can delete knowledge bases."
   ]
  },
  {
   "cell_type": "code",
   "execution_count": 27,
   "metadata": {},
   "outputs": [
    {
     "data": {
      "text/plain": [
       "[{'id': '5cc584d1-f322-44db-8c7f-62905107d482', 'label': 'ABC', 'project': 'aed99acd-3be0-46f0-962a-c6696a0b4650'},\n",
       " {'id': '6b50d0ef-3519-429d-9476-1151585e7edd', 'label': 'DEF', 'project': 'aed99acd-3be0-46f0-962a-c6696a0b4650'},\n",
       " {'id': 'fe3a9f1e-1320-41b2-aaf4-38489b2cc8af', 'label': 'GHI', 'project': 'aed99acd-3be0-46f0-962a-c6696a0b4650'}]"
      ]
     },
     "execution_count": 27,
     "metadata": {},
     "output_type": "execute_result"
    }
   ],
   "source": [
    "trashKB = project.knowledgeBase(\"Trash Knowledge Base\")\n",
    "trashKB.delete()\n",
    "project.knowledgeBases()"
   ]
  },
  {
   "cell_type": "code",
   "execution_count": 28,
   "metadata": {},
   "outputs": [
    {
     "data": {
      "text/plain": [
       "[{'id': '169e445f-c8ef-4498-bc80-0b5cb77b6664', 'project': 'aed99acd-3be0-46f0-962a-c6696a0b4650', 'knowledgeBase': '5cc584d1-f322-44db-8c7f-62905107d482', 'parameter': {'id': '1905f1b7-2cae-4c18-b6d7-556f2c1581b4', 'parameters': {}}, 'processorClass': 'de.uni_jena.cs.fusion.abecto.processor.implementation.RdfFileSourceProcessor'},\n",
       " {'id': 'c86bf51d-9679-46dc-93c6-3f847a0d7ee6', 'project': 'aed99acd-3be0-46f0-962a-c6696a0b4650', 'knowledgeBase': '5cc584d1-f322-44db-8c7f-62905107d482', 'parameter': {'id': '5af9d31b-35d2-47f7-af70-6c9b2dbe8397', 'parameters': {}}, 'processorClass': 'de.uni_jena.cs.fusion.abecto.processor.implementation.RdfFileSourceProcessor'},\n",
       " {'id': '162226b8-d126-4a5a-bfc8-727f11e871d0', 'project': 'aed99acd-3be0-46f0-962a-c6696a0b4650', 'knowledgeBase': '6b50d0ef-3519-429d-9476-1151585e7edd', 'parameter': {'id': '9d6b2247-174f-419d-9395-eaa3d7ccbbe6', 'parameters': {}}, 'processorClass': 'de.uni_jena.cs.fusion.abecto.processor.implementation.RdfFileSourceProcessor'},\n",
       " {'id': 'f553e9ac-8613-4ece-b2f6-dd17b2bd7c79', 'project': 'aed99acd-3be0-46f0-962a-c6696a0b4650', 'knowledgeBase': 'fe3a9f1e-1320-41b2-aaf4-38489b2cc8af', 'parameter': {'id': 'b1794eb7-9b90-4db5-bdec-6367f1877ca7', 'parameters': {}}, 'processorClass': 'de.uni_jena.cs.fusion.abecto.processor.implementation.RdfFileSourceProcessor'},\n",
       " {'id': '69f4f793-2ea4-4e2a-af4a-607f78869ecf', 'project': 'aed99acd-3be0-46f0-962a-c6696a0b4650', 'knowledgeBase': None, 'parameter': {'id': 'a061ba2a-2b99-4f01-b0b5-145aa61dc11e', 'parameters': {'patterns': {'person': '?person <http://www.w3.org/2000/01/rdf-schema#label> ?label ;\\n                         <http://example.org/a/pnr>                   ?pnr ;\\n                         <http://example.org/a/boss>                  ?boss .'}}}, 'processorClass': 'de.uni_jena.cs.fusion.abecto.processor.implementation.ManualCategoryProcessor'},\n",
       " {'id': '9b458f68-b347-40c6-98d5-f60d810bd1b3', 'project': 'aed99acd-3be0-46f0-962a-c6696a0b4650', 'knowledgeBase': None, 'parameter': {'id': '47622452-09b2-436d-917b-c5da98aff42c', 'parameters': {'patterns': {'person': '?person <http://www.w3.org/2000/01/rdf-schema#label> ?label . \\n                 OPTIONAL {\\n                     ?person <http://example.org/b/boss> ?boss .\\n                 }'}}}, 'processorClass': 'de.uni_jena.cs.fusion.abecto.processor.implementation.ManualCategoryProcessor'},\n",
       " {'id': '7b559b4c-b1d6-45a8-ab31-fab1da92de2c', 'project': 'aed99acd-3be0-46f0-962a-c6696a0b4650', 'knowledgeBase': None, 'parameter': {'id': 'd8c90a51-4c6d-4339-885a-4e9ae70cdc51', 'parameters': {'patterns': {'person': '?person <http://www.w3.org/2000/01/rdf-schema#label> ?label ;\\n                         <http://example.org/c/pnr>                   ?pnr .'}}}, 'processorClass': 'de.uni_jena.cs.fusion.abecto.processor.implementation.ManualCategoryProcessor'},\n",
       " {'id': 'f92325c9-76de-45e0-8f68-7fedac8813d8', 'project': 'aed99acd-3be0-46f0-962a-c6696a0b4650', 'knowledgeBase': None, 'parameter': {'id': '1d826ba4-ebde-4cbb-804c-5a0c88f13db5', 'parameters': {'threshold': 0.9, 'case_sensitive': False, 'category': 'person', 'variables': ['label']}}, 'processorClass': 'de.uni_jena.cs.fusion.abecto.processor.implementation.JaroWinklerMappingProcessor'},\n",
       " {'id': '2a8d9790-6c4d-452b-b1d7-3c89cf305dc7', 'project': 'aed99acd-3be0-46f0-962a-c6696a0b4650', 'knowledgeBase': None, 'parameter': {'id': 'b82c3413-6509-42ec-bbcb-0f63fd687760', 'parameters': {'mappings': [['http://example.org/a/bill', 'http://example.org/b/william']], 'suppressed_mappings': None}}, 'processorClass': 'de.uni_jena.cs.fusion.abecto.processor.implementation.ManualMappingProcessor'},\n",
       " {'id': 'e246b740-3052-4e9c-a3b9-45707c72035f', 'project': 'aed99acd-3be0-46f0-962a-c6696a0b4650', 'knowledgeBase': None, 'parameter': {'id': 'a48d1290-c93b-410e-a61b-60686a55b538', 'parameters': {}}, 'processorClass': 'de.uni_jena.cs.fusion.abecto.processor.implementation.MappingReportProcessor'},\n",
       " {'id': '6ac0bed5-e224-4e5d-8483-647edd702f81', 'project': 'aed99acd-3be0-46f0-962a-c6696a0b4650', 'knowledgeBase': None, 'parameter': {'id': 'a3d447a0-ac10-4665-951e-880b9eafdbeb', 'parameters': {}}, 'processorClass': 'de.uni_jena.cs.fusion.abecto.processor.implementation.CategoryCountProcessor'},\n",
       " {'id': '14c938a9-e6d8-4b08-b832-152b493c7497', 'project': 'aed99acd-3be0-46f0-962a-c6696a0b4650', 'knowledgeBase': None, 'parameter': {'id': '12955728-f0ac-4da1-bf0f-50f999f79450', 'parameters': {'variables': {'person': ['label', 'pnr']}}}, 'processorClass': 'de.uni_jena.cs.fusion.abecto.processor.implementation.LiteralDeviationProcessor'},\n",
       " {'id': 'fb53e953-f6a4-4a88-9a2b-956f9e5414b1', 'project': 'aed99acd-3be0-46f0-962a-c6696a0b4650', 'knowledgeBase': None, 'parameter': {'id': 'e30edda7-4bce-48a0-9a3a-e5a4662a89e2', 'parameters': {'variables': {'person': ['boss']}}}, 'processorClass': 'de.uni_jena.cs.fusion.abecto.processor.implementation.ResourceDeviationProcessor'},\n",
       " {'id': 'b7454a7b-95ef-4e51-9342-88400a55fc7b', 'project': 'aed99acd-3be0-46f0-962a-c6696a0b4650', 'knowledgeBase': None, 'parameter': {'id': '494b01de-38cc-431a-a015-3c4942827136', 'parameters': {}}, 'processorClass': 'de.uni_jena.cs.fusion.abecto.processor.implementation.DeviationReportProcessor'},\n",
       " {'id': '0f9e7067-ac5f-44fd-b7c4-b074c74b63f7', 'project': 'aed99acd-3be0-46f0-962a-c6696a0b4650', 'knowledgeBase': None, 'parameter': {'id': 'a63e77fc-d652-4ce1-bcc8-9eda707cb7d9', 'parameters': {}}, 'processorClass': 'de.uni_jena.cs.fusion.abecto.processor.implementation.IssueReportProcessor'}]"
      ]
     },
     "execution_count": 28,
     "metadata": {},
     "output_type": "execute_result"
    }
   ],
   "source": [
    "project.steps()"
   ]
  },
  {
   "cell_type": "code",
   "execution_count": 29,
   "metadata": {},
   "outputs": [
    {
     "data": {
      "text/plain": [
       "{'id': '169e445f-c8ef-4498-bc80-0b5cb77b6664',\n",
       " 'project': 'aed99acd-3be0-46f0-962a-c6696a0b4650',\n",
       " 'knowledgeBase': '5cc584d1-f322-44db-8c7f-62905107d482',\n",
       " 'parameter': {'id': '1905f1b7-2cae-4c18-b6d7-556f2c1581b4', 'parameters': {}},\n",
       " 'processorClass': 'de.uni_jena.cs.fusion.abecto.processor.implementation.RdfFileSourceProcessor'}"
      ]
     },
     "execution_count": 29,
     "metadata": {},
     "output_type": "execute_result"
    }
   ],
   "source": [
    "kb1source1.info()"
   ]
  },
  {
   "cell_type": "code",
   "execution_count": 30,
   "metadata": {},
   "outputs": [
    {
     "data": {
      "text/plain": [
       "[{'id': '46138029-1bb7-4e5a-a5ce-844a030792ab', 'step': '2a8d9790-6c4d-452b-b1d7-3c89cf305dc7', 'parameter': {'id': 'b82c3413-6509-42ec-bbcb-0f63fd687760', 'parameters': {'mappings': [['http://example.org/a/bill', 'http://example.org/b/william']], 'suppressed_mappings': None}}, 'inputProcessings': ['03002939-6e3f-4eae-833f-874af42c15df'], 'startDateTime': '2020-02-26T17:32:21.884883+01:00', 'endDateTime': '2020-02-26T17:32:21.956685+01:00', 'status': 'SUCCEEDED', 'stackTrace': None, 'modelHash': '9b9a13a8a9b192a141c61e72cbd4a7c621633668', 'processorClass': 'de.uni_jena.cs.fusion.abecto.processor.implementation.ManualMappingProcessor'}]"
      ]
     },
     "execution_count": 30,
     "metadata": {},
     "output_type": "execute_result"
    }
   ],
   "source": [
    "mapping2.processings()"
   ]
  },
  {
   "cell_type": "code",
   "execution_count": 31,
   "metadata": {},
   "outputs": [
    {
     "data": {
      "text/plain": [
       "{'id': '3c1ef2ec-9570-4b74-931f-f9c416b2c2ac', 'step': 'e246b740-3052-4e9c-a3b9-45707c72035f', 'parameter': {'id': 'a48d1290-c93b-410e-a61b-60686a55b538', 'parameters': {}}, 'inputProcessings': ['46138029-1bb7-4e5a-a5ce-844a030792ab'], 'startDateTime': '2020-02-26T17:32:21.888523+01:00', 'endDateTime': '2020-02-26T17:32:21.972734+01:00', 'status': 'SUCCEEDED', 'stackTrace': None, 'modelHash': 'b91ffab08407cca6d87ff30fbf364bed536eff71', 'processorClass': 'de.uni_jena.cs.fusion.abecto.processor.implementation.MappingReportProcessor'}"
      ]
     },
     "execution_count": 31,
     "metadata": {},
     "output_type": "execute_result"
    }
   ],
   "source": [
    "mappingReport.last()"
   ]
  },
  {
   "cell_type": "code",
   "execution_count": 32,
   "metadata": {},
   "outputs": [
    {
     "data": {
      "text/plain": [
       "'{\\n  \"@context\" : {\\n    \"knowledgeBase2\" : \"http://fusion.cs.uni-jena.de/ontology/abecto#knowledgeBase2\",\\n    \"category2\" : \"http://fusion.cs.uni-jena.de/ontology/abecto#category2\",\\n    \"knowledgeBase1\" : \"http://fusion.cs.uni-jena.de/ontology/abecto#knowledgeBase1\",\\n    \"data2\" : \"http://fusion.cs.uni-jena.de/ontology/abecto#data2\",\\n    \"id2\" : \"http://fusion.cs.uni-jena.de/ontology/abecto#id2\",\\n    \"id1\" : \"http://fusion.cs.uni-jena.de/ontology/abecto#id1\",\\n    \"data1\" : \"http://fusion.cs.uni-jena.de/ontology/abecto#data1\",\\n    \"category1\" : \"http://fusion.cs.uni-jena.de/ontology/abecto#category1\",\\n    \"owl\" : \"http://www.w3.org/2002/07/owl#\",\\n    \"rdf\" : \"http://www.w3.org/1999/02/22-rdf-syntax-ns#\",\\n    \"xsd\" : \"http://www.w3.org/2001/XMLSchema#\",\\n    \"rdfs\" : \"http://www.w3.org/2000/01/rdf-schema#\"\\n  },\\n  \"@graph\" : [ {\\n    \"@id\" : \"_:b0\",\\n    \"@type\" : \"http://fusion.cs.uni-jena.de/ontology/abecto#MappingReportEntity\",\\n    \"category1\" : \"person\",\\n    \"category2\" : \"person\",\\n    \"data1\" : \"{\\\\\"label\\\\\":\\\\\"Alice\\\\\",\\\\\"person\\\\\":\\\\\"http://example.org/c/P001\\\\\",\\\\\"pnr\\\\\":\\\\\"12345\\\\\"}\",\\n    \"data2\" : \"{\\\\\"boss\\\\\":\\\\\"http://example.org/a/bob\\\\\",\\\\\"label\\\\\":\\\\\"Alice\\\\\",\\\\\"person\\\\\":\\\\\"http://example.org/a/alice\\\\\",\\\\\"pnr\\\\\":\\\\\"45678\\\\\"}\",\\n    \"id1\" : \"http://example.org/c/P001\",\\n    \"id2\" : \"http://example.org/a/alice\",\\n    \"knowledgeBase1\" : \"fe3a9f1e-1320-41b2-aaf4-38489b2cc8af\",\\n    \"knowledgeBase2\" : \"5cc584d1-f322-44db-8c7f-62905107d482\"\\n  }, {\\n    \"@id\" : \"_:b1\",\\n    \"@type\" : \"http://fusion.cs.uni-jena.de/ontology/abecto#MappingReportEntity\",\\n    \"category1\" : \"person\",\\n    \"category2\" : \"person\",\\n    \"data1\" : \"{\\\\\"label\\\\\":\\\\\"Charlie\\\\\",\\\\\"person\\\\\":\\\\\"http://example.org/c/P002\\\\\",\\\\\"pnr\\\\\":\\\\\"45678\\\\\"}\",\\n    \"id1\" : \"http://example.org/c/P002\",\\n    \"knowledgeBase1\" : \"fe3a9f1e-1320-41b2-aaf4-38489b2cc8af\",\\n    \"knowledgeBase2\" : \"5cc584d1-f322-44db-8c7f-62905107d482\"\\n  }, {\\n    \"@id\" : \"_:b2\",\\n    \"@type\" : \"http://fusion.cs.uni-jena.de/ontology/abecto#MappingReportEntity\",\\n    \"category1\" : \"person\",\\n    \"category2\" : \"person\",\\n    \"data1\" : \"{\\\\\"label\\\\\":\\\\\"Charlie\\\\\",\\\\\"person\\\\\":\\\\\"http://example.org/b/charlie\\\\\"}\",\\n    \"id1\" : \"http://example.org/b/charlie\",\\n    \"knowledgeBase1\" : \"6b50d0ef-3519-429d-9476-1151585e7edd\",\\n    \"knowledgeBase2\" : \"5cc584d1-f322-44db-8c7f-62905107d482\"\\n  }, {\\n    \"@id\" : \"_:b3\",\\n    \"@type\" : \"http://fusion.cs.uni-jena.de/ontology/abecto#MappingReportEntity\",\\n    \"category1\" : \"person\",\\n    \"category2\" : \"person\",\\n    \"data1\" : \"{\\\\\"label\\\\\":\\\\\"Alice\\\\\",\\\\\"person\\\\\":\\\\\"http://example.org/c/P001\\\\\",\\\\\"pnr\\\\\":\\\\\"12345\\\\\"}\",\\n    \"data2\" : \"{\\\\\"boss\\\\\":\\\\\"http://example.org/b/alice\\\\\",\\\\\"label\\\\\":\\\\\"Alice\\\\\",\\\\\"person\\\\\":\\\\\"http://example.org/b/alice\\\\\"}\",\\n    \"id1\" : \"http://example.org/c/P001\",\\n    \"id2\" : \"http://example.org/b/alice\",\\n    \"knowledgeBase1\" : \"fe3a9f1e-1320-41b2-aaf4-38489b2cc8af\",\\n    \"knowledgeBase2\" : \"6b50d0ef-3519-429d-9476-1151585e7edd\"\\n  }, {\\n    \"@id\" : \"_:b4\",\\n    \"@type\" : \"http://fusion.cs.uni-jena.de/ontology/abecto#MappingReportEntity\",\\n    \"category1\" : \"person\",\\n    \"category2\" : \"person\",\\n    \"data2\" : \"{\\\\\"boss\\\\\":\\\\\"http://example.org/a/alice\\\\\",\\\\\"label\\\\\":\\\\\"Bill\\\\\",\\\\\"person\\\\\":\\\\\"http://example.org/a/bill\\\\\",\\\\\"pnr\\\\\":\\\\\"67890\\\\\"}\",\\n    \"id2\" : \"http://example.org/a/bill\",\\n    \"knowledgeBase1\" : \"fe3a9f1e-1320-41b2-aaf4-38489b2cc8af\",\\n    \"knowledgeBase2\" : \"5cc584d1-f322-44db-8c7f-62905107d482\"\\n  }, {\\n    \"@id\" : \"_:b5\",\\n    \"@type\" : \"http://fusion.cs.uni-jena.de/ontology/abecto#MappingReportEntity\",\\n    \"category1\" : \"person\",\\n    \"category2\" : \"person\",\\n    \"data1\" : \"{\\\\\"label\\\\\":\\\\\"Charlie\\\\\",\\\\\"person\\\\\":\\\\\"http://example.org/c/P002\\\\\",\\\\\"pnr\\\\\":\\\\\"45678\\\\\"}\",\\n    \"data2\" : \"{\\\\\"label\\\\\":\\\\\"Charlie\\\\\",\\\\\"person\\\\\":\\\\\"http://example.org/b/charlie\\\\\"}\",\\n    \"id1\" : \"http://example.org/c/P002\",\\n    \"id2\" : \"http://example.org/b/charlie\",\\n    \"knowledgeBase1\" : \"fe3a9f1e-1320-41b2-aaf4-38489b2cc8af\",\\n    \"knowledgeBase2\" : \"6b50d0ef-3519-429d-9476-1151585e7edd\"\\n  }, {\\n    \"@id\" : \"_:b6\",\\n    \"@type\" : \"http://fusion.cs.uni-jena.de/ontology/abecto#MappingReportEntity\",\\n    \"category1\" : \"person\",\\n    \"category2\" : \"person\",\\n    \"data1\" : \"{\\\\\"boss\\\\\":\\\\\"Alice\\\\\",\\\\\"label\\\\\":\\\\\"William\\\\\",\\\\\"person\\\\\":\\\\\"http://example.org/b/william\\\\\"}\",\\n    \"data2\" : \"{\\\\\"boss\\\\\":\\\\\"http://example.org/a/alice\\\\\",\\\\\"label\\\\\":\\\\\"Bill\\\\\",\\\\\"person\\\\\":\\\\\"http://example.org/a/bill\\\\\",\\\\\"pnr\\\\\":\\\\\"67890\\\\\"}\",\\n    \"id1\" : \"http://example.org/b/william\",\\n    \"id2\" : \"http://example.org/a/bill\",\\n    \"knowledgeBase1\" : \"6b50d0ef-3519-429d-9476-1151585e7edd\",\\n    \"knowledgeBase2\" : \"5cc584d1-f322-44db-8c7f-62905107d482\"\\n  }, {\\n    \"@id\" : \"_:b7\",\\n    \"@type\" : \"http://fusion.cs.uni-jena.de/ontology/abecto#MappingReportEntity\",\\n    \"category1\" : \"person\",\\n    \"category2\" : \"person\",\\n    \"data2\" : \"{\\\\\"boss\\\\\":\\\\\"Alice\\\\\",\\\\\"label\\\\\":\\\\\"William\\\\\",\\\\\"person\\\\\":\\\\\"http://example.org/b/william\\\\\"}\",\\n    \"id2\" : \"http://example.org/b/william\",\\n    \"knowledgeBase1\" : \"fe3a9f1e-1320-41b2-aaf4-38489b2cc8af\",\\n    \"knowledgeBase2\" : \"6b50d0ef-3519-429d-9476-1151585e7edd\"\\n  }, {\\n    \"@id\" : \"_:b8\",\\n    \"@type\" : \"http://fusion.cs.uni-jena.de/ontology/abecto#MappingReportEntity\",\\n    \"category1\" : \"person\",\\n    \"category2\" : \"person\",\\n    \"data1\" : \"{\\\\\"boss\\\\\":\\\\\"http://example.org/b/alice\\\\\",\\\\\"label\\\\\":\\\\\"Alice\\\\\",\\\\\"person\\\\\":\\\\\"http://example.org/b/alice\\\\\"}\",\\n    \"data2\" : \"{\\\\\"boss\\\\\":\\\\\"http://example.org/a/bob\\\\\",\\\\\"label\\\\\":\\\\\"Alice\\\\\",\\\\\"person\\\\\":\\\\\"http://example.org/a/alice\\\\\",\\\\\"pnr\\\\\":\\\\\"45678\\\\\"}\",\\n    \"id1\" : \"http://example.org/b/alice\",\\n    \"id2\" : \"http://example.org/a/alice\",\\n    \"knowledgeBase1\" : \"6b50d0ef-3519-429d-9476-1151585e7edd\",\\n    \"knowledgeBase2\" : \"5cc584d1-f322-44db-8c7f-62905107d482\"\\n  } ]\\n}\\n'"
      ]
     },
     "execution_count": 32,
     "metadata": {},
     "output_type": "execute_result"
    }
   ],
   "source": [
    "mappingReport.last().raw()"
   ]
  },
  {
   "cell_type": "code",
   "execution_count": 33,
   "metadata": {},
   "outputs": [
    {
     "data": {
      "text/plain": [
       "[{'@id': '_:b0',\n",
       "  '@type': 'http://fusion.cs.uni-jena.de/ontology/abecto#MappingReportEntity',\n",
       "  'category1': 'person',\n",
       "  'category2': 'person',\n",
       "  'data1': '{\"label\":\"Alice\",\"person\":\"http://example.org/c/P001\",\"pnr\":\"12345\"}',\n",
       "  'data2': '{\"boss\":\"http://example.org/a/bob\",\"label\":\"Alice\",\"person\":\"http://example.org/a/alice\",\"pnr\":\"45678\"}',\n",
       "  'id1': 'http://example.org/c/P001',\n",
       "  'id2': 'http://example.org/a/alice',\n",
       "  'knowledgeBase1': 'fe3a9f1e-1320-41b2-aaf4-38489b2cc8af',\n",
       "  'knowledgeBase2': '5cc584d1-f322-44db-8c7f-62905107d482'},\n",
       " {'@id': '_:b1',\n",
       "  '@type': 'http://fusion.cs.uni-jena.de/ontology/abecto#MappingReportEntity',\n",
       "  'category1': 'person',\n",
       "  'category2': 'person',\n",
       "  'data1': '{\"label\":\"Charlie\",\"person\":\"http://example.org/c/P002\",\"pnr\":\"45678\"}',\n",
       "  'id1': 'http://example.org/c/P002',\n",
       "  'knowledgeBase1': 'fe3a9f1e-1320-41b2-aaf4-38489b2cc8af',\n",
       "  'knowledgeBase2': '5cc584d1-f322-44db-8c7f-62905107d482'},\n",
       " {'@id': '_:b2',\n",
       "  '@type': 'http://fusion.cs.uni-jena.de/ontology/abecto#MappingReportEntity',\n",
       "  'category1': 'person',\n",
       "  'category2': 'person',\n",
       "  'data1': '{\"label\":\"Charlie\",\"person\":\"http://example.org/b/charlie\"}',\n",
       "  'id1': 'http://example.org/b/charlie',\n",
       "  'knowledgeBase1': '6b50d0ef-3519-429d-9476-1151585e7edd',\n",
       "  'knowledgeBase2': '5cc584d1-f322-44db-8c7f-62905107d482'},\n",
       " {'@id': '_:b3',\n",
       "  '@type': 'http://fusion.cs.uni-jena.de/ontology/abecto#MappingReportEntity',\n",
       "  'category1': 'person',\n",
       "  'category2': 'person',\n",
       "  'data1': '{\"label\":\"Alice\",\"person\":\"http://example.org/c/P001\",\"pnr\":\"12345\"}',\n",
       "  'data2': '{\"boss\":\"http://example.org/b/alice\",\"label\":\"Alice\",\"person\":\"http://example.org/b/alice\"}',\n",
       "  'id1': 'http://example.org/c/P001',\n",
       "  'id2': 'http://example.org/b/alice',\n",
       "  'knowledgeBase1': 'fe3a9f1e-1320-41b2-aaf4-38489b2cc8af',\n",
       "  'knowledgeBase2': '6b50d0ef-3519-429d-9476-1151585e7edd'},\n",
       " {'@id': '_:b4',\n",
       "  '@type': 'http://fusion.cs.uni-jena.de/ontology/abecto#MappingReportEntity',\n",
       "  'category1': 'person',\n",
       "  'category2': 'person',\n",
       "  'data2': '{\"boss\":\"http://example.org/a/alice\",\"label\":\"Bill\",\"person\":\"http://example.org/a/bill\",\"pnr\":\"67890\"}',\n",
       "  'id2': 'http://example.org/a/bill',\n",
       "  'knowledgeBase1': 'fe3a9f1e-1320-41b2-aaf4-38489b2cc8af',\n",
       "  'knowledgeBase2': '5cc584d1-f322-44db-8c7f-62905107d482'},\n",
       " {'@id': '_:b5',\n",
       "  '@type': 'http://fusion.cs.uni-jena.de/ontology/abecto#MappingReportEntity',\n",
       "  'category1': 'person',\n",
       "  'category2': 'person',\n",
       "  'data1': '{\"label\":\"Charlie\",\"person\":\"http://example.org/c/P002\",\"pnr\":\"45678\"}',\n",
       "  'data2': '{\"label\":\"Charlie\",\"person\":\"http://example.org/b/charlie\"}',\n",
       "  'id1': 'http://example.org/c/P002',\n",
       "  'id2': 'http://example.org/b/charlie',\n",
       "  'knowledgeBase1': 'fe3a9f1e-1320-41b2-aaf4-38489b2cc8af',\n",
       "  'knowledgeBase2': '6b50d0ef-3519-429d-9476-1151585e7edd'},\n",
       " {'@id': '_:b6',\n",
       "  '@type': 'http://fusion.cs.uni-jena.de/ontology/abecto#MappingReportEntity',\n",
       "  'category1': 'person',\n",
       "  'category2': 'person',\n",
       "  'data1': '{\"boss\":\"Alice\",\"label\":\"William\",\"person\":\"http://example.org/b/william\"}',\n",
       "  'data2': '{\"boss\":\"http://example.org/a/alice\",\"label\":\"Bill\",\"person\":\"http://example.org/a/bill\",\"pnr\":\"67890\"}',\n",
       "  'id1': 'http://example.org/b/william',\n",
       "  'id2': 'http://example.org/a/bill',\n",
       "  'knowledgeBase1': '6b50d0ef-3519-429d-9476-1151585e7edd',\n",
       "  'knowledgeBase2': '5cc584d1-f322-44db-8c7f-62905107d482'},\n",
       " {'@id': '_:b7',\n",
       "  '@type': 'http://fusion.cs.uni-jena.de/ontology/abecto#MappingReportEntity',\n",
       "  'category1': 'person',\n",
       "  'category2': 'person',\n",
       "  'data2': '{\"boss\":\"Alice\",\"label\":\"William\",\"person\":\"http://example.org/b/william\"}',\n",
       "  'id2': 'http://example.org/b/william',\n",
       "  'knowledgeBase1': 'fe3a9f1e-1320-41b2-aaf4-38489b2cc8af',\n",
       "  'knowledgeBase2': '6b50d0ef-3519-429d-9476-1151585e7edd'},\n",
       " {'@id': '_:b8',\n",
       "  '@type': 'http://fusion.cs.uni-jena.de/ontology/abecto#MappingReportEntity',\n",
       "  'category1': 'person',\n",
       "  'category2': 'person',\n",
       "  'data1': '{\"boss\":\"http://example.org/b/alice\",\"label\":\"Alice\",\"person\":\"http://example.org/b/alice\"}',\n",
       "  'data2': '{\"boss\":\"http://example.org/a/bob\",\"label\":\"Alice\",\"person\":\"http://example.org/a/alice\",\"pnr\":\"45678\"}',\n",
       "  'id1': 'http://example.org/b/alice',\n",
       "  'id2': 'http://example.org/a/alice',\n",
       "  'knowledgeBase1': '6b50d0ef-3519-429d-9476-1151585e7edd',\n",
       "  'knowledgeBase2': '5cc584d1-f322-44db-8c7f-62905107d482'}]"
      ]
     },
     "execution_count": 33,
     "metadata": {},
     "output_type": "execute_result"
    }
   ],
   "source": [
    "mappingReport.last().graph()"
   ]
  },
  {
   "cell_type": "code",
   "execution_count": 34,
   "metadata": {},
   "outputs": [
    {
     "data": {
      "text/html": [
       "<div>\n",
       "<style scoped>\n",
       "    .dataframe tbody tr th:only-of-type {\n",
       "        vertical-align: middle;\n",
       "    }\n",
       "\n",
       "    .dataframe tbody tr th {\n",
       "        vertical-align: top;\n",
       "    }\n",
       "\n",
       "    .dataframe thead th {\n",
       "        text-align: right;\n",
       "    }\n",
       "</style>\n",
       "<table border=\"1\" class=\"dataframe\">\n",
       "  <thead>\n",
       "    <tr style=\"text-align: right;\">\n",
       "      <th></th>\n",
       "      <th>@id</th>\n",
       "      <th>@type</th>\n",
       "      <th>category1</th>\n",
       "      <th>category2</th>\n",
       "      <th>data1</th>\n",
       "      <th>data2</th>\n",
       "      <th>id1</th>\n",
       "      <th>id2</th>\n",
       "      <th>knowledgeBase1</th>\n",
       "      <th>knowledgeBase2</th>\n",
       "    </tr>\n",
       "  </thead>\n",
       "  <tbody>\n",
       "    <tr>\n",
       "      <th>0</th>\n",
       "      <td>_:b0</td>\n",
       "      <td>http://fusion.cs.uni-jena.de/ontology/abecto#M...</td>\n",
       "      <td>person</td>\n",
       "      <td>person</td>\n",
       "      <td>{\"label\":\"Alice\",\"person\":\"http://example.org/...</td>\n",
       "      <td>{\"boss\":\"http://example.org/a/bob\",\"label\":\"Al...</td>\n",
       "      <td>http://example.org/c/P001</td>\n",
       "      <td>http://example.org/a/alice</td>\n",
       "      <td>fe3a9f1e-1320-41b2-aaf4-38489b2cc8af</td>\n",
       "      <td>5cc584d1-f322-44db-8c7f-62905107d482</td>\n",
       "    </tr>\n",
       "    <tr>\n",
       "      <th>1</th>\n",
       "      <td>_:b1</td>\n",
       "      <td>http://fusion.cs.uni-jena.de/ontology/abecto#M...</td>\n",
       "      <td>person</td>\n",
       "      <td>person</td>\n",
       "      <td>{\"label\":\"Charlie\",\"person\":\"http://example.or...</td>\n",
       "      <td>NaN</td>\n",
       "      <td>http://example.org/c/P002</td>\n",
       "      <td>NaN</td>\n",
       "      <td>fe3a9f1e-1320-41b2-aaf4-38489b2cc8af</td>\n",
       "      <td>5cc584d1-f322-44db-8c7f-62905107d482</td>\n",
       "    </tr>\n",
       "    <tr>\n",
       "      <th>2</th>\n",
       "      <td>_:b2</td>\n",
       "      <td>http://fusion.cs.uni-jena.de/ontology/abecto#M...</td>\n",
       "      <td>person</td>\n",
       "      <td>person</td>\n",
       "      <td>{\"label\":\"Charlie\",\"person\":\"http://example.or...</td>\n",
       "      <td>NaN</td>\n",
       "      <td>http://example.org/b/charlie</td>\n",
       "      <td>NaN</td>\n",
       "      <td>6b50d0ef-3519-429d-9476-1151585e7edd</td>\n",
       "      <td>5cc584d1-f322-44db-8c7f-62905107d482</td>\n",
       "    </tr>\n",
       "    <tr>\n",
       "      <th>3</th>\n",
       "      <td>_:b3</td>\n",
       "      <td>http://fusion.cs.uni-jena.de/ontology/abecto#M...</td>\n",
       "      <td>person</td>\n",
       "      <td>person</td>\n",
       "      <td>{\"label\":\"Alice\",\"person\":\"http://example.org/...</td>\n",
       "      <td>{\"boss\":\"http://example.org/b/alice\",\"label\":\"...</td>\n",
       "      <td>http://example.org/c/P001</td>\n",
       "      <td>http://example.org/b/alice</td>\n",
       "      <td>fe3a9f1e-1320-41b2-aaf4-38489b2cc8af</td>\n",
       "      <td>6b50d0ef-3519-429d-9476-1151585e7edd</td>\n",
       "    </tr>\n",
       "    <tr>\n",
       "      <th>4</th>\n",
       "      <td>_:b4</td>\n",
       "      <td>http://fusion.cs.uni-jena.de/ontology/abecto#M...</td>\n",
       "      <td>person</td>\n",
       "      <td>person</td>\n",
       "      <td>NaN</td>\n",
       "      <td>{\"boss\":\"http://example.org/a/alice\",\"label\":\"...</td>\n",
       "      <td>NaN</td>\n",
       "      <td>http://example.org/a/bill</td>\n",
       "      <td>fe3a9f1e-1320-41b2-aaf4-38489b2cc8af</td>\n",
       "      <td>5cc584d1-f322-44db-8c7f-62905107d482</td>\n",
       "    </tr>\n",
       "    <tr>\n",
       "      <th>5</th>\n",
       "      <td>_:b5</td>\n",
       "      <td>http://fusion.cs.uni-jena.de/ontology/abecto#M...</td>\n",
       "      <td>person</td>\n",
       "      <td>person</td>\n",
       "      <td>{\"label\":\"Charlie\",\"person\":\"http://example.or...</td>\n",
       "      <td>{\"label\":\"Charlie\",\"person\":\"http://example.or...</td>\n",
       "      <td>http://example.org/c/P002</td>\n",
       "      <td>http://example.org/b/charlie</td>\n",
       "      <td>fe3a9f1e-1320-41b2-aaf4-38489b2cc8af</td>\n",
       "      <td>6b50d0ef-3519-429d-9476-1151585e7edd</td>\n",
       "    </tr>\n",
       "    <tr>\n",
       "      <th>6</th>\n",
       "      <td>_:b6</td>\n",
       "      <td>http://fusion.cs.uni-jena.de/ontology/abecto#M...</td>\n",
       "      <td>person</td>\n",
       "      <td>person</td>\n",
       "      <td>{\"boss\":\"Alice\",\"label\":\"William\",\"person\":\"ht...</td>\n",
       "      <td>{\"boss\":\"http://example.org/a/alice\",\"label\":\"...</td>\n",
       "      <td>http://example.org/b/william</td>\n",
       "      <td>http://example.org/a/bill</td>\n",
       "      <td>6b50d0ef-3519-429d-9476-1151585e7edd</td>\n",
       "      <td>5cc584d1-f322-44db-8c7f-62905107d482</td>\n",
       "    </tr>\n",
       "    <tr>\n",
       "      <th>7</th>\n",
       "      <td>_:b7</td>\n",
       "      <td>http://fusion.cs.uni-jena.de/ontology/abecto#M...</td>\n",
       "      <td>person</td>\n",
       "      <td>person</td>\n",
       "      <td>NaN</td>\n",
       "      <td>{\"boss\":\"Alice\",\"label\":\"William\",\"person\":\"ht...</td>\n",
       "      <td>NaN</td>\n",
       "      <td>http://example.org/b/william</td>\n",
       "      <td>fe3a9f1e-1320-41b2-aaf4-38489b2cc8af</td>\n",
       "      <td>6b50d0ef-3519-429d-9476-1151585e7edd</td>\n",
       "    </tr>\n",
       "    <tr>\n",
       "      <th>8</th>\n",
       "      <td>_:b8</td>\n",
       "      <td>http://fusion.cs.uni-jena.de/ontology/abecto#M...</td>\n",
       "      <td>person</td>\n",
       "      <td>person</td>\n",
       "      <td>{\"boss\":\"http://example.org/b/alice\",\"label\":\"...</td>\n",
       "      <td>{\"boss\":\"http://example.org/a/bob\",\"label\":\"Al...</td>\n",
       "      <td>http://example.org/b/alice</td>\n",
       "      <td>http://example.org/a/alice</td>\n",
       "      <td>6b50d0ef-3519-429d-9476-1151585e7edd</td>\n",
       "      <td>5cc584d1-f322-44db-8c7f-62905107d482</td>\n",
       "    </tr>\n",
       "  </tbody>\n",
       "</table>\n",
       "</div>"
      ],
      "text/plain": [
       "    @id                                              @type category1  \\\n",
       "0  _:b0  http://fusion.cs.uni-jena.de/ontology/abecto#M...    person   \n",
       "1  _:b1  http://fusion.cs.uni-jena.de/ontology/abecto#M...    person   \n",
       "2  _:b2  http://fusion.cs.uni-jena.de/ontology/abecto#M...    person   \n",
       "3  _:b3  http://fusion.cs.uni-jena.de/ontology/abecto#M...    person   \n",
       "4  _:b4  http://fusion.cs.uni-jena.de/ontology/abecto#M...    person   \n",
       "5  _:b5  http://fusion.cs.uni-jena.de/ontology/abecto#M...    person   \n",
       "6  _:b6  http://fusion.cs.uni-jena.de/ontology/abecto#M...    person   \n",
       "7  _:b7  http://fusion.cs.uni-jena.de/ontology/abecto#M...    person   \n",
       "8  _:b8  http://fusion.cs.uni-jena.de/ontology/abecto#M...    person   \n",
       "\n",
       "  category2                                              data1  \\\n",
       "0    person  {\"label\":\"Alice\",\"person\":\"http://example.org/...   \n",
       "1    person  {\"label\":\"Charlie\",\"person\":\"http://example.or...   \n",
       "2    person  {\"label\":\"Charlie\",\"person\":\"http://example.or...   \n",
       "3    person  {\"label\":\"Alice\",\"person\":\"http://example.org/...   \n",
       "4    person                                                NaN   \n",
       "5    person  {\"label\":\"Charlie\",\"person\":\"http://example.or...   \n",
       "6    person  {\"boss\":\"Alice\",\"label\":\"William\",\"person\":\"ht...   \n",
       "7    person                                                NaN   \n",
       "8    person  {\"boss\":\"http://example.org/b/alice\",\"label\":\"...   \n",
       "\n",
       "                                               data2  \\\n",
       "0  {\"boss\":\"http://example.org/a/bob\",\"label\":\"Al...   \n",
       "1                                                NaN   \n",
       "2                                                NaN   \n",
       "3  {\"boss\":\"http://example.org/b/alice\",\"label\":\"...   \n",
       "4  {\"boss\":\"http://example.org/a/alice\",\"label\":\"...   \n",
       "5  {\"label\":\"Charlie\",\"person\":\"http://example.or...   \n",
       "6  {\"boss\":\"http://example.org/a/alice\",\"label\":\"...   \n",
       "7  {\"boss\":\"Alice\",\"label\":\"William\",\"person\":\"ht...   \n",
       "8  {\"boss\":\"http://example.org/a/bob\",\"label\":\"Al...   \n",
       "\n",
       "                            id1                           id2  \\\n",
       "0     http://example.org/c/P001    http://example.org/a/alice   \n",
       "1     http://example.org/c/P002                           NaN   \n",
       "2  http://example.org/b/charlie                           NaN   \n",
       "3     http://example.org/c/P001    http://example.org/b/alice   \n",
       "4                           NaN     http://example.org/a/bill   \n",
       "5     http://example.org/c/P002  http://example.org/b/charlie   \n",
       "6  http://example.org/b/william     http://example.org/a/bill   \n",
       "7                           NaN  http://example.org/b/william   \n",
       "8    http://example.org/b/alice    http://example.org/a/alice   \n",
       "\n",
       "                         knowledgeBase1                        knowledgeBase2  \n",
       "0  fe3a9f1e-1320-41b2-aaf4-38489b2cc8af  5cc584d1-f322-44db-8c7f-62905107d482  \n",
       "1  fe3a9f1e-1320-41b2-aaf4-38489b2cc8af  5cc584d1-f322-44db-8c7f-62905107d482  \n",
       "2  6b50d0ef-3519-429d-9476-1151585e7edd  5cc584d1-f322-44db-8c7f-62905107d482  \n",
       "3  fe3a9f1e-1320-41b2-aaf4-38489b2cc8af  6b50d0ef-3519-429d-9476-1151585e7edd  \n",
       "4  fe3a9f1e-1320-41b2-aaf4-38489b2cc8af  5cc584d1-f322-44db-8c7f-62905107d482  \n",
       "5  fe3a9f1e-1320-41b2-aaf4-38489b2cc8af  6b50d0ef-3519-429d-9476-1151585e7edd  \n",
       "6  6b50d0ef-3519-429d-9476-1151585e7edd  5cc584d1-f322-44db-8c7f-62905107d482  \n",
       "7  fe3a9f1e-1320-41b2-aaf4-38489b2cc8af  6b50d0ef-3519-429d-9476-1151585e7edd  \n",
       "8  6b50d0ef-3519-429d-9476-1151585e7edd  5cc584d1-f322-44db-8c7f-62905107d482  "
      ]
     },
     "execution_count": 34,
     "metadata": {},
     "output_type": "execute_result"
    }
   ],
   "source": [
    "mappingReport.last().graphAsDataFrame()"
   ]
  }
 ],
 "metadata": {
  "kernelspec": {
   "display_name": "Python 3",
   "language": "python",
   "name": "python3"
  },
  "language_info": {
   "codemirror_mode": {
    "name": "ipython",
    "version": 3
   },
   "file_extension": ".py",
   "mimetype": "text/x-python",
   "name": "python",
   "nbconvert_exporter": "python",
   "pygments_lexer": "ipython3",
   "version": "3.7.3"
  }
 },
 "nbformat": 4,
 "nbformat_minor": 4
}
