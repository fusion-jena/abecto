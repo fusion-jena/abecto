{
 "cells": [
  {
   "cell_type": "markdown",
   "metadata": {},
   "source": [
    "ABECTO does not longer use Jupyter Notebooks, due to a major architecture change. The latest version using Jupyter Notebooks is available on DOI:[10.5281/zenodo.4304533](https://doi.org/10.5281/zenodo.4304533) ([open on mybinder.org](https://mybinder.org/v2/zenodo/10.5281/zenodo.4304533/?filepath=abecto-tutorial.ipynb)). The most recent version of ABECTO is referred by DOI:[10.5281/zenodo.3786194](https://doi.org/10.5281/zenodo.3786194).\n",
    "\n",
    "*This note remains to preserve a link in DOI:[10.1007/978-3-030-62327-2_24](https://doi.org/10.1007/978-3-030-62327-2_24).*"
   ]
  }
 ],
 "metadata": {
  "kernelspec": {
   "display_name": "Python 3",
   "language": "python",
   "name": "python3"
  },
  "language_info": {
   "codemirror_mode": {
    "name": "ipython",
    "version": 3
   },
   "file_extension": ".py",
   "mimetype": "text/x-python",
   "name": "python",
   "nbconvert_exporter": "python",
   "pygments_lexer": "ipython3",
   "version": "3.7.3"
  }
 },
 "nbformat": 4,
 "nbformat_minor": 4
}

